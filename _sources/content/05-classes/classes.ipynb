{
 "cells": [
  {
   "cell_type": "markdown",
   "metadata": {
    "collapsed": true,
    "slideshow": {
     "slide_type": "slide"
    }
   },
   "source": [
    "# Classes \n",
    "\n",
    "Similar to functions where we introduced functions like `len()` and `type()` before discussing how to define your own functions, there are many available object types (either in the standard library or that can be imported - like `date`-type objects) *and* you can define your own objects and their associated attributes and methods. Just as we used `def` to define functions, in this chapter we'll discuss `class` to create your own classes of objects. \n",
    "\n",
    "We'll also introduce the concept of instances and return to the concept of object-oriented programming and what that means in python.\n",
    "\n",
    "As discussed earlier, objects are a way to combine associated data (attributes) and procedures (methods) that can be carried out on that data in a systematized and organized manner. "
   ]
  },
  {
   "cell_type": "markdown",
   "metadata": {
    "slideshow": {
     "slide_type": "slide"
    }
   },
   "source": [
    "## `class` defintion\n",
    "\n",
    "With the definition of objects fresh in our mind, we can delve into how to create our own object types. To do this, we  use the `class` keyword. This opens a code block within which we can specify the instructions to create objects of our specified type. "
   ]
  },
  {
   "cell_type": "markdown",
   "metadata": {
    "slideshow": {
     "slide_type": "fragment"
    }
   },
   "source": [
    "<div class=\"alert alert-success\">\n",
    "<b>Classes</b> define objects. The <code>class</code> keyword opens a code block for instructions on how to create objects of a particular type.\n",
    "</div>"
   ]
  },
  {
   "cell_type": "markdown",
   "metadata": {},
   "source": [
    "A helpful analogy is to think of classes as the _blueprint_ for creating and defining objects and their properties (methods, attributes, etc.). They specify the plan, explain how each component fits together, and keeps everything organized. "
   ]
  },
  {
   "cell_type": "markdown",
   "metadata": {
    "collapsed": true,
    "slideshow": {
     "slide_type": "subslide"
    }
   },
   "source": [
    "## `class`: Dog\n",
    "\n",
    "Here, we introduce our first object type. We use `class` to define a `Dog`-type object.\n",
    "\n",
    "Note that, unlike variables and functions (where we use snake_case), for `class`es, we'll use CapWords to specify class names. \n",
    "\n",
    "Here, the `class` keyword indicates that we're defining a new `class` of objects that we're going to call `Dog`. The colon (`:`) opens up the code block.\n",
    "\n",
    "Within the `class` definition, we define one attribute `sound`. Note that since attributes store pieces of data, attribute definition will take the format of variable assignment.\n",
    "\n",
    "After defining the `sound` attrribute, we see what looks like a function definition. This is because methods *are* functions. They're just a specific kind of function, one that is defined within a `class` definition and designed to operate directly on the object type within which it is defined. \n",
    "\n",
    "However, one unique aspect about `class` definitions is the concept of an **instance**. We'll define this in more detail in a second, but this comes into play in the method definition below. We see the method `speak` takes an input parameter `self`. This `self` specifies that we want to operate on the current object (or the current 'instance' of the object'). Thus, within the function, whenever you see `self`, you know it refers to the current `Dog`. We'll delve into this more momentarily!\n",
    "\n",
    "A final note about `class` objects for now is that, like functions, a new namespace is created within a `class`. They only have access to the variables passed into or definied within them. "
   ]
  },
  {
   "cell_type": "code",
   "execution_count": 22,
   "metadata": {
    "slideshow": {
     "slide_type": "fragment"
    }
   },
   "outputs": [],
   "source": [
    "# Define a class with `class`. \n",
    "class Dog():\n",
    "    \n",
    "    # Class attributes for objects of type Dog\n",
    "    sound = 'Woof'\n",
    "    \n",
    "    # Class methods for objects of type Dog\n",
    "    def speak(self):\n",
    "        print('Dog says:', self.sound)"
   ]
  },
  {
   "cell_type": "markdown",
   "metadata": {},
   "source": [
    "After a `class` has been defined, we can create objects of that type. For example, here we create a `Dog` type object, storing that object in the varaible `lexi`"
   ]
  },
  {
   "cell_type": "code",
   "execution_count": 23,
   "metadata": {
    "slideshow": {
     "slide_type": "fragment"
    }
   },
   "outputs": [],
   "source": [
    "# Initialize a dog object\n",
    "lexi = Dog()"
   ]
  },
  {
   "cell_type": "markdown",
   "metadata": {},
   "source": [
    "After `lexi` has been defined, we're able to access information stored in this object type. We do this using the syntax described in the previous chapter, first specifying the object, followed by a `.` and then the attribute name."
   ]
  },
  {
   "cell_type": "code",
   "execution_count": 24,
   "metadata": {
    "slideshow": {
     "slide_type": "fragment"
    }
   },
   "outputs": [
    {
     "name": "stdout",
     "output_type": "stream",
     "text": [
      "Woof\n"
     ]
    }
   ],
   "source": [
    "# lexi, has 'sound' attribute(s) from Dog()\n",
    "print(lexi.sound)"
   ]
  },
  {
   "cell_type": "markdown",
   "metadata": {},
   "source": [
    "As a reminder, when we access an attribute, we are looking up information about the object and that information is returned. There are no operations being carried out.\n",
    "\n",
    "Alternatively, when we execute a method, we are running the code within the method specified directly on the object itself.\n",
    "\n",
    "For example, when we call `speak()` on `lexi`, the code within the `speak()` method executes."
   ]
  },
  {
   "cell_type": "code",
   "execution_count": 25,
   "metadata": {
    "slideshow": {
     "slide_type": "fragment"
    }
   },
   "outputs": [
    {
     "name": "stdout",
     "output_type": "stream",
     "text": [
      "Dog says: Woof\n"
     ]
    }
   ],
   "source": [
    "# lexi, has 'Dog' method(s)\n",
    "# remember we used `self`\n",
    "lexi.speak()"
   ]
  },
  {
   "cell_type": "markdown",
   "metadata": {
    "slideshow": {
     "slide_type": "fragment"
    }
   },
   "source": [
    "### **`class`** Summary:\n",
    "\n",
    "- classes tend to use **CapWords** convention\n",
    "    - instead of snake_case (functions and variable names)\n",
    "- `()` after `Dog` indicate that this is callable\n",
    "    - like functions, Classes must be executed before any objects are created\n",
    "- can define **attributes** & **methods** within `class`\n",
    "- `self` is a special parameter for use by an object\n",
    "    - refers to the thing (object) itself\n",
    "- like functions, a new namespace is created within a Class\n"
   ]
  },
  {
   "cell_type": "markdown",
   "metadata": {
    "slideshow": {
     "slide_type": "slide"
    }
   },
   "source": [
    "### Using our `Dog` Object\n",
    "\n",
    "Now that we've defined a `Dog`-type object, we can create multiple `Dog`s. \n",
    "\n",
    "For example, we could create a list of four different `Dog` type objects. Note that every time `Dog()` is called, a new `Dog`-type object is created. This is what we refer to as an **instance** of an object. When you call `Dog()` here, you are creating another **instance** of a `Dog()`-type object."
   ]
  },
  {
   "cell_type": "code",
   "execution_count": 26,
   "metadata": {
    "slideshow": {
     "slide_type": "fragment"
    }
   },
   "outputs": [],
   "source": [
    "# Initialize a group of dogs\n",
    "pack_of_dogs = [Dog(), Dog(), Dog(), Dog()]"
   ]
  },
  {
   "cell_type": "markdown",
   "metadata": {},
   "source": [
    "After defining `pack_of_dogs`, if we were to take a look at what is stored within this list, you'll notice that each element of the list indicates that a `Dog` type object is being stored."
   ]
  },
  {
   "cell_type": "code",
   "execution_count": 6,
   "metadata": {
    "slideshow": {
     "slide_type": "fragment"
    }
   },
   "outputs": [
    {
     "data": {
      "text/plain": [
       "[<__main__.Dog at 0x10d9b2b38>,\n",
       " <__main__.Dog at 0x10d9b2b70>,\n",
       " <__main__.Dog at 0x10d9b2ba8>,\n",
       " <__main__.Dog at 0x10d9b2be0>]"
      ]
     },
     "execution_count": 6,
     "metadata": {},
     "output_type": "execute_result"
    }
   ],
   "source": [
    "# take a look at this\n",
    "pack_of_dogs"
   ]
  },
  {
   "cell_type": "markdown",
   "metadata": {
    "slideshow": {
     "slide_type": "fragment"
    }
   },
   "source": [
    "We can then iterate over this list (as we've done for lists previously) and call a method on each `dog` in our list, using the following approach:"
   ]
  },
  {
   "cell_type": "code",
   "execution_count": 8,
   "metadata": {
    "scrolled": false,
    "slideshow": {
     "slide_type": "fragment"
    }
   },
   "outputs": [
    {
     "name": "stdout",
     "output_type": "stream",
     "text": [
      "Woof\n",
      "Woof\n",
      "Woof\n",
      "Woof\n"
     ]
    }
   ],
   "source": [
    "for dog in pack_of_dogs:\n",
    "    dog.speak()"
   ]
  },
  {
   "cell_type": "markdown",
   "metadata": {},
   "source": [
    "We demonstrate this here for two reasons: 1) to indicate that all of the code constructs previously introduced (loops, conditionals, etc.) are still available when working with classes and 2) to demonstrate that methods operate directoy on their associated objects using the syntax `object.method()`."
   ]
  },
  {
   "cell_type": "markdown",
   "metadata": {
    "slideshow": {
     "slide_type": "slide"
    }
   },
   "source": [
    "## Instances & `self`\n",
    "\n",
    "While referenced above, we've yet to formally define what an **instance** is. An **instance** refers to a particular instantiation of a `class` object. Every time a `class` object is executed (created), a new **instance** of that `class` object is created. \n",
    "\n",
    "To refer to the *current* instance, we use the word `self`."
   ]
  },
  {
   "cell_type": "markdown",
   "metadata": {
    "slideshow": {
     "slide_type": "fragment"
    }
   },
   "source": [
    "<div class=\"alert alert-success\">\n",
    "An <b>instance</b> is particular instantiation of a class object. <code>self</code> refers to the current instance. \n",
    "</div>"
   ]
  },
  {
   "cell_type": "code",
   "execution_count": 2,
   "metadata": {
    "slideshow": {
     "slide_type": "fragment"
    }
   },
   "outputs": [],
   "source": [
    "# Initialize a dog object\n",
    "lexi = Dog()"
   ]
  },
  {
   "cell_type": "markdown",
   "metadata": {
    "slideshow": {
     "slide_type": "fragment"
    }
   },
   "source": [
    "From the example we discussed above:\n",
    "\n",
    "- Dog is the `class` object we created\n",
    "- `lexi` was an _instance_ of that class\n",
    "- `self` refers to whatever the _current_ instance is"
   ]
  },
  {
   "cell_type": "markdown",
   "metadata": {
    "slideshow": {
     "slide_type": "slide"
    }
   },
   "source": [
    "### Instance Attributes\n",
    "\n",
    "With this concept of instances now made a little more clear, we can introduce the concept of **instance attributes**. So far, we have only demonstrated how to define a **class attribute**. A **class attribute** is an attribute that *all* objects of this `class` will share. For our `Dog` example, all `Dog`-type objects shared the class attribute 'sound'. Every dog stored 'Woof' in the attribute `sound`. \n",
    "\n",
    "Alternatively, an instance attribute specific to the current instance of the `class` object. This allows for different instances of the `class` object to store different data in an instance attribute.\n",
    "\n",
    "To do use we use the special `__init__` method when defining instance attributes. (Note that those are two leading and two trailing underscores around the word 'init'.)"
   ]
  },
  {
   "cell_type": "markdown",
   "metadata": {
    "slideshow": {
     "slide_type": "fragment"
    }
   },
   "source": [
    "<div class=\"alert alert-success\">\n",
    "Instance attributes are attributes that we can make be different for each instance of a class. <code>__init__</code> is a special method used to define instance attributes. \n",
    "</div>"
   ]
  },
  {
   "cell_type": "code",
   "execution_count": 28,
   "metadata": {
    "slideshow": {
     "slide_type": "fragment"
    }
   },
   "outputs": [],
   "source": [
    "class Dog():\n",
    "    \n",
    "    # Class attributes for Dogs\n",
    "    sound = 'Woof'\n",
    "    \n",
    "    # Initializer, allows us to specify instance-specific attributes\n",
    "    # leading and trailing double underscores indicates that this is special to Python\n",
    "    def __init__(self, name):\n",
    "        self.name = name\n",
    "    \n",
    "    def speak(self):\n",
    "        print('Dog says:', self.sound)"
   ]
  },
  {
   "cell_type": "markdown",
   "metadata": {},
   "source": [
    "With this updated `Dog` class definition, we can now initialize a new instance of `Dog()`:"
   ]
  },
  {
   "cell_type": "code",
   "execution_count": 29,
   "metadata": {
    "slideshow": {
     "slide_type": "fragment"
    }
   },
   "outputs": [],
   "source": [
    "# Initialize a dog\n",
    "gary = Dog(name = 'Gary') "
   ]
  },
  {
   "cell_type": "markdown",
   "metadata": {},
   "source": [
    "In the code above, we now see that we have to pass `name` when we create an instance of the `Dog()` object, specifying what the `name` is of *this* particular instance of `Dog()`. "
   ]
  },
  {
   "cell_type": "markdown",
   "metadata": {},
   "source": [
    "As with class attributes, we can access what is stored in an instance attribute using the general syntax `object.attribute`:"
   ]
  },
  {
   "cell_type": "code",
   "execution_count": 30,
   "metadata": {
    "scrolled": true,
    "slideshow": {
     "slide_type": "fragment"
    }
   },
   "outputs": [
    {
     "name": "stdout",
     "output_type": "stream",
     "text": [
      "Woof\n",
      "Gary\n"
     ]
    }
   ],
   "source": [
    "# Check gary's attributes\n",
    "print(gary.sound)    # This is an class attribute\n",
    "print(gary.name)     # This is a instance attribute"
   ]
  },
  {
   "cell_type": "markdown",
   "metadata": {},
   "source": [
    "For completeness' sake, note that we are still able to carry out the associated `Dog` methods on `gary`:"
   ]
  },
  {
   "cell_type": "code",
   "execution_count": 31,
   "metadata": {
    "scrolled": true,
    "slideshow": {
     "slide_type": "fragment"
    }
   },
   "outputs": [
    {
     "name": "stdout",
     "output_type": "stream",
     "text": [
      "Dog says: Woof\n"
     ]
    }
   ],
   "source": [
    "# Check gary's methods\n",
    "gary.speak()"
   ]
  },
  {
   "cell_type": "markdown",
   "metadata": {},
   "source": [
    "**A word of caution about `self`**\n",
    "\n",
    "The use of `self` as the first parameter in instance attribute definition is a frequent criticism of the Python programming language. This is partially because `self` is what Pythonistas have agreed to use as the first parameter passed during instance attribute definition - it is *not* a keyword. In theory, you could use any word to refer to the current instance of a `class` object; however, you (and others reading your code) will have to remember later on what you used to refer to the current instance. As such, we tacitly agree that we'll use `self` as the first parameter in instance attribute definition to refer to the current instance of a `class` object."
   ]
  },
  {
   "cell_type": "markdown",
   "metadata": {
    "slideshow": {
     "slide_type": "slide"
    }
   },
   "source": [
    "## Class Inheritance\n",
    "\n",
    "With an understanding of `class` definition and instance attributes, we can now introduce the concept of `class` inheritance. The concept here is taht objects can be built from other objects, inheriting the other objects' properties and building off of them. This allows for `class` objects to be related in a hierarchical order.\n",
    "\n",
    "For examplle, with our `Dog()` example above, we could also create a `Cat` object. If we then wanted to create a general `Animal` class, we could then have `Dog` and `Cat` inherit any general animal properties from `Animal()`.\n",
    "\n",
    "To look at a specific example, let's consider the general class `Tool` and how what the syntax would look like if we wanted to inherit `Tool`'s properties in the more specific class `Hammer`:"
   ]
  },
  {
   "cell_type": "code",
   "execution_count": 114,
   "metadata": {},
   "outputs": [],
   "source": [
    "class Tool():\n",
    "    \n",
    "    # define instance attributes\n",
    "    def __init__(self):       \n",
    "        self.is_tool = True\n",
    "        self.tool_type = None\n",
    "    \n",
    "    # define class method\n",
    "    def use_tool(self):\n",
    "        print('Using tool.')"
   ]
  },
  {
   "cell_type": "markdown",
   "metadata": {},
   "source": [
    "Here, se see that there are two *instance* attributes: `is_tool` and `tool_type`. The class `Tool` specifies that any `Tool` will have the value `True` for `is_tool` and `None` for `tool_type`, as this is the more general class.\n",
    "\n",
    "There's also the `Tool` method `use_tool`, which, for a given instance, when executed will print `'Using tool.'`\n",
    "\n",
    "As previously, we can initialize a `Tool` type object, storing it in `my_tool`. We can then access the attributes of `Tool` and carry out any `Tool` methods:"
   ]
  },
  {
   "cell_type": "code",
   "execution_count": 115,
   "metadata": {},
   "outputs": [
    {
     "data": {
      "text/plain": [
       "True"
      ]
     },
     "execution_count": 115,
     "metadata": {},
     "output_type": "execute_result"
    }
   ],
   "source": [
    "# access attribute\n",
    "my_tool = Tool()\n",
    "my_tool.is_tool"
   ]
  },
  {
   "cell_type": "code",
   "execution_count": 116,
   "metadata": {
    "scrolled": true
   },
   "outputs": [
    {
     "name": "stdout",
     "output_type": "stream",
     "text": [
      "Using tool.\n"
     ]
    }
   ],
   "source": [
    "# use method\n",
    "my_tool.use_tool()"
   ]
  },
  {
   "cell_type": "markdown",
   "metadata": {},
   "source": [
    "However, what we're most interested in here is the concept of **inheritance**. In the code below, we see how you can inherit `Tool` properties within a new `class` object `Hammer`.\n",
    "\n",
    "By passing `Tool` in when creating the `class` `Hammer`, `Hammer`-type objects will have the attributes and methods specifed within `Tool`.\n",
    "\n",
    "We also see with the code here that we're specifying that `tool_type` for a `Hammer` will be `'Hammer'` and provide an additional instance attribute `why`, giving the `Hammer` a purpose - `'To hammer things.'`"
   ]
  },
  {
   "cell_type": "code",
   "execution_count": 117,
   "metadata": {
    "slideshow": {
     "slide_type": "slide"
    }
   },
   "outputs": [],
   "source": [
    "class Hammer(Tool): #inherit Tool class\n",
    "    \n",
    "    def __init__(self):        \n",
    "        self.tool_type = 'Hammer'\n",
    "        self.why = 'To hammer things.'"
   ]
  },
  {
   "cell_type": "markdown",
   "metadata": {},
   "source": [
    "We can now create a `Hammer`-type object and use the methods from `Tool` - such as `use_tool`- since that is inherited."
   ]
  },
  {
   "cell_type": "code",
   "execution_count": 119,
   "metadata": {
    "scrolled": false
   },
   "outputs": [
    {
     "name": "stdout",
     "output_type": "stream",
     "text": [
      "Using tool.\n"
     ]
    }
   ],
   "source": [
    "# Hammer has Tool attributes and methods\n",
    "my_hammer = Hammer()\n",
    "my_hammer.use_tool()"
   ]
  },
  {
   "cell_type": "markdown",
   "metadata": {},
   "source": [
    "And, we can also access the `Hammer`-specific attributes:"
   ]
  },
  {
   "cell_type": "code",
   "execution_count": 120,
   "metadata": {},
   "outputs": [
    {
     "data": {
      "text/plain": [
       "'To hammer things.'"
      ]
     },
     "execution_count": 120,
     "metadata": {},
     "output_type": "execute_result"
    }
   ],
   "source": [
    "# Hammer has Hammer attributes\n",
    "my_hammer.why"
   ]
  },
  {
   "cell_type": "markdown",
   "metadata": {},
   "source": [
    "However, you'll note that `Hammer` does *not* have access to the *attributes* from `Tool`:"
   ]
  },
  {
   "cell_type": "code",
   "execution_count": 121,
   "metadata": {
    "scrolled": true
   },
   "outputs": [
    {
     "ename": "AttributeError",
     "evalue": "'Hammer' object has no attribute 'is_tool'",
     "output_type": "error",
     "traceback": [
      "\u001b[0;31m---------------------------------------------------------------------------\u001b[0m",
      "\u001b[0;31mAttributeError\u001b[0m                            Traceback (most recent call last)",
      "\u001b[0;32m<ipython-input-121-dc731deb7b9e>\u001b[0m in \u001b[0;36m<module>\u001b[0;34m()\u001b[0m\n\u001b[1;32m      1\u001b[0m \u001b[0;31m# this code will error\u001b[0m\u001b[0;34m\u001b[0m\u001b[0;34m\u001b[0m\u001b[0m\n\u001b[0;32m----> 2\u001b[0;31m \u001b[0mmy_hammer\u001b[0m\u001b[0;34m.\u001b[0m\u001b[0mis_tool\u001b[0m\u001b[0;34m\u001b[0m\u001b[0m\n\u001b[0m",
      "\u001b[0;31mAttributeError\u001b[0m: 'Hammer' object has no attribute 'is_tool'"
     ]
    }
   ],
   "source": [
    "# this code will error\n",
    "my_hammer.is_tool"
   ]
  },
  {
   "cell_type": "markdown",
   "metadata": {},
   "source": [
    "This is becuase our `Hammer` `class` defines its own *instance attributes*, overriding the instance attributes of the inherited class. We'll see in just a second how to avoid this using `super()`."
   ]
  },
  {
   "cell_type": "markdown",
   "metadata": {},
   "source": [
    "Further, note that inheritance is a one-way street. If you created a `Tool` class object (which is the parent class here) and does *not* inherit from `Hammer`, it only has access to `Tool` attributes and methods, so the following would execute without issue:"
   ]
  },
  {
   "cell_type": "code",
   "execution_count": 122,
   "metadata": {},
   "outputs": [
    {
     "data": {
      "text/plain": [
       "True"
      ]
     },
     "execution_count": 122,
     "metadata": {},
     "output_type": "execute_result"
    }
   ],
   "source": [
    "# Tool objects only have Tool attributes & methods\n",
    "my_tool = Tool()\n",
    "my_tool.is_tool"
   ]
  },
  {
   "cell_type": "markdown",
   "metadata": {},
   "source": [
    "However, if you tried to access the `why` attribute on a `Tool` type object, you would encounter an `AttributeError`, as there is no attribute `why` in the `Tool` class object:"
   ]
  },
  {
   "cell_type": "code",
   "execution_count": 123,
   "metadata": {
    "scrolled": true
   },
   "outputs": [
    {
     "ename": "AttributeError",
     "evalue": "'Tool' object has no attribute 'why'",
     "output_type": "error",
     "traceback": [
      "\u001b[0;31m---------------------------------------------------------------------------\u001b[0m",
      "\u001b[0;31mAttributeError\u001b[0m                            Traceback (most recent call last)",
      "\u001b[0;32m<ipython-input-123-6330510cedfc>\u001b[0m in \u001b[0;36m<module>\u001b[0;34m()\u001b[0m\n\u001b[1;32m      1\u001b[0m \u001b[0;31m# Tool does NOT inherit from Hammer\u001b[0m\u001b[0;34m\u001b[0m\u001b[0;34m\u001b[0m\u001b[0m\n\u001b[1;32m      2\u001b[0m \u001b[0;31m# this code will produce an error\u001b[0m\u001b[0;34m\u001b[0m\u001b[0;34m\u001b[0m\u001b[0m\n\u001b[0;32m----> 3\u001b[0;31m \u001b[0mmy_tool\u001b[0m\u001b[0;34m.\u001b[0m\u001b[0mwhy\u001b[0m\u001b[0;34m\u001b[0m\u001b[0m\n\u001b[0m",
      "\u001b[0;31mAttributeError\u001b[0m: 'Tool' object has no attribute 'why'"
     ]
    }
   ],
   "source": [
    "# Tool does NOT inherit from Hammer\n",
    "# this code will produce an error\n",
    "my_tool.why"
   ]
  },
  {
   "cell_type": "markdown",
   "metadata": {},
   "source": [
    "Note in the example above that `tool_type` of `Hammer` class overrides the `tool_type` specified in the `Tool` class that it inherits. The `class` definition can and will override attributes and methods defined in the Parent class."
   ]
  },
  {
   "cell_type": "markdown",
   "metadata": {},
   "source": [
    "### `super()`\n",
    "\n",
    "`super()` allows you to refer to the inherited, parent class, without naming it specifically.\n",
    "\n",
    "This is particularly helpful when you want to extend the functionality of a class from which you are inheriting.\n",
    "\n",
    "In the example above, we inherited from `Tool` in our `Hammer` definition and saw that while the `Tool` method were availalbe, the `Tool` instance attraibutes were *not*, due to the fact that our `Hammer` definition had overridden the `Tool` instance attribute definition. \n",
    "\n",
    "So...how do we avoid that? This is where `super()` comes in. In the example below, we've added a single line of code (`super().__init__()`) to our `Hammer` definition from above. This specifies that we want to inherit the instance attributes from our parent class `Tool`."
   ]
  },
  {
   "cell_type": "code",
   "execution_count": 124,
   "metadata": {},
   "outputs": [],
   "source": [
    "class Hammer(Tool): #inherit Tool class\n",
    "    \n",
    "    def __init__(self):        \n",
    "        super().__init__()\n",
    "        self.tool_type = 'Hammer'\n",
    "        self.why = 'To hammer things.'"
   ]
  },
  {
   "cell_type": "markdown",
   "metadata": {},
   "source": [
    "With this revised `Hammer` definition, we now are able to access the instance attributes from the parent class"
   ]
  },
  {
   "cell_type": "code",
   "execution_count": 125,
   "metadata": {},
   "outputs": [
    {
     "data": {
      "text/plain": [
       "True"
      ]
     },
     "execution_count": 125,
     "metadata": {},
     "output_type": "execute_result"
    }
   ],
   "source": [
    "new_tool = Hammer()\n",
    "new_tool.is_tool"
   ]
  },
  {
   "cell_type": "markdown",
   "metadata": {},
   "source": [
    "Note, however, that for attributes defined in both `Hammer` and `Tool`, even when we inherit instance attributes from the parent `Tool` class, the child class `Hammer` takes precendence, such that `tool_type` still stores 'Hammer' (from the `Hammer` definition), rather than `None` (from the parent `Tool` class definition)"
   ]
  },
  {
   "cell_type": "code",
   "execution_count": 126,
   "metadata": {},
   "outputs": [
    {
     "data": {
      "text/plain": [
       "'Hammer'"
      ]
     },
     "execution_count": 126,
     "metadata": {},
     "output_type": "execute_result"
    }
   ],
   "source": [
    "new_tool.tool_type"
   ]
  },
  {
   "cell_type": "markdown",
   "metadata": {
    "slideshow": {
     "slide_type": "notes"
    }
   },
   "source": [
    "## `class`: Summary\n",
    "- `class` creates a new class type\n",
    "    - names tend to use CapWords case\n",
    "    - can have attributes (including instance attributes) and methods\n",
    "        - `obj.attribute` accesses data stored in attribute\n",
    "        - `obj.method()` carries out code defined within method \n",
    "- instance attributes defined with `__init__`\n",
    "    - `__init__` is a reserved method in Python\n",
    "    - This \"binds the attributes with the given arguments\"\n",
    "    - `self` refers to current instance\n",
    "    - `super()` refers to the inherited `class`\n",
    "- to create an object (instance) of a specified class type (`ClassType`):\n",
    "    - `object_name = ClassType(input1, input2)`\n",
    "    - `self` is not given an input when creating an object of a specified class"
   ]
  },
  {
   "cell_type": "markdown",
   "metadata": {
    "collapsed": true,
    "slideshow": {
     "slide_type": "slide"
    }
   },
   "source": [
    "## Everything in Python is an Object!\n",
    "\n",
    "We mentioned the fact that Python is an object-oriented programming (OOP) language before without providing a formal definition or discussing it in much detail. OOP is a programming paradigm in which code is organized around objects. Now that we have a better undersatnding of what `class` objects are, we can better understand why this is a helpful paradigm. "
   ]
  },
  {
   "cell_type": "markdown",
   "metadata": {
    "slideshow": {
     "slide_type": "fragment"
    }
   },
   "source": [
    "<div class=\"alert alert-success\">\n",
    "<b>Object-oriented programming (OOP)</b> is a programming paradigm in which code is organized around objects. Python is an OOP programming langauge. \n",
    "</div>"
   ]
  },
  {
   "cell_type": "markdown",
   "metadata": {},
   "source": [
    "To drive this point home, below we use `isinstance()` which checks whether the first parameter is of the second parameter's specified type. For example, we see below that the following returns `True`, as 6 is an `int` type object:"
   ]
  },
  {
   "cell_type": "code",
   "execution_count": 127,
   "metadata": {},
   "outputs": [
    {
     "data": {
      "text/plain": [
       "True"
      ]
     },
     "execution_count": 127,
     "metadata": {},
     "output_type": "execute_result"
    }
   ],
   "source": [
    "isinstance(6, int)"
   ]
  },
  {
   "cell_type": "markdown",
   "metadata": {},
   "source": [
    "Alternatively, the following returns `False` as 'hi' is a `str` type object and _not_ an `int`:"
   ]
  },
  {
   "cell_type": "code",
   "execution_count": 128,
   "metadata": {
    "scrolled": true
   },
   "outputs": [
    {
     "data": {
      "text/plain": [
       "False"
      ]
     },
     "execution_count": 128,
     "metadata": {},
     "output_type": "execute_result"
    }
   ],
   "source": [
    "isinstance('hi', int)"
   ]
  },
  {
   "cell_type": "markdown",
   "metadata": {},
   "source": [
    "With this logic we can see that everything we've discussed thus far in this textbook is an `object`, as every `isinstanc()` statement below demonstrates that everything is in fact an object in Python:"
   ]
  },
  {
   "cell_type": "markdown",
   "metadata": {
    "slideshow": {
     "slide_type": "slide"
    }
   },
   "source": [
    "### Data variables are objects"
   ]
  },
  {
   "cell_type": "code",
   "execution_count": 129,
   "metadata": {
    "slideshow": {
     "slide_type": "fragment"
    }
   },
   "outputs": [
    {
     "name": "stdout",
     "output_type": "stream",
     "text": [
      "True\n",
      "True\n",
      "True\n",
      "True\n",
      "True\n"
     ]
    }
   ],
   "source": [
    "print(isinstance(True, object))\n",
    "print(isinstance(1, object))\n",
    "print(isinstance('word', object))\n",
    "print(isinstance(None, object))\n",
    "\n",
    "a = 3\n",
    "print(isinstance(a, object))"
   ]
  },
  {
   "cell_type": "markdown",
   "metadata": {
    "slideshow": {
     "slide_type": "slide"
    }
   },
   "source": [
    "### Functions are objects"
   ]
  },
  {
   "cell_type": "code",
   "execution_count": 130,
   "metadata": {
    "slideshow": {
     "slide_type": "fragment"
    }
   },
   "outputs": [
    {
     "name": "stdout",
     "output_type": "stream",
     "text": [
      "True\n",
      "True\n"
     ]
    }
   ],
   "source": [
    "print(isinstance(sum, object))\n",
    "print(isinstance(max, object))"
   ]
  },
  {
   "cell_type": "code",
   "execution_count": 131,
   "metadata": {
    "slideshow": {
     "slide_type": "fragment"
    }
   },
   "outputs": [
    {
     "data": {
      "text/plain": [
       "True"
      ]
     },
     "execution_count": 131,
     "metadata": {},
     "output_type": "execute_result"
    }
   ],
   "source": [
    "# Custom function are also objects\n",
    "def my_function():\n",
    "    print('yay Python!')\n",
    "    \n",
    "isinstance(my_function, object)"
   ]
  },
  {
   "cell_type": "markdown",
   "metadata": {
    "slideshow": {
     "slide_type": "slide"
    }
   },
   "source": [
    "### Class definitions & instances are objects"
   ]
  },
  {
   "cell_type": "code",
   "execution_count": 132,
   "metadata": {
    "scrolled": true,
    "slideshow": {
     "slide_type": "fragment"
    }
   },
   "outputs": [
    {
     "name": "stdout",
     "output_type": "stream",
     "text": [
      "True\n",
      "True\n"
     ]
    }
   ],
   "source": [
    "class MyClass():\n",
    "    def __init__(self):\n",
    "        self.data = 13\n",
    "\n",
    "my_instance = MyClass()\n",
    "\n",
    "print(isinstance(MyClass, object))\n",
    "print(isinstance(my_instance, object))"
   ]
  },
  {
   "cell_type": "markdown",
   "metadata": {},
   "source": [
    "## `class`: `ProfCourses`\n",
    "\n",
    "With the basic explanations of concepts and provided examples thus far, you should have a sense that new objects can be created to store information (in the form of attributes) that are *attached* or *belong* to the object type *and* that methods are functions that are *attached* or *operate on* the object type directly. However, to this point, the examples have been somewhat contribed. Let's work through an example that incorporates concepts discussed up to this point to get a sense for how object-oriented programming and creating new objects can be beneficial.\n",
    "\n",
    "For this example, envision that you're a professor who teaches a handful of different courses each year. And, you want to be able to keep track of these courses and carry out a handful of operations on these courses. For this example, we'll build the code as we go, adding on additional pieces throughout this section, explaining each as we add it on. To get started, let's focus on a few instance attributes."
   ]
  },
  {
   "cell_type": "code",
   "execution_count": 1,
   "metadata": {},
   "outputs": [],
   "source": [
    "class ProfCourses():\n",
    "    \n",
    "    # create three instance attributes\n",
    "    def __init__(self, prof):\n",
    "        self.n_classes = 0\n",
    "        self.classes = []\n",
    "        self.prof = prof"
   ]
  },
  {
   "cell_type": "markdown",
   "metadata": {},
   "source": [
    "In the example provided above we three instance attributes, two of which (`n_classes` and `classes`) are initialized with values, and one (`prof`) which requires definition upon creation of an instance of a `ProfCourses` object. If we think about these variables, when we first initalize an instance of a `ProfCourses` object, it makes good sense that `n_class` (standing in for number of classes) should be zero and the list of those `classes` should be an empty list. Eventually, we'll write a method that will add to and update these attributes. On the contrary, `prof` has to be specified upon initialization, so we know which prof's courses we're talking about.\n",
    "\n",
    "Let's do that now, and create an instance of our `ProfCourses` object!"
   ]
  },
  {
   "cell_type": "code",
   "execution_count": 4,
   "metadata": {},
   "outputs": [
    {
     "name": "stdout",
     "output_type": "stream",
     "text": [
      "0\n",
      "[]\n",
      "Ellis\n"
     ]
    }
   ],
   "source": [
    "ellis_courses = ProfCourses('Ellis')\n",
    "print(ellis_courses.n_classes)\n",
    "print(ellis_courses.classes)\n",
    "print(ellis_courses.prof)"
   ]
  },
  {
   "cell_type": "markdown",
   "metadata": {},
   "source": [
    "Above, the output `print`ed matches our expectation. The `n_classes` and `classes` attributes are zero and an empty list, respectively, while the `prof` attribute stores 'Ellis', which was the value provided when the `ProfCourses` object was initialized. So, we've got some attributes, but now let's add a method to actually add classes to this object!\n",
    "\n",
    "While the example will get more and more involved, at each step only a handful of lines will change, adding to what was in the previous step. Here, we add the `add_class` method."
   ]
  },
  {
   "cell_type": "code",
   "execution_count": 6,
   "metadata": {},
   "outputs": [],
   "source": [
    "class ProfCourses():\n",
    "    \n",
    "    def __init__(self, prof):\n",
    "        self.n_classes = 0\n",
    "        self.classes = []\n",
    "        self.prof = prof\n",
    "    \n",
    "    # add method that will add classes as a dictionary\n",
    "    # to our attribute (classes)...which is a list\n",
    "    def add_class(self, course_name, quarter, n_students):\n",
    "        \n",
    "        self.classes.append({'course_name': course_name,\n",
    "                             'quarter' : quarter,\n",
    "                             'n_students': n_students})\n",
    "        # increase value store in n_classes\n",
    "        # by 1 any time a class is added\n",
    "        self.n_classes += 1"
   ]
  },
  {
   "cell_type": "markdown",
   "metadata": {},
   "source": [
    "The `add_class` method has three parameters: `course_name`, `quarter`, and `n_students`, none of which takes a default value. \n",
    "\n",
    "Within the function, we see that when the `add_class` method is executed, the values for each of the three input parameters will be stored in a dictionary. This dictionary will be appended to the `classes` attribute. We also see the value stored in `n_classes` will increment by 1.\n",
    "\n",
    "After defining the above `class`, we can create an instance of this object, call the `add_class` method on that object and take a look at the attributes of that ojbect:"
   ]
  },
  {
   "cell_type": "code",
   "execution_count": 7,
   "metadata": {},
   "outputs": [
    {
     "name": "stdout",
     "output_type": "stream",
     "text": [
      "1\n"
     ]
    },
    {
     "data": {
      "text/plain": [
       "[{'course_name': 'COGS18', 'quarter': 'fa20', 'n_students': 363}]"
      ]
     },
     "execution_count": 7,
     "metadata": {},
     "output_type": "execute_result"
    }
   ],
   "source": [
    "# create ellis_courses\n",
    "ellis_courses = ProfCourses('Ellis')\n",
    "\n",
    "# add a class\n",
    "ellis_courses.add_class('COGS18', 'fa20', 363)\n",
    "\n",
    "# see output\n",
    "print(ellis_courses.n_classes)\n",
    "ellis_courses.classes"
   ]
  },
  {
   "cell_type": "markdown",
   "metadata": {},
   "source": [
    "After calling the `add_class()` method, we see that, as we would expected `n_classes` increases to 1 and `classes` is a list that now stores a single dictionary, including the information about the course, as specified when `add_class()` was executed.\n",
    "\n",
    "From here, we can add an additional method `compare`. This will function to compare values within the `classes` object, allowing us to return, for example, the class with the most students...or the fewest students."
   ]
  },
  {
   "cell_type": "code",
   "execution_count": 8,
   "metadata": {},
   "outputs": [],
   "source": [
    "class ProfCourses():\n",
    "    \n",
    "    def __init__(self, prof):\n",
    "        self.n_classes = 0\n",
    "        self.classes = []\n",
    "        self.prof = prof\n",
    "    \n",
    "    def add_class(self, course_name, quarter, n_students):\n",
    "        \n",
    "        self.classes.append({'course_name': course_name,\n",
    "                             'quarter' : quarter,\n",
    "                             'n_students': n_students})\n",
    "        self.n_classes += 1\n",
    "        \n",
    "     \n",
    "    # add method to compare values in classes\n",
    "    def compare(self, attribute, direction='most'):\n",
    "    \n",
    "        fewest = self.classes[0]\n",
    "        most = self.classes[0] \n",
    "        \n",
    "        for my_class in self.classes:\n",
    "            if my_class[attribute] <= fewest[attribute]:\n",
    "                fewest = my_class\n",
    "            elif my_class[attribute] >= most[attribute]:\n",
    "                most = my_class\n",
    "                \n",
    "        if direction == 'most':\n",
    "            output = most\n",
    "        elif direction == 'fewest':\n",
    "            output = fewest\n",
    "\n",
    "        return output"
   ]
  },
  {
   "cell_type": "markdown",
   "metadata": {},
   "source": [
    "While we won't walk through every line of code above, what you'll want to keep in mind is that `fewest` and `most` are both dictionaries. Before the `for` loop, they are initialized with the first dictionary in `classes`. From there, the value (dictionary) in each is updated, only if the value stored in the `attribute` (key specified) is lower (for `fewest`) or higher (for `most`) than the value in the previous iteration of the loop. At the end of the loop, a conditional is used to determine what should `return`ed from the loop by considering what the input to `direction` (method parameter) is.\n",
    "\n",
    "Here, we'll create an instance of the `ProfCourses` object and call the `add_class` method a number of times to add multiple classes to the `classes` attribute of our object:"
   ]
  },
  {
   "cell_type": "code",
   "execution_count": 9,
   "metadata": {},
   "outputs": [
    {
     "name": "stdout",
     "output_type": "stream",
     "text": [
      "5\n"
     ]
    },
    {
     "data": {
      "text/plain": [
       "[{'course_name': 'COGS18', 'quarter': 'fa20', 'n_students': 363},\n",
       " {'course_name': 'COGS108', 'quarter': 'fa20', 'n_students': 447},\n",
       " {'course_name': 'COGS18', 'quarter': 'su20', 'n_students': 88},\n",
       " {'course_name': 'COGS108', 'quarter': 'sp20', 'n_students': 469},\n",
       " {'course_name': 'COGS108', 'quarter': 'sp19', 'n_students': 825}]"
      ]
     },
     "execution_count": 9,
     "metadata": {},
     "output_type": "execute_result"
    }
   ],
   "source": [
    "# create ellis_courses\n",
    "ellis_courses = ProfCourses('Ellis')\n",
    "\n",
    "# add a bunch of classes\n",
    "ellis_courses.add_class('COGS18', 'fa20', 363)\n",
    "ellis_courses.add_class('COGS108', 'fa20', 447)\n",
    "ellis_courses.add_class('COGS18', 'su20', 88)\n",
    "ellis_courses.add_class('COGS108', 'sp20', 469)\n",
    "ellis_courses.add_class('COGS108', 'sp19', 825)\n",
    "\n",
    "# see the courses\n",
    "print(ellis_courses.n_classes)\n",
    "ellis_courses.classes"
   ]
  },
  {
   "cell_type": "markdown",
   "metadata": {},
   "source": [
    "Above we see that `ellis_courses` now stores information about 5 different courses, each of which is stored as a dictionary in the list `classes`, which is an attribute of the `ProfCourses` class. \n",
    "\n",
    "With this, we can now use our `compare` method:"
   ]
  },
  {
   "cell_type": "code",
   "execution_count": 10,
   "metadata": {},
   "outputs": [
    {
     "data": {
      "text/plain": [
       "{'course_name': 'COGS108', 'quarter': 'sp19', 'n_students': 825}"
      ]
     },
     "execution_count": 10,
     "metadata": {},
     "output_type": "execute_result"
    }
   ],
   "source": [
    "# make comparison among all courses\n",
    "# returns the class with the most students\n",
    "ellis_courses.compare('n_students')"
   ]
  },
  {
   "cell_type": "markdown",
   "metadata": {},
   "source": [
    "Given the code, and as we see above, if the attribute is `n_students`, the dictionary corresponding to the quarter with the 'most' students will be returned by default. \n",
    "\n",
    "Of course, if we wanted it to return the `'fewest'`, we could specify that in the `direction` parameter: "
   ]
  },
  {
   "cell_type": "code",
   "execution_count": 11,
   "metadata": {
    "scrolled": true
   },
   "outputs": [
    {
     "data": {
      "text/plain": [
       "{'course_name': 'COGS18', 'quarter': 'su20', 'n_students': 88}"
      ]
     },
     "execution_count": 11,
     "metadata": {},
     "output_type": "execute_result"
    }
   ],
   "source": [
    "# return the class with the fewest students\n",
    "ellis_courses.compare('n_students', 'fewest')"
   ]
  },
  {
   "cell_type": "markdown",
   "metadata": {},
   "source": [
    "Given our current setup, the only attribute that could be used for meaningful comparison is `n_students`, but, what if for each class there were additional `'attribute`s?  \n",
    "\n",
    "In this final iteration of `ProfCourses`, the instance attributes and `compare` methods remain unchanged. The only difference is that `add_class` has additional paramters, `n_exams` and `n_assigments`, for example."
   ]
  },
  {
   "cell_type": "code",
   "execution_count": 12,
   "metadata": {},
   "outputs": [],
   "source": [
    "class ProfCourses():\n",
    "    \n",
    "    def __init__(self, prof):\n",
    "        self.n_classes = 0\n",
    "        self.classes = []\n",
    "        self.prof = prof\n",
    "    \n",
    "    def add_class(self, course_name, quarter, \n",
    "                  n_students, n_exams, n_assignments):\n",
    "        \n",
    "        # add in additional key-value pairs\n",
    "        self.classes.append({'course_name': course_name,\n",
    "                             'quarter' : quarter,\n",
    "                             'n_students': n_students,\n",
    "                             'n_exams' : n_exams,\n",
    "                             'n_assignments' : n_assignments})\n",
    "        self.n_classes += 1\n",
    "        \n",
    "     \n",
    "    def compare(self, attribute, direction='most'):\n",
    "    \n",
    "        fewest = self.classes[0]\n",
    "        most = self.classes[0] \n",
    "        \n",
    "        for my_class in self.classes:\n",
    "            if my_class[attribute] <= fewest[attribute]:\n",
    "                fewest = my_class\n",
    "            elif my_class[attribute] >= most[attribute]:\n",
    "                most = my_class\n",
    "                \n",
    "        if direction == 'most':\n",
    "            output = most\n",
    "        elif direction == 'fewest':\n",
    "            output = fewest\n",
    "\n",
    "        return output"
   ]
  },
  {
   "cell_type": "markdown",
   "metadata": {},
   "source": [
    "When we go to add classes to a `ProfCourses` object now, additional arguments are required for these additional parameters:"
   ]
  },
  {
   "cell_type": "code",
   "execution_count": 13,
   "metadata": {},
   "outputs": [
    {
     "name": "stdout",
     "output_type": "stream",
     "text": [
      "6\n"
     ]
    }
   ],
   "source": [
    "# create ellis_courses\n",
    "ellis_courses = ProfCourses('Ellis')\n",
    "\n",
    "# add a bunch of classes\n",
    "ellis_courses.add_class('COGS18', 'fa20', 363, 2, 5)\n",
    "ellis_courses.add_class('COGS108', 'fa20', 447, 0, 6)\n",
    "ellis_courses.add_class('COGS18', 'su20', 88, 3, 5)\n",
    "ellis_courses.add_class('COGS108', 'sp20', 469, 0, 6)\n",
    "ellis_courses.add_class('COGS108', 'sp19', 825, 0, 5)\n",
    "ellis_courses.add_class('COGS18', 'fa19', 301, 2, 4)\n",
    "\n",
    "# see the courses\n",
    "print(ellis_courses.n_classes)"
   ]
  },
  {
   "cell_type": "markdown",
   "metadata": {},
   "source": [
    "However, with this additional functionality we can do comparisons on additional arguments now, for example the class with the most exams:"
   ]
  },
  {
   "cell_type": "code",
   "execution_count": 14,
   "metadata": {
    "scrolled": false
   },
   "outputs": [
    {
     "data": {
      "text/plain": [
       "{'course_name': 'COGS18',\n",
       " 'quarter': 'su20',\n",
       " 'n_students': 88,\n",
       " 'n_exams': 3,\n",
       " 'n_assignments': 5}"
      ]
     },
     "execution_count": 14,
     "metadata": {},
     "output_type": "execute_result"
    }
   ],
   "source": [
    "# return the class with the most exams\n",
    "ellis_courses.compare('n_exams', 'most')"
   ]
  },
  {
   "cell_type": "markdown",
   "metadata": {},
   "source": [
    "...or the fewest assignments:"
   ]
  },
  {
   "cell_type": "code",
   "execution_count": null,
   "metadata": {},
   "outputs": [],
   "source": [
    "# return the class with the fewest assignments\n",
    "ellis_courses.compare('n_assignments', 'fewest')"
   ]
  },
  {
   "cell_type": "markdown",
   "metadata": {},
   "source": [
    "At this point, hopefully you have a sense for how it can be helpful to organize code into objects whenenver you have information (attributes) and operations (methods) that work together. However, this class is not perfect. See the exercises below for considerations to add additional functionality and improve this class!"
   ]
  },
  {
   "cell_type": "markdown",
   "metadata": {},
   "source": [
    "## Exercises"
   ]
  },
  {
   "cell_type": "markdown",
   "metadata": {
    "collapsed": true,
    "slideshow": {
     "slide_type": "slide"
    }
   },
   "source": [
    "Q1. **Which of the following is true about the following `Dog` class?**\n",
    "\n",
    "```python\n",
    "class Dog():\n",
    "    \n",
    "    sound = 'Woof'\n",
    "    \n",
    "    def speak(self):\n",
    "        print(self.sound)\n",
    "```\n",
    "\n",
    "A) `Dog` is a class, `sound` is an attribute, and `speak` is a method.  \n",
    "B) `Dog` is a function, `sound` is an attribute, and `speak` is a method.  \n",
    "C) `Dog` is a class, `sound` is a method, and `speak` is an attribute.  \n",
    "D) `Dog` is a function, `sound` is an method, and `speak` is an attribute.  \n",
    "\n",
    "Q2. **Using the definition in the previous question, how many instances of `Dog()` are created below and how many times does the `speak()` method execute if the following code were to execute**:\n",
    "\n",
    "```python\n",
    "pack_of_dogs = [Dog(), Dog(), Dog(), Dog()]\n",
    "\n",
    "counter = 1\n",
    "\n",
    "for doggie in pack_of_dogs:\n",
    "    if counter <= 2:\n",
    "        doggie.speak()\n",
    "        counter += 1\n",
    "    else:\n",
    "        break\n",
    "```\n",
    "\n",
    "A) 2 instances, 2 method executions  \n",
    "B) 2 instances, 4 method executions  \n",
    "C) 4 instances, 2 method executions  \n",
    "D) 4 instances, 4 method executions  \n",
    "\n",
    "Q3. **Edit the `Dog()` code provided above to allow for each `Dog`-type object to have an attribute specifying its breed.**\n",
    "\n",
    "Q4. **What will the following code snippet print out?\n",
    "\n",
    "```python\n",
    "class MyClass():\n",
    "    \n",
    "    def __init__(self, name, email, score):\n",
    "        self.name = name\n",
    "        self.email = email\n",
    "        self.score = score\n",
    "    \n",
    "    def check_score(self):        \n",
    "        if self.score <= 65:\n",
    "            return self.email\n",
    "        else:\n",
    "            return None\n",
    "        \n",
    "student = MyClass('Rob', 'rob@python.com', 62)\n",
    "student.check_score()\n",
    "```\n",
    "\n",
    "A) True  \n",
    "B) 'Rob'  \n",
    "C) False   \n",
    "D) 'rob@python.com'  \n",
    "E) None  \n",
    "\n",
    "Q5. **Given the following set of classes, what will the code provided print out?**\n",
    "\n",
    "```python\n",
    "class Brain(): \n",
    "    \n",
    "    def __init__(self, size = None, folded = None):\n",
    "        self.size = size\n",
    "        self.folded = folded\n",
    "        \n",
    "    def print_info(self):\n",
    "        folded_string = ''\n",
    "        if not self.folded:\n",
    "            folded_string = 'not'\n",
    "        print('This brain is ' + self.size + ' and is ' + folded_string + ' folded.')\n",
    "         \n",
    "class SheepBrain(Brain):\n",
    "    \n",
    "    def __init__(self, size = 'medium', folded = False):\n",
    "        super().__init__(size, folded)\n",
    "        \n",
    "sheep = SheepBrain()\n",
    "sheep.print_info()\n",
    "```\n",
    "\n",
    "A) This brain is medium and folded.  \n",
    "B) This brain is large and folded.  \n",
    "C) This brain is medium and not folded.  \n",
    "D) This brain is medium and False.\n",
    "\n",
    "Q6. **If we were to add an additional class on top of those in the previous question using the following code, what would the following print out?**\n",
    "\n",
    "```python\n",
    "class HumanBrain(Brain):\n",
    "    def __init__(self, size = 'large', folded = True):\n",
    "        super().__init__(size, folded)\n",
    "        \n",
    "sheep = SheepBrain()\n",
    "human = HumanBrain()\n",
    "human.folded and sheep.folded\n",
    "```\n",
    "\n",
    "A) True  \n",
    "B) False  \n",
    "C) None  \n",
    "D) AssertionError  \n",
    "\n",
    "Q7. **This question builds on `ProfCourses` from above. If you haven't worked through that example, do so first and then return here. How would you improve the `ProfCourses` class in this chapter to accomplish each of the following**:\n",
    "\n",
    "1) account for ties when using the `compare` method?\n",
    "2) refactor (meaning improve and simplify) the `compare()` method to reduce the need for creating two different objects, only one of which gets `return`ed from the method?\n",
    "3) add a method to put the dictionary in time order?\n",
    "\n",
    "\n",
    "**Give any/all of these a try to solidify your `class` understanding!**"
   ]
  }
 ],
 "metadata": {
  "kernelspec": {
   "display_name": "Python 3",
   "language": "python",
   "name": "python3"
  },
  "language_info": {
   "codemirror_mode": {
    "name": "ipython",
    "version": 3
   },
   "file_extension": ".py",
   "mimetype": "text/x-python",
   "name": "python",
   "nbconvert_exporter": "python",
   "pygments_lexer": "ipython3",
   "version": "3.7.7"
  },
  "rise": {
   "scroll": true
  }
 },
 "nbformat": 4,
 "nbformat_minor": 2
}
