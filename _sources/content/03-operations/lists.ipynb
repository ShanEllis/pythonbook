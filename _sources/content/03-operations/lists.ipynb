{
 "cells": [
  {
   "cell_type": "markdown",
   "metadata": {
    "collapsed": true,
    "slideshow": {
     "slide_type": "slide"
    }
   },
   "source": [
    "# Lists\n",
    "\n",
    "One of the most common ways to store multiple pieces of information is in a **list**. Lists store items in an ordered fashion. This means that there is a zeroth, first, second, third, and so on item in your list. Additionally, lists can store information of mixed type - so if you want to store strings with integers or floats with booleans, you can do so using a list.\n",
    "\n",
    "Syntactically, lists are generated using square brackets around the items in your list, with each item separated by a comma."
   ]
  },
  {
   "cell_type": "markdown",
   "metadata": {
    "slideshow": {
     "slide_type": "fragment"
    }
   },
   "source": [
    "<div class=\"alert alert-success\">\n",
    "A list is a mutable collection of ordered items, that can be of mixed type. Lists are created using square brackets.\n",
    "</div>"
   ]
  },
  {
   "cell_type": "markdown",
   "metadata": {
    "slideshow": {
     "slide_type": "slide"
    }
   },
   "source": [
    "## Defining a list\n",
    "\n",
    "To define a list, we will assign the information back to a variable (`my_list`) using the assignment operator (`=`), as we do for all variables. To the right of the assignment operator, the list is created using square brackets around the list items. Each item in the list is separated by a comma.\n",
    "\n",
    "In this first list, we have three items - an integer (`1`), a string (`a`), and a boolean (`True`)."
   ]
  },
  {
   "cell_type": "code",
   "execution_count": 5,
   "metadata": {
    "slideshow": {
     "slide_type": "fragment"
    }
   },
   "outputs": [],
   "source": [
    "# Define a list\n",
    "my_list = [1, 'a', True]"
   ]
  },
  {
   "cell_type": "markdown",
   "metadata": {},
   "source": [
    "As we've seen previously, to inspect the items in a list, `print()` statements can be helpful. This reminds you what information is stored in a variable."
   ]
  },
  {
   "cell_type": "code",
   "execution_count": 3,
   "metadata": {
    "slideshow": {
     "slide_type": "fragment"
    }
   },
   "outputs": [
    {
     "name": "stdout",
     "output_type": "stream",
     "text": [
      "[1, 'a', True]\n"
     ]
    }
   ],
   "source": [
    "# Print out the contents of a list\n",
    "print(my_list)"
   ]
  },
  {
   "cell_type": "markdown",
   "metadata": {},
   "source": [
    "Similarly, `type()`, when provided with a list as its input, will return `list`."
   ]
  },
  {
   "cell_type": "code",
   "execution_count": 4,
   "metadata": {
    "slideshow": {
     "slide_type": "fragment"
    }
   },
   "outputs": [
    {
     "data": {
      "text/plain": [
       "list"
      ]
     },
     "execution_count": 4,
     "metadata": {},
     "output_type": "execute_result"
    }
   ],
   "source": [
    "# Check the type of a list\n",
    "type(my_list)"
   ]
  },
  {
   "cell_type": "markdown",
   "metadata": {
    "slideshow": {
     "slide_type": "slide"
    }
   },
   "source": [
    "To add to these common functions, we'll introduce `len()` which returns the number of items (elements) in the list specified within the parentheses:"
   ]
  },
  {
   "cell_type": "code",
   "execution_count": 6,
   "metadata": {
    "slideshow": {
     "slide_type": "fragment"
    }
   },
   "outputs": [
    {
     "data": {
      "text/plain": [
       "3"
      ]
     },
     "execution_count": 6,
     "metadata": {},
     "output_type": "execute_result"
    }
   ],
   "source": [
    "# Get the length of the list, and print it out\n",
    "len(my_list)"
   ]
  },
  {
   "cell_type": "markdown",
   "metadata": {
    "collapsed": true,
    "slideshow": {
     "slide_type": "slide"
    }
   },
   "source": [
    "## Indexing\n",
    "\n",
    "As we store more items (piecies of information) in a variable, we need a way to get specific pieces of information back out of that list. To obtain a specific item or specific set of items from a list, we will use the process of **indexing**."
   ]
  },
  {
   "cell_type": "markdown",
   "metadata": {
    "slideshow": {
     "slide_type": "fragment"
    }
   },
   "source": [
    "<div class=\"alert alert-success\">\n",
    "Indexing refers to selecting an item from within a collection. Indexing is done with square brackets.\n",
    "</div>"
   ]
  },
  {
   "cell_type": "markdown",
   "metadata": {},
   "source": [
    "For example, what if we had a class with 5 students in it. We could store their first names in a list called `students`:"
   ]
  },
  {
   "cell_type": "code",
   "execution_count": 1,
   "metadata": {
    "slideshow": {
     "slide_type": "fragment"
    }
   },
   "outputs": [],
   "source": [
    "# Define a list \n",
    "students = ['Julian', 'Amal', 'Richard', 'Juan', 'Xuan']"
   ]
  },
  {
   "cell_type": "markdown",
   "metadata": {},
   "source": [
    "If we wanted to know who the first student in our list was, we could **index** that value from the list. \n",
    "\n",
    "To do so, we would use square brackets after the variable name and specify the position from the list that we want to index. If we want the first item in the list, we'll use the number '0'. This is because Python is zero-based. This means that counting starts with 0. The second item in the list could be accessed with the number '1'.\n",
    "\n",
    "Thus, to return the first student in the list ('Julian'), we would index `students[0]`:"
   ]
  },
  {
   "cell_type": "code",
   "execution_count": 8,
   "metadata": {
    "slideshow": {
     "slide_type": "fragment"
    }
   },
   "outputs": [
    {
     "name": "stdout",
     "output_type": "stream",
     "text": [
      "Julian\n"
     ]
    }
   ],
   "source": [
    "# Indexing: Count forward, starting at 0, with positive numbers\n",
    "print(students[0])"
   ]
  },
  {
   "cell_type": "markdown",
   "metadata": {},
   "source": [
    "Similarly, if we wanted the second student in the list, we would index with `students[1]`:"
   ]
  },
  {
   "cell_type": "code",
   "execution_count": 9,
   "metadata": {
    "scrolled": true,
    "slideshow": {
     "slide_type": "fragment"
    }
   },
   "outputs": [
    {
     "name": "stdout",
     "output_type": "stream",
     "text": [
      "Amal\n"
     ]
    }
   ],
   "source": [
    "# Indexing second student in list\n",
    "print(students[1])"
   ]
  },
  {
   "cell_type": "markdown",
   "metadata": {
    "collapsed": true,
    "slideshow": {
     "slide_type": "slide"
    }
   },
   "source": [
    "### Negative Indexing"
   ]
  },
  {
   "cell_type": "markdown",
   "metadata": {},
   "source": [
    "**Negative indexing** is also possible - you *can* count backward from the end of the list. In this case '-1' refers to the last item in the list and indexing counts from there. So, the second to last item in the list would be '-2'.\n",
    "\n",
    "Thus, to return the last student in the list, we would use `students[-1]`:"
   ]
  },
  {
   "cell_type": "code",
   "execution_count": 10,
   "metadata": {
    "scrolled": true,
    "slideshow": {
     "slide_type": "fragment"
    }
   },
   "outputs": [
    {
     "name": "stdout",
     "output_type": "stream",
     "text": [
      "Xuan\n"
     ]
    }
   ],
   "source": [
    "# Indexing: Count backward, starting at -1, with negative numbers\n",
    "print(students[-1])"
   ]
  },
  {
   "cell_type": "markdown",
   "metadata": {
    "collapsed": true,
    "slideshow": {
     "slide_type": "slide"
    }
   },
   "source": [
    "### Slicing\n",
    "\n",
    "It is also possible to obtain a portion or subset of the list, referred to as a **slice**. \n",
    "\n",
    "The syntax to obtain a slice of the list requires that you specify at what index (position) you want the slice to return and when the slice should stop using `[start:stop]`. Importantly, the `start` position is included in the output, but the `stop` position specified is *not* returned. Each item *up until* to `stop` position is returned.\n",
    "\n",
    "To return the third and fourth position in the list, you would then use `students[2:4]` as this would return the item in the '2' position and the '3' position, but would not include the '4' position, as the `stop` is not included in the output."
   ]
  },
  {
   "cell_type": "code",
   "execution_count": 11,
   "metadata": {
    "scrolled": true,
    "slideshow": {
     "slide_type": "fragment"
    }
   },
   "outputs": [
    {
     "name": "stdout",
     "output_type": "stream",
     "text": [
      "['Richard', 'Juan']\n"
     ]
    }
   ],
   "source": [
    "# Indexing: Grab a group of adjacent items using `start:stop`, called a slice\n",
    "print(students[2:4])"
   ]
  },
  {
   "cell_type": "markdown",
   "metadata": {},
   "source": [
    "For slicing, you often want to take a slice of the list starting with a certain position and continuing on until the end of the list. This can be accomplished by not specifying a stop position, using the syntax `[start:]`:"
   ]
  },
  {
   "cell_type": "code",
   "execution_count": 13,
   "metadata": {
    "scrolled": true,
    "slideshow": {
     "slide_type": "fragment"
    }
   },
   "outputs": [
    {
     "name": "stdout",
     "output_type": "stream",
     "text": [
      "['Richard', 'Juan', 'Xuan']\n"
     ]
    }
   ],
   "source": [
    "# indexing from third position to end of list\n",
    "print(students[2:])"
   ]
  },
  {
   "cell_type": "markdown",
   "metadata": {},
   "source": [
    "Similarly, to index from the beginning of the list until a stop position, you would exclude a start position and use `[:stop]`:"
   ]
  },
  {
   "cell_type": "code",
   "execution_count": 2,
   "metadata": {
    "scrolled": true,
    "slideshow": {
     "slide_type": "fragment"
    }
   },
   "outputs": [
    {
     "name": "stdout",
     "output_type": "stream",
     "text": [
      "['Julian', 'Amal', 'Richard', 'Juan']\n"
     ]
    }
   ],
   "source": [
    "# Indexing from beginning of list\n",
    "print(students[:4])"
   ]
  },
  {
   "cell_type": "markdown",
   "metadata": {},
   "source": [
    "Note above that again, the stop position is *not* included in the slice that is output."
   ]
  },
  {
   "cell_type": "markdown",
   "metadata": {},
   "source": [
    "Finally, it is also possible to obtain a slice using a specific pattern by specifying the `step` of the slice using `[start:stop:step]`. The default step is '1', returning each item in the slice. However, if the `step` is '2', the slice will include and return every other item in your list. If the `step` is 3, it will return every third item, and so on.\n",
    "\n",
    "Here, we `start` at 0 (the beginning of the list), `stop` at (and don't include) the 4th index and `step` to include every second student in the list:"
   ]
  },
  {
   "cell_type": "code",
   "execution_count": 3,
   "metadata": {
    "slideshow": {
     "slide_type": "fragment"
    }
   },
   "outputs": [
    {
     "name": "stdout",
     "output_type": "stream",
     "text": [
      "['Julian', 'Richard']\n"
     ]
    }
   ],
   "source": [
    "# slicing by skipping a value [start:stop:step]\n",
    "print(students[0:4:2])"
   ]
  },
  {
   "cell_type": "markdown",
   "metadata": {
    "slideshow": {
     "slide_type": "slide"
    }
   },
   "source": [
    "### Summary: Indexing"
   ]
  },
  {
   "cell_type": "markdown",
   "metadata": {
    "slideshow": {
     "slide_type": "fragment"
    }
   },
   "source": [
    "- Python is zero-based (The first index is '0')\n",
    "- Negative indices index backwards through a collection\n",
    "- A sequence of indices (called a slice) can be accessed using `start:stop`\n",
    "    - In this contstruction, `start` is included then every element until `stop`, not including `stop` itself\n",
    "    - To skip values in a sequence use `start:stop:step`"
   ]
  },
  {
   "cell_type": "markdown",
   "metadata": {
    "slideshow": {
     "slide_type": "slide"
    }
   },
   "source": [
    "## Operators with lists\n",
    "\n",
    "We previously introduced the **membership** operator, `in`. These operators work to identify whether a specific item exists in the specified list, returning the boolean `True` if it is a member of the list and `False` if it is not."
   ]
  },
  {
   "cell_type": "markdown",
   "metadata": {
    "slideshow": {
     "slide_type": "fragment"
    }
   },
   "source": [
    "<div class=\"alert alert-success\">\n",
    "The <code>in</code> operator asks whether an element is present inside a collection, and returns a boolean answer. \n",
    "</div>"
   ]
  },
  {
   "cell_type": "code",
   "execution_count": 21,
   "metadata": {
    "slideshow": {
     "slide_type": "slide"
    }
   },
   "outputs": [],
   "source": [
    "# Define a new list to work with\n",
    "list_again = [True, 13, None, 'apples']"
   ]
  },
  {
   "cell_type": "markdown",
   "metadata": {},
   "source": [
    "For example, 'Julian' is a student in our list of students, so the following returns `True`:"
   ]
  },
  {
   "cell_type": "code",
   "execution_count": 8,
   "metadata": {
    "scrolled": true
   },
   "outputs": [
    {
     "data": {
      "text/plain": [
       "True"
      ]
     },
     "execution_count": 8,
     "metadata": {},
     "output_type": "execute_result"
    }
   ],
   "source": [
    "# returns True if element in list\n",
    "'Julian' in students"
   ]
  },
  {
   "cell_type": "markdown",
   "metadata": {},
   "source": [
    "When asked about a name that is *not* in our list of students, the `in` membership operator will return `False`."
   ]
  },
  {
   "cell_type": "code",
   "execution_count": 7,
   "metadata": {
    "slideshow": {
     "slide_type": "fragment"
    }
   },
   "outputs": [
    {
     "data": {
      "text/plain": [
       "False"
      ]
     },
     "execution_count": 7,
     "metadata": {},
     "output_type": "execute_result"
    }
   ],
   "source": [
    "# Check if a particular element is present in the list of students\n",
    "'Shannon' in students"
   ]
  },
  {
   "cell_type": "markdown",
   "metadata": {},
   "source": [
    "Of importance, it is searching for the entire element, so if we searched for 'Jul', which is part of the name Julian but not the whole name, the membership operator would accurately specify that 'Jul' is *not* and element in the list."
   ]
  },
  {
   "cell_type": "code",
   "execution_count": 9,
   "metadata": {
    "scrolled": true
   },
   "outputs": [
    {
     "data": {
      "text/plain": [
       "False"
      ]
     },
     "execution_count": 9,
     "metadata": {},
     "output_type": "execute_result"
    }
   ],
   "source": [
    "# Jul is not an element in list\n",
    "'Jul' in students"
   ]
  },
  {
   "cell_type": "markdown",
   "metadata": {},
   "source": [
    "As specified in an earlier chapter, the `not` operator can be combined with membership operators to evaluate the expression. For example, Shannon is `not in` the `students` list, so the following will return `True`, as this expression evaluates as `True`:"
   ]
  },
  {
   "cell_type": "code",
   "execution_count": 10,
   "metadata": {
    "slideshow": {
     "slide_type": "fragment"
    }
   },
   "outputs": [
    {
     "data": {
      "text/plain": [
       "True"
      ]
     },
     "execution_count": 10,
     "metadata": {},
     "output_type": "execute_result"
    }
   ],
   "source": [
    "# The `in` operator can be combined with the `not` operator\n",
    "'Shannon' not in students"
   ]
  },
  {
   "cell_type": "markdown",
   "metadata": {
    "slideshow": {
     "slide_type": "slide"
    }
   },
   "source": [
    "## Mutating\n",
    "\n",
    "Beyond slicing to obtain a portion of the list, it's important to know that lists are *mutable*. This means that the elements of the list can be changed after the list is created. Updating or changing the contents of a list is referred to **mutating** the contents of the list."
   ]
  },
  {
   "cell_type": "markdown",
   "metadata": {
    "slideshow": {
     "slide_type": "fragment"
    }
   },
   "source": [
    "<div class=\"alert alert-success\">\n",
    "Lists are mutable, meaning after definition, you can update and change things about the list.\n",
    "</div>"
   ]
  },
  {
   "cell_type": "markdown",
   "metadata": {},
   "source": [
    "Here we create a list `udpates` which stores three integer values:"
   ]
  },
  {
   "cell_type": "code",
   "execution_count": 11,
   "metadata": {
    "slideshow": {
     "slide_type": "fragment"
    }
   },
   "outputs": [],
   "source": [
    "# Define a list\n",
    "updates = [29, 2, 3]"
   ]
  },
  {
   "cell_type": "code",
   "execution_count": 12,
   "metadata": {
    "scrolled": true,
    "slideshow": {
     "slide_type": "fragment"
    }
   },
   "outputs": [
    {
     "name": "stdout",
     "output_type": "stream",
     "text": [
      "[29, 2, 3]\n"
     ]
    }
   ],
   "source": [
    "# Check the contents of the list\n",
    "print(updates)"
   ]
  },
  {
   "cell_type": "markdown",
   "metadata": {},
   "source": [
    "We can then mutate (change) an element of the list by assigning a new value to a specific indexed position in the list. \n",
    "\n",
    "Here, we assign the value '1' to the zeroth position in the list `updates`:"
   ]
  },
  {
   "cell_type": "code",
   "execution_count": 13,
   "metadata": {
    "slideshow": {
     "slide_type": "fragment"
    }
   },
   "outputs": [],
   "source": [
    "# Redefine a particular element of the list\n",
    "updates[0] = 1"
   ]
  },
  {
   "cell_type": "code",
   "execution_count": 14,
   "metadata": {
    "scrolled": true,
    "slideshow": {
     "slide_type": "fragment"
    }
   },
   "outputs": [
    {
     "name": "stdout",
     "output_type": "stream",
     "text": [
      "[1, 2, 3]\n"
     ]
    }
   ],
   "source": [
    "# Check the contents of the list\n",
    "print(updates)"
   ]
  },
  {
   "cell_type": "markdown",
   "metadata": {
    "slideshow": {
     "slide_type": "slide"
    }
   },
   "source": [
    "## Exercises\n",
    "\n",
    "Q1. **Which of the following specifies a list of 4 items?**\n",
    "\n",
    "A) `item_A = [0, 'string', 18]`  \n",
    "B) `item_B = (0, 'string', 18, 'name')`  \n",
    "C) `item_C = [0, 'string', 18, 'name']`  \n",
    "D) `item_D = (0, 'string', 18)`  \n",
    "E) `item_E = [1234]`  \n",
    "\n",
    "Q2. **What will be the output of the following piece of code:**\n",
    "\n",
    "```python\n",
    "q2_lst = ['a', 'b', 'c','d']\n",
    "q2_lst[-3:-1]\n",
    "```\n",
    "\n",
    "A) ['a', 'b', 'c']  \n",
    "B) ['c', 'b', 'a']  \n",
    "C) ['c', 'b']  \n",
    "D) ['b', 'c', 'd']  \n",
    "E) ['b', 'c']  \n",
    "\n",
    "Q3. **Given the following list, what would be the appropriate line of code to return `['butter', '&', 'jelly']`?**\n",
    "\n",
    "```python\n",
    "q3_lst = ['peanut', 'butter', '&','jelly']\n",
    "```\n",
    "\n",
    "A) `q3_lst[2:4]`  \n",
    "B) `q3_lst[1:3]`  \n",
    "C) `q3_lst[:-2]`  \n",
    "D) `q3_lst[-3:]`  \n",
    "E) `q3_lst[1:4:2]`  \n",
    "\n",
    "Q4. **Given the following list `practice_lst = [1, True, 'alpha', 13, 'cogs18']`, what would be returned from each of the following lines of code if executed?**\n",
    "\n",
    "\n",
    "```python\n",
    "13 in practice_lst\n",
    "False in practice_lst\n",
    "'True' in practice_lst\n",
    "'cogs' in practice_lst\n",
    "'cogs18' in practice_lst\n",
    "```\n",
    "\n",
    "Q5. **After executing the following lines of code, what will be the value of output?**\n",
    "\n",
    "```python\n",
    "ex2_lst = [0, False, 'ten', None]\n",
    "\n",
    "bool_1 = False in ex2_lst\n",
    "bool_2 = 10 not in ex2_lst\n",
    "\n",
    "output = bool_1 and bool_2\n",
    "```\n",
    "\n",
    "Q6. **What would the following two lines of code accomplish?**\n",
    "\n",
    "```python\n",
    "lst_update = [1, 2, 3, 0, 5]\n",
    "lst_update[3] = 4 \n",
    "```\n",
    "\n",
    "A) replace 0 with 4 in `lst_update`    \n",
    "B) replace 4 with 0 in `lst_update`  \n",
    "C) no change to `lst_update`  \n",
    "D) produces an error  \n",
    "\n",
    "Q7. **What will be the value of `counter` after this code is run?**\n",
    "\n",
    "```python\n",
    "things_that_are_good = ['python', 'data', 'science', 'tacos']\n",
    "\n",
    "counter = 0\n",
    "\n",
    "if 'python' in things_that_are_good:\n",
    "    counter = counter + 1\n",
    "\n",
    "if len(things_that_are_good) == 4:\n",
    "    counter = counter + 1\n",
    "    \n",
    "if things_that_are_good[2] == 'data':\n",
    "    counter = counter + 1 \n",
    "    \n",
    "print(counter)\n",
    "```"
   ]
  }
 ],
 "metadata": {
  "kernelspec": {
   "display_name": "Python 3",
   "language": "python",
   "name": "python3"
  },
  "language_info": {
   "codemirror_mode": {
    "name": "ipython",
    "version": 3
   },
   "file_extension": ".py",
   "mimetype": "text/x-python",
   "name": "python",
   "nbconvert_exporter": "python",
   "pygments_lexer": "ipython3",
   "version": "3.7.0"
  }
 },
 "nbformat": 4,
 "nbformat_minor": 2
}
