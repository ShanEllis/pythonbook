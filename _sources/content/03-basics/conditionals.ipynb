{
 "cells": [
  {
   "cell_type": "markdown",
   "metadata": {
    "slideshow": {
     "slide_type": "slide"
    }
   },
   "source": [
    "# Conditionals \n",
    "\n",
    "Conditionals are a code structure that help you control whether a certain line of code executes. We'll discuss three ways in which you can control code execution: `if`, `elif` (which stands for 'else if'), and `else`."
   ]
  },
  {
   "cell_type": "markdown",
   "metadata": {
    "slideshow": {
     "slide_type": "slide"
    }
   },
   "source": [
    "##  `if` statements\n",
    "\n",
    "Conditional statements begin with an `if` statement. They can optionall have `elif` and `else`, which we'll get to in just a second, but they *must* have an `if` statement and that `if` statement must come first. The code within an `if` statement will execute if the condition following `if` evaluates as True."
   ]
  },
  {
   "cell_type": "markdown",
   "metadata": {
    "slideshow": {
     "slide_type": "fragment"
    }
   },
   "source": [
    "<div class=\"alert alert-success\">\n",
    "Conditionals are statements that check for a condition, using the <code>if</code> statement, and then only execute a set of code if the condition evaluates as <code>True</code>.\n",
    "</div>"
   ]
  },
  {
   "cell_type": "markdown",
   "metadata": {},
   "source": [
    "The general syntax for a conditional `if` statments requires an `if` followed by a condition and a `:`. Subsequent lines that you want to execute if the condition are true go on indented lines beneath the `if` conditional statement:\n",
    "\n",
    "```python\n",
    "if condition:\n",
    "    # execute this code\n",
    "```"
   ]
  },
  {
   "cell_type": "markdown",
   "metadata": {},
   "source": [
    "For example, if we define `condition` to store the boolean `True`, the conditional `if` statement, will then execute the `print()` statement within the condition."
   ]
  },
  {
   "cell_type": "code",
   "execution_count": 4,
   "metadata": {
    "slideshow": {
     "slide_type": "slide"
    }
   },
   "outputs": [
    {
     "name": "stdout",
     "output_type": "stream",
     "text": [
      "This code executes if the condition evaluates as True.\n"
     ]
    }
   ],
   "source": [
    "condition = True\n",
    "\n",
    "if condition:\n",
    "    print('This code executes if the condition evaluates as True.')"
   ]
  },
  {
   "cell_type": "markdown",
   "metadata": {},
   "source": [
    "Note that if condition were to store the Boolean `False`, this conditional statement would produce no output, as the conditional `if` statement did *not* evaluate as True. The code within the conditional is _only_ executed if the condition evaluates as `True`."
   ]
  },
  {
   "cell_type": "code",
   "execution_count": 4,
   "metadata": {},
   "outputs": [],
   "source": [
    "condition = False\n",
    "\n",
    "if condition:\n",
    "    print('This code executes if the condition evaluates as True.')"
   ]
  },
  {
   "cell_type": "markdown",
   "metadata": {
    "slideshow": {
     "slide_type": "slide"
    }
   },
   "source": [
    "## `else` statements\n",
    "\n",
    "After an `if` statement you can add an optional `else` statement. The code within this conditional will execute if the `if` conditional statement did *not* evaluate as `True`."
   ]
  },
  {
   "cell_type": "markdown",
   "metadata": {
    "slideshow": {
     "slide_type": "fragment"
    }
   },
   "source": [
    "<div class=\"alert alert-success\">\n",
    "After an <code>if</code>, you can use an <code>else</code> that will run if the conditional(s) above have not run.\n",
    "</div>"
   ]
  },
  {
   "cell_type": "markdown",
   "metadata": {},
   "source": [
    "For example, below we see that condition is defined as `False`. Therefore, the `if` condtional statement evaluates as False. The code within the `if` conditional is ignored, moving onto the `else` statement. The code within that statement is evaluated, printing the code within the `else` statement."
   ]
  },
  {
   "cell_type": "code",
   "execution_count": 11,
   "metadata": {
    "slideshow": {
     "slide_type": "fragment"
    }
   },
   "outputs": [
    {
     "name": "stdout",
     "output_type": "stream",
     "text": [
      "This code executes if the condition evaluates as False\n"
     ]
    }
   ],
   "source": [
    "condition = False\n",
    "\n",
    "if condition:\n",
    "    print('This code executes if the condition evaluates as True.')\n",
    "else: \n",
    "    print('This code executes if the condition evaluates as False')"
   ]
  },
  {
   "cell_type": "markdown",
   "metadata": {},
   "source": [
    "Note that the syntax for both the `if` and the `else` statements require a colon at the end of the line and the lines of code within the `if` or `else` statement to be indented. Python requires this because visually makes it clear to readers of your code which lines of code will be executed under which conditions.\n",
    "\n",
    "Futher, it's important to note that only one condition can be met, so either the code for the `if` statement *or* the code for the `else` statement will execute, but not both."
   ]
  },
  {
   "cell_type": "markdown",
   "metadata": {
    "slideshow": {
     "slide_type": "slide"
    }
   },
   "source": [
    "## `elif` statements\n",
    "\n",
    "The final type of conditional statement is the `elif` statement. These too are optional, and are read as \"else if\". After an `if` statment, an `elif` statement can be used to check additional conditions. As with `if` statements, the code within an `elif` statement will only execute if the condition specified evaluates as `True`."
   ]
  },
  {
   "cell_type": "markdown",
   "metadata": {
    "slideshow": {
     "slide_type": "fragment"
    }
   },
   "source": [
    "<div class=\"alert alert-success\">\n",
    "After an <code>if</code> statement, you can have any number of <code>elif</code>`s (meaning 'else if') to check other conditions.\n",
    "</div>"
   ]
  },
  {
   "cell_type": "markdown",
   "metadata": {},
   "source": [
    "Here, we have two variables `condition_1` storing `False` and `condition_2` storing `True`. We then see an `if`, `elif` and `else` statement. As before, the code for only one of these conditions will execute. If the `if` condition evaluates as `True`, the code within that statement will execute. Else, if (`elif`) the condition in the `elif` statement evaluates as `True`, the code within the `elif` statement will execute. Finally, if neither the `if` or `elif` evaluate as `True`, the code within the `else` statment will execute.\n",
    "\n",
    "As before, the syntax requires colons after each `if`, `elif`, and `else` statement and indentation for the lines of code within each statement."
   ]
  },
  {
   "cell_type": "code",
   "execution_count": 20,
   "metadata": {
    "scrolled": true,
    "slideshow": {
     "slide_type": "slide"
    }
   },
   "outputs": [
    {
     "name": "stdout",
     "output_type": "stream",
     "text": [
      "This code executes if condition_1 did not evaluate as True, but condition_2 does.\n"
     ]
    }
   ],
   "source": [
    "condition_1 = False\n",
    "condition_2 = True\n",
    "\n",
    "if condition_1:\n",
    "    print('This code executes if condition_1 evaluates as True.')\n",
    "elif condition_2:\n",
    "    print('This code executes if condition_1 did not evaluate as True, but condition_2 does.')\n",
    "else: \n",
    "    print('This code executes if both condition_1 and condition_2 evaluate as False')"
   ]
  },
  {
   "cell_type": "markdown",
   "metadata": {},
   "source": [
    "In the example above, as `condition_1` is `False`, the code beneath the `if` statement does not execute. However, the `elif` condition (`condition_2`) evaluates as `True`, printing the string within the `elif` statement. "
   ]
  },
  {
   "cell_type": "markdown",
   "metadata": {
    "slideshow": {
     "slide_type": "slide"
    }
   },
   "source": [
    "### `elif` without an `else`\n",
    "\n",
    "An `else` statement is *not* required, but if both the `if` and the `elif` condtions are not met (both evaluate as `False`), then nothing is returned.\n",
    "\n",
    "For example below both conditions evaluate as `False` and thus the code passes silently, returning nothing."
   ]
  },
  {
   "cell_type": "code",
   "execution_count": 27,
   "metadata": {
    "slideshow": {
     "slide_type": "fragment"
    }
   },
   "outputs": [],
   "source": [
    "condition_1 = False\n",
    "condition_2 = False\n",
    "\n",
    "if condition_1:\n",
    "    print('This code executes if condition_1 evaluates as True.')\n",
    "elif condition_2:\n",
    "    print('This code executes if condition_1 did not evaluate as True, but condition_2 does.')"
   ]
  },
  {
   "cell_type": "markdown",
   "metadata": {
    "slideshow": {
     "slide_type": "slide"
    }
   },
   "source": [
    "### `elif` *after* an `else` does not make sense\n",
    "\n",
    "Finally, the order will always be `if`-`elif`-`else`...with only the `if` being required. If the `elif` is at the end...it will never be tested, as the `else` will have already returned a value once reached (and thus Python will throw an error)."
   ]
  },
  {
   "cell_type": "code",
   "execution_count": 5,
   "metadata": {
    "slideshow": {
     "slide_type": "fragment"
    }
   },
   "outputs": [
    {
     "ename": "SyntaxError",
     "evalue": "invalid syntax (<ipython-input-5-aedfc0cec5db>, line 9)",
     "output_type": "error",
     "traceback": [
      "\u001b[0;36m  File \u001b[0;32m\"<ipython-input-5-aedfc0cec5db>\"\u001b[0;36m, line \u001b[0;32m9\u001b[0m\n\u001b[0;31m    elif condition_2:\u001b[0m\n\u001b[0m       ^\u001b[0m\n\u001b[0;31mSyntaxError\u001b[0m\u001b[0;31m:\u001b[0m invalid syntax\n"
     ]
    }
   ],
   "source": [
    "## THIS CODE WILL PRODUCE AN ERROR\n",
    "condition_1 = False\n",
    "condition_2 = False\n",
    "\n",
    "if condition_1:\n",
    "    print('This code executes if condition_1 evaluates as True.')\n",
    "else: \n",
    "    print('This code executes if both condition_1 and condition_2 evaluate as False')\n",
    "elif condition_2:\n",
    "    print('This code executes if condition_1 did not evaluate as True, but condition_2 does.')"
   ]
  },
  {
   "cell_type": "markdown",
   "metadata": {},
   "source": [
    "In the example above, there is an `elif` at the end. By definition, there is no way the `elif` will ever be tested. Accordingly, Python indicates that there is a `SyntaxError`."
   ]
  },
  {
   "cell_type": "markdown",
   "metadata": {
    "slideshow": {
     "slide_type": "slide"
    }
   },
   "source": [
    "## Conditionals With Value Comparisons\n",
    "\n",
    "Beyond providing Booleans directly, conditionals can be used with any expression that evaluates as a Boolean. The operators discussed in an earlier chapter can be used in your conditional statements."
   ]
  },
  {
   "cell_type": "markdown",
   "metadata": {
    "slideshow": {
     "slide_type": "fragment"
    }
   },
   "source": [
    "<div class=\"alert alert-success\">\n",
    "Any expression that can be evaluated as a boolean, such as value comparisons, can be used with conditionals.\n",
    "</div>"
   ]
  },
  {
   "cell_type": "markdown",
   "metadata": {},
   "source": [
    "For example, below the condition `language == \"Python\"` evaluates as `True` because the string \"Python\" has been declared in the variable `language`. Thus, the code prints \"Yay!\""
   ]
  },
  {
   "cell_type": "code",
   "execution_count": 6,
   "metadata": {
    "slideshow": {
     "slide_type": "slide"
    }
   },
   "outputs": [
    {
     "name": "stdout",
     "output_type": "stream",
     "text": [
      "Yay!\n"
     ]
    }
   ],
   "source": [
    "language = \"Python\"\n",
    "\n",
    "if language == \"Python\":\n",
    "    print(\"Yay!\")\n",
    "elif language == \"English\":\n",
    "    print(\"Not a programming language.\")\n",
    "else:\n",
    "    print(\"Get yourself a programming language!\")"
   ]
  },
  {
   "cell_type": "markdown",
   "metadata": {},
   "source": [
    "Beyond testing for variable equality, mathematical operators can be very helpful when working with condtionals. For example, you can have different code execute depending upon the value stored in a variable.\n",
    "\n",
    "Here we have an example where `number` stores the integer 4. The conditional tests whether the value stored in `number` is less than 5. As 4 is less than 5, the code within the `if` statement executes, printing 'if statement execution'."
   ]
  },
  {
   "cell_type": "code",
   "execution_count": 8,
   "metadata": {
    "slideshow": {
     "slide_type": "slide"
    }
   },
   "outputs": [
    {
     "name": "stdout",
     "output_type": "stream",
     "text": [
      "if statement execution\n"
     ]
    }
   ],
   "source": [
    "number = 4\n",
    " \n",
    "if number < 5:\n",
    "    print('if statement execution')\n",
    "elif number > 5:\n",
    "    print('elif statement execution')\n"
   ]
  },
  {
   "cell_type": "markdown",
   "metadata": {
    "collapsed": true,
    "jupyter": {
     "outputs_hidden": true
    },
    "slideshow": {
     "slide_type": "slide"
    }
   },
   "source": [
    "## Summary\n",
    "\n",
    "To finish here, we'll summarize a number of the key points in this chapter:\n",
    "\n",
    "- All conditionals start with an `if`, can have an optional and variable number of `elif`'s and an optional `else` statement\n",
    "- Conditionals can take any expression that can be evaluated as `True` or `False`. \n",
    "- At most one component (`if` / `elif` / `else`) of a conditional will run\n",
    "- The order of conditional blocks is always `if` then `elif`(s) then `else`\n",
    "- Code is only ever executed if the condition is met"
   ]
  },
  {
   "cell_type": "markdown",
   "metadata": {
    "slideshow": {
     "slide_type": "slide"
    }
   },
   "source": [
    "## Exercises\n",
    "\n",
    "Q1. **Replace `---` below with something that will print 'True'**\n",
    "\n",
    "```python\n",
    "math = ---\n",
    "\n",
    "if math:\n",
    "    print('True')\n",
    "```\n",
    "\n",
    "Q2. **Replace `---` below with something that will print 'False'.**\n",
    "\n",
    "```python\n",
    "my_value = ---\n",
    "\n",
    "if my_value:\n",
    "    print('True')\n",
    "else: \n",
    "    print('False')\n",
    "```\n",
    "\n",
    "Q3. **What will the following code snippet print out?**\n",
    "\n",
    "```python\n",
    "if False:\n",
    "    print(\"John\")\n",
    "elif True:\n",
    "    print(\"Paul\")\n",
    "elif True:\n",
    "    print(\"George\")\n",
    "else:\n",
    "    print(\"Ringo\")\n",
    "```\n",
    "\n",
    "A) John  \n",
    "B) Paul, George, Ringo  \n",
    "C) Paul  \n",
    "D) Paul, George  \n",
    "E) Ringo \n",
    "\n",
    "Q4. **What will the following code snippet print out?**\n",
    "\n",
    "```python\n",
    "if 1 + 1 == 2:\n",
    "    print(\"I did Math\")\n",
    "elif 1/0:\n",
    "    print(\"I broke Math\")\n",
    "else:\n",
    "    print(\"I didn't do math\")\n",
    "```\n",
    "\n",
    "A) I did Math   \n",
    "B) I broke Math  \n",
    "C) I didn't do math  \n",
    "D) This code won't execute. \n",
    "\n",
    "Q5. **What will the following code snippet print out?**\n",
    "\n",
    "```python\n",
    "conditional = False\n",
    "python = \"great\"\n",
    "\n",
    "if conditional:\n",
    "    if python == \"great\":\n",
    "        print(\"Yay Python!\")\n",
    "    else:\n",
    "        print(\"Oh no.\")\n",
    "else:\n",
    "    print(\"I'm here.\")\n",
    "```\n",
    "\n",
    "A) Yay Python!  \n",
    "B) Oh no.  \n",
    "C) I'm here.  \n",
    "D) This code won't execute.  \n",
    "\n",
    "Q6. **What would be the output of running the following code?**\n",
    "\n",
    "```python\n",
    "condition = 5 < 7\n",
    "\n",
    "if condition: \n",
    "    print('SO GOOD!')\n",
    "else:\n",
    "    print('NOT SO GOOD.')\n",
    "```\n",
    "\n",
    "A) SO GOOD!  \n",
    "B) NOT SO GOOD.  \n",
    "C) True  \n",
    "D) False  \n",
    "E) SyntaxError  "
   ]
  }
 ],
 "metadata": {
  "kernelspec": {
   "display_name": "Python 3 (ipykernel)",
   "language": "python",
   "name": "python3"
  },
  "language_info": {
   "codemirror_mode": {
    "name": "ipython",
    "version": 3
   },
   "file_extension": ".py",
   "mimetype": "text/x-python",
   "name": "python",
   "nbconvert_exporter": "python",
   "pygments_lexer": "ipython3",
   "version": "3.11.8"
  },
  "rise": {
   "scroll": true
  }
 },
 "nbformat": 4,
 "nbformat_minor": 4
}
