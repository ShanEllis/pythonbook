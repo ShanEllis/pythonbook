{
 "cells": [
  {
   "cell_type": "markdown",
   "id": "128a1ae5",
   "metadata": {},
   "source": [
    "# Practice: Classes\n",
    "\n",
    "In this set of practice problems, it's all about classes, really putting together everything discussed up to this point, including how to create our own classes of objects, with their own associated attributes and methods.\n",
    "\n",
    "As for all practice sections, each question will include a handful of `assert` statements. After you write and execute the code to each question, each `assert` should \"pass silently\" (meaning: should give no output upon execution) indicating that you are on the right track. After you've written your code and run the `assert`s, you can always check your answers, as the answers to these questions are included in the \"Answers\" chapter of this book."
   ]
  },
  {
   "cell_type": "markdown",
   "id": "5aeaac6a",
   "metadata": {},
   "source": [
    "## Objects"
   ]
  },
  {
   "cell_type": "markdown",
   "id": "caa71c7a",
   "metadata": {},
   "source": [
    "**Objects Q1**. `isalnum()` is a string method that determines if all the characters in a string are alphanumeric (meaning letters or numbers: A-Z, a-z, 0-9).\n",
    "\n",
    "Use the `isalnum()` method on two strings (of your choosing) below to create two variables:\n",
    "- `true_var` | should store the value `True`\n",
    "- `false_var` | should store the value `False`\n",
    "\n",
    "Checks you can use to see if you're on the right track:"
   ]
  },
  {
   "cell_type": "code",
   "execution_count": null,
   "id": "9a61b32c",
   "metadata": {},
   "outputs": [],
   "source": [
    "assert true_var\n",
    "assert not false_var"
   ]
  },
  {
   "cell_type": "markdown",
   "id": "b3aed216",
   "metadata": {},
   "source": [
    "**Objects Q2**. Here, `site_days` and `days_of_week` have been provided for you. \n",
    "- `site_days`: is a (totally made up) list of days on which people received their vaccinations\n",
    "- `days_of_week`: a tuple containing the days of the week\n",
    "\n",
    "Note: `count()` is a list method that counts the number of appearances of a specified element in a list.\n",
    "\n",
    "Using the `count()` method, code constructs discussed in class, and referencing the two variables provided, generate a dictionary:\n",
    " - `days_summary`  | whose keys are each of the days of the week in `days_of_week` and whose corresponding values are the number of times each day shows up in `site_days`.\n",
    " \n",
    "Variables provided:\n",
    "```python\n",
    "site_days = ['M', 'M', 'M', 'M']\n",
    "days_of_week = ('M', 'Tu', 'W', 'Th', 'F', 'Sa', 'Su')\n",
    "```"
   ]
  },
  {
   "cell_type": "code",
   "execution_count": null,
   "id": "d22a7c34",
   "metadata": {},
   "outputs": [],
   "source": [
    "assert list(days_summary.keys()) == ['M', 'Tu', 'W', 'Th',\n",
    "                                     'F', 'Sa', 'Su']\n",
    "assert list(days_summary.values()) == [4, 0, 0, 0, 0, 0, 0]"
   ]
  },
  {
   "cell_type": "markdown",
   "id": "059a2e5e",
   "metadata": {},
   "source": [
    "**Objects Q3**. Here, import the `random` module so that you can use the `choice` function from the module. (Note: the `choice` function from the `random` module returns a single value from a collection at random.)\n",
    "\n",
    "Use the `choice` function from the `random` module to randomly choose a value from `range(0,10)`.\n",
    "\n",
    "Store the output from this operation in the variable `rand_int`.\n",
    "\n",
    "Checks you can use to see if you're on the right track:"
   ]
  },
  {
   "cell_type": "code",
   "execution_count": null,
   "id": "d0321af8",
   "metadata": {},
   "outputs": [],
   "source": [
    "assert isinstance(rand_int, int)\n",
    "assert rand_int in range(0,10)"
   ]
  },
  {
   "cell_type": "markdown",
   "id": "2b5bc037",
   "metadata": {},
   "source": [
    "## Classes"
   ]
  },
  {
   "cell_type": "markdown",
   "id": "057d257b",
   "metadata": {},
   "source": [
    "**Classes Q1**. Define a class `ClassRoster()` that meets the following specifications:\n",
    "\n",
    "- has two instance attributes:\n",
    "    - `students`; initialized as an empty list\n",
    "    - `course`; which the user specifies when creating a `ClassRoster()` object\n",
    "- a single method `add_student()`, which will have `pid` and `name` as arguments, and will add these two inputs as a dictionary with `pid` as the key and the student's `name` as the value to the `students` list each time the method is called\n",
    "\n",
    "Checks you can use to see if you're on the right track:"
   ]
  },
  {
   "cell_type": "code",
   "execution_count": null,
   "id": "520be2b6",
   "metadata": {},
   "outputs": [],
   "source": [
    "assert my_course.course == 'COGS 18'\n",
    "assert my_course.students == []\n",
    "\n",
    "my_course.add_student(pid='A12345', name='Shannon')\n",
    "my_course.add_student(pid='A56789', name='Josh')\n",
    "\n",
    "assert my_course.students == [{'A12345':'Shannon'}, {'A56789': 'Josh'}]"
   ]
  },
  {
   "cell_type": "markdown",
   "id": "6c5eea3a",
   "metadata": {},
   "source": [
    "**Classes Q2**. Define a class `ToDo()` to keep track of your to do list.\n",
    "\n",
    "This should have a single instance attribute: `to_do`, which is initialized as an empty list.\n",
    "\n",
    "It will then have two methods: `add_item` and `remove_item`.\n",
    "\n",
    "`add_item()`:\n",
    "- will have two parameters `item`, and `top` (`top` takes the default value `True`)\n",
    "- if `top` is `True`:\n",
    "    the string in `item` will be added to the top of `to_do`:\n",
    "- if `top` is not true:\n",
    "    the string it `item` will be added to the end of `to_do`\n",
    "\n",
    "`remove_item()`:\n",
    "- will have a single parameter `item`\n",
    "- will remove the item specified from `to_do`\n",
    "\n",
    "Note: there is a list method `insert()`, which operates in place to add a value to a list at the index specified with the general syntax `my_list.insert(index, item_to_add)`.\n",
    "\n",
    "Checks you can use to see if you're on the right track:"
   ]
  },
  {
   "cell_type": "code",
   "execution_count": null,
   "id": "485d2c7b",
   "metadata": {},
   "outputs": [],
   "source": [
    "my_todo_list = ToDo()\n",
    "assert my_todo_list.to_do == []\n",
    "\n",
    "my_todo_list.add_item('A')\n",
    "my_todo_list.add_item('B')\n",
    "assert my_todo_list.to_do == ['B','A']\n",
    "\n",
    "my_todo_list.add_item('C', top=False)\n",
    "assert my_todo_list.to_do == ['B','A', 'C']\n",
    "\n",
    "my_todo_list.remove_item('A')\n",
    "assert my_todo_list.to_do == ['B', 'C']"
   ]
  },
  {
   "cell_type": "markdown",
   "id": "71eeb1bd",
   "metadata": {},
   "source": [
    "**Classes Q3**. For this question, let's create a class to celebrate the Lunar New Year!\n",
    "\n",
    "Here, define a class `NewYear()`.\n",
    "\n",
    "This class should have:\n",
    "\n",
    "- **one class attribute**: `zodiac_signs` that stores the dictionary `zodiac_signs` specified below. This dictionary contains the zodiac sign as the key and the birth years that correspond to that sign.\n",
    "- **one instance attribute**:  `year` that takes the birth `year` as input from the user upon creation of a `NewYear` type object.\n",
    "\n",
    "This class will also have a method `return_sign()`. This method should `return` (*not* just `print`) a string, similar to:\n",
    "\n",
    "```\n",
    "'You were born in the year of the Dragon!' \n",
    "```\n",
    "\n",
    "...where 'Dragon' corresponds to the key from the `zodiac_signs` corresponding to the value stored in the `year` attribute. (Be sure captitalization and punctuation match the string specified here. The only thing that should change is the last word in the string.)\n",
    "\n",
    "For example `NewYear(year=2021).return_sign()` should return 'You were born in the year of the Ox!', since 2021 is a value in the `zodiac_signs` dictionary for the key 'Ox'. \n",
    "\n",
    "Variable provided:\n",
    "```python\n",
    "zodiac_signs = {\n",
    "    'Ox' : [1937, 1949, 1961, 1973, 1985, 1997, 2009, 2021],\n",
    "    'Tiger' : [1938, 1950, 1962, 1974, 1986, 1998, 2010, 2022], \n",
    "    'Rabbit' : [1939, 1951, 1963, 1975, 1987, 1999, 2011, 2023], \n",
    "    'Dragon' : [1940, 1952, 1964, 1976, 1988, 2000, 2012, 2024], \n",
    "    'Snake' : [1941, 1953, 1965, 1977, 1989, 2001, 2013, 2025], \n",
    "    'Horse' : [1942, 1954, 1966, 1978, 1990, 2002, 2014, 2026], \n",
    "    'Goat/Sheep' : [1943, 1955, 1967, 1979, 1991, 2003, 2015, 2027], \n",
    "    'Monkey' : [1944, 1956, 1968, 1980, 1992, 2004, 2016, 2028], \n",
    "    'Rooster' : [1945, 1957, 1969, 1981, 1993, 2005, 2017, 2029], \n",
    "    'Dog' : [1946, 1958, 1970, 1982, 1994, 2006, 2018, 2030], \n",
    "    'Pig' : [1947, 1959, 1971, 1983, 1995, 2007, 2019, 2031], \n",
    "    'Rat' : [1936, 1948, 1960, 1972, 1984, 1996, 2008, 2020]\n",
    "} \n",
    "```\n",
    "\n",
    "Checks you can use to see if you're on the right track:"
   ]
  },
  {
   "cell_type": "code",
   "execution_count": null,
   "id": "7aae7794",
   "metadata": {},
   "outputs": [],
   "source": [
    "dragon = NewYear(1988)\n",
    "assert isinstance(dragon, NewYear)\n",
    "assert dragon.year ==  1988\n",
    "assert dragon.return_sign() == 'You were born in the year of the Dragon!'\n",
    "assert isinstance(dragon.zodiac_signs, dict)\n",
    "assert 'Ox' in dragon.zodiac_signs.keys()"
   ]
  },
  {
   "cell_type": "markdown",
   "id": "ef7e1d89",
   "metadata": {},
   "source": [
    "**Classes Q4**. \n",
    "\n",
    "Part I.\n",
    "\n",
    "For this question, imagine you want to create a video game with a handful of characters. You want this game to have a royal kingdom theme.\n",
    "\n",
    "Here, define a class `Kingdom()`.\n",
    "\n",
    "This class should have two instance attributes: `name` and `title`, which will be strings specifying the name and title of the character (in that order).\n",
    "\n",
    "This class will also have a method `introduce()`. This method should `return` (*not* just `print`) a string, similar to:\n",
    "\n",
    "```\n",
    "'Hello, my name is Ferdinand, and I am a King.' \n",
    "```\n",
    "\n",
    "...where 'Ferdinand' corresponds to whatever is stored in `Kingdom()` object's `name` attribute is and 'King' corresponds to whatever is stored in the `Kingdom()` object's `title` attribute.\n",
    "\n",
    "Checks you can use to see if you're on the right track:"
   ]
  },
  {
   "cell_type": "code",
   "execution_count": null,
   "id": "7afced89",
   "metadata": {},
   "outputs": [],
   "source": [
    "queen = Kingdom('Elizabeth', 'Queen')\n",
    "assert isinstance(queen, Kingdom)\n",
    "assert queen.name == 'Elizabeth'\n",
    "assert queen.title == 'Queen'\n",
    "\n",
    "assert callable(queen.introduce)\n",
    "assert isinstance(queen.introduce(), str)"
   ]
  },
  {
   "cell_type": "markdown",
   "id": "5a3fe2cb",
   "metadata": {},
   "source": [
    "Part II.\n",
    "\n",
    "Generate a class called `CourtJester()`.\n",
    "\n",
    "This object should inherit all attributes and methods from `Kingdom()`.\n",
    "\n",
    "Additionally, the `CourtJester()` object should have:\n",
    "- a class attribute `headwear`, storing the value `'fool's cap'`\n",
    "- a method `tell_a_joke()` that should `return` a joke at random from the list provided below\n",
    "\n",
    "(Note: You'll likely want to import from the `random` module here. Use of a function from that module will likely be helpful in `tell_a_joke()`.)\n",
    "\n",
    "Variable provided:\n",
    "```python\n",
    "joke_list = ['A clown held the door open for me yesterday. I thought it was a nice jester',\n",
    " 'How does the court jester address the King of Ducks? Mal’Lard',\n",
    " 'What did the court jester call the balding crown prince? The Heir Apparent with no Hair Apparent',\n",
    " 'What do you call a joke made by using sign language? A jester']\n",
    "```\n",
    "\n",
    "Checks you can use to see if you're on the right track:"
   ]
  },
  {
   "cell_type": "code",
   "execution_count": null,
   "id": "a1addfde",
   "metadata": {},
   "outputs": [],
   "source": [
    "jester = CourtJester('Barney', 'Jester')\n",
    "assert jester.headwear == \"fool's cap\"\n",
    "assert jester.name == 'Barney'\n",
    "assert jester.title == 'Jester'\n",
    "\n",
    "joke_list = ['A clown held the door open for me yesterday. I thought it was a nice jester',\n",
    "'How does the court jester address the King of Ducks? Mal’Lard',\n",
    " 'What did the court jester call the balding crown prince? The Heir Apparent with no Hair Apparent',\n",
    " 'What do you call a joke made by using sign language? A jester']\n",
    "assert jester.tell_a_joke() in joke_list"
   ]
  },
  {
   "cell_type": "markdown",
   "id": "79eb36f1",
   "metadata": {},
   "source": [
    "**Classes Q5**. Generate a class called `StudentInfo`.\n",
    "\n",
    "This class should have four *instance attributes*: `name`, `year`, `school`, and `proj_grade`. \n",
    "\n",
    "This class must also have a single method: `follow_up`. This method should determine if `proj_grade` is 65 or below. If `proj_grade` is 65 or below, the method should return the name of the student as the key and their proj_grade as the value in a dictionary. (If the student has a grade above 65, this method should return an empty dictionary.)\n",
    "\n",
    "Checks you can use to see if you're on the right track:"
   ]
  },
  {
   "cell_type": "code",
   "execution_count": null,
   "id": "c8ca89de",
   "metadata": {},
   "outputs": [],
   "source": [
    "student1 = StudentInfo(name='Shannon', year='sophomore', school='UCSD', proj_grade=63)\n",
    "student2 = StudentInfo(name='Josh', year='senior', school='UCSD', proj_grade=88)\n",
    "\n",
    "# test attributes\n",
    "assert student1.name == 'Shannon'\n",
    "assert student1.school == 'UCSD'\n",
    "assert student2.year == 'senior'\n",
    "assert student2.proj_grade == 88\n",
    "\n",
    "assert student1.follow_up() == {'Shannon': 63}\n",
    "assert student2.follow_up() == {}"
   ]
  }
 ],
 "metadata": {
  "kernelspec": {
   "display_name": "Python 3",
   "language": "python",
   "name": "python3"
  },
  "language_info": {
   "codemirror_mode": {
    "name": "ipython",
    "version": 3
   },
   "file_extension": ".py",
   "mimetype": "text/x-python",
   "name": "python",
   "nbconvert_exporter": "python",
   "pygments_lexer": "ipython3",
   "version": "3.7.7"
  }
 },
 "nbformat": 4,
 "nbformat_minor": 5
}
