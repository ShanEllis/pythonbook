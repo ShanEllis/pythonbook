{
 "cells": [
  {
   "cell_type": "markdown",
   "metadata": {
    "slideshow": {
     "slide_type": "slide"
    }
   },
   "source": [
    "When programming in Python, you'll become very comfortable with creating variables. This is because *everything* in Python is implemented as an **object**. This means that whether you're working wither numbers, words, or booleans (we'll talk about these soon!, you're working with object.s These objects are stored in what we call **variables**.\n",
    "\n",
    "In this chapter, we'll introduce how to define variables, a few different *types* of variables, and get you working with variables in Python. "
   ]
  },
  {
   "cell_type": "markdown",
   "metadata": {
    "slideshow": {
     "slide_type": "subslide"
    }
   },
   "source": [
    "## Defining Variables\n",
    "\n",
    "Variables are defined with a single equals sign (`=`). When variables are defined, we say that they are **assigned**. This is because, the information you want the variable to store (the information to the right of the `=`) is *assigned* to the variable (the thing on the left). This will always be true in Python - the variable will be to the left of the `=` and the information you want it to store on the right.\n",
    "\n",
    "You can think of variables like a container. Containers store things, the same way variables store information. The label on the container is similar to the *name* of the variable. For example, let's define our first variable!"
   ]
  },
  {
   "cell_type": "markdown",
   "metadata": {
    "slideshow": {
     "slide_type": "fragment"
    }
   },
   "source": [
    "<div class=\"alert alert-success\">\n",
    "In programming, variables are things that store values. <b>Variables</b> are defined with <code>name = value</code>.\n",
    "</div>"
   ]
  },
  {
   "cell_type": "code",
   "execution_count": 8,
   "metadata": {
    "slideshow": {
     "slide_type": "fragment"
    }
   },
   "outputs": [],
   "source": [
    "# define the variable 'var_1'\n",
    "var_1 = 6"
   ]
  },
  {
   "cell_type": "markdown",
   "metadata": {},
   "source": [
    "With our container analogy, the variable `var_1` is the container. Like containers, variables store some information. The information stored in `var_1` is, in this case, the number 6. So, the name of the variable is `var_1` and the information assigned to it (or stored in it) is the number 6. You can store lots of different *types* of inrormation in variables. We'll discuss a few of them in this chapter and introduce even more later.\n",
    "\n",
    "For example, variables can store words or letters, as you see here:"
   ]
  },
  {
   "cell_type": "code",
   "execution_count": 9,
   "metadata": {
    "slideshow": {
     "slide_type": "fragment"
    }
   },
   "outputs": [],
   "source": [
    "# define the variable 'var_2'\n",
    "var_2 = 'string'"
   ]
  },
  {
   "cell_type": "markdown",
   "metadata": {},
   "source": [
    "This second variable - `var2` - has a different name than our first variable and stores different information. Here, it stores the word 'string'. We'll get to the different *types* of variables in just a second."
   ]
  },
  {
   "cell_type": "markdown",
   "metadata": {
    "slideshow": {
     "slide_type": "slide"
    }
   },
   "source": [
    "## Code Variables != Math Variables\n",
    "\n",
    "An important point to discuss is that many people are familiar with the word **variable** from mathematics. However, variables in *code* are not the same thing as variables in math.\n",
    "\n",
    "For example, in mathematics `=` refers to equality. It's a *statement of truth*. It states that whatever is to the left of the `=` is equal to whatever is to the right of the `=`.\n",
    "\n",
    "This is not the case when it comes to code. Instead, `=` refers to assignment. It states that whatever is to the right of the `=` should be assigned - *or stored in* the variable to the left."
   ]
  },
  {
   "cell_type": "markdown",
   "metadata": {
    "slideshow": {
     "slide_type": "slide"
    }
   },
   "source": [
    "For example, when it comes to mathematics and algebra, we're familiar with the concept of solving for x. If you were asked 'What is $x$?' and given the expression $y = x + 2$, you would subtract 2 from the right side so that $x = y -2$. The same logic does *not* follow in programming."
   ]
  },
  {
   "cell_type": "markdown",
   "metadata": {
    "slideshow": {
     "slide_type": "fragment"
    }
   },
   "source": [
    "For example, if you were asked 'What is `x`?' and given the following two lines of code:\n",
    "\n",
    "```python\n",
    "x = 2\n",
    "x = x + 1\n",
    "```\n",
    "\n",
    "you would tell me that `x` is 1 more than its previous value of 2, so `x = 3`.\n",
    "\n",
    "That line of code there: `x = x + 1` wouldn't make sense in mathematics, but it makes perfect sense in code. This is because code variables use `=` for assignment, and not as a statement of truth and equality."
   ]
  },
  {
   "cell_type": "markdown",
   "metadata": {
    "slideshow": {
     "slide_type": "slide"
    }
   },
   "source": [
    "### Reminders\n",
    "\n",
    "- In programming `=` means assignment\n",
    "- Anything to the right of the `=` is evaluated before assignment\n",
    "- Names are always on the left of the `=`, values are always on the right"
   ]
  },
  {
   "cell_type": "markdown",
   "metadata": {
    "slideshow": {
     "slide_type": "slide"
    }
   },
   "source": [
    "## Naming Variables\n",
    "\n",
    "So far, we've only defined a few variables, and we haven't yet specified the *rules* for variable assignment. There are a whole bunch of options for how you name your variables and only a few rules.\n",
    "\n",
    "The rules are:\n",
    "1. Names are case sensitive\n",
    "2. Variables must start with letters\n",
    "    - After that, they can include numbers, and underscores\n",
    "    - They cannot include special characters (like &, *, #, etc)\n",
    "3. Python doesn't care what you name your variables\n",
    "    - Humans do care. Pick names that describe the data / value that they store\n",
    "    \n",
    "### Names are case-sensitive\n",
    "\n",
    "In programming, capitalization matters *a lot*. `VAR_1` and `var_1` are interpreted as two *different* variables when it comes to code. Be mindful of capitalization. Capital and lower-case letters are interpreted by the computer as two different characters.\n",
    "\n",
    "### Variables must start with letters\n",
    "\n",
    "We saw that variables can contain numbers and underscores when we created `var_1` earlier, and while they can *contain* numbers or underscores, they cannot *begin* with anything other than a letter. So, `_var1` or `1_var` would not be acceptable variable names. If you try to create a variable that starts with anything other than a letter, Python will give you a `NameError`.\n",
    "\n",
    "Additionally, Python does not allow variables names to contain a few special characters (ie. &, \\*, #, etc). If you try to create a variable with a special character, Python will give you a `SyntaxError`. Thus, it's best to limit variable names to include letters, underscores, and numbers.\n",
    "\n",
    "### Python doesn't care what you name your variables\n",
    "\n",
    "Python doesn't care whether your variable name is `a` or `heights`; however, humans do. So, pick variable names that are informative about the information stored within the variable. For example, `a` doesn't clue the human reader of the code into what information is stored in the variable. However, `heights` lets the person reading the code (which could be you in the future or someone else). \n",
    "\n",
    "\n"
   ]
  },
  {
   "cell_type": "markdown",
   "metadata": {
    "slideshow": {
     "slide_type": "slide"
    }
   },
   "source": [
    "## Reserved Words\n",
    "\n",
    "Beyond those three rules, here are 33 words that are not allowed to be used for variable assignment in Python. These are words that have a particular meaning in Python and thus you're not allowed to use them for variable assignment. If you try to define a variable with one of these names, you'll get a `SyntaxError`.\n",
    "\n",
    "<table type=\"text/css\">\n",
    "  <tr>\n",
    "      <td><code>False</code></td>\n",
    "      <td><code>None</code></td>\n",
    "      <td><code>True</code></td>\n",
    "      <td><code>and</code></td>\n",
    "      <td><code>as</code></td>\n",
    "      <td><code>assert</code></td>\n",
    "      <td><code>break</code></td>\n",
    "  </tr>\n",
    "  <tr>\n",
    "      <td><code>class</code></td>\n",
    "      <td><code>continue</code></td>\n",
    "      <td><code>def</code></td>\n",
    "      <td><code>del</code></td>\n",
    "      <td><code>elif</code></td>\n",
    "      <td><code>else</code></td>\n",
    "      <td><code>except</code></td>\n",
    "  </tr>\n",
    "  <tr>\n",
    "      <td><code>finally</code></td>\n",
    "      <td><code>for</code></td>\n",
    "      <td><code>from</code></td>\n",
    "      <td><code>global</code></td>\n",
    "      <td><code>if</code></td>\n",
    "      <td><code>import</code></td>\n",
    "      <td><code>in</code></td>\n",
    "  </tr>\n",
    "  <tr>\n",
    "      <td><code>is</code></td>\n",
    "      <td><code>lambda</code></td>\n",
    "      <td><code>nonlocal</code></td>\n",
    "      <td><code>not</code></td>\n",
    "      <td><code>or</code></td>\n",
    "      <td><code>pass</code></td>\n",
    "      <td><code>raise</code></td>\n",
    "  </tr>    \n",
    "  <tr>\n",
    "      <td><code>return</code></td>\n",
    "      <td><code>try</code></td>\n",
    "      <td><code>while</code></td>\n",
    "      <td><code>with</code></td>\n",
    "      <td><code>yield</code></td>\n",
    "  </tr>    \n",
    "</table>\n"
   ]
  },
  {
   "cell_type": "code",
   "execution_count": 4,
   "metadata": {
    "scrolled": true,
    "slideshow": {
     "slide_type": "subslide"
    }
   },
   "outputs": [
    {
     "ename": "SyntaxError",
     "evalue": "invalid syntax (<ipython-input-4-1c44ba76d8f9>, line 2)",
     "output_type": "error",
     "traceback": [
      "\u001b[0;36m  File \u001b[0;32m\"<ipython-input-4-1c44ba76d8f9>\"\u001b[0;36m, line \u001b[0;32m2\u001b[0m\n\u001b[0;31m    try = 6\u001b[0m\n\u001b[0m        ^\u001b[0m\n\u001b[0;31mSyntaxError\u001b[0m\u001b[0;31m:\u001b[0m invalid syntax\n"
     ]
    }
   ],
   "source": [
    "# you will get an error if you try to assign a variable to one of these words\n",
    "try = 6"
   ]
  },
  {
   "cell_type": "markdown",
   "metadata": {},
   "source": [
    "## How Code Executes\n",
    "\n",
    "So far we've been writing and executing code within a Jupyter notebook. But, what does that mean? What is the notebook and how does it know that I want to execute code?"
   ]
  },
  {
   "cell_type": "markdown",
   "metadata": {
    "slideshow": {
     "slide_type": "slide"
    }
   },
   "source": [
    "### Kernel"
   ]
  },
  {
   "cell_type": "markdown",
   "metadata": {
    "slideshow": {
     "slide_type": "fragment"
    }
   },
   "source": [
    "<div class=\"alert alert-success\">\n",
    "The <b>kernel</b> is the thing that executes your code. It is what connects the notebook (as you see it) with the part of your computer that runs code. \n",
    "</div>"
   ]
  },
  {
   "cell_type": "markdown",
   "metadata": {
    "slideshow": {
     "slide_type": "fragment"
    }
   },
   "source": [
    "Your kernel also stores your **namespace** - all the variables and code that you have declared (executed). \n",
    "\n",
    "It can be useful to clear and re-launch the kernel. You can do this from the 'kernel' drop down menu, at the top of your Jupyter notebook, optionally also clearing all outputs. Note that this will erase any variables that are stored in memory. "
   ]
  },
  {
   "cell_type": "markdown",
   "metadata": {
    "slideshow": {
     "slide_type": "slide"
    }
   },
   "source": [
    "### Namespace"
   ]
  },
  {
   "cell_type": "markdown",
   "metadata": {
    "slideshow": {
     "slide_type": "fragment"
    }
   },
   "source": [
    "<div class=\"alert alert-success\">\n",
    "The <b>namespace</b> is the 'place' where all your currently defined code is declared - all the things you have stored in active memory. \n",
    "</div>"
   ]
  },
  {
   "cell_type": "markdown",
   "metadata": {
    "slideshow": {
     "slide_type": "fragment"
    }
   },
   "source": [
    "For example, when code is typed, nothing happens and the variable does *not* exist *until* the code is executed. Once executed, the variable is stored in memory within your **namespace**."
   ]
  },
  {
   "cell_type": "code",
   "execution_count": 6,
   "metadata": {
    "slideshow": {
     "slide_type": "fragment"
    }
   },
   "outputs": [],
   "source": [
    "# once you create a variable it's stored in your namespace\n",
    "my_variable = 6"
   ]
  },
  {
   "cell_type": "markdown",
   "metadata": {},
   "source": [
    "Within a Jupyter notebook, you can always use the `%whos` magic command to get information about what variables have been defined in your current Namespace. For example, here, you'll see all the variables currently in our namespace. In other words, all the cells where we've run code and created variables in this Jupyter Notebook will show up when we execute `%whos`. \n",
    "\n",
    "Note that variables created in a *different* notebook are stored in their own, separate namespace. The variables created in this notebook are the only ones stored in its namespace."
   ]
  },
  {
   "cell_type": "code",
   "execution_count": 10,
   "metadata": {
    "scrolled": false,
    "slideshow": {
     "slide_type": "fragment"
    }
   },
   "outputs": [
    {
     "name": "stdout",
     "output_type": "stream",
     "text": [
      "Variable      Type    Data/Info\n",
      "-------------------------------\n",
      "a             int     6\n",
      "my_variable   int     6\n",
      "var_1         int     6\n",
      "var_2         str     string\n"
     ]
    }
   ],
   "source": [
    "# You can list everything declared in the namespace with '%whos'\n",
    "%whos"
   ]
  },
  {
   "cell_type": "markdown",
   "metadata": {},
   "source": [
    "There are a number of **magic commands** available from within Jupyter notebooks that would not be avaialable in an interactive Python notebook. You'll be able to identify these as they always start with `%`."
   ]
  },
  {
   "cell_type": "markdown",
   "metadata": {
    "slideshow": {
     "slide_type": "slide"
    }
   },
   "source": [
    "## Variable Types"
   ]
  },
  {
   "cell_type": "markdown",
   "metadata": {
    "slideshow": {
     "slide_type": "fragment"
    }
   },
   "source": [
    "<div class=\"alert alert-success\">\n",
    "Every variable has a <b>type</b>, which refers to the kind of variable that it is, and how the computer stores that data.\n",
    "</div>"
   ]
  },
  {
   "cell_type": "markdown",
   "metadata": {},
   "source": [
    "To check what the type of any variable is, we'll use the `type()` function.\n",
    "\n",
    "This is the first Python function we're using, but there will be many throughout this content. So, it's best to get familiar with the syntax now. When running a function the syntax is: `function_name()` This means that the call begins with the function name, followed by parentheses. Within the parenthesis, you'll provide information. \n",
    "\n",
    "Here, the `type()` function requires a variable that you've defined. This code will return the `type` of the information stored within `variable_name`:"
   ]
  },
  {
   "cell_type": "code",
   "execution_count": 7,
   "metadata": {
    "slideshow": {
     "slide_type": "slide"
    }
   },
   "outputs": [
    {
     "data": {
      "text/plain": [
       "int"
      ]
     },
     "execution_count": 7,
     "metadata": {},
     "output_type": "execute_result"
    }
   ],
   "source": [
    "# Declare a variable\n",
    "variable_name = 1\n",
    "\n",
    "# You can always ask Python 'what type is this variable' using:\n",
    "type(variable_name)"
   ]
  },
  {
   "cell_type": "markdown",
   "metadata": {},
   "source": [
    "Here, Python returns `int`. This means that the information stored in `variable_name`, the value 1, is an integer."
   ]
  },
  {
   "cell_type": "markdown",
   "metadata": {
    "slideshow": {
     "slide_type": "slide"
    }
   },
   "source": [
    "### Int\n",
    "\n",
    "Int is the variable type for storing and working with integers. Here, your mathematics training will not steer you wrong."
   ]
  },
  {
   "cell_type": "markdown",
   "metadata": {
    "slideshow": {
     "slide_type": "fragment"
    }
   },
   "source": [
    "<div class=\"alert alert-success\">\n",
    "<b>Integers</b> store whole numbers.\n",
    "</div>"
   ]
  },
  {
   "cell_type": "code",
   "execution_count": 8,
   "metadata": {
    "slideshow": {
     "slide_type": "fragment"
    }
   },
   "outputs": [],
   "source": [
    "my_integer = 1\n",
    "another_integer = 321"
   ]
  },
  {
   "cell_type": "markdown",
   "metadata": {},
   "source": [
    "Integers can be positive or negative. Integers less than zero can be defined by putting a `-` before the integer during assignment:"
   ]
  },
  {
   "cell_type": "code",
   "execution_count": 9,
   "metadata": {
    "slideshow": {
     "slide_type": "fragment"
    }
   },
   "outputs": [
    {
     "data": {
      "text/plain": [
       "int"
      ]
     },
     "execution_count": 9,
     "metadata": {},
     "output_type": "execute_result"
    }
   ],
   "source": [
    "# integers can be signed\n",
    "yet_another_integer = -4\n",
    "type(yet_another_integer)"
   ]
  },
  {
   "cell_type": "markdown",
   "metadata": {},
   "source": [
    "As a reminder, you can always check the type of an integer using the `type()` function."
   ]
  },
  {
   "cell_type": "markdown",
   "metadata": {
    "slideshow": {
     "slide_type": "slide"
    }
   },
   "source": [
    "### Float\n",
    "\n",
    "Similar to integers, floats also store numeric information; however, floats store decimal-point numbers (rather than whole numbers)."
   ]
  },
  {
   "cell_type": "markdown",
   "metadata": {
    "slideshow": {
     "slide_type": "fragment"
    }
   },
   "source": [
    "<div class=\"alert alert-success\">\n",
    "<b>Floats</b> store signed, decimal-point numbers.\n",
    "</div>"
   ]
  },
  {
   "cell_type": "code",
   "execution_count": 10,
   "metadata": {
    "slideshow": {
     "slide_type": "fragment"
    }
   },
   "outputs": [],
   "source": [
    "my_float = 1.0\n",
    "another_float = -231.45"
   ]
  },
  {
   "cell_type": "markdown",
   "metadata": {},
   "source": [
    "Float type variables will return 'float' when using the `type()` function."
   ]
  },
  {
   "cell_type": "code",
   "execution_count": 11,
   "metadata": {
    "slideshow": {
     "slide_type": "fragment"
    }
   },
   "outputs": [
    {
     "data": {
      "text/plain": [
       "float"
      ]
     },
     "execution_count": 11,
     "metadata": {},
     "output_type": "execute_result"
    }
   ],
   "source": [
    "type(another_float)"
   ]
  },
  {
   "cell_type": "markdown",
   "metadata": {
    "slideshow": {
     "slide_type": "slide"
    }
   },
   "source": [
    "### String\n",
    "\n",
    "Not all variable types require quantitative or numeric information. Character information are stored as strings."
   ]
  },
  {
   "cell_type": "markdown",
   "metadata": {
    "slideshow": {
     "slide_type": "fragment"
    }
   },
   "source": [
    "<div class=\"alert alert-success\">\n",
    "<b>Strings</b> store characters, as text. \n",
    "</div>"
   ]
  },
  {
   "cell_type": "code",
   "execution_count": 12,
   "metadata": {
    "slideshow": {
     "slide_type": "fragment"
    }
   },
   "outputs": [],
   "source": [
    "# declare string variables\n",
    "my_string = 'words, words, words'\n",
    "another_string = 'more words'"
   ]
  },
  {
   "cell_type": "markdown",
   "metadata": {},
   "source": [
    "Note that strings are declared by placing *quotation marks around the characters*. In Jupyter notebooks, strings are colored red to visually indicate that this information is a string. If you look above, numeric information is colored green, with negative signs being purple. These visual clues are meant to help you keep track of information when coding more easily. \n",
    "\n",
    "When declaring the first string variables above, we used single quotation marks. However, Python interprets single and double quotes the same way. So, you *could* define strings using double quotes:"
   ]
  },
  {
   "cell_type": "code",
   "execution_count": 12,
   "metadata": {},
   "outputs": [],
   "source": [
    "# Note that strings can be defined with either '' or \"\"\n",
    "and_another = \"and some more\""
   ]
  },
  {
   "cell_type": "markdown",
   "metadata": {},
   "source": [
    "String type variables will return 'str' when using the `type()` function."
   ]
  },
  {
   "cell_type": "code",
   "execution_count": 13,
   "metadata": {
    "scrolled": false,
    "slideshow": {
     "slide_type": "fragment"
    }
   },
   "outputs": [
    {
     "data": {
      "text/plain": [
       "str"
      ]
     },
     "execution_count": 13,
     "metadata": {},
     "output_type": "execute_result"
    }
   ],
   "source": [
    "type(and_another)"
   ]
  },
  {
   "cell_type": "markdown",
   "metadata": {
    "slideshow": {
     "slide_type": "slide"
    }
   },
   "source": [
    "#### Quotation Marks\n",
    "\n",
    "A quick note to further clarify about quotation marks and how they work within strings. Above, we saw that strings are declared by placing the characters of the string within single or double quotation marks. \n",
    "\n",
    "For example:"
   ]
  },
  {
   "cell_type": "code",
   "execution_count": 14,
   "metadata": {
    "slideshow": {
     "slide_type": "fragment"
    }
   },
   "outputs": [
    {
     "data": {
      "text/plain": [
       "'This is a single-quoted string.'"
      ]
     },
     "execution_count": 14,
     "metadata": {},
     "output_type": "execute_result"
    }
   ],
   "source": [
    "my_string = 'This is a single-quoted string.'\n",
    "my_string"
   ]
  },
  {
   "cell_type": "code",
   "execution_count": 15,
   "metadata": {
    "slideshow": {
     "slide_type": "fragment"
    }
   },
   "outputs": [
    {
     "data": {
      "text/plain": [
       "'This is a double-quoted string.'"
      ]
     },
     "execution_count": 15,
     "metadata": {},
     "output_type": "execute_result"
    }
   ],
   "source": [
    "my_string = \"This is a double-quoted string.\"\n",
    "my_string"
   ]
  },
  {
   "cell_type": "markdown",
   "metadata": {
    "slideshow": {
     "slide_type": "fragment"
    }
   },
   "source": [
    "Note that Jupyter will put single quotes around the string when printed, even if you specify double quotes in the output. This is because the quottaion marks are interpreted equivalently by Python.\n",
    "\n",
    "A general principle is to *pick something and be consistent*. This applies across all of programming. It's best to be consistent in how you name your variables, how you assign your strings, how you align and comment your code, etc. Consistency makes your code easier to read. \n",
    "\n",
    "The best advice here is to pick something and stick to it. "
   ]
  },
  {
   "cell_type": "markdown",
   "metadata": {},
   "source": [
    "#### What if you *want* a quotation mark within your string?\n",
    "\n",
    "But, what if you *wanted* a quotation in the string you're delcaring? For example, what if your string had a contraction like 'don't' or 'won't'? What would you do then? Well, there are a few options:\n",
    "\n",
    "- use double quotes outside with apostraphe inside quotes\n",
    "- use an escape `\\` (backslash) before charater"
   ]
  },
  {
   "cell_type": "markdown",
   "metadata": {},
   "source": [
    "Here is an example of what you can do to get your apostrophe to show up. If you declare your string with double quotes, Python will wait until it sees another set of double quotes to end your string. Thus, your apostrophe gets interpreted as an apostrophe."
   ]
  },
  {
   "cell_type": "code",
   "execution_count": 18,
   "metadata": {},
   "outputs": [
    {
     "data": {
      "text/plain": [
       "\"I wan't to see a quote.\""
      ]
     },
     "execution_count": 18,
     "metadata": {},
     "output_type": "execute_result"
    }
   ],
   "source": [
    "# double quotes on outside; single quote inside\n",
    "my_string = \"I wan't to see a quote.\"\n",
    "my_string"
   ]
  },
  {
   "cell_type": "markdown",
   "metadata": {},
   "source": [
    "Alternatively, whenever you want to specify for Python to interpret a special character (such as `\"`) as a string literal, you can use the escape character `\\` before the special character. This tells Python to interpret the character following the backslash as the character it is, not how Python would normally interpret it."
   ]
  },
  {
   "cell_type": "code",
   "execution_count": 19,
   "metadata": {},
   "outputs": [
    {
     "data": {
      "text/plain": [
       "'And she said, \"Please teach me Python!\"'"
      ]
     },
     "execution_count": 19,
     "metadata": {},
     "output_type": "execute_result"
    }
   ],
   "source": [
    "# backslash to \"escape\" quotation mark\n",
    "string_quote = \"And she said, \\\"Please teach me Python!\\\"\"\n",
    "string_quote"
   ]
  },
  {
   "cell_type": "markdown",
   "metadata": {
    "slideshow": {
     "slide_type": "slide"
    }
   },
   "source": [
    "## Boolean"
   ]
  },
  {
   "cell_type": "markdown",
   "metadata": {},
   "source": [
    "Booleans are a special type of variable used to help control the flow of your code. They can only store two different values: `True` and `False`."
   ]
  },
  {
   "cell_type": "markdown",
   "metadata": {
    "slideshow": {
     "slide_type": "fragment"
    }
   },
   "source": [
    "<div class=\"alert alert-success\">\n",
    "<b>Booleans</b> store only two values: <code>True</code> or <code>False</code>. \n",
    "</div>"
   ]
  },
  {
   "cell_type": "markdown",
   "metadata": {},
   "source": [
    "While there are only two values this type of variable can take, they are very powerful! Specifically, booleans are named after the British mathematician - George Boole. He first formulated Boolean algebra, which are a set of rules for how to reason with and combine these values. This is the basis of all modern computer logic!\n",
    "\n",
    "To define a boolean, assign the value `True` or `False` to your variable."
   ]
  },
  {
   "cell_type": "code",
   "execution_count": 20,
   "metadata": {
    "slideshow": {
     "slide_type": "fragment"
    }
   },
   "outputs": [],
   "source": [
    "my_bool = True\n",
    "another_bool = False"
   ]
  },
  {
   "cell_type": "markdown",
   "metadata": {},
   "source": [
    "Boolean type variables will return 'bool' when using the `type()` function."
   ]
  },
  {
   "cell_type": "code",
   "execution_count": 21,
   "metadata": {
    "slideshow": {
     "slide_type": "fragment"
    }
   },
   "outputs": [
    {
     "data": {
      "text/plain": [
       "bool"
      ]
     },
     "execution_count": 21,
     "metadata": {},
     "output_type": "execute_result"
    }
   ],
   "source": [
    "type(another_bool)"
   ]
  },
  {
   "cell_type": "markdown",
   "metadata": {
    "slideshow": {
     "slide_type": "slide"
    }
   },
   "source": [
    "## None\n",
    "\n",
    "Last but not least (for now!), `None` type variables are used to store the concept of nothing. This is the type of Python variable used to specify an empty or null value."
   ]
  },
  {
   "cell_type": "markdown",
   "metadata": {
    "slideshow": {
     "slide_type": "fragment"
    }
   },
   "source": [
    "<div class=\"alert alert-success\">\n",
    "<b>None</b> is a special type that stores the concept of nothing. It is used to denote a null or empty value.\n",
    "</div>"
   ]
  },
  {
   "cell_type": "code",
   "execution_count": 23,
   "metadata": {
    "slideshow": {
     "slide_type": "fragment"
    }
   },
   "outputs": [],
   "source": [
    "the_concept_of_nothing = None"
   ]
  },
  {
   "cell_type": "markdown",
   "metadata": {},
   "source": [
    "None type variables will return 'NoneType' when using the `type()` function."
   ]
  },
  {
   "cell_type": "code",
   "execution_count": 24,
   "metadata": {
    "slideshow": {
     "slide_type": "fragment"
    }
   },
   "outputs": [
    {
     "data": {
      "text/plain": [
       "NoneType"
      ]
     },
     "execution_count": 24,
     "metadata": {},
     "output_type": "execute_result"
    }
   ],
   "source": [
    "type(the_concept_of_nothing)"
   ]
  },
  {
   "cell_type": "markdown",
   "metadata": {
    "slideshow": {
     "slide_type": "slide"
    }
   },
   "source": [
    "### Mutable vs Immutable\n",
    "\n",
    "The variable types we've talked about so far are all **immutable**. This means they cannot be altered after they're created. "
   ]
  },
  {
   "cell_type": "markdown",
   "metadata": {
    "slideshow": {
     "slide_type": "fragment"
    }
   },
   "source": [
    "<div class=\"alert alert-success\">\n",
    "<b>Immutable</b> variable types cannot be altered once defined.\n",
    "</div>"
   ]
  },
  {
   "cell_type": "markdown",
   "metadata": {},
   "source": [
    "In this example here, we declare a string, calling it `immutable_string`. The second line of code looks unfamiliar. For now, know that `[4]` indicates that I want to know what the fifth character in the string is. So, `immutable_string[4]` returns the fifth character in the string - the `i` in 'Pythin'."
   ]
  },
  {
   "cell_type": "code",
   "execution_count": 29,
   "metadata": {
    "slideshow": {
     "slide_type": "fragment"
    }
   },
   "outputs": [
    {
     "data": {
      "text/plain": [
       "'i'"
      ]
     },
     "execution_count": 29,
     "metadata": {},
     "output_type": "execute_result"
    }
   ],
   "source": [
    "# cannot change part of the string after creation\n",
    "immutable_string = 'Pythin is the best!'\n",
    "immutable_string[4]"
   ]
  },
  {
   "cell_type": "markdown",
   "metadata": {},
   "source": [
    "As strings are *immutable*, if we try to assign the letter 'o' to the fifth position in our string, we'll get a `TypeError`. Python is letting us know that `str` type objects cannot be modified once created."
   ]
  },
  {
   "cell_type": "code",
   "execution_count": 31,
   "metadata": {
    "scrolled": true
   },
   "outputs": [
    {
     "ename": "TypeError",
     "evalue": "'str' object does not support item assignment",
     "output_type": "error",
     "traceback": [
      "\u001b[0;31m---------------------------------------------------------------------------\u001b[0m",
      "\u001b[0;31mTypeError\u001b[0m                                 Traceback (most recent call last)",
      "\u001b[0;32m<ipython-input-31-97c531a4a087>\u001b[0m in \u001b[0;36m<module>\u001b[0;34m()\u001b[0m\n\u001b[0;32m----> 1\u001b[0;31m \u001b[0mimmutable_string\u001b[0m\u001b[0;34m[\u001b[0m\u001b[0;36m4\u001b[0m\u001b[0;34m]\u001b[0m \u001b[0;34m=\u001b[0m \u001b[0;34m'o'\u001b[0m\u001b[0;34m\u001b[0m\u001b[0;34m\u001b[0m\u001b[0m\n\u001b[0m",
      "\u001b[0;31mTypeError\u001b[0m: 'str' object does not support item assignment"
     ]
    }
   ],
   "source": [
    "# this will error\n",
    "immutable_string[4] = 'o'"
   ]
  },
  {
   "cell_type": "markdown",
   "metadata": {},
   "source": [
    "To change an immutable type variable, you would have to redefine the variable.\n",
    "\n",
    "For example, if we wanted to change the above string to read 'Python is the best!', we would have to re-define the variable `immutable_string`:"
   ]
  },
  {
   "cell_type": "code",
   "execution_count": 32,
   "metadata": {},
   "outputs": [
    {
     "data": {
      "text/plain": [
       "'Python is the best!'"
      ]
     },
     "execution_count": 32,
     "metadata": {},
     "output_type": "execute_result"
    }
   ],
   "source": [
    "# redefine variable\n",
    "immutable_string = 'Python is the best!'\n",
    "immutable_string"
   ]
  },
  {
   "cell_type": "markdown",
   "metadata": {},
   "source": [
    "Whatever variable was most recently defined is what will be stored in your namespace. This means that you *can* overwrite variables without even noticing. The best way to avoid overwriting variables is to use informative and memorable variable names that specify what information is stored in the variable. "
   ]
  },
  {
   "cell_type": "markdown",
   "metadata": {
    "slideshow": {
     "slide_type": "fragment"
    }
   },
   "source": [
    "Note: Python does have **mutable** types. We'll talk about these soon!"
   ]
  },
  {
   "cell_type": "markdown",
   "metadata": {
    "slideshow": {
     "slide_type": "slide"
    }
   },
   "source": [
    "## Aside: Whitespace\n",
    "\n",
    "Just a quick word on indentation before we get any deeper into Python\n",
    "\n",
    "Python *does* care about whitespace. This means that indentation matters. You *will* get an error if it Python runs into unanticipated whitespace.\n",
    "\n",
    "In the example here, there is an unexpected tab before `print(b)`. Python returns and `IndentationError` and points to this line of code."
   ]
  },
  {
   "cell_type": "code",
   "execution_count": 27,
   "metadata": {
    "slideshow": {
     "slide_type": "fragment"
    }
   },
   "outputs": [
    {
     "ename": "IndentationError",
     "evalue": "unexpected indent (<ipython-input-27-b7d7efbb406d>, line 2)",
     "output_type": "error",
     "traceback": [
      "\u001b[0;36m  File \u001b[0;32m\"<ipython-input-27-b7d7efbb406d>\"\u001b[0;36m, line \u001b[0;32m2\u001b[0m\n\u001b[0;31m    b = a\u001b[0m\n\u001b[0m    ^\u001b[0m\n\u001b[0;31mIndentationError\u001b[0m\u001b[0;31m:\u001b[0m unexpected indent\n"
     ]
    }
   ],
   "source": [
    "# this will error\n",
    "a = 1\n",
    "b = a\n",
    "    \n",
    "    print(b) "
   ]
  },
  {
   "cell_type": "markdown",
   "metadata": {
    "slideshow": {
     "slide_type": "fragment"
    }
   },
   "source": [
    "There *are* times when indentation will be required and expected. We'll discuss these in detail soon."
   ]
  },
  {
   "cell_type": "markdown",
   "metadata": {},
   "source": [
    "However, there are times when whitespace isn't *required* but is *preferred*. Just like when it comes to writing, there are different *styles* of writing. Writing code has it's own *style* too!\n",
    "\n",
    "For example, when assigning variables, we've been leaving a space on either side of the `=`. This is *not* required, but does make for easier reading on the viewer."
   ]
  },
  {
   "cell_type": "code",
   "execution_count": null,
   "metadata": {},
   "outputs": [],
   "source": [
    "# good style spacing\n",
    "my_variable = 6"
   ]
  },
  {
   "cell_type": "markdown",
   "metadata": {},
   "source": [
    "Python interprets the following *exactly* the same as the previous line of code. However, it's harder for the humans to read. "
   ]
  },
  {
   "cell_type": "code",
   "execution_count": null,
   "metadata": {},
   "outputs": [],
   "source": [
    "# less ideal spacing\n",
    "my_variable=6"
   ]
  },
  {
   "cell_type": "markdown",
   "metadata": {},
   "source": [
    "The same goes for lines between code. Python doesn't care if there are spaces between lines of code. However, it can be helpful to leave spaces between different \"chunks\" of code. This visually spaces things out for those reading you. code! You'll see examples of this soon as we start writing longer bits of code."
   ]
  },
  {
   "cell_type": "markdown",
   "metadata": {},
   "source": [
    "We encourage you to pay attention to the spacing used throughout this book and in others code. We'll also try to be explicit about Python code style preferences throughout the book so you can learn good habits right off the bat!"
   ]
  },
  {
   "cell_type": "markdown",
   "metadata": {
    "slideshow": {
     "slide_type": "fragment"
    }
   },
   "source": [
    "## Exercises\n",
    "\n",
    "Q1. **What is the value of `a` after executing the following code?**\n",
    "\n",
    "```python\n",
    "a = 'string'\n",
    "b = a\n",
    "a = 6\n",
    "```\n",
    "\n",
    "\n",
    "Q2. **After executing the following code, what will be the value of `my_var`?**\n",
    "\n",
    "```python\n",
    "my_var = 2 \n",
    "my_var = my_var + 1\n",
    "```\n",
    "\n",
    "Q3. **What would be the value of `b` after running hte following code?**\n",
    "\n",
    "```python\n",
    "a = 16\n",
    "b = 'string'\n",
    "c = a\n",
    "b = 72\n",
    "my_variable = True\n",
    "print(b)\n",
    "```\n",
    "\n",
    "A) 'string'  \n",
    "B) 88  \n",
    "C) 72  \n",
    "D) This code will fail  \n",
    "\n",
    "Q4. **After executing the following code, what will be the value of `var_2`?**\n",
    "\n",
    "```python\n",
    "var_2 = var_1 = 1\n",
    "print(var_2)\n",
    "```\n",
    "\n",
    "A) 'var_1'  \n",
    "B) 1  \n",
    "C) 2  \n",
    "D) This code will fail \n",
    "\n",
    "Q5. **For each of the following variables, identify what `type` of variable was defined.**\n",
    "\n",
    "```python\n",
    "var_a = -17.5\n",
    "var_b = '-17.5'\n",
    "var_c = 'python'\n",
    "var_d = 29\n",
    "var_e = True\n",
    "var_f = 'True'\n",
    "var_g = None\n",
    "```\n",
    "\n",
    "Q6. **After executing the following code, what will the values stored in `a` and `b` be?**\n",
    "\n",
    "```python\n",
    "a = 1\n",
    "b = a\n",
    "a = 2\n",
    "\n",
    "print(a)\n",
    "print(b)\n",
    "```\n",
    "\n",
    "A) `a` and `b` both store 1  \n",
    "B) `a` and `b` both store 2  \n",
    "C) `a` stores 2 `b` stores 1  \n",
    "D) `a` stores 1 `b` stores 2  "
   ]
  }
 ],
 "metadata": {
  "kernelspec": {
   "display_name": "Python 3",
   "language": "python",
   "name": "python3"
  },
  "language_info": {
   "codemirror_mode": {
    "name": "ipython",
    "version": 3
   },
   "file_extension": ".py",
   "mimetype": "text/x-python",
   "name": "python",
   "nbconvert_exporter": "python",
   "pygments_lexer": "ipython3",
   "version": "3.7.0"
  }
 },
 "nbformat": 4,
 "nbformat_minor": 2
}
