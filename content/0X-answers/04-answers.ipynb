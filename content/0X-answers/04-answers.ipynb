{
 "cells": [
  {
   "cell_type": "markdown",
   "id": "8874ce7f",
   "metadata": {},
   "source": [
    "# Answers: Functions\n",
    "\n",
    "Provided here are answers to the practice questions at the end of \"Functions\"."
   ]
  },
  {
   "cell_type": "markdown",
   "id": "cc9a8d2e",
   "metadata": {},
   "source": [
    "## Function Execution"
   ]
  },
  {
   "cell_type": "markdown",
   "id": "2c2926ba",
   "metadata": {},
   "source": [
    "**Function Execution Q1**"
   ]
  },
  {
   "cell_type": "code",
   "execution_count": null,
   "id": "fac6eaaa",
   "metadata": {},
   "outputs": [],
   "source": [
    "square_default = square_all([2,3,4])\n",
    "power_three = square_all([2,3,4], 3)\n",
    "out_4 = square_all([2,2,2,2]) # this execution could differ"
   ]
  },
  {
   "cell_type": "markdown",
   "id": "3084c548",
   "metadata": {},
   "source": [
    "**Function Execution Q2**."
   ]
  },
  {
   "cell_type": "code",
   "execution_count": null,
   "id": "f41d136a",
   "metadata": {},
   "outputs": [],
   "source": [
    "tempA = convert_temp(95)\n",
    "tempB = convert_temp(17, 'C')"
   ]
  },
  {
   "cell_type": "markdown",
   "id": "bdf02975",
   "metadata": {},
   "source": [
    "**Function Execution Q3**"
   ]
  },
  {
   "cell_type": "code",
   "execution_count": null,
   "id": "e6a598b1",
   "metadata": {},
   "outputs": [],
   "source": [
    "joke_random = court_jester_jokes()\n",
    "joke_nonrandom = court_jester_joke"
   ]
  },
  {
   "cell_type": "markdown",
   "id": "61c6690f",
   "metadata": {},
   "source": [
    "## User-Designed Functions"
   ]
  },
  {
   "cell_type": "markdown",
   "id": "570028c4",
   "metadata": {},
   "source": [
    "**UDFs Q1**"
   ]
  },
  {
   "cell_type": "code",
   "execution_count": null,
   "id": "62cc2a3d",
   "metadata": {},
   "outputs": [],
   "source": [
    "# there are multiple approaches to string concatenation\n",
    "def provide_info(name, year, school='UCSD'):\n",
    "    output = \"Hi. I'm \" + name + '. I am a ' + year + ' at ' + school + '.'\n",
    "    return output"
   ]
  },
  {
   "cell_type": "markdown",
   "id": "7bd5322c",
   "metadata": {},
   "source": [
    "**UDFs Q2**."
   ]
  },
  {
   "cell_type": "code",
   "execution_count": null,
   "id": "29903d38",
   "metadata": {},
   "outputs": [],
   "source": [
    "def count_int(col):\n",
    "    count = 0\n",
    "    \n",
    "    for val in col:\n",
    "        if type(val) == int:\n",
    "            count += 1\n",
    "    \n",
    "    return count"
   ]
  },
  {
   "cell_type": "markdown",
   "id": "e0752b6c",
   "metadata": {},
   "source": [
    "**UDFs Q3**."
   ]
  },
  {
   "cell_type": "code",
   "execution_count": null,
   "id": "bbfb2859",
   "metadata": {},
   "outputs": [],
   "source": [
    "def modify_string(input_string):\n",
    "    \n",
    "    new_language = {'a': 'ӓ',\n",
    "                'e' : 'ɚ',\n",
    "                'i' : '¡',\n",
    "                'o' : 'ð', \n",
    "                'u' : 'û',\n",
    "                'A' : 'Ӓ', \n",
    "                'E' : 'ɛ', \n",
    "                'O' : 'Ó', \n",
    "                'U' : 'Ü'}\n",
    "    \n",
    "    modified_name = ''\n",
    "    for letter in input_string:\n",
    "        if letter in new_language:\n",
    "            modified_name = modified_name + new_language[letter]\n",
    "        else:\n",
    "            modified_name = modified_name + letter\n",
    "\n",
    "    return modified_name"
   ]
  },
  {
   "cell_type": "markdown",
   "id": "04ee3f21",
   "metadata": {},
   "source": [
    "**UDFs Q4**."
   ]
  },
  {
   "cell_type": "code",
   "execution_count": null,
   "id": "71f02e4a",
   "metadata": {},
   "outputs": [],
   "source": [
    "def calculate_points(hand):\n",
    "    pointers = ['10', 'J', 'Q', 'K', 'A']\n",
    "    counter = 0\n",
    "    \n",
    "    for card in hand:\n",
    "        if card in pointers:\n",
    "            counter += 1\n",
    "        \n",
    "    return counter"
   ]
  },
  {
   "cell_type": "markdown",
   "id": "9180d3e5",
   "metadata": {},
   "source": [
    "**UDFs Q5**"
   ]
  },
  {
   "cell_type": "code",
   "execution_count": null,
   "id": "fc78304d",
   "metadata": {},
   "outputs": [],
   "source": [
    "# there are multiple approaches that work\n",
    "def change_username(username):\n",
    "    if len(username) > 4 and username.isalnum() and 'cogs' not in username:\n",
    "        return False\n",
    "    else:\n",
    "        return True"
   ]
  },
  {
   "cell_type": "markdown",
   "id": "bc0563d5",
   "metadata": {},
   "source": [
    "**UDFs Q6**"
   ]
  },
  {
   "cell_type": "code",
   "execution_count": null,
   "id": "b016040b",
   "metadata": {},
   "outputs": [],
   "source": [
    "default_brackets = {0.10 : (0, 9875),\n",
    "                    0.12 : (9876, 40125),\n",
    "                    0.22 : (40126, 85525),\n",
    "                    0.24 : (85526, 163300),\n",
    "                    0.32 : (163301, 207350),\n",
    "                    0.35 : (207351, 518400)\n",
    "                   }\n",
    "\n",
    "def to_taxes(salary, tax_brackets=default_brackets):\n",
    "    for key in tax_brackets:\n",
    "        if tax_brackets[key][0] <= salary <= tax_brackets[key][1]:\n",
    "            output = key * salary\n",
    "    \n",
    "    return output"
   ]
  },
  {
   "cell_type": "markdown",
   "id": "a0319de1",
   "metadata": {},
   "source": [
    "## Debugging"
   ]
  },
  {
   "cell_type": "markdown",
   "id": "eea2a855",
   "metadata": {},
   "source": [
    "**Debugging Q1**."
   ]
  },
  {
   "cell_type": "code",
   "execution_count": null,
   "id": "fad037a8",
   "metadata": {},
   "outputs": [],
   "source": [
    "def count_consonants(input_string):\n",
    "    out = {}\n",
    "    vowels = ['a', 'e', 'i', 'o', 'u']\n",
    "    \n",
    "    for char in input_string:\n",
    "        char = char.lower()\n",
    "        \n",
    "        if char not in vowels:\n",
    "            if char not in out:\n",
    "                out[char] = 1\n",
    "            else:\n",
    "                out[char] += 1\n",
    "    return out"
   ]
  },
  {
   "cell_type": "markdown",
   "id": "bdd77d62",
   "metadata": {},
   "source": [
    "**Debugging Q2**. "
   ]
  },
  {
   "cell_type": "code",
   "execution_count": null,
   "id": "217db401",
   "metadata": {},
   "outputs": [],
   "source": [
    "def new_encrypt(input_string):\n",
    "    alpha = 'ABCDEFGHIJKLMNOPQRSTUVWXYZ'\n",
    "    reverse_alpha = 'ZYXWVUTSRQPONMLKJIHGFEDCBA'\n",
    "\n",
    "    output_string = ''\n",
    "\n",
    "    for char in input_string:\n",
    "        char = char.upper()\n",
    "        if char in alpha:\n",
    "            position = alpha.find(char)\n",
    "            output_string += reverse_alpha[position]\n",
    "        else:\n",
    "            output_string = None\n",
    "            break\n",
    "        \n",
    "    return output_string"
   ]
  },
  {
   "cell_type": "markdown",
   "id": "2f58692c",
   "metadata": {},
   "source": [
    "**Debugging Q3**"
   ]
  },
  {
   "cell_type": "code",
   "execution_count": null,
   "id": "8e07a2cd",
   "metadata": {},
   "outputs": [],
   "source": [
    "def growth_rate(this_year, last_year):\n",
    "    return ((this_year - last_year)/last_year) * 100"
   ]
  }
 ],
 "metadata": {
  "kernelspec": {
   "display_name": "Python 3",
   "language": "python",
   "name": "python3"
  },
  "language_info": {
   "codemirror_mode": {
    "name": "ipython",
    "version": 3
   },
   "file_extension": ".py",
   "mimetype": "text/x-python",
   "name": "python",
   "nbconvert_exporter": "python",
   "pygments_lexer": "ipython3",
   "version": "3.7.7"
  }
 },
 "nbformat": 4,
 "nbformat_minor": 5
}
