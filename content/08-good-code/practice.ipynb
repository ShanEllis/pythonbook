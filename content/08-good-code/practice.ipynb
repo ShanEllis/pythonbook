{
 "cells": [
  {
   "cell_type": "markdown",
   "id": "77471c61-c93f-49e6-9446-75dd62d2f64a",
   "metadata": {},
   "source": [
    "# Practice: Strong Code\n"
   ]
  },
  {
   "cell_type": "markdown",
   "id": "696993a2-bade-4f78-b152-0f25197f2bd6",
   "metadata": {},
   "source": [
    "## Code Testing\n",
    "\n",
    "**Q1** Make a class named `Person` that has two instance attributes: `name` and `age`. Be sure that they are assigned to user-specified values.\n",
    "Then, make a method called `birthday()` that increments `age` by 1 and returns the string \"Happy Birthday!\"\n",
    "\n",
    "Then, create a `unittest `test class with only one test function that does the following:\n",
    "* Create an instance of the `Person` class\n",
    "* Write the following tests, making sure that they pass:\n",
    "    * The instance is of instance `Person`\n",
    "    * The instance's name is equal to the name you gave it\n",
    "    * The instance's age is equal to the age you gave it\n",
    "    * Call the `birthday()` function and write a test checking if the instance's age got incremented by 1"
   ]
  }
 ],
 "metadata": {
  "kernelspec": {
   "display_name": "Python 3 (ipykernel)",
   "language": "python",
   "name": "python3"
  },
  "language_info": {
   "codemirror_mode": {
    "name": "ipython",
    "version": 3
   },
   "file_extension": ".py",
   "mimetype": "text/x-python",
   "name": "python",
   "nbconvert_exporter": "python",
   "pygments_lexer": "ipython3",
   "version": "3.11.8"
  }
 },
 "nbformat": 4,
 "nbformat_minor": 5
}
