{
 "cells": [
  {
   "cell_type": "markdown",
   "metadata": {
    "slideshow": {
     "slide_type": "slide"
    }
   },
   "source": [
    "So far, we've introduced a number of data types (integers, floats, lists, dictionaries, etc) and code constructs (conditionals and loops). Here, we'll introduce **functions**, which provide your code with seemingly infinite flexibiltiy and reusability once mastered.\n",
    "\n",
    "We'll discuss how to define a function, using `def`, how to get that function to `return` important information, how to specify input parameters to the function you define, and discuss how functions have a special, separate namespace."
   ]
  },
  {
   "cell_type": "markdown",
   "metadata": {
    "slideshow": {
     "slide_type": "slide"
    }
   },
   "source": [
    "## Functions \n",
    "\n",
    "Functions are a way to write a few lines of code to accomplish a goal that can be reused over and over again, carrying out the *same operations* on *different inputs*. \n",
    "\n",
    "<div class=\"alert alert-success\">\n",
    "A function is a re-usable piece of code that performs operations on a specified set of variables, and returns the result.\n",
    "</div>"
   ]
  },
  {
   "cell_type": "markdown",
   "metadata": {},
   "source": [
    "You've been *using* functions without us really discussing it. For example, `type()` is a function that takes an input (a variable whose type you want to know). The function always carries out the same operation - it determines the input variable's type, and returns that information to the viewer. *But*, it can take any variable as input. So, the inputs differ, but the procedure (what `type` does behind the scenes) remains the same."
   ]
  },
  {
   "cell_type": "code",
   "execution_count": 1,
   "metadata": {
    "slideshow": {
     "slide_type": "fragment"
    }
   },
   "outputs": [
    {
     "data": {
      "text/plain": [
       "list"
      ]
     },
     "execution_count": 1,
     "metadata": {},
     "output_type": "execute_result"
    }
   ],
   "source": [
    "# you've seen functions before\n",
    "my_var = [3, 4, 5]\n",
    "type(my_var)"
   ]
  },
  {
   "cell_type": "markdown",
   "metadata": {
    "slideshow": {
     "slide_type": "fragment"
    }
   },
   "source": [
    "As discussed previously, copy and pasting the same or very similar bits of code over and over again is to be avoided. **Loops** were introduced as one way to avoid this. **Functions** are another! Learning how and when to write functions will make your code easier to read, easier to bug, and easier to use. "
   ]
  },
  {
   "cell_type": "markdown",
   "metadata": {
    "slideshow": {
     "slide_type": "slide"
    }
   },
   "source": [
    "## Modular Programming\n",
    "\n",
    "Specifically, functions are helpful when programming modularly. **Modular programming** is an approach to programming that focuses on building programs from indendent modules ('pieces'). While these individual pieces can all fit together to accomplish a larger goal, each piece *can* operate independently.\n",
    "\n",
    "Functions facilitate this approach to programming in the following ways:\n",
    "- Functions allow us to flexibly re-use pieces of code\n",
    "- Each function is independent of every other function, and other pieces of code\n",
    "- Functions are the building blocks of programs, and can be flexibly combined and executed in specified orders\n",
    "    - This allows us to build up arbitrarily complex, well-organized programs"
   ]
  },
  {
   "cell_type": "markdown",
   "metadata": {
    "slideshow": {
     "slide_type": "slide"
    }
   },
   "source": [
    "## User-defined Functions\n",
    "\n",
    "While you've *used* other functions (`len()`, `type()`, `print()`) previously, we've yet to discuss the fact that you can write your *own* functions to carry out the procedures you want them to carry out. \n",
    "\n",
    "To define (create) a **user-defined function**, you'll use `def`.\n",
    "\n",
    "This will always take hte general form:\n",
    "\n",
    "```python\n",
    "def function_name(input_parameters):\n",
    "    # code with function operation\n",
    "```\n",
    "\n",
    "As the creator of the function, you'll specify the `function_name`, determine what variable names to use for your `input_parameters`, and write the code within your function to carry out the desired operations on your `input_parameters`.\n",
    "\n",
    "For example, the simplest function would be one that took an input and printed that input out. It's not a very *interesting* or *helpful* function, but it demonstrates the idea of how these work.\n",
    "\n",
    "Here, we define a function called `print_value` that takes `num` as an input parameter.\n",
    "\n",
    "Within the function definition we see the line of code: `print(num)`. Notice that `num` refers to the input parameter specified within the parentheses after `print_value`. "
   ]
  },
  {
   "cell_type": "code",
   "execution_count": 2,
   "metadata": {
    "slideshow": {
     "slide_type": "fragment"
    }
   },
   "outputs": [],
   "source": [
    "# define a function: print_value\n",
    "# num is a parameter for the function\n",
    "def print_value(num):\n",
    "    \n",
    "    # do some operation\n",
    "    print(num)"
   ]
  },
  {
   "cell_type": "markdown",
   "metadata": {},
   "source": [
    "All the code above has done is define (or create) the function. We haven't yet *used* the function. \n",
    "\n",
    "To use - or execute - this function, meaning, to get it to actually print out the `num` provided, we first call the function name `print_value()` and then provide a value to the parameter `num` within the parentheses.\n",
    "\n",
    "In the example below, we provide the value '6' as the input parameter `num`. \n",
    "\n",
    "This means that when the code executes, `num` refers to the value '6'. Accordingly, upon execution, the function prints the value stored in `num` - 6:"
   ]
  },
  {
   "cell_type": "code",
   "execution_count": 3,
   "metadata": {
    "scrolled": true,
    "slideshow": {
     "slide_type": "fragment"
    }
   },
   "outputs": [
    {
     "name": "stdout",
     "output_type": "stream",
     "text": [
      "6\n"
     ]
    }
   ],
   "source": [
    "# excecute a function by calling function by name\n",
    "# adding input within parentheses\n",
    "print_value(num = 6)"
   ]
  },
  {
   "cell_type": "markdown",
   "metadata": {},
   "source": [
    "Note that this function can be equivalently called without specifying `num =`. The function execution below is equivalent to the example above:"
   ]
  },
  {
   "cell_type": "code",
   "execution_count": 4,
   "metadata": {
    "scrolled": true,
    "slideshow": {
     "slide_type": "fragment"
    }
   },
   "outputs": [
    {
     "name": "stdout",
     "output_type": "stream",
     "text": [
      "6\n"
     ]
    }
   ],
   "source": [
    "# equivalent function call\n",
    "# without specifying parameter\n",
    "print_value(6)"
   ]
  },
  {
   "cell_type": "markdown",
   "metadata": {},
   "source": [
    "##  `return` statements\n",
    "\n",
    "When this function executes, the code within the function runs using the specified input. The code within this function says to `print()` the variable. \n",
    "\n",
    "However, what if we wanted to *store* that output for use later. What if we wanted to store the value '6'?\n",
    "\n",
    "Well, as the function is *currently* defined, we are unable to do that because currently the function *only* prints the value. It does not store and return it:\n",
    "\n",
    "If we try to store the output from the function in a new variable `new_var`. As the function is currently defined, nothing is stored and returned from the function. The first line of code `prints()` the input value 6. The second line of code (`print(new_var)`), returns 'None'. "
   ]
  },
  {
   "cell_type": "code",
   "execution_count": 5,
   "metadata": {
    "scrolled": true,
    "slideshow": {
     "slide_type": "fragment"
    }
   },
   "outputs": [
    {
     "name": "stdout",
     "output_type": "stream",
     "text": [
      "6\n",
      "None\n"
     ]
    }
   ],
   "source": [
    "## why is it printing None?\n",
    "## lets look at return below\n",
    "new_var = print_value(6)\n",
    "print(new_var)"
   ]
  },
  {
   "cell_type": "markdown",
   "metadata": {
    "slideshow": {
     "slide_type": "fragment"
    }
   },
   "source": [
    "All this function is doing currently is printing the input. It's not actually *storing* any new information. To do that, we need to use `return`.\n",
    "\n",
    "Here we define a function `return_value`. As with the previous `print_value()` function, it takes `num` as an input parameter. \n",
    "\n",
    "However, within the body of the function, we now store the input parameter `num` in the variable `output` and then **`return`** the variable `output`."
   ]
  },
  {
   "cell_type": "code",
   "execution_count": 6,
   "metadata": {
    "slideshow": {
     "slide_type": "fragment"
    }
   },
   "outputs": [],
   "source": [
    "# improving that function using return\n",
    "def return_value(num):\n",
    "    \n",
    "    # do some operation\n",
    "    output = num\n",
    "    \n",
    "    # return an answer\n",
    "    return output"
   ]
  },
  {
   "cell_type": "markdown",
   "metadata": {},
   "source": [
    "Remember that the code above defines the function. It does *not* execute it. \n",
    "\n",
    "To do that, we call the function name `return_value` and provide a value to the input parameter `num`:"
   ]
  },
  {
   "cell_type": "code",
   "execution_count": 7,
   "metadata": {
    "slideshow": {
     "slide_type": "fragment"
    }
   },
   "outputs": [
    {
     "data": {
      "text/plain": [
       "6"
      ]
     },
     "execution_count": 7,
     "metadata": {},
     "output_type": "execute_result"
    }
   ],
   "source": [
    "# excecute that function\n",
    "return_value(6)"
   ]
  },
  {
   "cell_type": "markdown",
   "metadata": {},
   "source": [
    "The output appears similar to what we saw with the `print_value()` function; however, we'll notice the difference with this new function when we try to assign the output to a variable:"
   ]
  },
  {
   "cell_type": "code",
   "execution_count": 8,
   "metadata": {
    "slideshow": {
     "slide_type": "fragment"
    }
   },
   "outputs": [
    {
     "name": "stdout",
     "output_type": "stream",
     "text": [
      "6\n"
     ]
    }
   ],
   "source": [
    "# execute function but assign output \n",
    "# store that output in variable new_val\n",
    "new_val = return_value(6)\n",
    "print(new_val)"
   ]
  },
  {
   "cell_type": "markdown",
   "metadata": {},
   "source": [
    "Now, the output returned from the function `return_value(6)` can be stored in `new_val`. When we print the contents of this variable, it now stores the output, thanks to the use of `return` within the function!"
   ]
  },
  {
   "cell_type": "markdown",
   "metadata": {
    "slideshow": {
     "slide_type": "slide"
    }
   },
   "source": [
    "## Multiple Input Parameters\n",
    "\n",
    "So far, the functions we've defined have only printed out the input provided to the function. That's not very practical. Typically functions carry out a meaningul operation. To demonstrate this, let's generate a function that takes two values as its input parameters, adds them together, and then returns the sum of the values as its output.\n",
    "\n",
    "We'll call this function `add_two_numbers`:"
   ]
  },
  {
   "cell_type": "code",
   "execution_count": 9,
   "metadata": {
    "slideshow": {
     "slide_type": "fragment"
    }
   },
   "outputs": [],
   "source": [
    "# define function\n",
    "def add_two_numbers(num1, num2):\n",
    "    \n",
    "    # Do some operations on the input variables\n",
    "    answer = num1 + num2\n",
    "    \n",
    "    # Return the answer\n",
    "    return answer"
   ]
  },
  {
   "cell_type": "markdown",
   "metadata": {},
   "source": [
    "Notice in the function defined above that there are two input parameters specified within the function - `num1` and `num2`. \n",
    "\n",
    "Within the body of the function, we store the addition of these two parameters in `answer` and `return` that variable.\n",
    "\n",
    "With the code above, `add_two_numbers` has been defined. \n",
    "\n",
    "To execute that function, we will call the function and provide it with two input values, one for each of its required input parameters:"
   ]
  },
  {
   "cell_type": "code",
   "execution_count": 10,
   "metadata": {},
   "outputs": [
    {
     "data": {
      "text/plain": [
       "3"
      ]
     },
     "execution_count": 10,
     "metadata": {},
     "output_type": "execute_result"
    }
   ],
   "source": [
    "# execute function\n",
    "add_two_numbers(-1, 4)"
   ]
  },
  {
   "cell_type": "markdown",
   "metadata": {},
   "source": [
    "Since this function includes a `return` statement, we can store the output of that function in a variable (here: `output`), allowing us to use the output from the function elsewhere in our code."
   ]
  },
  {
   "cell_type": "code",
   "execution_count": 11,
   "metadata": {
    "scrolled": false,
    "slideshow": {
     "slide_type": "fragment"
    }
   },
   "outputs": [
    {
     "name": "stdout",
     "output_type": "stream",
     "text": [
      "3\n"
     ]
    }
   ],
   "source": [
    "# Execute our function again, on some other inputs\n",
    "output = add_two_numbers(-1, 4)\n",
    "print(output)"
   ]
  },
  {
   "cell_type": "markdown",
   "metadata": {
    "slideshow": {
     "slide_type": "slide"
    }
   },
   "source": [
    "## Multiple Operations\n",
    "\n",
    "Further, we aren't limited to a single operation within a user-defined function. We can use multiple operations and all of the concepts we've used previously (including, for example, loops and conditionals).\n",
    "\n",
    "For example, here we define a function called `even_odd`. It takes a single input parameter `value`.\n",
    "\n",
    "Within the body of the function we use conditionals to determine `if` the input parameter value is even (`value % 2 == 0`). If even, the function stores 'even' in the variable `out`. Otherwise (`else`) it stores 'odd' in the variable `out`.\n",
    "\n",
    "This variable `out` is `return`-ed."
   ]
  },
  {
   "cell_type": "code",
   "execution_count": 12,
   "metadata": {
    "slideshow": {
     "slide_type": "fragment"
    }
   },
   "outputs": [],
   "source": [
    "# determine if a value is even or odd\n",
    "# and return that value\n",
    "def even_odd(value): \n",
    "    if (value % 2 == 0): \n",
    "        out = 'even'\n",
    "    else: \n",
    "        out = 'odd'\n",
    "    \n",
    "    return out"
   ]
  },
  {
   "cell_type": "markdown",
   "metadata": {},
   "source": [
    "Upon execution, the function determines whether the input variable (here, `value = -1`) is even or odd, `return`ing that information:"
   ]
  },
  {
   "cell_type": "code",
   "execution_count": 13,
   "metadata": {
    "scrolled": true,
    "slideshow": {
     "slide_type": "fragment"
    }
   },
   "outputs": [
    {
     "data": {
      "text/plain": [
       "'odd'"
      ]
     },
     "execution_count": 13,
     "metadata": {},
     "output_type": "execute_result"
    }
   ],
   "source": [
    "# Execute our function\n",
    "even_odd(-1)"
   ]
  },
  {
   "cell_type": "markdown",
   "metadata": {
    "slideshow": {
     "slide_type": "slide"
    }
   },
   "source": [
    "## Function Properties\n",
    "\n",
    "So far, we've discussed a few properties of functions:"
   ]
  },
  {
   "cell_type": "markdown",
   "metadata": {
    "slideshow": {
     "slide_type": "fragment"
    }
   },
   "source": [
    "- Functions are defined using `def` followed by `:`, which opens a code-block that comprises the function\n",
    "    - Running code with a `def` block *defines* the function (but does not *execute* it)\n",
    "- Functions are *executed* using parentheses - `()`\n",
    "    - This is when the code inside a function is actually run\n",
    "- Functions use the special operator `return` to exit the function, passing out any specified variables\n",
    "- When you use a function, you can assign the output to a variable"
   ]
  },
  {
   "cell_type": "markdown",
   "metadata": {
    "slideshow": {
     "slide_type": "fragment"
    }
   },
   "source": [
    "However, there are additional important properties that we have have encountered, but have not yet explicitly discussed:"
   ]
  },
  {
   "cell_type": "markdown",
   "metadata": {
    "slideshow": {
     "slide_type": "fragment"
    }
   },
   "source": [
    "- Functions have their own **namespace**\n",
    "    - They only have access to variables explicitly passed into them\n",
    "- Inside a function, there is code that performs operations on the available variables"
   ]
  },
  {
   "cell_type": "markdown",
   "metadata": {},
   "source": [
    "## Function Namespaces\n",
    "\n",
    "We previously defined the namespace as follows:\n",
    "\n",
    "<div class=\"alert alert-success\">\n",
    "The <b>namespace</b> is the 'place' where all your currently defined code is declared - all the things you have stored in active memory. \n",
    "</div>\n",
    "\n",
    "So, as you execute code in a notebook, you generate variables. These variables become available within the namespace.\n",
    "\n",
    "That is all true; however, importantly, functions have a **separate namespace**. The only variables available within a function are the variables assigned within it and those passed in as input parameters."
   ]
  },
  {
   "cell_type": "markdown",
   "metadata": {},
   "source": [
    "For example, with this `even_odd()` function we defined previoulsy, the only variables available within the function are `value` (which is passed in as an input parameter) and `out` (which is defined within the function itself)."
   ]
  },
  {
   "cell_type": "code",
   "execution_count": 14,
   "metadata": {
    "slideshow": {
     "slide_type": "fragment"
    }
   },
   "outputs": [],
   "source": [
    "def even_odd(value): \n",
    "    if (value % 2 == 0): \n",
    "        out = 'even'\n",
    "    else: \n",
    "        out = 'odd'\n",
    "    \n",
    "    return out"
   ]
  },
  {
   "cell_type": "markdown",
   "metadata": {},
   "source": [
    "This means that any variables created in a notebook outside of a function as you write code are *not* usable within the defined function. \n",
    "\n",
    "This is what allows functions to be indpendent and self-contained pieces of code. This means that if you created a variable called `my_fav_variable` outside of the function, you *cannot* use or refer to that variable within a function because `my_fav_variable` is in a *separate namespace*."
   ]
  },
  {
   "cell_type": "markdown",
   "metadata": {
    "slideshow": {
     "slide_type": "slide"
    }
   },
   "source": [
    "Previously, we noted that within a Jupyter notebook, you can check the variables currently defined using `%whos`:"
   ]
  },
  {
   "cell_type": "code",
   "execution_count": 15,
   "metadata": {
    "scrolled": true,
    "slideshow": {
     "slide_type": "fragment"
    }
   },
   "outputs": [
    {
     "name": "stdout",
     "output_type": "stream",
     "text": [
      "Variable          Type        Data/Info\n",
      "---------------------------------------\n",
      "add_two_numbers   function    <function add_two_numbers at 0x10e0ee8c8>\n",
      "even_odd          function    <function even_odd at 0x10e0df598>\n",
      "my_var            list        n=3\n",
      "new_val           int         6\n",
      "new_var           NoneType    None\n",
      "output            int         3\n",
      "print_value       function    <function print_value at 0x10e0b1ae8>\n",
      "return_value      function    <function return_value at 0x10e0db7b8>\n"
     ]
    }
   ],
   "source": [
    "# Remember, you can check defined variables with `%whos`\n",
    "%whos"
   ]
  },
  {
   "cell_type": "markdown",
   "metadata": {},
   "source": [
    "This returns all the variables created and stored in your *global* namespace. These are available for use in operations in your notebook."
   ]
  },
  {
   "cell_type": "markdown",
   "metadata": {
    "slideshow": {
     "slide_type": "slide"
    }
   },
   "source": [
    "However, each function *only* has access to the variables defined within the function or passed in as variables.\n",
    "\n",
    "To determine what variables a function has access to, we'll create a function called `check_function_namespace()`. This takes an input and uses the  `locals()` function to return information about what variables the function has access to:"
   ]
  },
  {
   "cell_type": "code",
   "execution_count": 16,
   "metadata": {
    "slideshow": {
     "slide_type": "fragment"
    }
   },
   "outputs": [],
   "source": [
    "def check_function_namespace(function_input):\n",
    "    # Check what is defined and available inside the function\n",
    "    print(locals())"
   ]
  },
  {
   "cell_type": "markdown",
   "metadata": {},
   "source": [
    "When we provide `check_function_namespace()` with the value '1' as its input, it returns that the *only* variable it has access to is the input variable '1'."
   ]
  },
  {
   "cell_type": "code",
   "execution_count": 17,
   "metadata": {
    "slideshow": {
     "slide_type": "fragment"
    }
   },
   "outputs": [
    {
     "name": "stdout",
     "output_type": "stream",
     "text": [
      "{'function_input': 1}\n"
     ]
    }
   ],
   "source": [
    "# Functions don't `see` everything\n",
    "check_function_namespace(1)"
   ]
  },
  {
   "cell_type": "markdown",
   "metadata": {},
   "source": [
    "When we provide `check_function_namespace()` with the value `True` as its input, it returns that the *only* variable it has access to is the input variable `True`. Note that it no longer has access to the value '1', as that was *not* passed in as an input on this execution of hte function."
   ]
  },
  {
   "cell_type": "code",
   "execution_count": 18,
   "metadata": {
    "slideshow": {
     "slide_type": "fragment"
    }
   },
   "outputs": [
    {
     "name": "stdout",
     "output_type": "stream",
     "text": [
      "{'function_input': True}\n"
     ]
    }
   ],
   "source": [
    "# Functions don't `see` everything\n",
    "check_function_namespace(True)"
   ]
  },
  {
   "cell_type": "markdown",
   "metadata": {},
   "source": [
    "The logic follows that if you pass two inputs into the function, the function will have access to both inputs, but the fact remains that those are the *only* variables to which the function has access. It cannot access the other variables stored outside the function in the global namespace:"
   ]
  },
  {
   "cell_type": "code",
   "execution_count": 19,
   "metadata": {
    "slideshow": {
     "slide_type": "fragment"
    }
   },
   "outputs": [],
   "source": [
    "# using two different inputs to a function\n",
    "def check_function_namespace2(function_input, other_name):\n",
    "    # Check what is defined and available inside the function\n",
    "    print(locals())"
   ]
  },
  {
   "cell_type": "code",
   "execution_count": 20,
   "metadata": {
    "slideshow": {
     "slide_type": "fragment"
    }
   },
   "outputs": [
    {
     "name": "stdout",
     "output_type": "stream",
     "text": [
      "{'other_name': True, 'function_input': 1}\n"
     ]
    }
   ],
   "source": [
    "# returning what each input is storing\n",
    "check_function_namespace2(1, True)"
   ]
  },
  {
   "cell_type": "markdown",
   "metadata": {
    "slideshow": {
     "slide_type": "slide"
    }
   },
   "source": [
    "Names defined inside a function only exist within the function.\n",
    "\n",
    "For example, if we define a global variable `my_var` and store a string in that variable:"
   ]
  },
  {
   "cell_type": "code",
   "execution_count": 21,
   "metadata": {},
   "outputs": [],
   "source": [
    "my_var = 'I am a variable'"
   ]
  },
  {
   "cell_type": "markdown",
   "metadata": {},
   "source": [
    "The above line of code creates the variable `my_var`, storing 'I am a variable' in that varaible in the global namespace.\n",
    "\n",
    "Now, if we run our check_function_namespace, and pass that variable into the function, the function will have access to that variable:"
   ]
  },
  {
   "cell_type": "code",
   "execution_count": 22,
   "metadata": {
    "scrolled": true
   },
   "outputs": [
    {
     "name": "stdout",
     "output_type": "stream",
     "text": [
      "{'function_input': 'I am a variable'}\n"
     ]
    }
   ],
   "source": [
    "check_function_namespace(my_var)"
   ]
  },
  {
   "cell_type": "markdown",
   "metadata": {},
   "source": [
    "*But*, if we pass a different variable into that function, `my_var` is no longer available within the function, as it was not passed into the function upon execution."
   ]
  },
  {
   "cell_type": "code",
   "execution_count": 23,
   "metadata": {
    "scrolled": true
   },
   "outputs": [
    {
     "name": "stdout",
     "output_type": "stream",
     "text": [
      "{'function_input': 'new string'}\n"
     ]
    }
   ],
   "source": [
    "check_function_namespace('new string')"
   ]
  },
  {
   "cell_type": "markdown",
   "metadata": {},
   "source": [
    "Regardless of whether or not the variable is available for use within the function, `my_var` still exists in the global namespace:"
   ]
  },
  {
   "cell_type": "code",
   "execution_count": 24,
   "metadata": {
    "slideshow": {
     "slide_type": "fragment"
    }
   },
   "outputs": [
    {
     "name": "stdout",
     "output_type": "stream",
     "text": [
      "I am a variable\n"
     ]
    }
   ],
   "source": [
    "print(my_var)"
   ]
  },
  {
   "cell_type": "markdown",
   "metadata": {
    "slideshow": {
     "slide_type": "slide"
    }
   },
   "source": [
    "Given all of the above discussion about namespaces, it logically follows that a variable of the same name can exist in the global namespace *and* within a function, with each storing different information.\n",
    "\n",
    "This can be confusing when reading code, so it's best to avoid these situations when writing code and choosing variable names, but it's important to understand that it is logically possible.\n",
    "\n",
    "To demonstrate this point, let's define a function called `change_var`. This function takes an input variable `my_var`. Within the function it stores 'I am something else' in `my_var` and prints 'Inside function:' and the value stored in `my_var` within the function:"
   ]
  },
  {
   "cell_type": "code",
   "execution_count": 25,
   "metadata": {
    "slideshow": {
     "slide_type": "fragment"
    }
   },
   "outputs": [],
   "source": [
    "def change_var(my_var):\n",
    "    my_var = 'I am something else'\n",
    "    print('Inside function: \\t\\t', my_var)"
   ]
  },
  {
   "cell_type": "markdown",
   "metadata": {},
   "source": [
    "Remember, that we've already created `my_var` in the global namespace:"
   ]
  },
  {
   "cell_type": "code",
   "execution_count": 26,
   "metadata": {
    "scrolled": true,
    "slideshow": {
     "slide_type": "fragment"
    }
   },
   "outputs": [
    {
     "data": {
      "text/plain": [
       "'I am a variable'"
      ]
     },
     "execution_count": 26,
     "metadata": {},
     "output_type": "execute_result"
    }
   ],
   "source": [
    "# my_var in the global namespace\n",
    "my_var"
   ]
  },
  {
   "cell_type": "markdown",
   "metadata": {},
   "source": [
    "Now, when we execute our `change_var()` function, we see that despite passing `my_var` (which stores 'I am a variable') into the function, within the function, `my_var` gets defined as the string 'I am something else':"
   ]
  },
  {
   "cell_type": "code",
   "execution_count": 27,
   "metadata": {
    "scrolled": true,
    "slideshow": {
     "slide_type": "fragment"
    }
   },
   "outputs": [
    {
     "name": "stdout",
     "output_type": "stream",
     "text": [
      "Inside function: \t\t I am something else\n"
     ]
    }
   ],
   "source": [
    "# my_var within the function\n",
    "change_var(my_var)"
   ]
  },
  {
   "cell_type": "markdown",
   "metadata": {},
   "source": [
    "But, because the namespace within a function is separate, this change only occurs within the function. The value stored in `my_var` in the global namespace (outside the function) remains unchanged:"
   ]
  },
  {
   "cell_type": "code",
   "execution_count": 28,
   "metadata": {
    "scrolled": true,
    "slideshow": {
     "slide_type": "fragment"
    }
   },
   "outputs": [
    {
     "data": {
      "text/plain": [
       "'I am a variable'"
      ]
     },
     "execution_count": 28,
     "metadata": {},
     "output_type": "execute_result"
    }
   ],
   "source": [
    "# my_var in the global namespace remains unchanged\n",
    "my_var"
   ]
  },
  {
   "cell_type": "markdown",
   "metadata": {},
   "source": [
    "To summarize, `my_var` outside the function remains unchanged, only storing 'I am somthing else' within the`change_var()` function:"
   ]
  },
  {
   "cell_type": "code",
   "execution_count": 29,
   "metadata": {
    "scrolled": false,
    "slideshow": {
     "slide_type": "fragment"
    }
   },
   "outputs": [
    {
     "name": "stdout",
     "output_type": "stream",
     "text": [
      "Outside, before function: \t I am a variable\n",
      "Inside function: \t\t I am something else\n",
      "Outside, after function: \t I am a variable\n"
     ]
    }
   ],
   "source": [
    "print('Outside, before function: \\t', my_var)\n",
    "change_var(my_var)\n",
    "print('Outside, after function: \\t', my_var)"
   ]
  },
  {
   "cell_type": "markdown",
   "metadata": {
    "slideshow": {
     "slide_type": "slide"
    }
   },
   "source": [
    "## Default Values\n",
    "\n",
    "So far, we've seen that functions can take inputs, but we haven't discussed how to set a default value for an input parameter. It's helpful to set default values for cases when there is a value your input parameter will take most of the time."
   ]
  },
  {
   "cell_type": "markdown",
   "metadata": {
    "slideshow": {
     "slide_type": "subslide"
    }
   },
   "source": [
    "<div class=\"alert alert-success\">\n",
    "Function parameters can also take default values. This makes some parameters optional, as they take a default value if not otherwise specified.\n",
    "</div>"
   ]
  },
  {
   "cell_type": "markdown",
   "metadata": {},
   "source": [
    "For example, if you wrote a function called `exponentiate`, you may expect that *most* of the time, people will want to square a value. However, you want to leave users the *option* to be able to raise a value to a different power. This is a case where you would set the default parameter value to square the input. To do this, you assign a value within the parentheses after the function name (within the function definition). "
   ]
  },
  {
   "cell_type": "code",
   "execution_count": 4,
   "metadata": {
    "slideshow": {
     "slide_type": "fragment"
    }
   },
   "outputs": [],
   "source": [
    "# Create a function, that has a default values for a parameter\n",
    "def exponentiate(number, exponent = 2):    \n",
    "    return number ** exponent"
   ]
  },
  {
   "cell_type": "markdown",
   "metadata": {},
   "source": [
    "In this function, we see there are two input parameters: `number` and `exponent`. `exponent` here takes the default value '2', as it is assigned within the function definition.\n",
    "\n",
    "Within the function, `number` is raised to the power `exponent`. This means, that under default conditions, the `number` provided will be squared and returned:"
   ]
  },
  {
   "cell_type": "code",
   "execution_count": 5,
   "metadata": {
    "scrolled": true,
    "slideshow": {
     "slide_type": "fragment"
    }
   },
   "outputs": [
    {
     "data": {
      "text/plain": [
       "4"
      ]
     },
     "execution_count": 5,
     "metadata": {},
     "output_type": "execute_result"
    }
   ],
   "source": [
    "# Use the function, using default value\n",
    "exponentiate(2)"
   ]
  },
  {
   "cell_type": "markdown",
   "metadata": {},
   "source": [
    "As seen above, when we pass the value 2 to the `number` parameter, the function returns $2^2$, or 4. Notice that when a default value is specified, if you want the function to use that default value provided, you do not have to specify any inputs for that parameter.\n",
    "\n",
    "However, if you want to use a *different* value for your `exponent`, you still have that option. You could so so using the following:"
   ]
  },
  {
   "cell_type": "code",
   "execution_count": 6,
   "metadata": {
    "slideshow": {
     "slide_type": "fragment"
    }
   },
   "outputs": [
    {
     "data": {
      "text/plain": [
       "8"
      ]
     },
     "execution_count": 6,
     "metadata": {},
     "output_type": "execute_result"
    }
   ],
   "source": [
    "# Call the function, over-riding default value with something else\n",
    "# python assumes values are in order of parameters specified in definition\n",
    "exponentiate(2, 3)"
   ]
  },
  {
   "cell_type": "markdown",
   "metadata": {},
   "source": [
    "Notice here that Python returns 8 as it has raised $2^3$. Python in this case assumes values are provided in the order of the parameters specified within the function definition, `number` then `exponent`.\n",
    "\n",
    "However, an equivalent function call would be as you see here:"
   ]
  },
  {
   "cell_type": "code",
   "execution_count": 7,
   "metadata": {
    "slideshow": {
     "slide_type": "fragment"
    }
   },
   "outputs": [
    {
     "data": {
      "text/plain": [
       "8"
      ]
     },
     "execution_count": 7,
     "metadata": {},
     "output_type": "execute_result"
    }
   ],
   "source": [
    "# you can always state this explicitly\n",
    "exponentiate(number = 2, exponent = 3)"
   ]
  },
  {
   "cell_type": "markdown",
   "metadata": {},
   "source": [
    "In each of the two previous function calls, Python uses the `exponent` value 3, specifed during the function call. This overrides the default value provided (2), using the exponent value provided instead (3)."
   ]
  },
  {
   "cell_type": "markdown",
   "metadata": {
    "slideshow": {
     "slide_type": "slide"
    }
   },
   "source": [
    "## Positional vs. Keyword Arguments\n",
    "\n",
    "In the previous example we demonstrated that it is possible to use positional arguments (`exponentiate(2, 3)`) or keyword arguments (`exponentiate(number = 2, exponent = 3)`)when calling a function without explicitly explaining what's going on.\n",
    "\n",
    "Here, we'll explain exactly what is meant by **positional** and **keyword** arguments."
   ]
  },
  {
   "cell_type": "markdown",
   "metadata": {
    "slideshow": {
     "slide_type": "fragment"
    }
   },
   "source": [
    "<div class=\"alert alert-success\">\n",
    "Arguments to a function can be indicated by either position or keyword.\n",
    "</div>"
   ]
  },
  {
   "cell_type": "markdown",
   "metadata": {},
   "source": [
    "When we call a function and ask Python to use the position or order of the values provided, we're using **positional arguments**. Python will always use the inputs in the order specified in the function definition.\n",
    "\n",
    "As `exponentiate` was defined as follows:\n",
    "\n",
    "```python\n",
    "def exponentiate(number, exponent = 2):    \n",
    "    return number ** exponent\n",
    "```\n",
    "\n",
    "we know that in the following function call, '2' refers to the `number` (the first argument in the function definition) and '3' to the `exponent` (the second argument in the function definition)."
   ]
  },
  {
   "cell_type": "code",
   "execution_count": 21,
   "metadata": {
    "slideshow": {
     "slide_type": "fragment"
    }
   },
   "outputs": [
    {
     "data": {
      "text/plain": [
       "8"
      ]
     },
     "execution_count": 21,
     "metadata": {},
     "output_type": "execute_result"
    }
   ],
   "source": [
    "# Positional arguments use the position to \n",
    "# infer which argument each value relates to\n",
    "exponentiate(2, 3)"
   ]
  },
  {
   "cell_type": "markdown",
   "metadata": {},
   "source": [
    "Equivalently and more explicitly, keywords can be used when calling a function by including the parameter, the assignment operator (`=`), and the value you'd like to use for your function call. \n",
    "\n",
    "As noted previously, this function call below is equivalent to `exponentiate(2, 3)`; however, you can see that it's clearer to readers of your code as to what's going on. It can be beneficial when writing code to use keyword arguments to make it crystal clear to those reading your code what's going on:"
   ]
  },
  {
   "cell_type": "code",
   "execution_count": 22,
   "metadata": {
    "scrolled": true,
    "slideshow": {
     "slide_type": "fragment"
    }
   },
   "outputs": [
    {
     "data": {
      "text/plain": [
       "8"
      ]
     },
     "execution_count": 22,
     "metadata": {},
     "output_type": "execute_result"
    }
   ],
   "source": [
    "# Keyword arguments are explicitly named as to \n",
    "# which argument each value relates to\n",
    "exponentiate(number = 2, exponent = 3)"
   ]
  },
  {
   "cell_type": "markdown",
   "metadata": {},
   "source": [
    "One important point about keyword arguments it that their order does *not* matter when calling the function. The following is equivalent to the example above.\n",
    "\n",
    "Now, again, to make it easier on readers, it's best to keep things in the order of the function documentation; however, know that Python will know how to handle the input if you change the order of your input variables when using keyword arguments:"
   ]
  },
  {
   "cell_type": "code",
   "execution_count": 23,
   "metadata": {
    "scrolled": true
   },
   "outputs": [
    {
     "data": {
      "text/plain": [
       "8"
      ]
     },
     "execution_count": 23,
     "metadata": {},
     "output_type": "execute_result"
    }
   ],
   "source": [
    "exponentiate(exponent = 3, number = 2)"
   ]
  },
  {
   "cell_type": "markdown",
   "metadata": {},
   "source": [
    "Finally for now, we'll note that you *cannot* mix keyword and positional arguments. Once you specify a keyword or use a positional argument, you'll have to use that for the remainder of your function call.\n",
    "\n",
    "As such the following code would produce an error as a keyword (`number = 2`) and positional argument (`3`) are attempted to be used in the same function call: "
   ]
  },
  {
   "cell_type": "code",
   "execution_count": 24,
   "metadata": {
    "scrolled": true,
    "slideshow": {
     "slide_type": "fragment"
    }
   },
   "outputs": [
    {
     "ename": "SyntaxError",
     "evalue": "positional argument follows keyword argument (<ipython-input-24-82d192fd1eb1>, line 3)",
     "output_type": "error",
     "traceback": [
      "\u001b[0;36m  File \u001b[0;32m\"<ipython-input-24-82d192fd1eb1>\"\u001b[0;36m, line \u001b[0;32m3\u001b[0m\n\u001b[0;31m    exponentiate(number = 2, 3)\u001b[0m\n\u001b[0m                            ^\u001b[0m\n\u001b[0;31mSyntaxError\u001b[0m\u001b[0;31m:\u001b[0m positional argument follows keyword argument\n"
     ]
    }
   ],
   "source": [
    "# Note: once you have a keyword argument, \n",
    "# you can't have other positional arguments afterwards\n",
    "# this cell will produce an error\n",
    "exponentiate(number = 2, 3)"
   ]
  },
  {
   "cell_type": "markdown",
   "metadata": {},
   "source": [
    "## Docstrings\n",
    "\n",
    "So far, we've mainly focused on writing code that will execute; however, it's important that your code executes *and* that other people know how to use it. We'll talk more extensively about documentation later, but we'll introduce one piece of documentation now: the **docstring**.\n",
    "\n",
    "Docstrings allow you to include documentation within the function itself informing others of what the function does.\n",
    "\n",
    "Docstrings are specified by text within triple quotes in the first line after your function is defined.\n",
    "\n",
    "For example, in the example here, `\"\"\"return list of dictionary values\"\"\"` is the docstring:"
   ]
  },
  {
   "cell_type": "code",
   "execution_count": 1,
   "metadata": {},
   "outputs": [],
   "source": [
    "def list_dictionary(my_dictionary):\n",
    "    \"\"\"return list of dictionary values\"\"\"\n",
    "    \n",
    "    # create empty list\n",
    "    output = []\n",
    "    \n",
    "    # loop through dictionary input\n",
    "    for item in my_dictionary:\n",
    "        value = my_dictionary[item]\n",
    "        output.append(value)\n",
    "    \n",
    "    return output"
   ]
  },
  {
   "cell_type": "markdown",
   "metadata": {},
   "source": [
    "To access this documentation within a Jupyter notebook, you can now use the familiar help (`?`) after the name of the function: `list_dictionary?`."
   ]
  },
  {
   "cell_type": "markdown",
   "metadata": {
    "collapsed": true,
    "slideshow": {
     "slide_type": "slide"
    }
   },
   "source": [
    "## Exercises\n",
    "\n",
    "Q1. **Given the function here, what would `print(remainder(12, 5) + remainder(2, 2))` return?**\n",
    "\n",
    "```python\n",
    "def remainder(number, divider):\n",
    "    \n",
    "    r = number % divider\n",
    "    \n",
    "    return r\n",
    "```\n",
    "\n",
    "Q2. **Write a function `greet` that takes the parameter `name`. Inside the function, concatenate 'Hello', the person's name, and 'Good morning!\". Assign this to `output` and return `output`.**\n",
    "<br>\n",
    "\n",
    "Q3. **Update your `greet` function to include an informative docstring**.\n",
    "<br>\n",
    "\n",
    "Q4. **Given the following, what would `print_numbers(5, 12.2)` print?**\n",
    "\n",
    "```python\n",
    "an_int = 2\n",
    "a_float = 11.5\n",
    "\n",
    "def print_numbers(an_int, a_float):\n",
    "    print(an_int, ',', a_float)\n",
    "```\n",
    "\n",
    "Q5. **Given the following function, what would `string_manipulator('abcde')` return?**\n",
    "\n",
    "```python\n",
    "def string_manipulator(string):\n",
    "    \n",
    "    output = ''\n",
    "    for char in string:\n",
    "        if char == 'a' or char == 'e':\n",
    "            char = 'z' \n",
    "        output = output + char\n",
    "    \n",
    "    return output\n",
    "```\n",
    "\n",
    "Q6. **Given the following function, what would `exponentiate(exponent = 2, number = 4)` return**?\n",
    "\n",
    "```python\n",
    "def exponentiate(number, exponent = 2):    \n",
    "    return number ** exponent\n",
    "```"
   ]
  }
 ],
 "metadata": {
  "kernelspec": {
   "display_name": "Python 3",
   "language": "python",
   "name": "python3"
  },
  "language_info": {
   "codemirror_mode": {
    "name": "ipython",
    "version": 3
   },
   "file_extension": ".py",
   "mimetype": "text/x-python",
   "name": "python",
   "nbconvert_exporter": "python",
   "pygments_lexer": "ipython3",
   "version": "3.7.0"
  }
 },
 "nbformat": 4,
 "nbformat_minor": 2
}
