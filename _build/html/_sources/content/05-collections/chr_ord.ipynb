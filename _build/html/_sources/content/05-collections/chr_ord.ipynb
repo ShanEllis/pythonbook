{
 "cells": [
  {
   "cell_type": "markdown",
   "id": "14184b65-5cb0-47f3-9d13-29c11f6442cc",
   "metadata": {},
   "source": [
    "# `chr` and `ord`"
   ]
  },
  {
   "cell_type": "markdown",
   "id": "456b94f2-bbf8-4722-b628-288d0ef1ca53",
   "metadata": {},
   "source": [
    "## Unicode\n",
    "\n",
    "<div class=\"alert alert-success\">\n",
    "Unicode is a system of systematically and consistently representing characters. \n",
    "</div>\n",
    "\n",
    "Every character has a unicode `code point` - an integer that can be used to represent that character. \n",
    "\n",
    "If a computer is using unicode, it displays a requested character by following the unicode encodings of which `code point` refers to which character. "
   ]
  },
  {
   "cell_type": "code",
   "execution_count": 6,
   "id": "c236bc3e-a938-4460-a934-c1fa5884f764",
   "metadata": {
    "editable": true,
    "slideshow": {
     "slide_type": ""
    },
    "tags": [
     "remove-input"
    ]
   },
   "outputs": [
    {
     "data": {
      "text/html": [
       "<iframe id=\"kaltura_player\" type=\"text/javascript\"  src='https://cdnapisec.kaltura.com/p/2323111/embedPlaykitJs/uiconf_id/52706832?iframeembed=true&entry_id=1_j23ezcvx&config[provider]={\"widgetId\":\"1_xr8o936d\"}'  style=\"width: 800px;height: 450px;border: 0;\" allowfullscreen webkitallowfullscreen mozAllowFullScreen allow=\"autoplay *; fullscreen *; encrypted-media *\" sandbox=\"allow-forms allow-same-origin allow-scripts allow-top-navigation allow-pointer-lock allow-popups allow-modals allow-orientation-lock allow-popups-to-escape-sandbox allow-presentation allow-top-navigation-by-user-activation\" title=\"Kaltura Player\"></iframe>\n"
      ],
      "text/plain": [
       "<IPython.core.display.HTML object>"
      ]
     },
     "metadata": {},
     "output_type": "display_data"
    }
   ],
   "source": [
    "%%HTML\n",
    "<iframe id=\"kaltura_player\" type=\"text/javascript\"  src='https://cdnapisec.kaltura.com/p/2323111/embedPlaykitJs/uiconf_id/52706832?iframeembed=true&entry_id=1_j23ezcvx&config[provider]={\"widgetId\":\"1_xr8o936d\"}'  style=\"width: 800px;height: 450px;border: 0;\" allowfullscreen webkitallowfullscreen mozAllowFullScreen allow=\"autoplay *; fullscreen *; encrypted-media *\" sandbox=\"allow-forms allow-same-origin allow-scripts allow-top-navigation allow-pointer-lock allow-popups allow-modals allow-orientation-lock allow-popups-to-escape-sandbox allow-presentation allow-top-navigation-by-user-activation\" title=\"Kaltura Player\"></iframe>"
   ]
  },
  {
   "cell_type": "markdown",
   "id": "e019d99a-140f-4f14-a699-c680c251f8da",
   "metadata": {},
   "source": [
    "### ORD & CHR\n",
    "\n",
    "<div class=\"alert alert-success\">\n",
    "<b>ord</b> returns the unicode code point for a one-character string.\n",
    "</div>\n",
    "\n",
    "<div class=\"alert alert-success\"> \n",
    "<b>chr</b> returns the character encoding of a code point. \n",
    "</div>"
   ]
  },
  {
   "cell_type": "markdown",
   "id": "00116e16-9bfe-4542-bcc0-3bdb98a8e3f5",
   "metadata": {},
   "source": [
    "### ord & chr examples"
   ]
  },
  {
   "cell_type": "markdown",
   "id": "813e20bf-7a1d-476c-8e89-4bb4d39fc485",
   "metadata": {},
   "source": [
    "`ord` will always take in a *single* character as a string as input and will always return the code point integer that corresponds to that character:"
   ]
  },
  {
   "cell_type": "code",
   "execution_count": 1,
   "id": "3b1f2755-8b7a-438c-8d78-0c130ad262f2",
   "metadata": {
    "scrolled": true
   },
   "outputs": [
    {
     "data": {
      "text/plain": [
       "97"
      ]
     },
     "execution_count": 1,
     "metadata": {},
     "output_type": "execute_result"
    }
   ],
   "source": [
    "ord('a')"
   ]
  },
  {
   "cell_type": "code",
   "execution_count": 2,
   "id": "de00ac12-19ef-4b80-b33f-00959f23ff44",
   "metadata": {
    "scrolled": true
   },
   "outputs": [
    {
     "data": {
      "text/plain": [
       "38"
      ]
     },
     "execution_count": 2,
     "metadata": {},
     "output_type": "execute_result"
    }
   ],
   "source": [
    "ord('&')"
   ]
  },
  {
   "cell_type": "markdown",
   "id": "8b911c89-3346-4bfb-9f5f-c03994e96756",
   "metadata": {},
   "source": [
    "Conversely, `chr` will always take in a single integer and return the character associated with that code point integer:"
   ]
  },
  {
   "cell_type": "code",
   "execution_count": 4,
   "id": "4b93c947-d70a-4966-83ab-950d10da3def",
   "metadata": {},
   "outputs": [
    {
     "data": {
      "text/plain": [
       "'a'"
      ]
     },
     "execution_count": 4,
     "metadata": {},
     "output_type": "execute_result"
    }
   ],
   "source": [
    "chr(97)"
   ]
  },
  {
   "cell_type": "code",
   "execution_count": 3,
   "id": "bf24eab7-14ce-451d-9d97-5dd00110ae24",
   "metadata": {},
   "outputs": [
    {
     "data": {
      "text/plain": [
       "'&'"
      ]
     },
     "execution_count": 3,
     "metadata": {},
     "output_type": "execute_result"
    }
   ],
   "source": [
    "chr(38)"
   ]
  },
  {
   "cell_type": "markdown",
   "id": "3cd8140a-5a9f-4aeb-b719-d2f648940ad3",
   "metadata": {},
   "source": [
    "### Inverses\n",
    "\n",
    "More explicitly, `ord` and `chr` are inverses of one another. Consider the following example:"
   ]
  },
  {
   "cell_type": "code",
   "execution_count": 5,
   "id": "c03387ed-89fe-4baa-b25a-335108463212",
   "metadata": {},
   "outputs": [
    {
     "name": "stdout",
     "output_type": "stream",
     "text": [
      "b b\n"
     ]
    }
   ],
   "source": [
    "inp = 'b'\n",
    "out = chr(ord(inp))\n",
    "\n",
    "print(inp, out)"
   ]
  },
  {
   "cell_type": "markdown",
   "id": "0cbaa612-698b-467a-a4c0-d484687510b0",
   "metadata": {},
   "source": [
    "Taking `ord('b')` returns the unicode code point assicoated with the character 'b', which is the number 98. But, if you then take the `chr(98)` you get back the original character you started with, 'b'."
   ]
  }
 ],
 "metadata": {
  "kernelspec": {
   "display_name": "Python 3 (ipykernel)",
   "language": "python",
   "name": "python3"
  },
  "language_info": {
   "codemirror_mode": {
    "name": "ipython",
    "version": 3
   },
   "file_extension": ".py",
   "mimetype": "text/x-python",
   "name": "python",
   "nbconvert_exporter": "python",
   "pygments_lexer": "ipython3",
   "version": "3.11.8"
  }
 },
 "nbformat": 4,
 "nbformat_minor": 5
}
