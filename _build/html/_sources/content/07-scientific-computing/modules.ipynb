{
 "cells": [
  {
   "cell_type": "markdown",
   "id": "6a78c9e4",
   "metadata": {},
   "source": [
    "# Modules \n",
    "\n",
    "Having now introduced the idea that objects can have attributes and associated methods, as we saw with `date` and `datetime` type objects, let's briefly discuss modules, which provide users access to functions and objects for carrying out particular tasks before we see how to define our own object types in the next chapter. "
   ]
  },
  {
   "cell_type": "markdown",
   "id": "b1b13c5c",
   "metadata": {},
   "source": [
    "## modules & imports\n",
    "\n",
    "**Modules** are files that store python code that can be `import`ed into your Namespace for use. Specifically, in the last chapter we `import`ed from the `datetime` module without really discussing what that meant. We'll pause here to ensure that we understand what modules are, what modules are available to you, and how `import`s work.\n",
    "\n",
    "<div class=\"alert alert-success\">\n",
    "A <b>module</b> is a set of Python code with functions, classes, etc. available in it. A Python <b>package</b> is a directory of modules.\n",
    "</div>\n",
    "\n",
    "In hte last chapter when we specified `from datetime import date` this indicated that we wanted to `import`, meaning make available in my current Namespace the `date` object. However, we need to indicate to python *where* t find the `class` definition for that object type. In this statement we indicated that it could be found in the `datetime` module. Upon executing this `import` statement, one can then use the `date` type object. "
   ]
  },
  {
   "cell_type": "markdown",
   "id": "59653765",
   "metadata": {},
   "source": [
    "### Why `import`? \n",
    "\n",
    "<div class=\"alert alert-success\">\n",
    "<code>import</code> is a keyword to import external code into the local namespace.\n",
    "</div>\n",
    "\n",
    "There is *a lot* of Python code out in the world, with different people using Python for vastly different tasks. For example, the functions/classes used by a neuroscientist analyzing brain imaging data would be vastly different than the functions/classes being used by a software engineer developing an app. Therefore, you wouldn't want Python to make *all* code ever written available on installation. First, that would take a long time, making python take a long time to open up. Second, there are only so many different function names. Certain modules/packages could have functions/classes with the same names. If they were all installed at once, it would be hard to figure out exactly which function/class had been imported most recently, and thus would break programs.\n",
    "\n",
    "To avoid these issues, Python only front-loads those functions and object types that are commonly used across all Python programmers (i.e. `range`, `len`, `type`, `list`, `int`, etc.), requiring any additional functionality to be `import`ed prior to use."
   ]
  },
  {
   "cell_type": "markdown",
   "id": "5fa0060d",
   "metadata": {},
   "source": [
    "### What's available? \n",
    "\n",
    "Some modules are available with every single python installation. These tend to be general use modules, or things that many different Python programmers will find useful, regardless of their specific field. These modules and the functionality within them can be `import`ed at any time so long as Python has been installed. These modules are said to be part of the Python **standard library**. All of these modules are listed [here](https://docs.python.org/3/library/); however, we'll note a few of the most-commonly used here and describe when they're helpful:\n",
    "\n",
    "- `random` - to \"generate psuedo-random numbers\" and carry out tasks with randomness (i.e. selecting a value at random from a collection)\n",
    "- `collections` - for common operations with collections (dict, tuple, list, etc.)\n",
    "- `datetime` - for operating with dates\n",
    "- `math` - for carrying out mathematical operations\n",
    "- `os` - for interfacing with your operating system (including file system)\n",
    "- `re` - for operating on regular expressions\n",
    "\n",
    "These, and all modules that are part of the standard library can be `import`ed, after which their functionality is available in your current Namespace."
   ]
  },
  {
   "cell_type": "markdown",
   "id": "0797a54b",
   "metadata": {},
   "source": [
    "### How to `import`?\n",
    "\n",
    "Prior to `import`ing a module, its functionality will not be available in your namespace. For example, prior to importing the `math` module if you ask what type of object `math` is, an error will be returned, as `math` is not yet in your current Namespace:"
   ]
  },
  {
   "cell_type": "code",
   "execution_count": 1,
   "id": "a0cce186",
   "metadata": {
    "scrolled": true
   },
   "outputs": [
    {
     "ename": "NameError",
     "evalue": "name 'math' is not defined",
     "output_type": "error",
     "traceback": [
      "\u001b[0;31m---------------------------------------------------------------------------\u001b[0m",
      "\u001b[0;31mNameError\u001b[0m                                 Traceback (most recent call last)",
      "\u001b[0;32m<ipython-input-1-0a474bb83797>\u001b[0m in \u001b[0;36m<module>\u001b[0;34m\u001b[0m\n\u001b[1;32m      1\u001b[0m \u001b[0;31m# we haven't imported the module yet\u001b[0m\u001b[0;34m\u001b[0m\u001b[0;34m\u001b[0m\u001b[0;34m\u001b[0m\u001b[0m\n\u001b[1;32m      2\u001b[0m \u001b[0;31m# this code fails if you haven't yet imported math\u001b[0m\u001b[0;34m\u001b[0m\u001b[0;34m\u001b[0m\u001b[0;34m\u001b[0m\u001b[0m\n\u001b[0;32m----> 3\u001b[0;31m \u001b[0mtype\u001b[0m\u001b[0;34m(\u001b[0m\u001b[0mmath\u001b[0m\u001b[0;34m)\u001b[0m\u001b[0;34m\u001b[0m\u001b[0;34m\u001b[0m\u001b[0m\n\u001b[0m",
      "\u001b[0;31mNameError\u001b[0m: name 'math' is not defined"
     ]
    }
   ],
   "source": [
    "# we haven't imported the module yet\n",
    "# this code fails if you haven't yet imported math\n",
    "type(math)"
   ]
  },
  {
   "cell_type": "markdown",
   "id": "641afd2e",
   "metadata": {},
   "source": [
    "To access the `math` module, it must first be imported into your current Namespace. Most simply this can be done with the general syntax: `import module_name`. For example, to import the `math` module, you could use the following:"
   ]
  },
  {
   "cell_type": "code",
   "execution_count": 2,
   "id": "dd72f92a",
   "metadata": {},
   "outputs": [],
   "source": [
    "import math"
   ]
  },
  {
   "cell_type": "markdown",
   "id": "f38cd087",
   "metadata": {},
   "source": [
    "The above imports the `math` module into your current namespace, such that if you, at this point, check for the `type` of math, an error is no longer returned, as `math` has been `import`ed."
   ]
  },
  {
   "cell_type": "code",
   "execution_count": 3,
   "id": "ae6d1177",
   "metadata": {},
   "outputs": [
    {
     "data": {
      "text/plain": [
       "module"
      ]
     },
     "execution_count": 3,
     "metadata": {},
     "output_type": "execute_result"
    }
   ],
   "source": [
    "# Check the type of math\n",
    "type(math)"
   ]
  },
  {
   "cell_type": "markdown",
   "id": "0cf52b9d",
   "metadata": {},
   "source": [
    "By importing, we now have access to the functionality within this module. For example, the `math` module includes a function `sqrt` for calculating the square root of a number. \n",
    "\n",
    "To execute a function from a module, you must first specify the module name, followed by a `.` and then the function to be executed:"
   ]
  },
  {
   "cell_type": "code",
   "execution_count": 4,
   "id": "4c72161a",
   "metadata": {},
   "outputs": [
    {
     "data": {
      "text/plain": [
       "3.0"
      ]
     },
     "execution_count": 4,
     "metadata": {},
     "output_type": "execute_result"
    }
   ],
   "source": [
    "math.sqrt(9)"
   ]
  },
  {
   "cell_type": "markdown",
   "id": "8a639bcf",
   "metadata": {},
   "source": [
    "### What functionality is available?\n",
    "\n",
    "While it can be intimidating at first, much of the functionality in these commonly-used modules will become familiar over time. However, you can always look up what's available within a module using the `dir()` function, which returns all available attributes, functions, and methods of a given module/function/class.\n",
    "\n",
    "For example, for the `math` module, we see a handful of different functions/attributes, including `sqrt()`, which we used above. (We'll ignore the \"dunder\"s (double underscores) for now.)"
   ]
  },
  {
   "cell_type": "code",
   "execution_count": 6,
   "id": "1df6ed71",
   "metadata": {},
   "outputs": [
    {
     "data": {
      "text/plain": [
       "['__doc__',\n",
       " '__file__',\n",
       " '__loader__',\n",
       " '__name__',\n",
       " '__package__',\n",
       " '__spec__',\n",
       " 'acos',\n",
       " 'acosh',\n",
       " 'asin',\n",
       " 'asinh',\n",
       " 'atan',\n",
       " 'atan2',\n",
       " 'atanh',\n",
       " 'ceil',\n",
       " 'copysign',\n",
       " 'cos',\n",
       " 'cosh',\n",
       " 'degrees',\n",
       " 'e',\n",
       " 'erf',\n",
       " 'erfc',\n",
       " 'exp',\n",
       " 'expm1',\n",
       " 'fabs',\n",
       " 'factorial',\n",
       " 'floor',\n",
       " 'fmod',\n",
       " 'frexp',\n",
       " 'fsum',\n",
       " 'gamma',\n",
       " 'gcd',\n",
       " 'hypot',\n",
       " 'inf',\n",
       " 'isclose',\n",
       " 'isfinite',\n",
       " 'isinf',\n",
       " 'isnan',\n",
       " 'ldexp',\n",
       " 'lgamma',\n",
       " 'log',\n",
       " 'log10',\n",
       " 'log1p',\n",
       " 'log2',\n",
       " 'modf',\n",
       " 'nan',\n",
       " 'pi',\n",
       " 'pow',\n",
       " 'radians',\n",
       " 'remainder',\n",
       " 'sin',\n",
       " 'sinh',\n",
       " 'sqrt',\n",
       " 'tan',\n",
       " 'tanh',\n",
       " 'tau',\n",
       " 'trunc']"
      ]
     },
     "execution_count": 6,
     "metadata": {},
     "output_type": "execute_result"
    }
   ],
   "source": [
    "dir(math)"
   ]
  },
  {
   "cell_type": "markdown",
   "id": "dfce0116",
   "metadata": {},
   "source": [
    "### `import`s: `from` & `as`\n",
    "\n",
    "Above we specified `import module_name` and then provided access to all functionality within the module specified. However, sometimes you know there's only a single function or single object type that you want to use in your code. In those cases, there's no need to `import` the *entire* module. Instead, we can use `from` to *only* `import` the objects we intend to use in our code. \n",
    "\n",
    "<div class=\"alert alert-success\">\n",
    "<code>from</code> allows us to decide exactly what objects to import into our Namespace\n",
    "</div>"
   ]
  },
  {
   "cell_type": "markdown",
   "id": "78fd4e6c",
   "metadata": {},
   "source": [
    "For example, if the *only* thing we wanted to use from the `random` module was the `choice` function, rather than using the `import` statement `import random`, which would provide access to the entire `random` module in our Namespace, we can instead use the general syntax `from module_name import function`:"
   ]
  },
  {
   "cell_type": "code",
   "execution_count": 7,
   "id": "290beab9",
   "metadata": {},
   "outputs": [],
   "source": [
    "from random import choice"
   ]
  },
  {
   "cell_type": "markdown",
   "id": "2f08a39e",
   "metadata": {},
   "source": [
    "When we specify specifically what it is we want to import, when we go to execute (use) this function, we no longer have to first specify the module name. Rather, we can call the function directly:"
   ]
  },
  {
   "cell_type": "code",
   "execution_count": 8,
   "id": "c51775a2",
   "metadata": {},
   "outputs": [
    {
     "data": {
      "text/plain": [
       "'a'"
      ]
     },
     "execution_count": 8,
     "metadata": {},
     "output_type": "execute_result"
    }
   ],
   "source": [
    "choice(['a', 'b', 'c', 'd', 'e'])"
   ]
  },
  {
   "cell_type": "markdown",
   "id": "844a5c3f",
   "metadata": {},
   "source": [
    "Note that the above function chooses a value at random from the list. Thus, if you're following along, you likely won't see the same specific output value; however, the value you see will be a character between 'a' and 'e' as those are the values from which `choice` is choosing one at random."
   ]
  },
  {
   "cell_type": "markdown",
   "id": "31405bf2",
   "metadata": {},
   "source": [
    "Similarly, `as` allows for users to specify what name should be used in your code for an object that is imported. This can be helpful when 1) the names of an object to be used is really long and 2) when there are multiple objects with the same name, avoiding confusion.\n",
    "\n",
    "<div class=\"alert alert-success\">\n",
    "<code>as</code> allows us to decide exactly what name to use for a module's functionality in our Namespace.\n",
    "</div>\n",
    "\n",
    "For example, `collections` is a bit long. If you wanted to `import` all the functionality from that module into your Namespace, but didn't want to have to type `collections` every time you wanted to use an object from that module, you could instead `import` the module as follows: "
   ]
  },
  {
   "cell_type": "code",
   "execution_count": 9,
   "id": "d3e27122",
   "metadata": {},
   "outputs": [],
   "source": [
    "import collections as cols"
   ]
  },
  {
   "cell_type": "markdown",
   "id": "65802680",
   "metadata": {},
   "source": [
    "The above would import all the functionality from the `collections` module into your Namespace; however, it would use the name `cols`, instead of `collections`. Thus, if you attempted to access the functionality by referring to `collections`, the following would error (as `collections` has not been imported by that name):"
   ]
  },
  {
   "cell_type": "code",
   "execution_count": 10,
   "id": "16eae1d8",
   "metadata": {
    "scrolled": true
   },
   "outputs": [
    {
     "ename": "NameError",
     "evalue": "name 'collections' is not defined",
     "output_type": "error",
     "traceback": [
      "\u001b[0;31m---------------------------------------------------------------------------\u001b[0m",
      "\u001b[0;31mNameError\u001b[0m                                 Traceback (most recent call last)",
      "\u001b[0;32m<ipython-input-10-830361e86375>\u001b[0m in \u001b[0;36m<module>\u001b[0;34m\u001b[0m\n\u001b[1;32m      1\u001b[0m \u001b[0;31m# this will produce an error\u001b[0m\u001b[0;34m\u001b[0m\u001b[0;34m\u001b[0m\u001b[0;34m\u001b[0m\u001b[0m\n\u001b[0;32m----> 2\u001b[0;31m \u001b[0mdir\u001b[0m\u001b[0;34m(\u001b[0m\u001b[0mcollections\u001b[0m\u001b[0;34m)\u001b[0m\u001b[0;34m\u001b[0m\u001b[0;34m\u001b[0m\u001b[0m\n\u001b[0m",
      "\u001b[0;31mNameError\u001b[0m: name 'collections' is not defined"
     ]
    }
   ],
   "source": [
    "# this will produce an error\n",
    "dir(collections)"
   ]
  },
  {
   "cell_type": "markdown",
   "id": "2c4b2d92",
   "metadata": {},
   "source": [
    "However, the following would provide you with information about the functionality in the `collections` module, since it was imported using the short name `cols`:"
   ]
  },
  {
   "cell_type": "code",
   "execution_count": 11,
   "id": "fa007b2d",
   "metadata": {},
   "outputs": [
    {
     "data": {
      "text/plain": [
       "['ChainMap',\n",
       " 'Counter',\n",
       " 'OrderedDict',\n",
       " 'UserDict',\n",
       " 'UserList',\n",
       " 'UserString',\n",
       " '_Link',\n",
       " '_OrderedDictItemsView',\n",
       " '_OrderedDictKeysView',\n",
       " '_OrderedDictValuesView',\n",
       " '__all__',\n",
       " '__builtins__',\n",
       " '__cached__',\n",
       " '__doc__',\n",
       " '__file__',\n",
       " '__getattr__',\n",
       " '__loader__',\n",
       " '__name__',\n",
       " '__package__',\n",
       " '__path__',\n",
       " '__spec__',\n",
       " '_chain',\n",
       " '_collections_abc',\n",
       " '_count_elements',\n",
       " '_eq',\n",
       " '_heapq',\n",
       " '_iskeyword',\n",
       " '_itemgetter',\n",
       " '_nt_itemgetters',\n",
       " '_proxy',\n",
       " '_recursive_repr',\n",
       " '_repeat',\n",
       " '_starmap',\n",
       " '_sys',\n",
       " 'abc',\n",
       " 'defaultdict',\n",
       " 'deque',\n",
       " 'namedtuple']"
      ]
     },
     "execution_count": 11,
     "metadata": {},
     "output_type": "execute_result"
    }
   ],
   "source": [
    "dir(cols)"
   ]
  },
  {
   "cell_type": "markdown",
   "id": "f2cd0d41",
   "metadata": {},
   "source": [
    "Note that `from` `import` and `as` can be used in concert. For example,"
   ]
  },
  {
   "cell_type": "code",
   "execution_count": 12,
   "id": "c8383259",
   "metadata": {},
   "outputs": [],
   "source": [
    "from string import punctuation as punc"
   ]
  },
  {
   "cell_type": "markdown",
   "id": "88233fdb",
   "metadata": {},
   "source": [
    "the above statement `import`s the `punctuation` object from the `string` module, giving it the short name `punc` in our current Namespace.\n",
    "\n",
    "<div class=\"alert alert-danger\">\n",
    "Warning: The order will always be `from` -> `import` -> `as`. <code>import ascii_letters from string</code>, for example, will provide an error, as the <code>from</code> statement comes <it>after</it> the <code>import</code> statement.\n",
    "</div>"
   ]
  },
  {
   "cell_type": "markdown",
   "id": "a05240c3",
   "metadata": {},
   "source": [
    "### `*` `imports`\n",
    "\n",
    "Occasionally you will see `from module_name import *`, where the `*` acts as a wildcard, meaning \"everything\". The statement `from module_name import *` should be read as \"import everything from module_name\"; however, this is generally bad practice. The reason for this is because later in your code when you refer to and use an object from the module, it will be unclear *where* that function came from, given the use of the wildcard. \n",
    "\n",
    "\n",
    "<div class=\"alert alert-danger\">\n",
    "Warning: <code>*</code> <code>imports</code> are to be avoided.\n",
    "</div>"
   ]
  },
  {
   "cell_type": "code",
   "execution_count": 14,
   "id": "513f20e9",
   "metadata": {},
   "outputs": [
    {
     "data": {
      "text/plain": [
       "['BPF',\n",
       " 'LOG4',\n",
       " 'NV_MAGICCONST',\n",
       " 'RECIP_BPF',\n",
       " 'Random',\n",
       " 'SG_MAGICCONST',\n",
       " 'SystemRandom',\n",
       " 'TWOPI',\n",
       " '_BuiltinMethodType',\n",
       " '_MethodType',\n",
       " '_Sequence',\n",
       " '_Set',\n",
       " '__all__',\n",
       " '__builtins__',\n",
       " '__cached__',\n",
       " '__doc__',\n",
       " '__file__',\n",
       " '__loader__',\n",
       " '__name__',\n",
       " '__package__',\n",
       " '__spec__',\n",
       " '_acos',\n",
       " '_bisect',\n",
       " '_ceil',\n",
       " '_cos',\n",
       " '_e',\n",
       " '_exp',\n",
       " '_inst',\n",
       " '_itertools',\n",
       " '_log',\n",
       " '_os',\n",
       " '_pi',\n",
       " '_random',\n",
       " '_sha512',\n",
       " '_sin',\n",
       " '_sqrt',\n",
       " '_test',\n",
       " '_test_generator',\n",
       " '_urandom',\n",
       " '_warn',\n",
       " 'betavariate',\n",
       " 'choice',\n",
       " 'choices',\n",
       " 'expovariate',\n",
       " 'gammavariate',\n",
       " 'gauss',\n",
       " 'getrandbits',\n",
       " 'getstate',\n",
       " 'lognormvariate',\n",
       " 'normalvariate',\n",
       " 'paretovariate',\n",
       " 'randint',\n",
       " 'random',\n",
       " 'randrange',\n",
       " 'sample',\n",
       " 'seed',\n",
       " 'setstate',\n",
       " 'shuffle',\n",
       " 'triangular',\n",
       " 'uniform',\n",
       " 'vonmisesvariate',\n",
       " 'weibullvariate']"
      ]
     },
     "execution_count": 14,
     "metadata": {},
     "output_type": "execute_result"
    }
   ],
   "source": [
    "import random \n",
    "dir(random)"
   ]
  },
  {
   "cell_type": "markdown",
   "id": "49656f99",
   "metadata": {},
   "source": [
    "## Exercises\n",
    "\n",
    "Q1. **Which of the following is NOT a valid Python `import` statement?**\n",
    "\n",
    "- A) `import collections as col`\n",
    "- B) `from statistics import mean as average`\n",
    "- B) `from os import path`\n",
    "- D) `from random import choice, choices`\n",
    "- E) `import ascii_letters from string`\n",
    "\n",
    "Q2. **If the statement `import random` were used, how would one specify use of the `sample` function from that module?** \n",
    "\n",
    "- A) `import sample`\n",
    "- B) `random.sample()`\n",
    "- B) `sample()`\n",
    "- D) `rand.sample()`\n",
    "- E) `from random sample()`\n",
    "\n",
    "Q3. **If the statement `from math import sqrt` were used, how would one specify use of the `sqrt` function from that module?** \n",
    "\n",
    "- A) `from math sqrt()`\n",
    "- B) `import sqrt`\n",
    "- B) `m.sqrt()`\n",
    "- D) `math.sqrt()`\n",
    "- E) `sqrt()`"
   ]
  }
 ],
 "metadata": {
  "kernelspec": {
   "display_name": "Python 3",
   "language": "python",
   "name": "python3"
  },
  "language_info": {
   "codemirror_mode": {
    "name": "ipython",
    "version": 3
   },
   "file_extension": ".py",
   "mimetype": "text/x-python",
   "name": "python",
   "nbconvert_exporter": "python",
   "pygments_lexer": "ipython3",
   "version": "3.7.7"
  }
 },
 "nbformat": 4,
 "nbformat_minor": 5
}
