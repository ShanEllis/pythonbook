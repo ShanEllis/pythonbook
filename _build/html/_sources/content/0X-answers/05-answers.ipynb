{
 "cells": [
  {
   "cell_type": "markdown",
   "id": "97013937",
   "metadata": {},
   "source": [
    "# Answers: Classes\n",
    "\n",
    "Provided here are answers to the practice questions at the end of \"Classes\"."
   ]
  },
  {
   "cell_type": "code",
   "execution_count": null,
   "id": "b3d15428",
   "metadata": {},
   "outputs": [],
   "source": []
  }
 ],
 "metadata": {
  "kernelspec": {
   "display_name": "Python 3",
   "language": "python",
   "name": "python3"
  },
  "language_info": {
   "codemirror_mode": {
    "name": "ipython",
    "version": 3
   },
   "file_extension": ".py",
   "mimetype": "text/x-python",
   "name": "python",
   "nbconvert_exporter": "python",
   "pygments_lexer": "ipython3",
   "version": "3.7.7"
  }
 },
 "nbformat": 4,
 "nbformat_minor": 5
}
