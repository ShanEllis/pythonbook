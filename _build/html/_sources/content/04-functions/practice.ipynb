{
 "cells": [
  {
   "cell_type": "markdown",
   "id": "81dea3a9",
   "metadata": {},
   "source": [
    "# Practice: Functions\n",
    "\n",
    "In this set of practice problems, it's all about functions - how to execute them, how to write our own functions, and how to debug functions.\n",
    "\n",
    "As for all practice sections, each question will include a handful of `assert` statements. After you write and execute the code to each question, each `assert` should \"pass silently\" (meaning: should give no output upon execution) indicating that you are on the right track. After you've written your code and run the `assert`s, you can always check your answers, as the answers to these questions are included in the \"Answers\" chapter of this book."
   ]
  },
  {
   "cell_type": "markdown",
   "id": "3e778559",
   "metadata": {},
   "source": [
    "## Function Execution"
   ]
  },
  {
   "cell_type": "markdown",
   "id": "2b5095d6",
   "metadata": {},
   "source": [
    "**Function Execution 1**. The function `square_default` has been provided for you. After defining the function, execute (use) this function to create the following variables under the specified conditions:\n",
    "\n",
    "1. `square_default` | execute the `square_all` function using the default parameter such that the output will carry out the function on a list of input values containing the integers 2, 3, and 4. \n",
    "2. `power_three` | Use the same input values as above, but this time, use the `square_all` function provided to raise all input values to the power 3\n",
    "3. `out_4` | Execute the `square_all` function such that `out_4` will store a list with 4 values, each of which is the integer 4.\n",
    "\n",
    "Function provided:\n",
    "```python\n",
    "def square_all(collection, power=2):\n",
    "    \n",
    "    square_list = []\n",
    "    for val in collection:\n",
    "        square_list.append(val**power)\n",
    "    \n",
    "    return square_list\n",
    "```\n",
    "\n",
    "Checks you can use to see if you're on the right track:"
   ]
  },
  {
   "cell_type": "code",
   "execution_count": null,
   "id": "5900f6ba",
   "metadata": {},
   "outputs": [],
   "source": [
    "assert  square_default == [4,9,16]\n",
    "assert power_three  == [8, 27, 64]\n",
    "assert out_4  == [4,4,4,4]"
   ]
  },
  {
   "cell_type": "markdown",
   "id": "5096a8a0",
   "metadata": {},
   "source": [
    "**Function Execution Q2**. The function `convert_temp` has been provided for you. After understanding the code in the function, define the function. Then, execute (use) this function to create the following variables under the specified conditions:\n",
    "\n",
    "1. `tempA` | execute the `convert_temp` function to convert the temperature 95 degrees Fahrenheit into degrees Celsius\n",
    "2. `tempB` | execute `convert_temp` to convert the temperature 17 degrees Celsius into degrees Fahrenheit\n",
    "\n",
    "Provided function:\n",
    "```python\n",
    "def convert_temp(temp, input_unit='F'):\n",
    "    \n",
    "    if input_unit == 'F':\n",
    "        out_temp = (temp - 32) * 5/9\n",
    "    elif input_unit == 'C':\n",
    "        out_temp = (temp * 9/5) + 32\n",
    "    else:\n",
    "        print(\"Please specify either 'F' or 'C' for input_unit\")\n",
    "        \n",
    "    return out_temp\n",
    "```\n",
    "\n",
    "Checks you can use to see if you're on the right track:"
   ]
  },
  {
   "cell_type": "code",
   "execution_count": null,
   "id": "990f1e03",
   "metadata": {},
   "outputs": [],
   "source": [
    "assert tempA == 35.0\n",
    "assert tempB == 62.6"
   ]
  },
  {
   "cell_type": "markdown",
   "id": "8273821d",
   "metadata": {},
   "source": [
    "**Function Execution Q3** The function `court_jester_jokes` that has been provided for you. After understanding the code in the function, run the cell below (to define this function). Then, execute (use) this function to create the following variables under the specified conditions:\n",
    "\n",
    "1. `joke_random` | execute the `court_jester_jokes` function to return a joke at random\n",
    "2. `joke_nonrandom` | execute `court_jester_jokes` to return the second joke in `joke_list`\n",
    "\n",
    "Function provided:\n",
    "```python\n",
    "import random\n",
    "\n",
    "def court_jester_jokes(random_joke=True):\n",
    "    joke_list = ['A clown held the door open for me yesterday. I thought it was a nice jester',\n",
    "                 'How does the court jester address the King of Ducks? Mal’Lard',\n",
    "                 'What did the court jester call the balding crown prince? The Heir Apparent with no Hair Apparent',\n",
    "                 'What do you call a joke made by using sign language? A jester']\n",
    "    \n",
    "    if random_joke:\n",
    "        out_joke = random.choice(joke_list)\n",
    "    else:\n",
    "        out_joke = joke_list[1]\n",
    "\n",
    "    return out_joke\n",
    "```"
   ]
  },
  {
   "cell_type": "code",
   "execution_count": null,
   "id": "a597cb1c",
   "metadata": {},
   "outputs": [],
   "source": [
    "jokes = ['A clown held the door open for me yesterday. I thought it was a nice jester',\n",
    "         'How does the court jester address the King of Ducks? Mal’Lard',\n",
    "         'What did the court jester call the balding crown prince? The Heir Apparent with no Hair Apparent',\n",
    "         'What do you call a joke made by using sign language? A jester']\n",
    "assert joke_random in jokes\n",
    "assert joke_nonrandom == 'How does the court jester address the King of Ducks? Mal’Lard'"
   ]
  },
  {
   "cell_type": "markdown",
   "id": "b6c91384",
   "metadata": {},
   "source": [
    "## User-Designed Functions (UDFs)"
   ]
  },
  {
   "cell_type": "markdown",
   "id": "f88c528f",
   "metadata": {},
   "source": [
    "**UDFs Q1** Write a function `provide_info` that takes three parameters: `name`, `year`, and `school`. Set the default value for `school` to be 'UCSD'.\n",
    "\n",
    "This function should `return` the string \"Hi! I'm `name`. I am a `year` at `school`.\" (where the variable names are replaced by the values input to the function upon execution).\n",
    "\n",
    "For example, one possible execution of this function could return \"Hi! I'm Shannon. I am a sophomore at UCSD.\"\n",
    "\n",
    "Note: Be sure punctuation and spacing match that specified in the instructions.\n",
    "\n",
    "Checks you can use to see if you're on the right track:"
   ]
  },
  {
   "cell_type": "code",
   "execution_count": null,
   "id": "512fef4a",
   "metadata": {},
   "outputs": [],
   "source": [
    "assert provide_info(name='Taylor', year='junior', school='UCLA') == \"Hi! I'm Taylor. I am a junior at UCLA.\" \n",
    "assert provide_info(name='Shannon', year='junior') == \"Hi! I'm Shannon. I am a junior at UCSD.\""
   ]
  },
  {
   "cell_type": "markdown",
   "id": "5c25e525",
   "metadata": {},
   "source": [
    "**UDFs Q2**. Write a function `count_int` that will take a tuple or list as the input and count the number (count) of integer values in that tuple/list, returning this value from the function. \n",
    "\n",
    "For example, if 3 of the values in the input list were integers, the function would return 3.\n",
    "\n",
    "Note: You can assume the input to this function will be a tuple or list and do *not* need to write code to check whether or not this is true.\n",
    "\n",
    "Checks you can use to see if you're on the right track:"
   ]
  },
  {
   "cell_type": "code",
   "execution_count": null,
   "id": "22b709b0",
   "metadata": {},
   "outputs": [],
   "source": [
    "assert count_int(['string']) == 0\n",
    "assert count_int((1,2,3,4,5,'string',4.4)) == 5"
   ]
  },
  {
   "cell_type": "markdown",
   "id": "101c4848",
   "metadata": {},
   "source": [
    "**UDFs Q3**. Define a function `modify_string` with a single parameter `input_string`. If any of the characters in the `input_string` to the function are keys in the dictionary `new_language` below, use that key's value in that letter's place. If the letter is not in `new_language`, the resulting string should store the same character.\n",
    "\n",
    "For example, if `my_name` stored 'Shannon', the output from this function would store 'Shӓnnðn' (the a and the o have the modified character from `new_language`)\n",
    "\n",
    "\n",
    "Variable provided:\n",
    "\n",
    "```python\n",
    "new_language = {'a': 'ӓ',\n",
    "                'e' : 'ɚ',\n",
    "                'i' : '¡',\n",
    "                'o' : 'ð', \n",
    "                'u' : 'û',\n",
    "                'A' : 'Ӓ', \n",
    "                'E' : 'ɛ', \n",
    "                'O' : 'Ó', \n",
    "                'U' : 'Ü'}\n",
    "```\n",
    "\n",
    "Checks you can use to see if you're on the right track:"
   ]
  },
  {
   "cell_type": "code",
   "execution_count": null,
   "id": "b862d662",
   "metadata": {},
   "outputs": [],
   "source": [
    "assert modify_string('AaEe') == 'Ӓӓɛɚ'\n",
    "assert modify_string('BbCc') == 'BbCc'\n",
    "assert modify_string('Taylor') == 'Tӓylðr'\n",
    "assert modify_string('AaBbCcEe') == 'ӒӓBbCcɛɚ'"
   ]
  },
  {
   "cell_type": "markdown",
   "id": "62a80b3c",
   "metadata": {},
   "source": [
    "**UDFs Q4** Write a function `calculate_points` that has a single input parameter: `hand`. `hand` can be assumed to be a list of string values, where each string corresponds to a value in a deck of cards (2-10, J, Q, K, or A)\n",
    "\n",
    "This function should calculate the total number of \"pointer\" cars in your hand, where ***a \"pointer\" is either a 10, J, Q, K, or A***. Each \"pointer\" is worth one point. All other cards are worth zero points. The function should `return` the total number of points in the `hand` as an integer.\n",
    "\n",
    "For example, if your `hand` input was: \n",
    "\n",
    "```python\n",
    "['J', '10', '2', '5', 'K']\n",
    "```\n",
    "\n",
    "executing the `calculate_points()` function with the above list as the input to the `hand` parameter, the function would `return` the integer 3 (one point each for the `'J'`, `'10'`, and `'K'`.\n",
    "\n",
    "If there are no pointers in the input `hand`, the function should return 0.\n",
    "\n",
    "Checks you can use to see if you're on the right track:"
   ]
  },
  {
   "cell_type": "code",
   "execution_count": null,
   "id": "7a39b5d3",
   "metadata": {},
   "outputs": [],
   "source": [
    "assert calculate_points(['2', '7', '9']) == 0\n",
    "assert calculate_points(['K']) == 1\n",
    "assert calculate_points(['J', '10', '2', '5', 'K']) == 3"
   ]
  },
  {
   "cell_type": "markdown",
   "id": "e95dbeb0",
   "metadata": {},
   "source": [
    "**UDFs Q5**. Recently, the company you work at ('cogs co.') realized that too many employees have problematic usernames. You're going to write a function (`change_username()`) that takes a single parameter `username` as input. \n",
    "\n",
    "This function will check if the `username` meets the following specifications:\n",
    "- contains more than four characters\n",
    "- includes only letters (A-Z; a-z) and/or numbers (0-9); in other words: is alphanumeric\n",
    "- does NOT include the string 'cogs'\n",
    "\n",
    "If the `username` meets the above specifications, the function will `return` `False` (indicating the username does *not* have to be changed. If any one of the above specifications is not met, the function will `return` `True` (indicating that the `username` does *not* meet at least one of the above specifications).\n",
    "\n",
    "For example, `change_username(username='cogs')` would `return` `True` because it does not contain more than four letters *and* because it includes the string `'cogs'` in its name, while `change_username(username='Shannon')` would return `False`, as this meets all three specifications above. \n",
    "\n",
    "Checks you can use to see if you're on the right track:"
   ]
  },
  {
   "cell_type": "code",
   "execution_count": null,
   "id": "1aa27079",
   "metadata": {},
   "outputs": [],
   "source": [
    "assert change_username('aaaaa') == False\n",
    "assert change_username('aaaa') == True\n",
    "assert change_username('AAAAA') == False\n",
    "assert change_username('12345') == False\n",
    "assert change_username('cogs123') == Trueb"
   ]
  },
  {
   "cell_type": "markdown",
   "id": "598a29b0",
   "metadata": {},
   "source": [
    "**UDFs Q6**. Write a function that, given a salary as input, will `return` how much of that person's salary is going toward taxes.\n",
    "\n",
    "To accomplish this, write a function `to_taxes()` that takes two parameters as input: `salary` and `tax_brackets`. The default value for the `tax_brackets` parameter should be the `default_brackets` dictionary provided below. Then, use code constructs discussed in class to accomplish the above goal.\n",
    "\n",
    "Note that the dictionary `default_brackets` provided will have to be used to accomplish this goal. The keys in `default_brackets` are the proportion of an individual's salary that will go toward taxes if their salary is within the range in a given key's value (tuple). For example, an individual who makes \\$10,000 would contribute 12\\% of their salary in taxes, given the information in `tax_brackets` (specifically becasue 10000 falls between 9876 and 40125).\n",
    "\n",
    "Accordingly, `to_taxes(salary=10000)` should `return` 1200.0 (which corresponds to 12\\% of the input $10,000 salary).\n",
    "\n",
    "Variable provided:\n",
    "\n",
    "```python\n",
    "default_brackets = {0.10 : (0, 9875),\n",
    "                    0.12 : (9876, 40125),\n",
    "                    0.22 : (40126, 85525),\n",
    "                    0.24 : (85526, 163300),\n",
    "                    0.32 : (163301, 207350),\n",
    "                    0.35 : (207351, 518400)\n",
    "                   }\n",
    "```\n",
    "\n",
    "Checks you can use to see if you're on the right track:"
   ]
  },
  {
   "cell_type": "code",
   "execution_count": null,
   "id": "718f682b",
   "metadata": {},
   "outputs": [],
   "source": [
    "assert to_taxes(10000) == 1200.0\n",
    "assert to_taxes(207355) == 72574.25\n",
    "assert to_taxes(40126) == 8827.72\n",
    "assert to_taxes(85525) == 18815.5\n",
    "assert to_taxes(100, tax_brackets={0.5: (0,1000)}) == 50.0"
   ]
  },
  {
   "cell_type": "markdown",
   "id": "d0196ec6-49a6-4339-ab3e-03f114ac4a59",
   "metadata": {},
   "source": [
    "**UDFs Q7**\n",
    "Write a function called `exclaim` that takes two inputs (we’ll assume each to be a string), concatenates them together with a space between them and an exclamation point at the end and returns the result. Then, execute the function to return the string \"Happy Friday!\""
   ]
  },
  {
   "cell_type": "markdown",
   "id": "79218ed4-46ae-4b4f-9750-9b390ed6f524",
   "metadata": {},
   "source": [
    "**UDFs Q8** Write a function called `return_bigger` that will take in two numeric values as inputs and return the larger value from the function. If the numbers are the same value, it will return one of them."
   ]
  },
  {
   "cell_type": "markdown",
   "id": "b4249f5a-1f34-4e6f-99b7-87b4ad94d9bf",
   "metadata": {},
   "source": [
    "**UDFs Q9** (Question author: Jonathan Truong) In a popular video game (if you know, you know), the third round of a match’s half is pivotal to setting the economic tone of the match. This is when the two competing teams must make an important decision in order to maintain economic stability throughout the match. This decision is informed by the outcome of the two prior rounds. Write a function called buy_or_save that takes in two strings as parameters, each representing whether that round was won ('W') or lost ('L'). You don’t need to consider the case when either string parameter doesn’t follow the right format. \n",
    "1. If the team won both rounds, return a message saying that 'The team should save'. \n",
    "2. If the team lost both rounds, return a message saying that 'The team should buy!'.\n",
    "3. If the team won one round but lost the other, return a message saying that 'The team should half-buy'.  \n",
    "> "
   ]
  },
  {
   "cell_type": "markdown",
   "id": "9803cf81-480c-4814-9b4e-37ac93d7d8ea",
   "metadata": {},
   "source": [
    "**UDFs Q10** (Question author: Pheobe Ng) Write a function `matcha` that determines whether the matcha is low-grade, high-grade, or ceremonial-grade matcha. The matcha function should take in two strings as parameters: color and texture. If the color is \"vibrant green\" and the texture is \"fine\", return a message indicating that it is ceremonial-grade matcha. If the color is \"dull green\" and the texture is \"fine\", return a message indicating that it is high-grade matcha. If there are any other answer combinations, return a message indicating that it is low-grade matcha."
   ]
  },
  {
   "cell_type": "markdown",
   "id": "e22561cc-7389-4970-acd0-7f2256cb669e",
   "metadata": {},
   "source": [
    "**UDFs Q11** (Question author: Emanoel Agbayani) Write a function `phone_time` that determines whether the amount of time you’ve spent on your phone is reasonable in a day. The function takes in one input screen_time in hours.  If `screen_time` is a negative value or string, return a string containing a message that it is an invalid input. If `screen_time` is less than 3 hours, return a string that contains positive reinforcement. If `screen_time` is greater than or equal to 4 hours, return a string that contains some form of encouragement to get off their phone. "
   ]
  },
  {
   "cell_type": "markdown",
   "id": "02eef837",
   "metadata": {},
   "source": [
    "## Debugging"
   ]
  },
  {
   "cell_type": "markdown",
   "id": "0b5a1529",
   "metadata": {},
   "source": [
    "**Debugging Q1** The function `count_consonants` is provided, but it is not operating as anticipated.\n",
    "\n",
    "`count_consonants` is _supposed_ to take a string as input and count the number of each consonant in the `input_string` (input parameter), storing the output in a dictionary where the key is the consonant and the value is the number of times it appears in the input. \n",
    "\n",
    "Note that we want capitalization to be considered such that the capital and lower case letters are counted together, and the lower case letter is used as the key (i.e. 'A' and 'a' would both be counted under the key 'a')\n",
    "\n",
    "Specifically, if the `input_string` were \"Mohammed\", the function ould return: `{'m': 3, 'h': 1, 'd': 1}`\n",
    "\n",
    "Debug, edit, and test the function provided so that it accomplishes the intended goal.\n",
    "\n",
    "Function provided:\n",
    "\n",
    "```python\n",
    "def count_consonants():\n",
    "    out = {}\n",
    "    vowels = ['a', 'e', 'i', 'o', 'u']\n",
    "    \n",
    "    for char in input_string:\n",
    "        \n",
    "        if char not in vowels:\n",
    "            if char not in out:\n",
    "                out[char] = 1\n",
    "```\n",
    "\n",
    "Checks you can use to see if you're on the right track:"
   ]
  },
  {
   "cell_type": "code",
   "execution_count": null,
   "id": "e6d46e01",
   "metadata": {},
   "outputs": [],
   "source": [
    "assert count_consonants('Taylor') == {'t': 1, 'y': 1, 'l': 1, 'r': 1}\n",
    "assert count_consonants('AaBbCc') == {'b': 2, 'c': 2}"
   ]
  },
  {
   "cell_type": "markdown",
   "id": "da8549b0",
   "metadata": {},
   "source": [
    "**Debugging Q2** The provided `new_encrypt` function is not operating as anticipated.\n",
    "\n",
    "`new_encrypt` is _supposed_ to take a string as input and return the reverse alphabetical string as output, meaning, given a character, return the capitalized character in the reverse position within the alphabet. \n",
    "\n",
    "For example, if the input character is 'B' or 'b', the function would store 'Y' in the output string. If the character is 'A' or 'a', the function would store 'Z'. (and vice versa: the input 'Z' or 'z' would store 'A').\n",
    "\n",
    "Specifically, if the `input_string` were \"ABc\", the function would `return`: 'ZYX'\n",
    "\n",
    "Debug, edit, and test the function provided below so that it accomplishes the intended goal.\n",
    "\n",
    "Provided function:\n",
    "\n",
    "```python\n",
    "def new_encrypt():\n",
    "    alpha = 'ABCDEFGHIJKLMNOPQRSTUVWXYZ'\n",
    "    reverse_alpha = 'ZYXWVUTSRQPONMLKJIHGFEDCBA'\n",
    "\n",
    "    for char in input_string:\n",
    "        if char in alpha:\n",
    "            position = alpha.find(char)\n",
    "            output_string += reverse_alpha[position]\n",
    "        else:\n",
    "            output_string = None\n",
    "            break\n",
    "```\n",
    "\n",
    "Checks you can use to see if you're on the right track:"
   ]
  },
  {
   "cell_type": "code",
   "execution_count": null,
   "id": "2a8b70c1",
   "metadata": {},
   "outputs": [],
   "source": [
    "assert new_encrypt('mohammed') == 'NLSZNNVW'\n",
    "assert new_encrypt(input_string='ABC') == 'ZYX'"
   ]
  },
  {
   "cell_type": "markdown",
   "id": "e501cc02",
   "metadata": {},
   "source": [
    "**Debugging Q3** The not-totally-functioning `growth_rate()` function is provided for you. The *goal* of this function, is given two population inputs: `last_year`, `this_year`, the function should return the population growth rate for that country.\n",
    "\n",
    "For example, in 2020, China's population was `1439323776`. This year, its population is `1444216107`.\n",
    "\n",
    "Population growth rate is calculated by taking the difference between this year's population minus last year's population, dividng that difference by last year's population, and multiplying the entire quantity by 100.\n",
    "\n",
    "Given China's numbers above and this calculation, we know that this function should return `0.34`...but it's not at this point.\n",
    "\n",
    "Consider the function currently and then debug (you can edit the code provided directly or copy and paste below so you still have the original if needed) to accomplish the task specified above. \n",
    "\n",
    "Note: Do not change the name of the function (`growth_rate`), and the parameter names provided in the instructions (`last_year`, `this_year`) must be used.\n",
    "\n",
    "Function provided:\n",
    "```python\n",
    "def growth_rate(self, this_year, last_year):\n",
    "    self.this_year - self.last_year/self.last_year * 100\n",
    "```"
   ]
  },
  {
   "cell_type": "code",
   "execution_count": null,
   "id": "0c39761d",
   "metadata": {},
   "outputs": [],
   "source": [
    "assert 0 < growth_rate(last_year=331002651,\n",
    "                       this_year=332915073) > 1"
   ]
  }
 ],
 "metadata": {
  "kernelspec": {
   "display_name": "Python 3 (ipykernel)",
   "language": "python",
   "name": "python3"
  },
  "language_info": {
   "codemirror_mode": {
    "name": "ipython",
    "version": 3
   },
   "file_extension": ".py",
   "mimetype": "text/x-python",
   "name": "python",
   "nbconvert_exporter": "python",
   "pygments_lexer": "ipython3",
   "version": "3.11.8"
  }
 },
 "nbformat": 4,
 "nbformat_minor": 5
}
