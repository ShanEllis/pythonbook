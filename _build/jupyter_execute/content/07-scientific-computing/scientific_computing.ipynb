{
 "cells": [
  {
   "cell_type": "markdown",
   "id": "307b15d5-8d50-4578-97a0-27d6c735fb0a",
   "metadata": {},
   "source": [
    "# Scientific Computing\n",
    "\n",
    "Scientific Computing is an extension on top of everything we've learned thus far, with the specific goal of using computing to work with data. There are a host of tools that have been developed within the Python ecosystem to support the needs and goals of indidivuals working with data. In Python, there a suite of packages that all work well together to work with and analyze data. These packages are *not* made by the same people who manage the python language and standard library. However, these packages are incredibly popular, maintained and supported by teams of developers, and regularly updated. \n",
    "\n",
    "<div class=\"alert alert-success\">\n",
    "<b>Scientific Computing</b> is the application of computer programming to scientific applications: data analysis, simulation & modelling, plotting, etc. \n",
    "</div>\n",
    "\n",
    "The most central tool in scientific computing (and what we'll focus on most in this section) is a package called [`pandas`](https://pandas.pydata.org/). `pandas` is a \"fast, powerful, flexible and easy to use open source data analysis and manipulation tool,\n",
    "built on top of the Python programming language.\" <a name=\"cite_ref-1\"></a>[<sup>[1]</sup>](#cite_note-1) Wes McKinney originally developed the pandas package in 2008, with its first official release in 2009. <a name=\"cite_ref-2\"></a>[<sup>[2]</sup>](#cite_note-2), cementing Python as one of the primary languages used when analyzing data, which is a primary function of data scientists and researchers alike. \n",
    "\n",
    "We'll also introduce [`numpy`](https://numpy.org/), which enables matrix operations in Python and upon which `pandas` is built, along with a few additional packages for future exploration. The goal of this section is not to teach these packages in depth (but there are many resources that do this <a name=\"cite_ref-3\"></a>[<sup>[3]</sup>](#cite_note-3)) but rather to introduce the main functions necessary to get started when working with data."
   ]
  },
  {
   "cell_type": "code",
   "execution_count": 1,
   "id": "2437c4ce-816b-44d5-b2f5-1137c919b783",
   "metadata": {
    "editable": true,
    "slideshow": {
     "slide_type": ""
    },
    "tags": [
     "remove-input"
    ]
   },
   "outputs": [
    {
     "data": {
      "text/html": [
       "<iframe id=\"kaltura_player\" type=\"text/javascript\"  src='https://cdnapisec.kaltura.com/p/2323111/embedPlaykitJs/uiconf_id/52706832?iframeembed=true&entry_id=1_daouw8fx&config[provider]={\"widgetId\":\"1_y5ae1win\"}'  style=\"width: 800px;height: 450px;border: 0;\" allowfullscreen webkitallowfullscreen mozAllowFullScreen allow=\"autoplay *; fullscreen *; encrypted-media *\" sandbox=\"allow-forms allow-same-origin allow-scripts allow-top-navigation allow-pointer-lock allow-popups allow-modals allow-orientation-lock allow-popups-to-escape-sandbox allow-presentation allow-top-navigation-by-user-activation\" title=\"Kaltura Player\"></iframe>\n"
      ],
      "text/plain": [
       "<IPython.core.display.HTML object>"
      ]
     },
     "metadata": {},
     "output_type": "display_data"
    }
   ],
   "source": [
    "%%HTML\n",
    "<iframe id=\"kaltura_player\" type=\"text/javascript\"  src='https://cdnapisec.kaltura.com/p/2323111/embedPlaykitJs/uiconf_id/52706832?iframeembed=true&entry_id=1_daouw8fx&config[provider]={\"widgetId\":\"1_y5ae1win\"}'  style=\"width: 800px;height: 450px;border: 0;\" allowfullscreen webkitallowfullscreen mozAllowFullScreen allow=\"autoplay *; fullscreen *; encrypted-media *\" sandbox=\"allow-forms allow-same-origin allow-scripts allow-top-navigation allow-pointer-lock allow-popups allow-modals allow-orientation-lock allow-popups-to-escape-sandbox allow-presentation allow-top-navigation-by-user-activation\" title=\"Kaltura Player\"></iframe>"
   ]
  },
  {
   "cell_type": "markdown",
   "id": "80665e9b-0ac6-430e-8703-e646dee593fb",
   "metadata": {},
   "source": [
    "## Package Installation \n",
    "\n",
    "A reminder that since these packages are not part of the standard library, they will need to be installed prior to use. Remember, you install once and then import the package wherever needed after that.\n",
    "\n",
    "The most straightforward approach to install these packages is to use `pip install packagename`. For example, to install pandas, it would be `pip install pandas`. (Note that if you do not have full install rights on your system, you may need to use the `--user` flag, for example: `pip install --use pandas`)\n",
    "\n",
    "If you're using a different package management system, such as conda, you are able to install the packages used here as well.\n",
    "\n",
    "For this section, you'll have to install both `pandas` and `numpy` to complete all included exercises and examples."
   ]
  },
  {
   "cell_type": "markdown",
   "id": "f1b08493-f7df-42f9-8bf1-832006fedcc7",
   "metadata": {},
   "source": [
    "<a name=\"cite_note-1\"></a>1. [^](#cite_ref-1) https://pandas.pydata.org/  \n",
    "<a name=\"cite_note-2\"></a>2. [^](#cite_ref-2) https://en.wikipedia.org/wiki/Pandas_(software)  \n",
    "<a name=\"cite_note-3\"></a>3. [^](#cite_ref-3) https://jakevdp.github.io/PythonDataScienceHandbook/03.00-introduction-to-pandas.html"
   ]
  }
 ],
 "metadata": {
  "kernelspec": {
   "display_name": "Python 3 (ipykernel)",
   "language": "python",
   "name": "python3"
  },
  "language_info": {
   "codemirror_mode": {
    "name": "ipython",
    "version": 3
   },
   "file_extension": ".py",
   "mimetype": "text/x-python",
   "name": "python",
   "nbconvert_exporter": "python",
   "pygments_lexer": "ipython3",
   "version": "3.11.8"
  }
 },
 "nbformat": 4,
 "nbformat_minor": 5
}