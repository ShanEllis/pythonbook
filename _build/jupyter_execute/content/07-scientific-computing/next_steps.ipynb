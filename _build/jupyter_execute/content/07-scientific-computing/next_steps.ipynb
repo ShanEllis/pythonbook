{
 "cells": [
  {
   "cell_type": "markdown",
   "id": "7af72ee1-1319-46c2-a4ad-66ec38ae4dd9",
   "metadata": {},
   "source": [
    "# Next Steps\n",
    "\n",
    "In this section, we've introduced the concept of Scientific Computing along with two incredibly popular packages: `NumPy` and `pandas`. However, these two packages, while *incredibly* powerful, only get you to the point of working with tabular data in python. They are great for managing, manipulating, and summarizing data. However, they won't help you analyze your data...and can only enable you to scratch the surface of visualizing data. \n",
    "\n",
    "The goal of this last chapter is simply to point you in the direction of where you could learn more about analyzing data in Python.\n",
    "\n",
    "## Data Visualization\n",
    "\n",
    "There are *many* ways to visualize data. We saw that `pandas` has some built-in capabililties; however, it is limited in its visualizations. To this end, we'll point you in the direction of three additional packages for plotting and visualizaing data in python:\n",
    "\n",
    "1. [`matplotlib`](https://matplotlib.org/) | This package is well-established and used ubiquitously. It allows for generation and customization of data visualizations and publication-quality plots. \n",
    "2. [`seaborn`](https://seaborn.pydata.org/) | This package is built on top of matplotlib but has a high-level interface for generating good-looking plots with less code and time than `matplotlib`. Works well with `DataFrame`s from `pandas`.\n",
    "3. [`altair`](https://altair-viz.github.io/) | Implements the [grammar of graphics](https://www.amazon.com/Grammar-Graphics-Statistics-Computing/dp/0387245448) in Python, enabling a consistent and simple API. Not quite as popular as the two above, but incredibly powerful!\n",
    "\n",
    "## Data Analysis \n",
    "\n",
    "1. [`statsmodels`](https://www.statsmodels.org/stable/index.html) | This package is the go-to or statistical modeling, enabling users to explore data and carry out statistical tests. Works well with `DataFrame`s from `pandas`.\n",
    "2. [`SciPy`](https://scipy.org/) | Includes algorithms for optimiation, differential equations, algebraic equations, etc. Builds on top of `NumPy` and works well with numerical data.\n",
    "3. [`Scikit-learn`](https://scikit-learn.org/stable/) | Popular package for learning machine learning in python. Built on `NumPy`, `SciPy`, and `matplotlib`. Has really great documentation.\n",
    "4. [`PyTorch`]\n",
    "5. [`TensorFlow`\\"
   ]
  }
 ],
 "metadata": {
  "kernelspec": {
   "display_name": "Python 3 (ipykernel)",
   "language": "python",
   "name": "python3"
  },
  "language_info": {
   "codemirror_mode": {
    "name": "ipython",
    "version": 3
   },
   "file_extension": ".py",
   "mimetype": "text/x-python",
   "name": "python",
   "nbconvert_exporter": "python",
   "pygments_lexer": "ipython3",
   "version": "3.11.8"
  }
 },
 "nbformat": 4,
 "nbformat_minor": 5
}