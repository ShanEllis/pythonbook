{
 "cells": [
  {
   "cell_type": "markdown",
   "id": "8bcec56d-cdf3-436a-b51f-3e24967a7e77",
   "metadata": {},
   "source": [
    "# `pandas`\n",
    "\n",
    "Now that we've discussed Scientific Computing generally and introduced `NumPy`, we're ready to learn the basics of `pandas`, the most popular python package for working with data. Similar to what we saw with `NumPy`, we'll first introduce the core object at the heart of `pandas` -- the DataFrame. From there, we'll introduce some of the attributes and most common methods for working with `DataFrame`s. And, we'll finish discussing additional functions within `pandas` that make working with data more straightforward.\n",
    "\n",
    "As with `NumPy`, you'll need to first `import` `pandas`. Convention is to import: `import padas as pd`, so we'll encourage that here. Using this import statement, any time you want to reference `pandas` functionality, you can do so with just the two letters `pd`.\n",
    "\n",
    "<div class=\"alert alert-info\">\n",
    "Be sure to import <code>pandas</code> using <code>import pandas as pd</code> before attempting to run any of the included code in this section.\n",
    "</div>"
   ]
  },
  {
   "cell_type": "code",
   "execution_count": 1,
   "id": "c8ab7a7b-eaf3-4726-a9ce-4e8a5c40744a",
   "metadata": {},
   "outputs": [],
   "source": [
    "import pandas as pd"
   ]
  },
  {
   "cell_type": "code",
   "execution_count": 1,
   "id": "f92c07f9-dbd9-4100-ab61-d6a2e8e1fba4",
   "metadata": {
    "editable": true,
    "slideshow": {
     "slide_type": ""
    },
    "tags": [
     "remove-input"
    ]
   },
   "outputs": [
    {
     "data": {
      "text/html": [
       "<iframe id=\"kaltura_player\" type=\"text/javascript\"  src='https://cdnapisec.kaltura.com/p/2323111/embedPlaykitJs/uiconf_id/52706832?iframeembed=true&entry_id=1_ue8rmqk0&config[provider]={\"widgetId\":\"1_anbdt98w\"}'  style=\"width: 800px;height: 450px;border: 0;\" allowfullscreen webkitallowfullscreen mozAllowFullScreen allow=\"autoplay *; fullscreen *; encrypted-media *\" sandbox=\"allow-forms allow-same-origin allow-scripts allow-top-navigation allow-pointer-lock allow-popups allow-modals allow-orientation-lock allow-popups-to-escape-sandbox allow-presentation allow-top-navigation-by-user-activation\" title=\"Kaltura Player\"></iframe>\n"
      ],
      "text/plain": [
       "<IPython.core.display.HTML object>"
      ]
     },
     "metadata": {},
     "output_type": "display_data"
    }
   ],
   "source": [
    "%%HTML\n",
    "<iframe id=\"kaltura_player\" type=\"text/javascript\"  src='https://cdnapisec.kaltura.com/p/2323111/embedPlaykitJs/uiconf_id/52706832?iframeembed=true&entry_id=1_ue8rmqk0&config[provider]={\"widgetId\":\"1_anbdt98w\"}'  style=\"width: 800px;height: 450px;border: 0;\" allowfullscreen webkitallowfullscreen mozAllowFullScreen allow=\"autoplay *; fullscreen *; encrypted-media *\" sandbox=\"allow-forms allow-same-origin allow-scripts allow-top-navigation allow-pointer-lock allow-popups allow-modals allow-orientation-lock allow-popups-to-escape-sandbox allow-presentation allow-top-navigation-by-user-activation\" title=\"Kaltura Player\"></iframe>"
   ]
  },
  {
   "cell_type": "markdown",
   "id": "f913c649-f992-4180-8314-eb64028cdbb3",
   "metadata": {},
   "source": [
    "## Heterogeneous Data\n",
    "\n",
    "While `NumPy` arrays make working with homogenous data (data that are all of one type, typically numbers), `pandas` adds functionality for working with heterogeneous data. What if you have information about individual's heights (floats) but also the color of their eyes (strings)? This would be an example of heterogeneous data and is precisely what `pandas` is designed to handle.\n",
    "\n",
    "More specifically, a `DataFrame` can store multiple types of data; however, each individual column will store a single type of data. "
   ]
  },
  {
   "cell_type": "markdown",
   "id": "1688be98-6b47-4cc6-b0de-e8ca4a882c9d",
   "metadata": {},
   "source": [
    "## `pandas DataFrame`\n",
    "\n",
    "Enter, the `DataFrame` - the central object within `pandas`. `DataFrame`s are a 2-dimensional data structure that store data in a table/array, but that enable continous (numeric) and categorical (discrete and text-based) data to be stored in a single object. `DataFrame`s enable information to be stored in rows and columns (like an array); however, columns can be of mixed type and both rows and columns can have labels. If you're envisioning data stored in a spreadsheet-like object, you've got the right idea. For example, a `DataFrame` could be used to store the following information: \n",
    "\n",
    "<table>\n",
    "    <tr>\n",
    "        <th>Participant ID</th>\n",
    "        <th>Height (cm)</th>\n",
    "        <th>Eye Color</th>\n",
    "    </tr>\n",
    "    <tr>\n",
    "        <td >01</td>\n",
    "        <td>170</td>\n",
    "        <td>Blue</td>\n",
    "    </tr>\n",
    "    <tr>\n",
    "        <td>02</td>\n",
    "        <td>165</td>\n",
    "        <td>Green</td>\n",
    "    </tr>\n",
    "    <tr>\n",
    "        <td>03</td>\n",
    "        <td>180</td>\n",
    "        <td>Brown</td>\n",
    "    </tr>\n",
    "    <tr>\n",
    "        <td>04</td>\n",
    "        <td>175</td>\n",
    "        <td>Hazel</td>\n",
    "    </tr>\n",
    "    <tr>\n",
    "        <td>05</td>\n",
    "        <td>160</td>\n",
    "        <td>Brown</td>\n",
    "    </tr>\n",
    "</table>\n",
    "\n",
    "In fact, we can store that very information in a pandas DataFrame using `pd.DataFrame` and passing in the data:"
   ]
  },
  {
   "cell_type": "code",
   "execution_count": 2,
   "id": "c27e6e12-866d-410f-9be0-d384463447a5",
   "metadata": {
    "scrolled": true
   },
   "outputs": [
    {
     "data": {
      "text/html": [
       "<div>\n",
       "<style scoped>\n",
       "    .dataframe tbody tr th:only-of-type {\n",
       "        vertical-align: middle;\n",
       "    }\n",
       "\n",
       "    .dataframe tbody tr th {\n",
       "        vertical-align: top;\n",
       "    }\n",
       "\n",
       "    .dataframe thead th {\n",
       "        text-align: right;\n",
       "    }\n",
       "</style>\n",
       "<table border=\"1\" class=\"dataframe\">\n",
       "  <thead>\n",
       "    <tr style=\"text-align: right;\">\n",
       "      <th></th>\n",
       "      <th>Participant ID</th>\n",
       "      <th>Height (cm)</th>\n",
       "      <th>Eye Color</th>\n",
       "    </tr>\n",
       "  </thead>\n",
       "  <tbody>\n",
       "    <tr>\n",
       "      <th>0</th>\n",
       "      <td>01</td>\n",
       "      <td>170</td>\n",
       "      <td>Blue</td>\n",
       "    </tr>\n",
       "    <tr>\n",
       "      <th>1</th>\n",
       "      <td>02</td>\n",
       "      <td>165</td>\n",
       "      <td>Green</td>\n",
       "    </tr>\n",
       "    <tr>\n",
       "      <th>2</th>\n",
       "      <td>03</td>\n",
       "      <td>180</td>\n",
       "      <td>Brown</td>\n",
       "    </tr>\n",
       "    <tr>\n",
       "      <th>3</th>\n",
       "      <td>04</td>\n",
       "      <td>175</td>\n",
       "      <td>Hazel</td>\n",
       "    </tr>\n",
       "    <tr>\n",
       "      <th>4</th>\n",
       "      <td>05</td>\n",
       "      <td>160</td>\n",
       "      <td>Brown</td>\n",
       "    </tr>\n",
       "  </tbody>\n",
       "</table>\n",
       "</div>"
      ],
      "text/plain": [
       "  Participant ID  Height (cm) Eye Color\n",
       "0             01          170      Blue\n",
       "1             02          165     Green\n",
       "2             03          180     Brown\n",
       "3             04          175     Hazel\n",
       "4             05          160     Brown"
      ]
     },
     "execution_count": 2,
     "metadata": {},
     "output_type": "execute_result"
    }
   ],
   "source": [
    "df = pd.DataFrame({'Participant ID': ['01', '02', '03', '04', '05'],\n",
    "                   'Height (cm)': [170, 165, 180, 175, 160],\n",
    "                   'Eye Color': ['Blue', 'Green', 'Brown', 'Hazel', 'Brown']\n",
    "                  })\n",
    "df"
   ]
  },
  {
   "cell_type": "markdown",
   "id": "48b8f7af-7897-43ff-b9f1-0e77b7eb428f",
   "metadata": {},
   "source": [
    "We'll note a few things about this `df` object:\n",
    "1. We've called the object `df`. This is a convention you'll often see when people are working with `DataFrame`s with `df` being short for `df`. We'll use this convention frequently, but you could give your `DataFrame`s more informative names (i.e. `df_participants`).\n",
    "2. In `df` you'll notice that there are three column names at top.\n",
    "3. You'll also notice there are indices off to the left for each row. By default, `pandas` will assign each row an index starting with zero. "
   ]
  },
  {
   "cell_type": "markdown",
   "id": "95d2190b-688e-418d-8649-a2542e449bd3",
   "metadata": {},
   "source": [
    "## Attributes\n",
    "\n",
    "As with arrays, when working with `DataFrame` objects, it's often helpful to be able to access information about the `DataFrame` by accessing attributes. \n",
    "\n",
    "### `shape`\n",
    "To get the dimensions of the `DataFrame`, the attribute is the same as in `Numpy`: `shape`"
   ]
  },
  {
   "cell_type": "code",
   "execution_count": 3,
   "id": "7fe2904b-b4c6-4488-b7c8-630c8358d183",
   "metadata": {
    "scrolled": true
   },
   "outputs": [
    {
     "data": {
      "text/plain": [
       "(5, 3)"
      ]
     },
     "execution_count": 3,
     "metadata": {},
     "output_type": "execute_result"
    }
   ],
   "source": [
    "df.shape"
   ]
  },
  {
   "cell_type": "markdown",
   "id": "e335dff4-4106-4ed8-b21d-761c974ea73d",
   "metadata": {},
   "source": [
    "Again, similar to arrays, the output specifies the number of rows first (5) and the number of columns second (3)."
   ]
  },
  {
   "cell_type": "markdown",
   "id": "01121b34-bf36-425c-9960-accbbc09f404",
   "metadata": {},
   "source": [
    "### `columns` & `index`\n",
    "\n",
    "If you ever need to access the names of the columns in a `DataFrame` it can be helpful to know that the column names can be extracted from the `columns` attribute:"
   ]
  },
  {
   "cell_type": "code",
   "execution_count": 4,
   "id": "b4be383e-aaa3-49b9-9b33-02d83f5ad3a5",
   "metadata": {},
   "outputs": [
    {
     "data": {
      "text/plain": [
       "Index(['Participant ID', 'Height (cm)', 'Eye Color'], dtype='object')"
      ]
     },
     "execution_count": 4,
     "metadata": {},
     "output_type": "execute_result"
    }
   ],
   "source": [
    "df.columns"
   ]
  },
  {
   "cell_type": "markdown",
   "id": "db1590bb-5b01-4e20-a8d3-f25f0e0cdb03",
   "metadata": {},
   "source": [
    "The same goes for extracting the indices (row names). This can be accessed through `index`:"
   ]
  },
  {
   "cell_type": "code",
   "execution_count": 5,
   "id": "8b1aaa04-33c5-4b48-bcf3-65c2e56965ed",
   "metadata": {
    "scrolled": true
   },
   "outputs": [
    {
     "data": {
      "text/plain": [
       "RangeIndex(start=0, stop=5, step=1)"
      ]
     },
     "execution_count": 5,
     "metadata": {},
     "output_type": "execute_result"
    }
   ],
   "source": [
    "df.index"
   ]
  },
  {
   "cell_type": "markdown",
   "id": "9f41bbbf-6e93-4cf0-957a-b34b36063cde",
   "metadata": {},
   "source": [
    "### `dtypes`\n",
    "\n",
    "`dtypes` can also be helpful to determine *how* the `DataFrame` is storing your data. This is particularly important in `pandas` due to the fact that DataFrames can store heterogenous data...and `pandas` makes its best guess as to the information stored in the `DataFrame`. This process is not perfect. If you're working with a very large dataset and you expect all of the values in a given column to be numbers, you may *assume* that the column stores numbers. However, what if one of the values in your large dataset was actually the word \"nine feet\"? In that case, `pandas` would convert everything to strings in that column as it doesn't know how to handle \"nine feet\" as a number (even if we humans may!). This is why it's good practice to just double check that each of your columns is of the expected type using the `dtypes` attribute:"
   ]
  },
  {
   "cell_type": "code",
   "execution_count": 6,
   "id": "d3c7e7b8-fbe8-4b25-9b83-d6cf9e42e347",
   "metadata": {},
   "outputs": [
    {
     "data": {
      "text/plain": [
       "Participant ID    object\n",
       "Height (cm)        int64\n",
       "Eye Color         object\n",
       "dtype: object"
      ]
     },
     "execution_count": 6,
     "metadata": {},
     "output_type": "execute_result"
    }
   ],
   "source": [
    "df.dtypes"
   ]
  },
  {
   "cell_type": "markdown",
   "id": "c35e9750-76be-4088-b1f8-d49ffe92cc04",
   "metadata": {},
   "source": [
    "In the above, you may have assumed that Participant ID would be an integer; however, despite appearing as numbers these IDs were entered as strings, making them `object` type variables.\n",
    "\n",
    "### head\n",
    "\n",
    "Also note that `head` returns the first five rows of a `DataFrame`. This can be helpful when working with larger `DataFrame`s just to get a sene of the data. \n",
    "\n",
    "Note that there is both a `head` *attribute*:"
   ]
  },
  {
   "cell_type": "code",
   "execution_count": 7,
   "id": "8455e5ac-8bb6-4302-97e1-ea1e9eb763bb",
   "metadata": {
    "scrolled": true
   },
   "outputs": [
    {
     "data": {
      "text/plain": [
       "<bound method NDFrame.head of   Participant ID  Height (cm) Eye Color\n",
       "0             01          170      Blue\n",
       "1             02          165     Green\n",
       "2             03          180     Brown\n",
       "3             04          175     Hazel\n",
       "4             05          160     Brown>"
      ]
     },
     "execution_count": 7,
     "metadata": {},
     "output_type": "execute_result"
    }
   ],
   "source": [
    "df.head"
   ]
  },
  {
   "cell_type": "markdown",
   "id": "256289f3-58f3-4f80-a8f4-d625c23f42f5",
   "metadata": {},
   "source": [
    "...and a `head()` *method*:"
   ]
  },
  {
   "cell_type": "code",
   "execution_count": 8,
   "id": "0b365189-d320-4ee2-96a2-df6423b9d63b",
   "metadata": {},
   "outputs": [
    {
     "data": {
      "text/html": [
       "<div>\n",
       "<style scoped>\n",
       "    .dataframe tbody tr th:only-of-type {\n",
       "        vertical-align: middle;\n",
       "    }\n",
       "\n",
       "    .dataframe tbody tr th {\n",
       "        vertical-align: top;\n",
       "    }\n",
       "\n",
       "    .dataframe thead th {\n",
       "        text-align: right;\n",
       "    }\n",
       "</style>\n",
       "<table border=\"1\" class=\"dataframe\">\n",
       "  <thead>\n",
       "    <tr style=\"text-align: right;\">\n",
       "      <th></th>\n",
       "      <th>Participant ID</th>\n",
       "      <th>Height (cm)</th>\n",
       "      <th>Eye Color</th>\n",
       "    </tr>\n",
       "  </thead>\n",
       "  <tbody>\n",
       "    <tr>\n",
       "      <th>0</th>\n",
       "      <td>01</td>\n",
       "      <td>170</td>\n",
       "      <td>Blue</td>\n",
       "    </tr>\n",
       "    <tr>\n",
       "      <th>1</th>\n",
       "      <td>02</td>\n",
       "      <td>165</td>\n",
       "      <td>Green</td>\n",
       "    </tr>\n",
       "    <tr>\n",
       "      <th>2</th>\n",
       "      <td>03</td>\n",
       "      <td>180</td>\n",
       "      <td>Brown</td>\n",
       "    </tr>\n",
       "    <tr>\n",
       "      <th>3</th>\n",
       "      <td>04</td>\n",
       "      <td>175</td>\n",
       "      <td>Hazel</td>\n",
       "    </tr>\n",
       "    <tr>\n",
       "      <th>4</th>\n",
       "      <td>05</td>\n",
       "      <td>160</td>\n",
       "      <td>Brown</td>\n",
       "    </tr>\n",
       "  </tbody>\n",
       "</table>\n",
       "</div>"
      ],
      "text/plain": [
       "  Participant ID  Height (cm) Eye Color\n",
       "0             01          170      Blue\n",
       "1             02          165     Green\n",
       "2             03          180     Brown\n",
       "3             04          175     Hazel\n",
       "4             05          160     Brown"
      ]
     },
     "execution_count": 8,
     "metadata": {},
     "output_type": "execute_result"
    }
   ],
   "source": [
    "df.head()"
   ]
  },
  {
   "cell_type": "markdown",
   "id": "e78673e4-4dab-4723-95f2-96da9f30c568",
   "metadata": {},
   "source": [
    "The difference is in how the data are displayed, with the method displaying the data in a slightly more reader-friendly fasion."
   ]
  },
  {
   "cell_type": "markdown",
   "id": "d4084db1-8fbf-4415-aac1-d89f6de4f572",
   "metadata": {},
   "source": [
    "## Indexing & Slicing\n",
    "\n",
    "So far we've introduced the `DataFrame` as a way to store heterogenous data in rows and columns. But, I haven't mentioned exactly how `pandas` accomplishes that. While the `DataFrame` is the core object, it's also important to be aware that `DataFrame`s are comprised of **`Series`**, which are a 1-dimensional labeled array storing data. Each column in `pandas` is a `Series` object and can be accessed using the column name and indexing. For example, if we wanted to extract the `'Height'` column from our `df` we could do so using: "
   ]
  },
  {
   "cell_type": "code",
   "execution_count": 9,
   "id": "97c6d823-136a-42a1-8789-e86203ca6bda",
   "metadata": {},
   "outputs": [
    {
     "data": {
      "text/plain": [
       "0    170\n",
       "1    165\n",
       "2    180\n",
       "3    175\n",
       "4    160\n",
       "Name: Height (cm), dtype: int64"
      ]
     },
     "execution_count": 9,
     "metadata": {},
     "output_type": "execute_result"
    }
   ],
   "source": [
    "df['Height (cm)']"
   ]
  },
  {
   "cell_type": "markdown",
   "id": "9dc36fca-8e2e-4be6-af70-ab23abafcc5b",
   "metadata": {},
   "source": [
    "In the above, we can see that indexing into a `DataFrame` by specifying the column name, `pandas` will return all values in that column, along with their corresponding indices. It also reports the type of the variable and the name of the column.\n",
    "\n",
    "Specifically, the way `pandas` stores each column is as a `pd.Series` type object. We can see this explicitly by checking the `type` of the above output:"
   ]
  },
  {
   "cell_type": "code",
   "execution_count": 10,
   "id": "181563ba-de06-43ed-9e0d-704c33b68f8e",
   "metadata": {},
   "outputs": [
    {
     "data": {
      "text/plain": [
       "pandas.core.series.Series"
      ]
     },
     "execution_count": 10,
     "metadata": {},
     "output_type": "execute_result"
    }
   ],
   "source": [
    "type(df['Height (cm)'])"
   ]
  },
  {
   "cell_type": "markdown",
   "id": "15c9a41e-71f4-49b0-84e7-733c67c0b01d",
   "metadata": {},
   "source": [
    "Thus, conceptually, every `DataFrame` is comprised of `Series` of the same length stacked next to one another.\n",
    "\n",
    "We're also able to access information stored in rows; however, the syntax has to differ a little bit. `df[0]` will not work here, as `pandas` would be looking for a *column* with the label `0`. Rather, when we want to access data in a row, we have to return to our familiar slicing syntax, first specifing the row(s) we want to return using `start:stop` notation.\n",
    "\n",
    "For example, `df[:1]` will return from the beginning of the `DataFrame` up to but not including the row with the index `1` (using our familiar slicing approach):"
   ]
  },
  {
   "cell_type": "code",
   "execution_count": 11,
   "id": "6a5eb984-dba9-45dc-ac29-51616927e841",
   "metadata": {
    "scrolled": true
   },
   "outputs": [
    {
     "data": {
      "text/html": [
       "<div>\n",
       "<style scoped>\n",
       "    .dataframe tbody tr th:only-of-type {\n",
       "        vertical-align: middle;\n",
       "    }\n",
       "\n",
       "    .dataframe tbody tr th {\n",
       "        vertical-align: top;\n",
       "    }\n",
       "\n",
       "    .dataframe thead th {\n",
       "        text-align: right;\n",
       "    }\n",
       "</style>\n",
       "<table border=\"1\" class=\"dataframe\">\n",
       "  <thead>\n",
       "    <tr style=\"text-align: right;\">\n",
       "      <th></th>\n",
       "      <th>Participant ID</th>\n",
       "      <th>Height (cm)</th>\n",
       "      <th>Eye Color</th>\n",
       "    </tr>\n",
       "  </thead>\n",
       "  <tbody>\n",
       "    <tr>\n",
       "      <th>0</th>\n",
       "      <td>01</td>\n",
       "      <td>170</td>\n",
       "      <td>Blue</td>\n",
       "    </tr>\n",
       "  </tbody>\n",
       "</table>\n",
       "</div>"
      ],
      "text/plain": [
       "  Participant ID  Height (cm) Eye Color\n",
       "0             01          170      Blue"
      ]
     },
     "execution_count": 11,
     "metadata": {},
     "output_type": "execute_result"
    }
   ],
   "source": [
    "df[:1]"
   ]
  },
  {
   "cell_type": "markdown",
   "id": "d9aed219-e2b3-421f-89b0-065748b103f1",
   "metadata": {},
   "source": [
    "However, we will highlight here that what is being returned here is a `DataFrame` (a slice of the original) and not a `Series`:"
   ]
  },
  {
   "cell_type": "code",
   "execution_count": 12,
   "id": "522b1f6c-7e97-4dcc-a899-1bb3bf58ce57",
   "metadata": {},
   "outputs": [
    {
     "data": {
      "text/plain": [
       "pandas.core.frame.DataFrame"
      ]
     },
     "execution_count": 12,
     "metadata": {},
     "output_type": "execute_result"
    }
   ],
   "source": [
    "type(df[:1])"
   ]
  },
  {
   "cell_type": "markdown",
   "id": "bd876dfb-1156-4e4e-b4d9-9f01267ce399",
   "metadata": {},
   "source": [
    "`pd.Series` objects are specifically for data for a single variable in a *column*...and not for returning subsets of a larger `DataFrame` across columns. If multiple columns are involved, then it's a `DataFrame` object.\n",
    "\n",
    "If you wanted to extract the information as a series, you would need to use `loc`..."
   ]
  },
  {
   "cell_type": "markdown",
   "id": "d5fa8df8-bb51-4394-b0a2-e226403718fa",
   "metadata": {},
   "source": [
    "### `.loc`\n",
    "\n",
    "But, what if you want to combine these two ideas? What if you want to specify a few rows and a few columns? This is where `loc` comes in. `loc` (standing for loccation) allows users to control which part of the `DataFrame` they want to return.\n",
    "\n",
    "For example, if we wanted the second and third rows and only the `Eye Color` column from `df` we could use the following:"
   ]
  },
  {
   "cell_type": "code",
   "execution_count": 13,
   "id": "3dea026e-355a-4c58-9a71-ba33ca100573",
   "metadata": {
    "scrolled": true
   },
   "outputs": [
    {
     "data": {
      "text/plain": [
       "1    Green\n",
       "2    Brown\n",
       "Name: Eye Color, dtype: object"
      ]
     },
     "execution_count": 13,
     "metadata": {},
     "output_type": "execute_result"
    }
   ],
   "source": [
    "df.loc[1:2, 'Eye Color']"
   ]
  },
  {
   "cell_type": "markdown",
   "id": "52655387-50a3-4f08-899f-e0b89c127b86",
   "metadata": {},
   "source": [
    "In the above syntax, notice that the convention of `[row, column]` is still followed. However, the `start:stop` for `loc` *is* inclusive of the `stop` value (unlike everywhere else in `Python`). Thus, to return the second and third rows, you specify that you want to start at index `1` and stop at (*and include*) index `2`. "
   ]
  },
  {
   "cell_type": "markdown",
   "id": "e0f88ff9-99bb-47fe-88f1-61b50fba6f5d",
   "metadata": {},
   "source": [
    "Returning to our goal of extracting the data in the first row from above, if we wanted to extract just the values in a given rows as a `Series`, we could use `loc` to do so, first specifiying the index and then to extract all columns:"
   ]
  },
  {
   "cell_type": "code",
   "execution_count": 14,
   "id": "968b6acd-2141-4c55-bc9d-552e4817a547",
   "metadata": {},
   "outputs": [
    {
     "data": {
      "text/plain": [
       "Participant ID      01\n",
       "Height (cm)        170\n",
       "Eye Color         Blue\n",
       "Name: 0, dtype: object"
      ]
     },
     "execution_count": 14,
     "metadata": {},
     "output_type": "execute_result"
    }
   ],
   "source": [
    "df.loc[0,:]"
   ]
  },
  {
   "cell_type": "markdown",
   "id": "71d1a14a-39b1-4c1b-8b82-e36dca58aa62",
   "metadata": {},
   "source": [
    "Finally, putting all of this together, `loc` can also be used to extract singular values, by specifying a single location within the `DataFrame`:"
   ]
  },
  {
   "cell_type": "code",
   "execution_count": 15,
   "id": "ce8ba469-0025-485e-bac9-9c2a0edc68f8",
   "metadata": {},
   "outputs": [
    {
     "data": {
      "text/plain": [
       "'Blue'"
      ]
     },
     "execution_count": 15,
     "metadata": {},
     "output_type": "execute_result"
    }
   ],
   "source": [
    "df.loc[0, 'Eye Color']"
   ]
  },
  {
   "cell_type": "markdown",
   "id": "27f92a56-e6b1-4a1f-a6a5-3e82f9c80fcf",
   "metadata": {},
   "source": [
    "Note that the above returns a value of the type of data directly, and not a `DataFrame` or `Series`. Thus, 'Blue' here is a string."
   ]
  },
  {
   "cell_type": "markdown",
   "id": "78bb6263-d6a9-4933-aaef-bbb2903bde42",
   "metadata": {},
   "source": [
    "## Methods\n",
    "\n",
    "There are [*many, many* methods](https://pandas.pydata.org/docs/reference/frame.html) available for `DataFrame` objects. This section will only cover a few of the most commonly used, but will give you a sense of the *types* of things one can do with a `DataFrame`.\n",
    "\n",
    "### `describe()`\n",
    "\n",
    "One powerful method is the `describe()` method, which will calculate and provide a number of descriptive statistics for all numeric variables in your dataset. In `df`, we have a single numeric varaible (`Height (cm)`), which is summarized below:"
   ]
  },
  {
   "cell_type": "code",
   "execution_count": 16,
   "id": "58703860-272e-4e65-baa9-2f2996304885",
   "metadata": {},
   "outputs": [
    {
     "data": {
      "text/html": [
       "<div>\n",
       "<style scoped>\n",
       "    .dataframe tbody tr th:only-of-type {\n",
       "        vertical-align: middle;\n",
       "    }\n",
       "\n",
       "    .dataframe tbody tr th {\n",
       "        vertical-align: top;\n",
       "    }\n",
       "\n",
       "    .dataframe thead th {\n",
       "        text-align: right;\n",
       "    }\n",
       "</style>\n",
       "<table border=\"1\" class=\"dataframe\">\n",
       "  <thead>\n",
       "    <tr style=\"text-align: right;\">\n",
       "      <th></th>\n",
       "      <th>Height (cm)</th>\n",
       "    </tr>\n",
       "  </thead>\n",
       "  <tbody>\n",
       "    <tr>\n",
       "      <th>count</th>\n",
       "      <td>5.000000</td>\n",
       "    </tr>\n",
       "    <tr>\n",
       "      <th>mean</th>\n",
       "      <td>170.000000</td>\n",
       "    </tr>\n",
       "    <tr>\n",
       "      <th>std</th>\n",
       "      <td>7.905694</td>\n",
       "    </tr>\n",
       "    <tr>\n",
       "      <th>min</th>\n",
       "      <td>160.000000</td>\n",
       "    </tr>\n",
       "    <tr>\n",
       "      <th>25%</th>\n",
       "      <td>165.000000</td>\n",
       "    </tr>\n",
       "    <tr>\n",
       "      <th>50%</th>\n",
       "      <td>170.000000</td>\n",
       "    </tr>\n",
       "    <tr>\n",
       "      <th>75%</th>\n",
       "      <td>175.000000</td>\n",
       "    </tr>\n",
       "    <tr>\n",
       "      <th>max</th>\n",
       "      <td>180.000000</td>\n",
       "    </tr>\n",
       "  </tbody>\n",
       "</table>\n",
       "</div>"
      ],
      "text/plain": [
       "       Height (cm)\n",
       "count     5.000000\n",
       "mean    170.000000\n",
       "std       7.905694\n",
       "min     160.000000\n",
       "25%     165.000000\n",
       "50%     170.000000\n",
       "75%     175.000000\n",
       "max     180.000000"
      ]
     },
     "execution_count": 16,
     "metadata": {},
     "output_type": "execute_result"
    }
   ],
   "source": [
    "df.describe()"
   ]
  },
  {
   "cell_type": "markdown",
   "id": "a2c1218b-75be-4dfe-9583-9369e9ce030d",
   "metadata": {},
   "source": [
    "### `replace()`\n",
    "\n",
    "Of course, `DataFrame`s are mutable, with the ability to change or update values after creation, using `replace`:\n",
    "\n",
    "For example, what if I realized that the participant IDs should be zero padded with *two* zeroes instead of one. To accomplish this, we can use the `replace` method to change each `'0'` into `'00'`:"
   ]
  },
  {
   "cell_type": "code",
   "execution_count": 17,
   "id": "980883e3-a3e7-467e-a7ec-4e3c3bda8cd9",
   "metadata": {
    "scrolled": true
   },
   "outputs": [
    {
     "data": {
      "text/html": [
       "<div>\n",
       "<style scoped>\n",
       "    .dataframe tbody tr th:only-of-type {\n",
       "        vertical-align: middle;\n",
       "    }\n",
       "\n",
       "    .dataframe tbody tr th {\n",
       "        vertical-align: top;\n",
       "    }\n",
       "\n",
       "    .dataframe thead th {\n",
       "        text-align: right;\n",
       "    }\n",
       "</style>\n",
       "<table border=\"1\" class=\"dataframe\">\n",
       "  <thead>\n",
       "    <tr style=\"text-align: right;\">\n",
       "      <th></th>\n",
       "      <th>Participant ID</th>\n",
       "      <th>Height (cm)</th>\n",
       "      <th>Eye Color</th>\n",
       "    </tr>\n",
       "  </thead>\n",
       "  <tbody>\n",
       "    <tr>\n",
       "      <th>0</th>\n",
       "      <td>001</td>\n",
       "      <td>170</td>\n",
       "      <td>Blue</td>\n",
       "    </tr>\n",
       "    <tr>\n",
       "      <th>1</th>\n",
       "      <td>002</td>\n",
       "      <td>165</td>\n",
       "      <td>Green</td>\n",
       "    </tr>\n",
       "    <tr>\n",
       "      <th>2</th>\n",
       "      <td>003</td>\n",
       "      <td>180</td>\n",
       "      <td>Brown</td>\n",
       "    </tr>\n",
       "    <tr>\n",
       "      <th>3</th>\n",
       "      <td>004</td>\n",
       "      <td>175</td>\n",
       "      <td>Hazel</td>\n",
       "    </tr>\n",
       "    <tr>\n",
       "      <th>4</th>\n",
       "      <td>005</td>\n",
       "      <td>160</td>\n",
       "      <td>Brown</td>\n",
       "    </tr>\n",
       "  </tbody>\n",
       "</table>\n",
       "</div>"
      ],
      "text/plain": [
       "  Participant ID  Height (cm) Eye Color\n",
       "0            001          170      Blue\n",
       "1            002          165     Green\n",
       "2            003          180     Brown\n",
       "3            004          175     Hazel\n",
       "4            005          160     Brown"
      ]
     },
     "execution_count": 17,
     "metadata": {},
     "output_type": "execute_result"
    }
   ],
   "source": [
    "df['Participant ID'] = df['Participant ID'].replace('0', '00', regex=True)\n",
    "\n",
    "df"
   ]
  },
  {
   "cell_type": "markdown",
   "id": "519db300-c7ba-4c11-b86a-6cbc39c89a6a",
   "metadata": {},
   "source": [
    "Notice in the syntax above a few things: \n",
    "1. The `replace` method is operating on the `Series` `'Partcipant ID'`. Thus, when we assign the new values, they are assigned back to that specific series. The rest of `df` remains unchanged.\n",
    "2. In `replace` the first argument is what is to be replaced, the second is what to replace it with. `regex=True` specifies to use regular expression to evaluate the change (rather than string literals). Without `regex=True`, `replace` would only change a cell with the exact value '0' to '00'...instead of changing every case where it finds a zero.\n",
    "\n",
    "We'll also note that it *is* possible to directly assign a new value to a given location within a `DataFrame` directly using indexing/slicing and assignment:"
   ]
  },
  {
   "cell_type": "code",
   "execution_count": 18,
   "id": "e72abfb8-7679-4431-bdc1-e8886f351667",
   "metadata": {},
   "outputs": [
    {
     "data": {
      "text/html": [
       "<div>\n",
       "<style scoped>\n",
       "    .dataframe tbody tr th:only-of-type {\n",
       "        vertical-align: middle;\n",
       "    }\n",
       "\n",
       "    .dataframe tbody tr th {\n",
       "        vertical-align: top;\n",
       "    }\n",
       "\n",
       "    .dataframe thead th {\n",
       "        text-align: right;\n",
       "    }\n",
       "</style>\n",
       "<table border=\"1\" class=\"dataframe\">\n",
       "  <thead>\n",
       "    <tr style=\"text-align: right;\">\n",
       "      <th></th>\n",
       "      <th>Participant ID</th>\n",
       "      <th>Height (cm)</th>\n",
       "      <th>Eye Color</th>\n",
       "    </tr>\n",
       "  </thead>\n",
       "  <tbody>\n",
       "    <tr>\n",
       "      <th>0</th>\n",
       "      <td>001</td>\n",
       "      <td>173</td>\n",
       "      <td>Blue</td>\n",
       "    </tr>\n",
       "    <tr>\n",
       "      <th>1</th>\n",
       "      <td>002</td>\n",
       "      <td>165</td>\n",
       "      <td>Green</td>\n",
       "    </tr>\n",
       "    <tr>\n",
       "      <th>2</th>\n",
       "      <td>003</td>\n",
       "      <td>180</td>\n",
       "      <td>Brown</td>\n",
       "    </tr>\n",
       "    <tr>\n",
       "      <th>3</th>\n",
       "      <td>004</td>\n",
       "      <td>175</td>\n",
       "      <td>Hazel</td>\n",
       "    </tr>\n",
       "    <tr>\n",
       "      <th>4</th>\n",
       "      <td>005</td>\n",
       "      <td>160</td>\n",
       "      <td>Brown</td>\n",
       "    </tr>\n",
       "  </tbody>\n",
       "</table>\n",
       "</div>"
      ],
      "text/plain": [
       "  Participant ID  Height (cm) Eye Color\n",
       "0            001          173      Blue\n",
       "1            002          165     Green\n",
       "2            003          180     Brown\n",
       "3            004          175     Hazel\n",
       "4            005          160     Brown"
      ]
     },
     "execution_count": 18,
     "metadata": {},
     "output_type": "execute_result"
    }
   ],
   "source": [
    "df.loc[0, 'Height (cm)'] = 173\n",
    "\n",
    "df"
   ]
  },
  {
   "cell_type": "markdown",
   "id": "fc211d14-ff24-4f10-b524-b98fe2e9d425",
   "metadata": {},
   "source": [
    "### `astype()`\n",
    "\n",
    "We mentioned `dtypes` is helpful for knowing what your value type is. But, what if you *want* to change it to another type. `astype()` allows you to typecast (meaning specify the type) for a variable. If we wanted `'Height (cm)'` to be a float instead of an integer, for example, we could accomplish that using `astype`:"
   ]
  },
  {
   "cell_type": "code",
   "execution_count": 19,
   "id": "0bcc919c-b7ba-44ae-bf84-eb7f9b309e8f",
   "metadata": {
    "scrolled": true
   },
   "outputs": [
    {
     "data": {
      "text/html": [
       "<div>\n",
       "<style scoped>\n",
       "    .dataframe tbody tr th:only-of-type {\n",
       "        vertical-align: middle;\n",
       "    }\n",
       "\n",
       "    .dataframe tbody tr th {\n",
       "        vertical-align: top;\n",
       "    }\n",
       "\n",
       "    .dataframe thead th {\n",
       "        text-align: right;\n",
       "    }\n",
       "</style>\n",
       "<table border=\"1\" class=\"dataframe\">\n",
       "  <thead>\n",
       "    <tr style=\"text-align: right;\">\n",
       "      <th></th>\n",
       "      <th>Participant ID</th>\n",
       "      <th>Height (cm)</th>\n",
       "      <th>Eye Color</th>\n",
       "    </tr>\n",
       "  </thead>\n",
       "  <tbody>\n",
       "    <tr>\n",
       "      <th>0</th>\n",
       "      <td>001</td>\n",
       "      <td>173.0</td>\n",
       "      <td>Blue</td>\n",
       "    </tr>\n",
       "    <tr>\n",
       "      <th>1</th>\n",
       "      <td>002</td>\n",
       "      <td>165.0</td>\n",
       "      <td>Green</td>\n",
       "    </tr>\n",
       "    <tr>\n",
       "      <th>2</th>\n",
       "      <td>003</td>\n",
       "      <td>180.0</td>\n",
       "      <td>Brown</td>\n",
       "    </tr>\n",
       "    <tr>\n",
       "      <th>3</th>\n",
       "      <td>004</td>\n",
       "      <td>175.0</td>\n",
       "      <td>Hazel</td>\n",
       "    </tr>\n",
       "    <tr>\n",
       "      <th>4</th>\n",
       "      <td>005</td>\n",
       "      <td>160.0</td>\n",
       "      <td>Brown</td>\n",
       "    </tr>\n",
       "  </tbody>\n",
       "</table>\n",
       "</div>"
      ],
      "text/plain": [
       "  Participant ID  Height (cm) Eye Color\n",
       "0            001        173.0      Blue\n",
       "1            002        165.0     Green\n",
       "2            003        180.0     Brown\n",
       "3            004        175.0     Hazel\n",
       "4            005        160.0     Brown"
      ]
     },
     "execution_count": 19,
     "metadata": {},
     "output_type": "execute_result"
    }
   ],
   "source": [
    "df['Height (cm)'] = df['Height (cm)'].astype(float)\n",
    "\n",
    "df"
   ]
  },
  {
   "cell_type": "markdown",
   "id": "8b7ae659-4b05-425f-8dc9-37600484397e",
   "metadata": {},
   "source": [
    "Now instead of integers, the heights are floats.\n",
    "\n",
    "We'll note here that there are additional methods that help with typecasting, and we'll mention two here: \n",
    "1.  `convert_dtypes` | will convert columns to the best possible `dtypes`\n",
    "2.  `to_numpy` | will convert a `DataFrame` to a `NumPy` array\n",
    "\n",
    "### `value_counts()`\n",
    "\n",
    "Often when working with data (particularly categorical data), we're interest in how many different values there are. For example, how many different eye colors are in our dataset? And how many individuals are there with each eye color? While we can easily determine this for our limited dataset here, as datasets grow in size, it's less easy to determine at a glance. Instead, we can use `value_counts` to answer this question:"
   ]
  },
  {
   "cell_type": "code",
   "execution_count": 20,
   "id": "33c10bc3-5bad-4f56-96f4-fcea4d3c30dd",
   "metadata": {
    "scrolled": true
   },
   "outputs": [
    {
     "data": {
      "text/plain": [
       "Eye Color\n",
       "Brown    2\n",
       "Blue     1\n",
       "Green    1\n",
       "Hazel    1\n",
       "Name: count, dtype: int64"
      ]
     },
     "execution_count": 20,
     "metadata": {},
     "output_type": "execute_result"
    }
   ],
   "source": [
    "df['Eye Color'].value_counts()"
   ]
  },
  {
   "cell_type": "markdown",
   "id": "2d6c792d-8861-48dc-b1de-59dddda68bb0",
   "metadata": {},
   "source": [
    "In the above output, each unique eye color is at left and the corresponding number of how many times each shows up is at right. Eye colors are sorted by frequency of appearance, with most frequent first. For categories with ties, labels are sorted alphanumerically. \n",
    "\n",
    "### `unique` & `nunique`\n",
    "\n",
    "Similarly, if you don't want *all* of the information above, but want pieces of information about uniqueness, there are additional helpful methods. \n",
    "\n",
    "For example `unique` returns all the unique values (as an array):"
   ]
  },
  {
   "cell_type": "code",
   "execution_count": 21,
   "id": "e8279a0c-6e2b-4ee3-bb7c-76e36ac45e8e",
   "metadata": {
    "scrolled": true
   },
   "outputs": [
    {
     "data": {
      "text/plain": [
       "array(['Blue', 'Green', 'Brown', 'Hazel'], dtype=object)"
      ]
     },
     "execution_count": 21,
     "metadata": {},
     "output_type": "execute_result"
    }
   ],
   "source": [
    "df['Eye Color'].unique()"
   ]
  },
  {
   "cell_type": "markdown",
   "id": "72c47678-793e-415c-abab-2176393f5135",
   "metadata": {},
   "source": [
    "...and `nunique()` returns how many unique values there are (in our case, 4):"
   ]
  },
  {
   "cell_type": "code",
   "execution_count": 22,
   "id": "2a31fcf7-6a04-471e-801a-38cedb551751",
   "metadata": {},
   "outputs": [
    {
     "data": {
      "text/plain": [
       "4"
      ]
     },
     "execution_count": 22,
     "metadata": {},
     "output_type": "execute_result"
    }
   ],
   "source": [
    "df['Eye Color'].nunique()"
   ]
  },
  {
   "cell_type": "markdown",
   "id": "c7b4f72a-dce9-482c-89cc-54dbc7685eeb",
   "metadata": {},
   "source": [
    "### Method Chaining\n",
    "\n",
    "Building on the above, one key important features within `pandas` is the ability to chain methods together using the general syntax `df.method1().method2()`. In this, `method1` would be applied to `df` *and then* `method2()` would be appled to the output of `method1()`.\n",
    "\n",
    "For example, what if you didn't want the unique eye colors as an array...but rather as a list. You can do that with method chaining:"
   ]
  },
  {
   "cell_type": "code",
   "execution_count": 23,
   "id": "c56bddfb-0a3f-4759-9888-d1efa1ed64e9",
   "metadata": {
    "scrolled": true
   },
   "outputs": [
    {
     "data": {
      "text/plain": [
       "['Blue', 'Green', 'Brown', 'Hazel']"
      ]
     },
     "execution_count": 23,
     "metadata": {},
     "output_type": "execute_result"
    }
   ],
   "source": [
    "df['Eye Color'].unique().tolist()"
   ]
  },
  {
   "cell_type": "markdown",
   "id": "1fb8ac3e-d27b-46c8-af30-3373f5c699c0",
   "metadata": {},
   "source": [
    "...and what if you didn't want *all* of the `value_counts` output...but just the category that shows up the most? You can use `value_counts()` chained with `max()`, the output of which lets you know of all the eye colors, the one that shows up the most shows up twice:"
   ]
  },
  {
   "cell_type": "code",
   "execution_count": 24,
   "id": "facd28fb-61af-4456-8737-c74c164cab18",
   "metadata": {},
   "outputs": [
    {
     "data": {
      "text/plain": [
       "2"
      ]
     },
     "execution_count": 24,
     "metadata": {},
     "output_type": "execute_result"
    }
   ],
   "source": [
    "df['Eye Color'].value_counts().max()"
   ]
  },
  {
   "cell_type": "markdown",
   "id": "3946471c-a863-4cda-b312-300e9aeaf1f2",
   "metadata": {},
   "source": [
    "...but what if you didn't want to know how many times the most common eye color showed up, but just what that eye color that showed up the most was. There's `idxmax()` for that, which can be chained with `value_counts()`:"
   ]
  },
  {
   "cell_type": "code",
   "execution_count": 25,
   "id": "0065f35e-3de1-42ec-930f-47c285b152eb",
   "metadata": {},
   "outputs": [
    {
     "data": {
      "text/plain": [
       "'Brown'"
      ]
     },
     "execution_count": 25,
     "metadata": {},
     "output_type": "execute_result"
    }
   ],
   "source": [
    "df['Eye Color'].value_counts().idxmax()"
   ]
  },
  {
   "cell_type": "markdown",
   "id": "a5172261-f166-47db-bd1f-05226a50096a",
   "metadata": {},
   "source": [
    "Note that method chaining is *not* limited to two methods. Many methods can be chained together the output of each subsequent method becoming the input for the next. The reason this is possible is because most `pandas` methods return a `DataFrame`...enabling the next method to operate on that returned DataFrame. "
   ]
  },
  {
   "cell_type": "markdown",
   "id": "00814daa-f385-4e83-be8d-ff543f6703f5",
   "metadata": {},
   "source": [
    "While we won't walk through examples of all of the existing methods in `pandas`, we'll summarize a few additional common ones here:\n",
    "\n",
    "| Function          | Purpose                                                    |\n",
    "|-------------------|------------------------------------------------------------|\n",
    "| `fillna()`        | Fill in missing data                                       |\n",
    "| `groupby()`       | Group data by a variable prior to carrying out some operation within group |\n",
    "| `concat   ()`     | Combine (concatenate) `Series`/`DataFrame`s together       |\n",
    "| `merge()`         | Enable SQL-like joins across `DataFrame`s                  |\n",
    "| `assign()`        | Create new columns                                         |\n",
    "| `query()`         | Filter rows using Boolean logic                            |\n",
    "| `isin()`          | Returns rows with match                                    |\n",
    "\n",
    "Additional methods are summarized in the [`pandas` Cheat Sheet](https://pandas.pydata.org/Pandas_Cheat_Sheet.pdf)."
   ]
  },
  {
   "cell_type": "markdown",
   "id": "37b0bce9-93f5-4ad2-9032-0ed5b51da704",
   "metadata": {},
   "source": [
    "## Functions\n",
    "\n",
    "While the `DataFrame` and `Series` objects are at the center of the `pandas` package, there are additional functions within `pandas` that support working with data in Python.\n",
    "\n",
    "### `read_*`\n",
    "\n",
    "In this chapter so far, we've worked with data that we generated directly and stored in a `DataFrame`. However, typically data live elsewhere and individuals want to read it into python for data analysis. This is where the suite of `read_*` functions come into play. There are a number of them, the most common of which is likely `read_csv()`, which reads data from CSV (comma-separated value files) into python. Files read in can be either filepaths or URLs.\n",
    "\n",
    "For example, the following reads in data from a CSV stored on GitHub (passing in the URL of the file as a string:"
   ]
  },
  {
   "cell_type": "code",
   "execution_count": 26,
   "id": "ddb189cd-cc2c-489d-81bc-87d8f781a4dc",
   "metadata": {},
   "outputs": [],
   "source": [
    "df_msleep = pd.read_csv('https://raw.githubusercontent.com/ShanEllis/datasets/master/msleep.csv')"
   ]
  },
  {
   "cell_type": "code",
   "execution_count": 27,
   "id": "595c94ed-67b2-4174-a4c6-ad98e1177a92",
   "metadata": {
    "scrolled": true
   },
   "outputs": [
    {
     "data": {
      "text/html": [
       "<div>\n",
       "<style scoped>\n",
       "    .dataframe tbody tr th:only-of-type {\n",
       "        vertical-align: middle;\n",
       "    }\n",
       "\n",
       "    .dataframe tbody tr th {\n",
       "        vertical-align: top;\n",
       "    }\n",
       "\n",
       "    .dataframe thead th {\n",
       "        text-align: right;\n",
       "    }\n",
       "</style>\n",
       "<table border=\"1\" class=\"dataframe\">\n",
       "  <thead>\n",
       "    <tr style=\"text-align: right;\">\n",
       "      <th></th>\n",
       "      <th>name</th>\n",
       "      <th>genus</th>\n",
       "      <th>vore</th>\n",
       "      <th>order</th>\n",
       "      <th>conservation</th>\n",
       "      <th>sleep_total</th>\n",
       "      <th>sleep_rem</th>\n",
       "      <th>sleep_cycle</th>\n",
       "      <th>awake</th>\n",
       "      <th>brainwt</th>\n",
       "      <th>bodywt</th>\n",
       "    </tr>\n",
       "  </thead>\n",
       "  <tbody>\n",
       "    <tr>\n",
       "      <th>0</th>\n",
       "      <td>Cheetah</td>\n",
       "      <td>Acinonyx</td>\n",
       "      <td>carni</td>\n",
       "      <td>Carnivora</td>\n",
       "      <td>lc</td>\n",
       "      <td>12.1</td>\n",
       "      <td>NaN</td>\n",
       "      <td>NaN</td>\n",
       "      <td>11.9</td>\n",
       "      <td>NaN</td>\n",
       "      <td>50.000</td>\n",
       "    </tr>\n",
       "    <tr>\n",
       "      <th>1</th>\n",
       "      <td>Owl monkey</td>\n",
       "      <td>Aotus</td>\n",
       "      <td>omni</td>\n",
       "      <td>Primates</td>\n",
       "      <td>NaN</td>\n",
       "      <td>17.0</td>\n",
       "      <td>1.8</td>\n",
       "      <td>NaN</td>\n",
       "      <td>7.0</td>\n",
       "      <td>0.01550</td>\n",
       "      <td>0.480</td>\n",
       "    </tr>\n",
       "    <tr>\n",
       "      <th>2</th>\n",
       "      <td>Mountain beaver</td>\n",
       "      <td>Aplodontia</td>\n",
       "      <td>herbi</td>\n",
       "      <td>Rodentia</td>\n",
       "      <td>nt</td>\n",
       "      <td>14.4</td>\n",
       "      <td>2.4</td>\n",
       "      <td>NaN</td>\n",
       "      <td>9.6</td>\n",
       "      <td>NaN</td>\n",
       "      <td>1.350</td>\n",
       "    </tr>\n",
       "    <tr>\n",
       "      <th>3</th>\n",
       "      <td>Greater short-tailed shrew</td>\n",
       "      <td>Blarina</td>\n",
       "      <td>omni</td>\n",
       "      <td>Soricomorpha</td>\n",
       "      <td>lc</td>\n",
       "      <td>14.9</td>\n",
       "      <td>2.3</td>\n",
       "      <td>0.133333</td>\n",
       "      <td>9.1</td>\n",
       "      <td>0.00029</td>\n",
       "      <td>0.019</td>\n",
       "    </tr>\n",
       "    <tr>\n",
       "      <th>4</th>\n",
       "      <td>Cow</td>\n",
       "      <td>Bos</td>\n",
       "      <td>herbi</td>\n",
       "      <td>Artiodactyla</td>\n",
       "      <td>domesticated</td>\n",
       "      <td>4.0</td>\n",
       "      <td>0.7</td>\n",
       "      <td>0.666667</td>\n",
       "      <td>20.0</td>\n",
       "      <td>0.42300</td>\n",
       "      <td>600.000</td>\n",
       "    </tr>\n",
       "    <tr>\n",
       "      <th>...</th>\n",
       "      <td>...</td>\n",
       "      <td>...</td>\n",
       "      <td>...</td>\n",
       "      <td>...</td>\n",
       "      <td>...</td>\n",
       "      <td>...</td>\n",
       "      <td>...</td>\n",
       "      <td>...</td>\n",
       "      <td>...</td>\n",
       "      <td>...</td>\n",
       "      <td>...</td>\n",
       "    </tr>\n",
       "    <tr>\n",
       "      <th>78</th>\n",
       "      <td>Tree shrew</td>\n",
       "      <td>Tupaia</td>\n",
       "      <td>omni</td>\n",
       "      <td>Scandentia</td>\n",
       "      <td>NaN</td>\n",
       "      <td>8.9</td>\n",
       "      <td>2.6</td>\n",
       "      <td>0.233333</td>\n",
       "      <td>15.1</td>\n",
       "      <td>0.00250</td>\n",
       "      <td>0.104</td>\n",
       "    </tr>\n",
       "    <tr>\n",
       "      <th>79</th>\n",
       "      <td>Bottle-nosed dolphin</td>\n",
       "      <td>Tursiops</td>\n",
       "      <td>carni</td>\n",
       "      <td>Cetacea</td>\n",
       "      <td>NaN</td>\n",
       "      <td>5.2</td>\n",
       "      <td>NaN</td>\n",
       "      <td>NaN</td>\n",
       "      <td>18.8</td>\n",
       "      <td>NaN</td>\n",
       "      <td>173.330</td>\n",
       "    </tr>\n",
       "    <tr>\n",
       "      <th>80</th>\n",
       "      <td>Genet</td>\n",
       "      <td>Genetta</td>\n",
       "      <td>carni</td>\n",
       "      <td>Carnivora</td>\n",
       "      <td>NaN</td>\n",
       "      <td>6.3</td>\n",
       "      <td>1.3</td>\n",
       "      <td>NaN</td>\n",
       "      <td>17.7</td>\n",
       "      <td>0.01750</td>\n",
       "      <td>2.000</td>\n",
       "    </tr>\n",
       "    <tr>\n",
       "      <th>81</th>\n",
       "      <td>Arctic fox</td>\n",
       "      <td>Vulpes</td>\n",
       "      <td>carni</td>\n",
       "      <td>Carnivora</td>\n",
       "      <td>NaN</td>\n",
       "      <td>12.5</td>\n",
       "      <td>NaN</td>\n",
       "      <td>NaN</td>\n",
       "      <td>11.5</td>\n",
       "      <td>0.04450</td>\n",
       "      <td>3.380</td>\n",
       "    </tr>\n",
       "    <tr>\n",
       "      <th>82</th>\n",
       "      <td>Red fox</td>\n",
       "      <td>Vulpes</td>\n",
       "      <td>carni</td>\n",
       "      <td>Carnivora</td>\n",
       "      <td>NaN</td>\n",
       "      <td>9.8</td>\n",
       "      <td>2.4</td>\n",
       "      <td>0.350000</td>\n",
       "      <td>14.2</td>\n",
       "      <td>0.05040</td>\n",
       "      <td>4.230</td>\n",
       "    </tr>\n",
       "  </tbody>\n",
       "</table>\n",
       "<p>83 rows × 11 columns</p>\n",
       "</div>"
      ],
      "text/plain": [
       "                          name       genus   vore         order  conservation  \\\n",
       "0                      Cheetah    Acinonyx  carni     Carnivora            lc   \n",
       "1                   Owl monkey       Aotus   omni      Primates           NaN   \n",
       "2              Mountain beaver  Aplodontia  herbi      Rodentia            nt   \n",
       "3   Greater short-tailed shrew     Blarina   omni  Soricomorpha            lc   \n",
       "4                          Cow         Bos  herbi  Artiodactyla  domesticated   \n",
       "..                         ...         ...    ...           ...           ...   \n",
       "78                  Tree shrew      Tupaia   omni    Scandentia           NaN   \n",
       "79        Bottle-nosed dolphin    Tursiops  carni       Cetacea           NaN   \n",
       "80                       Genet     Genetta  carni     Carnivora           NaN   \n",
       "81                  Arctic fox      Vulpes  carni     Carnivora           NaN   \n",
       "82                     Red fox      Vulpes  carni     Carnivora           NaN   \n",
       "\n",
       "    sleep_total  sleep_rem  sleep_cycle  awake  brainwt   bodywt  \n",
       "0          12.1        NaN          NaN   11.9      NaN   50.000  \n",
       "1          17.0        1.8          NaN    7.0  0.01550    0.480  \n",
       "2          14.4        2.4          NaN    9.6      NaN    1.350  \n",
       "3          14.9        2.3     0.133333    9.1  0.00029    0.019  \n",
       "4           4.0        0.7     0.666667   20.0  0.42300  600.000  \n",
       "..          ...        ...          ...    ...      ...      ...  \n",
       "78          8.9        2.6     0.233333   15.1  0.00250    0.104  \n",
       "79          5.2        NaN          NaN   18.8      NaN  173.330  \n",
       "80          6.3        1.3          NaN   17.7  0.01750    2.000  \n",
       "81         12.5        NaN          NaN   11.5  0.04450    3.380  \n",
       "82          9.8        2.4     0.350000   14.2  0.05040    4.230  \n",
       "\n",
       "[83 rows x 11 columns]"
      ]
     },
     "execution_count": 27,
     "metadata": {},
     "output_type": "execute_result"
    }
   ],
   "source": [
    "df_msleep"
   ]
  },
  {
   "cell_type": "markdown",
   "id": "7411cc23-e645-49de-aca5-b0af69580415",
   "metadata": {},
   "source": [
    "In addition to reading in CSV files, there are `pd.read_*` functions for reading in JSON, XML, HTML, and excel datasets (among others).\n",
    "\n",
    "Similarly there are corresponding `to_*` methods that allow for `DataFrames` to be written out to files of various types (i.e. CSV, JSON, etc.)"
   ]
  },
  {
   "cell_type": "markdown",
   "id": "785df8e3-2277-4acc-b2dd-4c79f3c0b43e",
   "metadata": {},
   "source": [
    "### Plotting\n",
    "\n",
    "While there are many ways to generate plots in python, `pandas` does have the ability to generate plots via the `plotting` module in `pandas`:"
   ]
  },
  {
   "cell_type": "code",
   "execution_count": 28,
   "id": "75ebe95b-0727-4af1-bc8e-96425caa1be6",
   "metadata": {},
   "outputs": [
    {
     "data": {
      "text/plain": [
       "<Axes: title={'center': 'sleep_total'}, xlabel='vore'>"
      ]
     },
     "execution_count": 28,
     "metadata": {},
     "output_type": "execute_result"
    },
    {
     "data": {
      "image/png": "[encoded data removed]",
      "text/plain": [
       "<Figure size 640x480 with 1 Axes>"
      ]
     },
     "metadata": {},
     "output_type": "display_data"
    }
   ],
   "source": [
    "pd.plotting.boxplot(df_msleep, column='sleep_total', by='vore')"
   ]
  },
  {
   "cell_type": "markdown",
   "id": "09c96540-9039-4acc-a069-6c1ee3f2442d",
   "metadata": {},
   "source": [
    "While we won't be discussing the full capabilities here (partially because it's beyond the scope and partially because many people use other approaches for plotting in python), we did at least want to introduce this as a general capability within `pandas`."
   ]
  },
  {
   "cell_type": "markdown",
   "id": "420276ae-fd1f-4979-a95f-4646ca7026e9",
   "metadata": {},
   "source": [
    "## Exercises\n",
    "\n",
    "Q1. **Comparing them to standard library Python types, which is the best mapping for `NumPy` arrays and `pandas` `DataFrames`?**\n",
    "\n",
    "A) DataFrames are like lists, arrays are like tuples  \n",
    "B) DataFrames and arrays are like lists  \n",
    "C) DataFrames are like tuples, arrays are like lists  \n",
    "D) DataFrames and arrays are like dictionaries  \n",
    "E) Dataframes are like dictionaries, arrays are like lists  \n",
    "\n",
    "Q2. **If a `DataFrame` contained only numeric values, how would it differ from a `NumPy` array?**\n",
    "\n",
    "A) The `DataFrame` would additionally have indices and column names  \n",
    "B) They would be exactly the same   \n",
    "C) `DataFrame`s cannot store homogenous data  \n",
    "D) The `DataFrame` would convert all of the numeric values to strings  \n",
    "E) `NumPy` arrays cannot store numeric values  \n",
    "\n",
    "Q3. **Read in the `df_msleep` DataFrame provided above. Use `pandas` attributes to determine the dimensions and types of information stored in `df_msleep`**\n",
    "\n",
    "Q4. **Again using `df_msleep`, use a `pandas` method to determine the average amount of total sleep the animals in this dataset get.**\n",
    "\n",
    "Q5. **Again using `df_msleep`, use a `pandas` method to determine which `'vore'` is most common in this dataset, as well as how many animals there are of that `'vore'`.**"
   ]
  }
 ],
 "metadata": {
  "kernelspec": {
   "display_name": "Python 3 (ipykernel)",
   "language": "python",
   "name": "python3"
  },
  "language_info": {
   "codemirror_mode": {
    "name": "ipython",
    "version": 3
   },
   "file_extension": ".py",
   "mimetype": "text/x-python",
   "name": "python",
   "nbconvert_exporter": "python",
   "pygments_lexer": "ipython3",
   "version": "3.11.8"
  }
 },
 "nbformat": 4,
 "nbformat_minor": 5
}