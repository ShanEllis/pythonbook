{
 "cells": [
  {
   "cell_type": "markdown",
   "id": "d3cb07e4",
   "metadata": {},
   "source": [
    "# Code Style\n",
    "\n",
    "In this chapter, we'll discuss a number of important considerations to make when styling your code. If you think of writing code like writing an essay, considering code style improves your code the same way editing an essay improves your essay. Often, considering code style is referred to as making our code *pythonic*, meaning that it adheres to the foundational principles of the Python programming language. \n",
    "\n",
    "Learning how to consider and improve your code style up front has a number of benefits. First, your code will be more user-friendly for anyone reading your code. This includes you, who will come back to and edit your code over time. Second, while considering code style and being pythonic is a bit more work up-front on developers (the people writing the code), it pays off on the long run by making your code easier to maintai. Third, by learning this now, early on in your Python journey, you avoid falling into bad habits. It's much easier to learn something and implement it than it is to unlearn bad habits. \n",
    "\n",
    "Note that what we're discussing here will not affect the functionality of your code. Unlike *programmatic errors* (i.e. errors and exceptions that require debugging for your code to execute properly), *stylistic errors* do not affect the functionality of your code. However, *stylistic errors* are considered bad style and are to be avoided, as they make your code harder to understand."
   ]
  },
  {
   "cell_type": "markdown",
   "id": "9be8bd33",
   "metadata": {
    "slideshow": {
     "slide_type": "slide"
    }
   },
   "source": [
    "## Style Guides\n",
    "\n",
    "Programming lanugages often have style guides, which include a set of conventions for how to write good code. While many of the concepts we'll cover here are applicable for other programming languages (i.e. being consistent), some of the specifics (i.e. variable naming conventions) are more specific to programming in Python.\n",
    "\n",
    "<div class=\"alert alert-success\">\n",
    "Coding style refers to a set of conventions for how to write good code. \n",
    "</div>"
   ]
  },
  {
   "cell_type": "markdown",
   "id": "8ecaeef8",
   "metadata": {
    "slideshow": {
     "slide_type": "slide"
    }
   },
   "source": [
    "### The Zen of Python\n",
    "\n",
    "To explain the programming philosophy in Python, we'll first introduce what's known as *The Zen of Python*, which lays out the design principles of the individuals who developed the Python programming language. *The Zen of Python* is included as an easter egg in Python, so if you `import this` you're able to read its contents: "
   ]
  },
  {
   "cell_type": "code",
   "execution_count": 1,
   "id": "9bb4f696",
   "metadata": {
    "scrolled": true,
    "slideshow": {
     "slide_type": "-"
    }
   },
   "outputs": [
    {
     "name": "stdout",
     "output_type": "stream",
     "text": [
      "The Zen of Python, by Tim Peters\n",
      "\n",
      "Beautiful is better than ugly.\n",
      "Explicit is better than implicit.\n",
      "Simple is better than complex.\n",
      "Complex is better than complicated.\n",
      "Flat is better than nested.\n",
      "Sparse is better than dense.\n",
      "Readability counts.\n",
      "Special cases aren't special enough to break the rules.\n",
      "Although practicality beats purity.\n",
      "Errors should never pass silently.\n",
      "Unless explicitly silenced.\n",
      "In the face of ambiguity, refuse the temptation to guess.\n",
      "There should be one-- and preferably only one --obvious way to do it.\n",
      "Although that way may not be obvious at first unless you're Dutch.\n",
      "Now is better than never.\n",
      "Although never is often better than *right* now.\n",
      "If the implementation is hard to explain, it's a bad idea.\n",
      "If the implementation is easy to explain, it may be a good idea.\n",
      "Namespaces are one honking great idea -- let's do more of those!\n"
     ]
    }
   ],
   "source": [
    "import this"
   ]
  },
  {
   "cell_type": "markdown",
   "id": "f2fe4eb1",
   "metadata": {},
   "source": [
    "While we won't discuss each of these above we'll highlight two of these tenantsthat are particularly pertinent to the considerations in this chapter. Specifically, **beautiful is better than ugly** and **readability counts** together indicate that how one's code looks matters. Python prioritizes readability in its syntax (relative to other programming languages) and adheres to the idea that \"code is more often read than it is written.\" As such, those who program in Python are encouraged to consider the beauty and readability of their code. To do so, we'll cover a handful of considerations here."
   ]
  },
  {
   "cell_type": "markdown",
   "id": "7bb80446",
   "metadata": {
    "slideshow": {
     "slide_type": "fragment"
    }
   },
   "source": [
    "### Code Consistency\n",
    "\n",
    "For very understandable and good reasons, beginner programmers often focus on getting their code to execute without throwing an error. In this process, however, they often forget about code style. While we'll discuss specific considerations to write well-styled python code in this chapter, the most important overarching concept is that **consistency is the goal**. Rules help us achieve consistency, and so we'll discuss a handful of rules and guidelines to help you write easy-to-read code with consistent code style. However, in doing so, we want you to keep the idea of consistency in mind, as programming is (at least partly) subjective. Since it's easier to recognize & read consistent style, do your best to follow the style guidelines presented in this chapter and once you pick a way to style your code, it's best to use that consistently across your code."
   ]
  },
  {
   "cell_type": "markdown",
   "id": "3c17a7c4",
   "metadata": {
    "slideshow": {
     "slide_type": "slide"
    }
   },
   "source": [
    "### PEP8\n",
    "\n",
    "Python Enhancement Proposals (PEPs) are proposals for how something should be or how something shoudl work in the Python programming language. These are written by the people responsible for writing and maintaining the Python programming language. And, PEPs are voted on before incorporation. **[PEP8](https://www.python.org/dev/peps/pep-0008/)**, specfiically, is an accepted proposal that outlines the style guidelines for the Python programming language.\n",
    "\n",
    "<div class=\"alert alert-info\">\n",
    "<b><a href=\"https://www.python.org/dev/peps/pep-0008/\">PEP8</a></b> is an accepted proposal that outlines the style guide for Python.\n",
    "</div>\n",
    "\n",
    "The general concepts laid out in PEP8 (and in *The Zen of Python*) are as follows:\n",
    "- Be *explicit & clear*: prioritize readability over cleerness\n",
    "- There should be a *specific, standard way to do things*: use them\n",
    "- Coding Style are *guidelines*: They are designed to help the code, but are not laws"
   ]
  },
  {
   "cell_type": "markdown",
   "id": "42e0323c",
   "metadata": {
    "collapsed": true,
    "slideshow": {
     "slide_type": "slide"
    }
   },
   "source": [
    "#### PEP8: Structure\n",
    "\n",
    "Throughout this section we'll highlight the PEP8 guideline, provide an example of what to avoid and hten demonstrate an improvement on the error. Note that for each \"what to avoid\" the code *will* execute without error. This is because we're discussing *stylistic* rather than *programmatic* errors here."
   ]
  },
  {
   "cell_type": "markdown",
   "id": "312ad93f",
   "metadata": {
    "slideshow": {
     "slide_type": "slide"
    }
   },
   "source": [
    "##### Blank Lines\n",
    "\n",
    "- Use 2 blank lines between functions & classes and 1 between methods\n",
    "- Use 1 blank line between segments to indicate logical structure\n",
    "\n",
    "This allows you to, at a glance, identify what pieces of code are there. Using blank lines to separate out components in your code and your code's overall structure improves its readability.\n",
    "\n",
    "**What to avoid**\n",
    "\n",
    "In this example of what to avoid, there are no blank lines between segments within your code, making it more difficult to read. Note that if two functions were provided here, there would be 2 blank lines between the different function definitions. "
   ]
  },
  {
   "cell_type": "code",
   "execution_count": 2,
   "id": "a4ec101f",
   "metadata": {
    "slideshow": {
     "slide_type": "fragment"
    }
   },
   "outputs": [],
   "source": [
    "def my_func():\n",
    "    my_nums = '123'\n",
    "    output = ''\n",
    "    for num in my_nums:\n",
    "        output += str(int(num) + 1)\n",
    "    return output"
   ]
  },
  {
   "cell_type": "markdown",
   "id": "f066d54f",
   "metadata": {},
   "source": [
    "**How to improve**\n",
    "\n",
    "To improve the above example, we can use what you see here, with variable definition being separated out from the `for` loop, being separated from the `return` statement. This code helps separate out the logical structures within a function. Note that we do *not* add a blank line between each line of code, as that would *decrease* the readability of the code."
   ]
  },
  {
   "cell_type": "code",
   "execution_count": 3,
   "id": "0a5e21cb",
   "metadata": {
    "slideshow": {
     "slide_type": "fragment"
    }
   },
   "outputs": [],
   "source": [
    "# Goodness\n",
    "def my_func():\n",
    "    \n",
    "    my_nums = '123'\n",
    "    output = ''\n",
    "    \n",
    "    for num in my_nums: \n",
    "        output += str(int(num) + 1)\n",
    "    \n",
    "    return output"
   ]
  },
  {
   "cell_type": "markdown",
   "id": "37bdbfcd",
   "metadata": {
    "slideshow": {
     "slide_type": "slide"
    }
   },
   "source": [
    "##### PEP8: Indentation\n",
    "\n",
    "Use spaces to indicate indentation levels, with each level defined as 4 spaces. Programming languages differ on the speicfics of what constitutes a \"tab,\" but Python has settled on a tab being equivalent to 4 spaces. When you hit \"tab\" on your keyboard within a Jupyter notebook, for example, the 4 spaces convention is implemented for you automatically, so you may not have even realized this convention before now!\n",
    "\n",
    "**What to avoid**\n",
    "\n",
    "Here, you'll note that, while the `print()` statement is indented, only *two* spaces are used. Jupyter will alert you to this by making the word `print` red, rather than its typical green."
   ]
  },
  {
   "cell_type": "code",
   "execution_count": 4,
   "id": "19dc485b",
   "metadata": {
    "scrolled": true,
    "slideshow": {
     "slide_type": "fragment"
    }
   },
   "outputs": [
    {
     "name": "stdout",
     "output_type": "stream",
     "text": [
      "Words.\n"
     ]
    }
   ],
   "source": [
    "if True:\n",
    "  print('Words.')"
   ]
  },
  {
   "cell_type": "markdown",
   "id": "fc75e95f",
   "metadata": {},
   "source": [
    "**How to improve**\n",
    "\n",
    "Conversely, here we see the accepted four spaces for a tab/indentation being utilized. Again, remember that the functionality of the code in this example is equivalent to that above; only the style has changed."
   ]
  },
  {
   "cell_type": "code",
   "execution_count": 5,
   "id": "6586539e",
   "metadata": {
    "slideshow": {
     "slide_type": "fragment"
    }
   },
   "outputs": [
    {
     "name": "stdout",
     "output_type": "stream",
     "text": [
      "Words.\n"
     ]
    }
   ],
   "source": [
    "if True:\n",
    "    print('Words.')"
   ]
  },
  {
   "cell_type": "markdown",
   "id": "f6b73c11",
   "metadata": {
    "slideshow": {
     "slide_type": "slide"
    }
   },
   "source": [
    "##### PEP8: Spacing\n",
    "\n",
    "- Put one (and only one) space between each element\n",
    "- Index and assignment don't have a space between opening & closing '()' or '[]'\n",
    "\n",
    "**What to avoid**\n",
    "\n",
    "Building on the above, spacing within and surrounding your code should be considered. Here, we see that spaces are missing around operators in the first line of code, whereas the second line has too many spaces around the assignment operator. We also see that there are unecessary spaces around the square brackets the list in line two and spaces after each comma missin in that same line of code. Finaly, in the third line of code there is an unecessary space between `my_list` and the square bracket being used for indexing."
   ]
  },
  {
   "cell_type": "code",
   "execution_count": 6,
   "id": "16143b24",
   "metadata": {
    "slideshow": {
     "slide_type": "fragment"
    }
   },
   "outputs": [],
   "source": [
    "my_var=1+2==3\n",
    "my_list  =  [ 1,2,3,4 ]\n",
    "el = my_list [1]"
   ]
  },
  {
   "cell_type": "markdown",
   "id": "a0b5256c",
   "metadata": {},
   "source": [
    "**How to improve**\n",
    "\n",
    "The above spacingissues have all been resolved below: "
   ]
  },
  {
   "cell_type": "code",
   "execution_count": 7,
   "id": "a54f640f",
   "metadata": {
    "slideshow": {
     "slide_type": "fragment"
    }
   },
   "outputs": [],
   "source": [
    "my_var = 1 + 2 == 3\n",
    "my_list = [1, 2, 3, 4]\n",
    "el = my_list[1]"
   ]
  },
  {
   "cell_type": "markdown",
   "id": "bf106ae8",
   "metadata": {
    "slideshow": {
     "slide_type": "slide"
    }
   },
   "source": [
    "##### PEP8: Line Length\n",
    "\n",
    "- PEP8 recommends that each line be at most 79 characters long\n",
    "\n",
    "Note that this specification is somewhat historical, as computers used to require this. As such, there are tools and development environments that will help ensure that no single line of code exceeds 79 characters. However, in Jupyter notebooks, the general guideline \"avoid lengthy lines of code or comments\" can be used, as super long lines are hard to read at a glance."
   ]
  },
  {
   "cell_type": "markdown",
   "id": "3cef18f2",
   "metadata": {
    "slideshow": {
     "slide_type": "slide"
    }
   },
   "source": [
    "**Multi-line**\n",
    "\n",
    "To achieve this, know that you can always separate lines of code easily after a comma. In Jupyter notebooks, if you hit return/enter on your keyboard after a comma, your code will be aligned appropriately. For example below you see that after the comma in the first line of code, the `6` is automatically aligned with the `1` from the line above. This visually makes it clear that all of the integers are part of the same list `my_long_list`. Using multiple lines to make your code easier to read is a great habit to get into."
   ]
  },
  {
   "cell_type": "code",
   "execution_count": 8,
   "id": "ac543f6f",
   "metadata": {
    "slideshow": {
     "slide_type": "fragment"
    }
   },
   "outputs": [],
   "source": [
    "my_long_list = [1, 2, 3, 4, 5, \n",
    "                6, 7, 8, 9, 10]"
   ]
  },
  {
   "cell_type": "markdown",
   "id": "446eb025",
   "metadata": {},
   "source": [
    "Further, note that you can explicitly state that the code on the following line is a continuation of the first line of code with a backlash (`\\`) at the end of a line, as you see exemplified here:"
   ]
  },
  {
   "cell_type": "code",
   "execution_count": 9,
   "id": "b52b8406",
   "metadata": {
    "slideshow": {
     "slide_type": "fragment"
    }
   },
   "outputs": [],
   "source": [
    "my_string = 'Python is ' + \\\n",
    "            'a pretty great language.'"
   ]
  },
  {
   "cell_type": "markdown",
   "id": "d0840c1c",
   "metadata": {
    "collapsed": true,
    "slideshow": {
     "slide_type": "slide"
    }
   },
   "source": [
    "**One Statement Per Line**\n",
    "\n",
    "While on the topic of line length and readable code, note that while you *can* often condense multiple statements into one line of code, you usually shouldn't, as it makes it harder to read.\n",
    "\n",
    "**What to avoid**\n",
    "\n",
    "For example, for loops *can* syntactically be specified on a single line, as you see here:"
   ]
  },
  {
   "cell_type": "code",
   "execution_count": 10,
   "id": "730b2123",
   "metadata": {
    "slideshow": {
     "slide_type": "fragment"
    }
   },
   "outputs": [
    {
     "name": "stdout",
     "output_type": "stream",
     "text": [
      "2\n",
      "4\n",
      "10\n"
     ]
    }
   ],
   "source": [
    "for i in [1, 2, 3]: print(i**2 + i%2)"
   ]
  },
  {
   "cell_type": "markdown",
   "id": "23310b4c",
   "metadata": {},
   "source": [
    "**How to Improve**\n",
    "\n",
    "However, in he code above, it's harder to read at a glance. Instead, what is being looped over should go on the first line with what code is being executed contained in an indented code block on lines underneat the `for` statement, as this is easier to read than the above example:"
   ]
  },
  {
   "cell_type": "code",
   "execution_count": 11,
   "id": "04c1646d",
   "metadata": {
    "slideshow": {
     "slide_type": "fragment"
    }
   },
   "outputs": [
    {
     "name": "stdout",
     "output_type": "stream",
     "text": [
      "2\n",
      "4\n",
      "10\n"
     ]
    }
   ],
   "source": [
    "for i in [1, 2, 3]:\n",
    "    print(i**2 + i%2)"
   ]
  },
  {
   "cell_type": "markdown",
   "id": "26f35c75",
   "metadata": {
    "slideshow": {
     "slide_type": "slide"
    }
   },
   "source": [
    "##### PEP8: Imports\n",
    "\n",
    "- Import one module per line\n",
    "- Avoid `*` imports\n",
    "- Use the import order: standard library; 3rd party packages; local/custom code\n",
    "\n",
    "**What to avoid**\n",
    "\n",
    "While you may still be learning which packages are part of the standard library and which are third party packages, this will become more second nature over time. And, we haven't yet discussed local or custom code, but this includes functions/classes/code you've written and stored in `.py` files. This should be imported last.\n",
    "\n",
    "In this example here, there are a number of issues! First, `numpy` is a third party package, while `os` and `sys` are part of the standard library, so the order should be flipped. Second `*` imports are to be avoided, as it would be unclear in any resultant code which functionality came from the `numpy` package. Third, `os` and `sys` should be imported on separate lines to be most clear."
   ]
  },
  {
   "cell_type": "code",
   "execution_count": 12,
   "id": "5e3a834a",
   "metadata": {
    "slideshow": {
     "slide_type": "fragment"
    }
   },
   "outputs": [],
   "source": [
    "from numpy import *\n",
    "\n",
    "import os, sys"
   ]
  },
  {
   "cell_type": "markdown",
   "id": "ed4b98f8",
   "metadata": {},
   "source": [
    "**How to Improve**\n",
    "\n",
    "The above issues have been resolved in this set of imports:"
   ]
  },
  {
   "cell_type": "code",
   "execution_count": 13,
   "id": "61bfc9b0",
   "metadata": {
    "slideshow": {
     "slide_type": "fragment"
    }
   },
   "outputs": [],
   "source": [
    "import os\n",
    "import sys\n",
    "\n",
    "import numpy as np"
   ]
  },
  {
   "cell_type": "markdown",
   "id": "a02f0a07",
   "metadata": {
    "slideshow": {
     "slide_type": "slide"
    }
   },
   "source": [
    "##### PEP8: Naming\n",
    "\n",
    "- Use descriptive names for all modules, variables, functions and classes, that are longer than 1 character\n",
    "\n",
    "**What to avoid**\n",
    "\n",
    "Here, single character, non-descriptive names are used. "
   ]
  },
  {
   "cell_type": "code",
   "execution_count": 14,
   "id": "79c25202",
   "metadata": {
    "slideshow": {
     "slide_type": "fragment"
    }
   },
   "outputs": [],
   "source": [
    "a = 12\n",
    "b = 24"
   ]
  },
  {
   "cell_type": "markdown",
   "id": "1b603540",
   "metadata": {},
   "source": [
    "**How to Improve**\n",
    "\n",
    "Instead, python encourages object names that describe what is stored in the object or what the object is or does.\n",
    "\n",
    "This is also important when you want to change an object name after the fact. If you were to \"Find + Replace All\" on the letter `a` that would change every single a in your code. However, if you \"Find + Replace All\" for `n_filters`, this would likely only change the places in your code you actually intended to replace."
   ]
  },
  {
   "cell_type": "code",
   "execution_count": 15,
   "id": "74841bf9",
   "metadata": {
    "slideshow": {
     "slide_type": "fragment"
    }
   },
   "outputs": [],
   "source": [
    "n_filters = 12\n",
    "n_freqs = 24"
   ]
  },
  {
   "cell_type": "markdown",
   "id": "c126e184",
   "metadata": {
    "slideshow": {
     "slide_type": "slide"
    }
   },
   "source": [
    "**Naming Style**\n",
    "\n",
    "- CapWords (leading capitals, no separation) for Classes\n",
    "- snake_case (all lowercase, underscore separator) for variables, functions, and modules\n",
    "\n",
    "Note: snake_case is easier to read than CapWords, so we use snake_case for the things (variables, functions) that we name more frequently.\n",
    "\n",
    "**What to avoid**\n",
    "\n",
    "While we've been using this convention, it's important to state it explicitly here. Pythonistas (those who program in python) expect the above conventions to be used within their code. Thus, if they see a function `MyFunc`, there will be cognitive dissonance, as CapWords is to be used for classes, not functions. The same for `my_class`; this would require the reader of this code to work harder than necessary, as snake_case is to be used for functions, variables, and modules, not classes."
   ]
  },
  {
   "cell_type": "code",
   "execution_count": 16,
   "id": "3310488c",
   "metadata": {
    "slideshow": {
     "slide_type": "fragment"
    }
   },
   "outputs": [],
   "source": [
    "def MyFunc():\n",
    "    pass\n",
    "    \n",
    "class my_class():\n",
    "    def __init__():\n",
    "        pass"
   ]
  },
  {
   "cell_type": "markdown",
   "id": "3b770916",
   "metadata": {},
   "source": [
    "**How to Improve**\n",
    "\n",
    "Intead, follow the guideline above. Also, note that we've added two lines between the function and class definitions (to follow the guideline earlier in this chapter)."
   ]
  },
  {
   "cell_type": "code",
   "execution_count": 17,
   "id": "34eaad32",
   "metadata": {
    "slideshow": {
     "slide_type": "fragment"
    }
   },
   "outputs": [],
   "source": [
    "def my_func():\n",
    "    pass\n",
    "\n",
    "\n",
    "class MyClass():\n",
    "    def __init__():\n",
    "        pass"
   ]
  },
  {
   "cell_type": "markdown",
   "id": "1a0e75a0",
   "metadata": {
    "slideshow": {
     "slide_type": "slide"
    }
   },
   "source": [
    "##### String Quotes\n",
    "\n",
    "In Python, single-quoted strings and double-quoted strings are the same. Note that *PEP8 does not make a recommendation for this*. Rather, you are encouraged to be consistent: **pick a rule and stick to it.** (The author of this books is *exceptionally* bad at following this advice.)\n",
    "\n",
    "One place, however, to choose one approach over another is when a string contains single or double quote character string literal. In this case, use the other one that's not included in the string to avoid backslashes in the string, as this improves readability. For example...\n",
    "\n",
    "**What to avoid**\n",
    "\n",
    "As you see below, you *could* use a backslash to \"escape\" the apostraphe within the string; however, this makes the string harder to read."
   ]
  },
  {
   "cell_type": "code",
   "execution_count": 18,
   "id": "2b3065c8",
   "metadata": {
    "slideshow": {
     "slide_type": "fragment"
    }
   },
   "outputs": [],
   "source": [
    "my_string = 'Prof\\'s Project'"
   ]
  },
  {
   "cell_type": "markdown",
   "id": "2f88b733",
   "metadata": {},
   "source": [
    "**How to Improve**\n",
    "\n",
    "Instead, using double quotes to specify the string with the apostraphe (single quote) inside the string leads to more readable code, and is thus preferable."
   ]
  },
  {
   "cell_type": "code",
   "execution_count": 19,
   "id": "8d1a6c2a",
   "metadata": {
    "slideshow": {
     "slide_type": "fragment"
    }
   },
   "outputs": [],
   "source": [
    "my_string = \"Prof's Project\""
   ]
  },
  {
   "cell_type": "markdown",
   "id": "ef74cf13",
   "metadata": {
    "slideshow": {
     "slide_type": "slide"
    }
   },
   "source": [
    "#### PEP8: Documentation\n",
    "\n",
    "While documentation (including how to write docstrings and when, how and where to include code comments) will be covered more explicitly in the next chapter, we'll discuss the style considerations for including code comments and docstrins at this point. \n",
    "\n",
    "##### PEP8: Comments\n",
    "\n",
    "First, out-of-date comments are worse than no comments at all. Keep your comments up-to-date. While we encourage writing comments to explain your thinking as you're writing the code, you want to be sure to re-visit your code comments during your \"editing\" and \"improving code style\" sessions to ensure that what is stated in the comments matches what is done in your code to avoid confusion for any readers of your code."
   ]
  },
  {
   "cell_type": "markdown",
   "id": "a72866d1",
   "metadata": {
    "slideshow": {
     "slide_type": "fragment"
    }
   },
   "source": [
    "**Block comments**\n",
    "\n",
    "Block comments are comments that are on their own line and come before the code they intend to describe. They follow the following conventions:\n",
    "\n",
    "- apply to some (or all) code that follows them\n",
    "- are indented to the same level as that code\n",
    "- each line of a block comment starts with a # and a single space\n",
    "\n",
    "**What to avoid**\n",
    "\n",
    "In the function below, while the code comment does come before the code it describes (good!), it is not at the same level of indentation of the code it describes (not good!) *and* there is no space between the pound sign/hashtag and the code comment:"
   ]
  },
  {
   "cell_type": "code",
   "execution_count": 20,
   "id": "0d7eb7a5",
   "metadata": {
    "slideshow": {
     "slide_type": "fragment"
    }
   },
   "outputs": [
    {
     "data": {
      "text/plain": [
       "\"You're going to do great!\""
      ]
     },
     "execution_count": 20,
     "metadata": {},
     "output_type": "execute_result"
    }
   ],
   "source": [
    "import random\n",
    "\n",
    "def encourage():\n",
    "#help try to destress students by picking one thing from the following list using random\n",
    "    statements = [\"You've totally got this!\",\"You're so close!\",\"You're going to do great!\",\"Remember to take breaks!\",\"Sleep, water, and food are really important!\"]\n",
    "    out = random.choice(statements)\n",
    "    return out\n",
    "\n",
    "encourage()"
   ]
  },
  {
   "cell_type": "markdown",
   "id": "78ba1ca7",
   "metadata": {},
   "source": [
    "**How to Improve**\n",
    "\n",
    "Intead, here, we see improved code comment style by 1) having the block comment at the same level of indentation as the code it describes, 2) having a space in between the `#` and the comment, and 3) breaking up the comment onto two separate lines to avoid having a too-long comment. \n",
    "\n",
    "The code style is also further improved by considering spacing within the `statements` list *and* considering line spacing throughout the function."
   ]
  },
  {
   "cell_type": "code",
   "execution_count": 21,
   "id": "7fa8e4ad",
   "metadata": {
    "slideshow": {
     "slide_type": "fragment"
    }
   },
   "outputs": [
    {
     "data": {
      "text/plain": [
       "\"You're so close!\""
      ]
     },
     "execution_count": 21,
     "metadata": {},
     "output_type": "execute_result"
    }
   ],
   "source": [
    "def encourage():\n",
    "    \n",
    "    # Randomly pick from list of de-stressing statements\n",
    "    # to help students as they finish the quarter.\n",
    "    statements = [\"You've totally got this!\", \n",
    "                  \"You're so close!\", \n",
    "                  \"You're going to do great!\",\n",
    "                  \"Remember to take breaks!\",\n",
    "                  \"Sleep, water, and food are really important!\"]\n",
    "    \n",
    "    out = random.choice(statements)\n",
    "    \n",
    "    return out\n",
    "\n",
    "encourage()"
   ]
  },
  {
   "cell_type": "markdown",
   "id": "d73b8aa9",
   "metadata": {},
   "source": [
    "**Inline comments**\n",
    "\n",
    "Inline comments are those comments on the same line as the code they're describing. These are:\n",
    "\n",
    "- to be used sparingly\n",
    "- to be separated by at least two spaces from the statement\n",
    "- start with a # and a single space\n",
    "\n",
    "**What to avoid**\n",
    "\n",
    "For example, we'll avoid inline comments that 1) are right up against the code they describe and 2) that fail to have a space after the `#`:"
   ]
  },
  {
   "cell_type": "code",
   "execution_count": 22,
   "id": "b3a404cb",
   "metadata": {
    "slideshow": {
     "slide_type": "fragment"
    }
   },
   "outputs": [
    {
     "data": {
      "text/plain": [
       "'Sleep, water, and food are really important!'"
      ]
     },
     "execution_count": 22,
     "metadata": {},
     "output_type": "execute_result"
    }
   ],
   "source": [
    "encourage()#words of encouragement"
   ]
  },
  {
   "cell_type": "markdown",
   "id": "8193bdb6",
   "metadata": {},
   "source": [
    "**How to Improve**\n",
    "\n",
    "Instead, we'll have two spaces after the code, and a space after the `#`:"
   ]
  },
  {
   "cell_type": "code",
   "execution_count": 23,
   "id": "c095a837",
   "metadata": {
    "slideshow": {
     "slide_type": "fragment"
    }
   },
   "outputs": [
    {
     "data": {
      "text/plain": [
       "\"You're going to do great!\""
      ]
     },
     "execution_count": 23,
     "metadata": {},
     "output_type": "execute_result"
    }
   ],
   "source": [
    "encourage()  # words of encouragement"
   ]
  },
  {
   "cell_type": "markdown",
   "id": "19b67d8f",
   "metadata": {
    "slideshow": {
     "slide_type": "slide"
    }
   },
   "source": [
    "##### PEP8: Documentation\n",
    "\n",
    "We'll cover docstrings in the following chapter, so for now we'll just specify that PEP8 specifies that a descriptive docstring should be written and included for all functions & classes. We'll discuss how to approach this shortly!"
   ]
  },
  {
   "cell_type": "markdown",
   "id": "b8174435",
   "metadata": {},
   "source": [
    "## Exercises\n",
    "\n",
    "Q1. **Considering code style, which of these is best - A, B, or C?**\n",
    "\n",
    "A) \n",
    "```python\n",
    "def squared(input_number):\n",
    "    val = input_number\n",
    "    power = 2    \n",
    "    output = val ** power\n",
    "    return output\n",
    "```\n",
    "\n",
    "B) \n",
    "\n",
    "```python\n",
    "def squared(input_number, power=2):\n",
    "    \n",
    "    output = input_number ** power\n",
    "    \n",
    "    return output\n",
    "```\n",
    "\n",
    "C) \n",
    "\n",
    "```python\n",
    "def squared(input_number):\n",
    "    \n",
    "    val = input_number\n",
    "    power = 2\n",
    "    \n",
    "    output = val ** power\n",
    "    \n",
    "    return output\n",
    "```\n",
    "\n",
    "Q2. **Which of the following uses PEP-approved spacing?**\n",
    "\n",
    "A) `my_list=[1,2,3,4,5]`  \n",
    "B) `my_list = [1,2,3,4,5]`  \n",
    "C) `my_list  =  [1, 2, 3, 4, 5]`  \n",
    "D) `my_list=[1, 2, 3, 4, 5]`  \n",
    "E) `my_list = [1, 2, 3, 4, 5]`\n",
    "\n",
    "Q3. **If you were reading code and came cross the following, which of the following would you expect to be a class?**\n",
    "\n",
    "A) `Phillies_Game`  \n",
    "B) `PhilliesGame`  \n",
    "C) `phillies_game`  \n",
    "D) `philliesgame`  \n",
    "E) `PhIlLiEsGaMe`  \n",
    "\n",
    "Q4. **If you were reading code and came cross the following, which of the following would you expect to be a function or variable name?**\n",
    "\n",
    "A) `Phillies_Game`  \n",
    "B) `PhilliesGame`  \n",
    "C) `phillies_game`  \n",
    "D) `philliesgame`  \n",
    "E) `PhIlLiEsGaMe`  \n",
    "\n",
    "Q5. **Which of the following would not cause an error in Python and would store the string *You're so close!* ?**\n",
    "\n",
    "A) `my_string = \"You're so close!\"`  \n",
    "B) `my_string = \"You\"re so close!\"`  \n",
    "C) `my_string = 'You''re so close!'`  \n",
    "D) `my_string = \"You\\\\'re so close\"`  \n",
    "E) `my_string = 'You're so close!'`  \n",
    "\n",
    "Q6. **Identify and improve all of the PEP8/Code Style violations found in the following code**:\n",
    "\n",
    "```python\n",
    "def MyFunction(input_num):\n",
    "    \n",
    "    my_list = [0,1,2,3]\n",
    "    if 1 in my_list: ind = 1\n",
    "    else:\n",
    "      ind = 0\n",
    "    qq = []\n",
    "    for i in my_list [ind:]:\n",
    "        qq.append(input_num/i)\n",
    "    return qq\n",
    "```\n",
    "\n",
    "Q7. **Identify and improve all of the PEP8/Code Style violations found in the following code**:\n",
    "\n",
    "```python\n",
    "def ff(jj):\n",
    "    oo = list(); jj = list(jj) \n",
    "    for ii in jj: oo.append(str(ord(ii)))\n",
    "    return '+'.join(oo)\n",
    "```"
   ]
  }
 ],
 "metadata": {
  "kernelspec": {
   "display_name": "Python 3",
   "language": "python",
   "name": "python3"
  },
  "language_info": {
   "codemirror_mode": {
    "name": "ipython",
    "version": 3
   },
   "file_extension": ".py",
   "mimetype": "text/x-python",
   "name": "python",
   "nbconvert_exporter": "python",
   "pygments_lexer": "ipython3",
   "version": "3.7.7"
  }
 },
 "nbformat": 4,
 "nbformat_minor": 5
}