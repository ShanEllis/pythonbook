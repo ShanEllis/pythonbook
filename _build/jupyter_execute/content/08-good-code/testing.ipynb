{
 "cells": [
  {
   "cell_type": "markdown",
   "metadata": {},
   "source": [
    "# Code Testing\n",
    "\n",
    "Code testing involves the process of writing formal tests that ensure your code is working as intended. These tests can be compiled into a formal testing suite. The process of including a testing suite within a coding project not only enables you, the programmer, to efficiently check that your code is working as intended, but it also demonstrates to others looking through your projects that your code has been tested, making it more trustworthy. \n",
    "\n"
   ]
  },
  {
   "cell_type": "markdown",
   "metadata": {},
   "source": [
    "## Types of Code Testing\n",
    "\n",
    "While there are more than the tests described here, these four are core to understanding testing code projects early on in one's programming journey. In fact, if you've been writing bits of code to ensure that the function or class you've just written is working as intended, you've already been writing the first kind of test, a smoke test. **Smoke tests** are not formal tests, but rather they are the preliminary checks you run when writing your code to ensure that it's working as intended. **Unit tests**, on the other hand, are formal tests that ensure the code you've written is behaving as expected. These are the tests we'll focus on in this chapter. There are a number of different platforms that exist for code testing in python; however, here we'll focus on the `unittest` framework to implement unit testing. Beyond unit testing, **integration** and **sytem tests** go beyond testing a single function or class to testing an entire code project. While we won't go further with these here, it's important to know that there is testing beyond unit tests.\n",
    "\n",
    "1. **Smoke tests**: preliminary tests to check basic functionality (gut check)\n",
    "2. **Unit tests** (primary focus): test functions & objects to ensure that the code is behaving as expected\n",
    "3. **Integration tests**: test functions, classes & modules interacting\n",
    "4. **System tests**: tests end-to-end behavior\n",
    "\n",
    "## Test-Driven Development\n",
    "\n",
    "In software development, test-driven development is an approach in which you write tests first - and then write code to pass the tests.\n",
    "\n",
    "* Ensures you go into writing code with a good plan / outline\n",
    "* Ensures that you have a test suite, as you can not decide to neglect to test your code after the fact you made the test suite\n",
    "* Note: when you complete (or at least write) assignments for this class, you are effectively doing test-driven development\n",
    "\n",
    "## Unit Tests\n",
    "\n",
    "When we consider writing unit tests using the `unittest` framework, we'll consider the following:\n",
    "* We write one test for each \"piece\" of your code (function, class, etc.)\n",
    "* Tests should ensure that the code is operating as expected\n",
    "* Testing should consider \"edge (atypical) cases\"\n",
    "* `unittest` will let you know which tests pass/fail/throw an error\n",
    "\n",
    "By formalizing tests using the `unittest` framework will help you resist the urge to assume computers will act how you think it will work."
   ]
  },
  {
   "cell_type": "markdown",
   "metadata": {},
   "source": [
    "### How to Write Tests\n",
    "\n",
    "Given a function or class you want to test:\n",
    "* You need to have an expectation for what it should do\n",
    "* Write out some example cases, with known answers\n",
    "* Use assert to check that your example cases do run as expected\n",
    "* Collect these examples into test functions, stored in test files"
   ]
  },
  {
   "cell_type": "markdown",
   "metadata": {},
   "source": [
    "## `unittest`\n",
    "\n",
    "When introducing the unittest framework, it's important to know that its functionality will not be available until it's imported:"
   ]
  },
  {
   "cell_type": "code",
   "execution_count": 1,
   "metadata": {},
   "outputs": [],
   "source": [
    "import unittest"
   ]
  },
  {
   "cell_type": "markdown",
   "metadata": {},
   "source": [
    "### `unittest` template\n",
    "\n",
    "After importing, below you'll find the basic `unittest` framework. Notably:\n",
    "- the class name *must* start with `Test`\n",
    "- After `Test` the class name typically indicates the \"piece\" of code (function, class, etc.) being tested.\n",
    "- Within the parentheses we inherit `TestCase` from `unittest` to enable use of its testing statements\n",
    "- The methods within the class *must* start with `test_`\n",
    "- The rest of the method name after `test_` typically refer to what about the piece of code you're testing\n",
    "- Within each method, you can have any number of `assert` statements.\n",
    "\n",
    "We'll review a number of different `assert` statements and the cases in which you would use each in this chapter. The last three lines below run the test `TestName`. As you see, for each test/method within the class, we get a readout as to whether the test passes. Note taht `test_true` fails because what is within the parentheses (`False`) is NOT a true statement. This is included so you see what a failing test would look like; however, when we write tests, we're writing them with the expectation/aim that they will all pass"
   ]
  },
  {
   "cell_type": "code",
   "execution_count": 2,
   "metadata": {},
   "outputs": [
    {
     "name": "stderr",
     "output_type": "stream",
     "text": [
      "test_equal (__main__.TestName.test_equal) ... ok\n",
      "test_true (__main__.TestName.test_true) ... FAIL\n",
      "\n",
      "======================================================================\n",
      "FAIL: test_true (__main__.TestName.test_true)\n",
      "----------------------------------------------------------------------\n",
      "Traceback (most recent call last):\n",
      "  File \"/var/folders/jp/hdbfltdj035719571j9wynwm0000gn/T/ipykernel_22759/3539443511.py\", line 7, in test_true\n",
      "    self.assertTrue(False)\n",
      "AssertionError: False is not true\n",
      "\n",
      "----------------------------------------------------------------------\n",
      "Ran 2 tests in 0.026s\n",
      "\n",
      "FAILED (failures=1)\n"
     ]
    }
   ],
   "source": [
    "class TestName(unittest.TestCase):\n",
    "\n",
    "    def test_equal(self):\n",
    "        self.assertEqual(1, 1)\n",
    "\n",
    "    def test_true(self):\n",
    "        self.assertTrue(False)\n",
    "\n",
    "    # ...\n",
    "\n",
    "if __name__ == '__main__':\n",
    "    suite = unittest.TestLoader().loadTestsFromTestCase(TestName)\n",
    "    unittest.TextTestRunner(verbosity=2).run(suite)"
   ]
  },
  {
   "cell_type": "markdown",
   "metadata": {},
   "source": [
    "### `assert` statements\n",
    "\n",
    "While there are many different `assert` statemetns within `unittest`, we'll introduce a few of the most commonly-used here.\n",
    "\n",
    "#### `.assertEqual(a, b)`\n",
    "\n",
    "Checks if `a` is equal to `b`. Similar to the expression `a == b`.\n",
    "\n",
    "Note: Although it doesn't affect the results, it's good practice to let `a` be the expected value (what you think the result will be) and `b` be the actual value (what the result actually is). \n",
    "\n",
    "For example, if we wanted to check the `add` provided here:"
   ]
  },
  {
   "cell_type": "code",
   "execution_count": 3,
   "metadata": {},
   "outputs": [],
   "source": [
    "def add(a, b):\n",
    "    return a + b"
   ]
  },
  {
   "cell_type": "markdown",
   "metadata": {},
   "source": [
    "...we would want to consider our expectations of this function. Specifically, what would we expect the output from this function to be? Well, if we gave the inputs 4 and 6, we'd expect the output of the function to be 10. A perfect use case for `assertEqual`:"
   ]
  },
  {
   "cell_type": "code",
   "execution_count": 4,
   "metadata": {},
   "outputs": [
    {
     "name": "stderr",
     "output_type": "stream",
     "text": [
      "test_outcome (__main__.TestAdd.test_outcome) ... ok\n",
      "\n",
      "----------------------------------------------------------------------\n",
      "Ran 1 test in 0.001s\n",
      "\n",
      "OK\n"
     ]
    }
   ],
   "source": [
    "# Equality testing suite\n",
    "class TestAdd(unittest.TestCase):\n",
    "\n",
    "    def test_outcome(self):\n",
    "        self.assertEqual(10, add(4, 6))\n",
    "\n",
    "if __name__ == '__main__':\n",
    "    suite = unittest.TestLoader().loadTestsFromTestCase(TestAdd)\n",
    "    unittest.TextTestRunner(verbosity=2).run(suite)"
   ]
  },
  {
   "cell_type": "markdown",
   "metadata": {},
   "source": [
    "#### `.assertTrue(x)`\n",
    "\n",
    "Any time you have an expression that you expect to evaluate as `True`, you can use `assertTrue`, which checks if `x` is `True`. Same as the expression `bool(x) == True`."
   ]
  },
  {
   "cell_type": "code",
   "execution_count": 5,
   "metadata": {},
   "outputs": [
    {
     "name": "stderr",
     "output_type": "stream",
     "text": [
      "test_true (__main__.TestTrue.test_true) ... ok\n",
      "\n",
      "----------------------------------------------------------------------\n",
      "Ran 1 test in 0.001s\n",
      "\n",
      "OK\n"
     ]
    }
   ],
   "source": [
    "# Truth testing suite\n",
    "class TestTrue(unittest.TestCase):\n",
    "\n",
    "    def test_true(self):\n",
    "        self.assertTrue(add(4, 6) == 10)\n",
    "\n",
    "if __name__ == '__main__':\n",
    "    suite = unittest.TestLoader().loadTestsFromTestCase(TestTrue)\n",
    "    unittest.TextTestRunner(verbosity=2).run(suite)"
   ]
  },
  {
   "cell_type": "markdown",
   "metadata": {},
   "source": [
    "#### `.assertFalse(x)`\n",
    "\n",
    "On the other hand, `assertFalse` checks if `x` is `False`. Same as the expression `bool(x) == False`."
   ]
  },
  {
   "cell_type": "code",
   "execution_count": 6,
   "metadata": {},
   "outputs": [
    {
     "name": "stderr",
     "output_type": "stream",
     "text": [
      "test_false (__main__.TestFalse.test_false) ... ok\n",
      "\n",
      "----------------------------------------------------------------------\n",
      "Ran 1 test in 0.001s\n",
      "\n",
      "OK\n"
     ]
    }
   ],
   "source": [
    "# False testing suite\n",
    "class TestFalse(unittest.TestCase):\n",
    "\n",
    "    def test_false(self):\n",
    "        self.assertFalse(add(4, 6) == 11)\n",
    "\n",
    "if __name__ == '__main__':\n",
    "    suite = unittest.TestLoader().loadTestsFromTestCase(TestFalse)\n",
    "    unittest.TextTestRunner(verbosity=2).run(suite)"
   ]
  },
  {
   "cell_type": "markdown",
   "metadata": {},
   "source": [
    "#### `.assertIsInstance(a, b)`\n",
    "\n",
    "`assertIsInstance` checks if `a` is of variable type `b` (int, float, str, bool) or is of an instance of class `b`. Similar to the expression `isinstance(a, b)` or `type(a) == b`."
   ]
  },
  {
   "cell_type": "code",
   "execution_count": 7,
   "metadata": {},
   "outputs": [
    {
     "name": "stderr",
     "output_type": "stream",
     "text": [
      "test_instance (__main__.TestInstance.test_instance) ... ok\n",
      "\n",
      "----------------------------------------------------------------------\n",
      "Ran 1 test in 0.001s\n",
      "\n",
      "OK\n"
     ]
    }
   ],
   "source": [
    "# Instance testing suite\n",
    "class TestInstance(unittest.TestCase):\n",
    "    \n",
    "    def test_instance(self):\n",
    "        self.assertIsInstance(add(4, 6), int)\n",
    "\n",
    "if __name__ == '__main__':\n",
    "    suite = unittest.TestLoader().loadTestsFromTestCase(TestInstance)\n",
    "    unittest.TextTestRunner(verbosity=2).run(suite)"
   ]
  },
  {
   "cell_type": "markdown",
   "metadata": {},
   "source": [
    "#### `.assertIn(a, b)`\n",
    "\n",
    "Finally, `assertIn` checks for membership, if `a` belongs in `b`. Same as the expression `a in b`. Here, rather than test our `add` function, we'll demonstrate that you can define an attribute (here `fruits`) and then test it within each of the methods:"
   ]
  },
  {
   "cell_type": "code",
   "execution_count": 8,
   "metadata": {},
   "outputs": [
    {
     "name": "stderr",
     "output_type": "stream",
     "text": [
      "test_membership (__main__.TestIn.test_membership) ... ok\n",
      "test_membership_bad (__main__.TestIn.test_membership_bad) ... FAIL\n",
      "\n",
      "======================================================================\n",
      "FAIL: test_membership_bad (__main__.TestIn.test_membership_bad)\n",
      "----------------------------------------------------------------------\n",
      "Traceback (most recent call last):\n",
      "  File \"/var/folders/jp/hdbfltdj035719571j9wynwm0000gn/T/ipykernel_22759/4249137848.py\", line 10, in test_membership_bad\n",
      "    self.assertIn('pears', self.fruits)\n",
      "AssertionError: 'pears' not found in ['apples', 'bananas', 'oranges']\n",
      "\n",
      "----------------------------------------------------------------------\n",
      "Ran 2 tests in 0.002s\n",
      "\n",
      "FAILED (failures=1)\n"
     ]
    }
   ],
   "source": [
    "# Membership testing suite\n",
    "class TestIn(unittest.TestCase):\n",
    "\n",
    "    fruits = ['apples', 'bananas', 'oranges']\n",
    "\n",
    "    def test_membership(self):\n",
    "        self.assertIn('apples', self.fruits)\n",
    "\n",
    "    def test_membership_bad(self):\n",
    "        self.assertIn('pears', self.fruits)\n",
    "\n",
    "if __name__ == '__main__':\n",
    "    suite = unittest.TestLoader().loadTestsFromTestCase(TestIn)\n",
    "    unittest.TextTestRunner(verbosity=2).run(suite)"
   ]
  },
  {
   "cell_type": "markdown",
   "metadata": {},
   "source": [
    "### A unit test\n",
    "\n",
    "Putting the above all together, we could test our `add` function with a few different assert statements, all of which we would expect to be be true if our function is working as intended. Specifically, `test_instance` checks that the output given two different inputs would be of the expected type. `test_output` checks that the specific values returned are correct. We've even snuck in an additional `assert` statement - `assertAlmostEqual`, which is helpful when checking float values!"
   ]
  },
  {
   "cell_type": "code",
   "execution_count": 9,
   "metadata": {},
   "outputs": [
    {
     "name": "stderr",
     "output_type": "stream",
     "text": [
      "test_instance (__main__.TestAllAdd.test_instance) ... ok\n",
      "test_output (__main__.TestAllAdd.test_output) ... ok\n",
      "\n",
      "----------------------------------------------------------------------\n",
      "Ran 2 tests in 0.001s\n",
      "\n",
      "OK\n"
     ]
    }
   ],
   "source": [
    "class TestAllAdd(unittest.TestCase):\n",
    "   \n",
    "    def test_instance(self):\n",
    "        self.assertIsInstance(add(4, 6), int)\n",
    "        self.assertIsInstance(add(4.5, 6), float)\n",
    "\n",
    "    def test_output(self):\n",
    "        self.assertEqual(10, add(4, 6))\n",
    "        self.assertEqual(4, add(-2, 6))\n",
    "        self.assertAlmostEqual(10.5, add(4.5, 6))\n",
    "\n",
    "if __name__ == '__main__':\n",
    "    suite = unittest.TestLoader().loadTestsFromTestCase(TestAllAdd)\n",
    "    unittest.TextTestRunner(verbosity=2).run(suite)"
   ]
  }
 ],
 "metadata": {
  "kernelspec": {
   "display_name": "Python 3 (ipykernel)",
   "language": "python",
   "name": "python3"
  },
  "language_info": {
   "codemirror_mode": {
    "name": "ipython",
    "version": 3
   },
   "file_extension": ".py",
   "mimetype": "text/x-python",
   "name": "python",
   "nbconvert_exporter": "python",
   "pygments_lexer": "ipython3",
   "version": "3.11.8"
  }
 },
 "nbformat": 4,
 "nbformat_minor": 4
}