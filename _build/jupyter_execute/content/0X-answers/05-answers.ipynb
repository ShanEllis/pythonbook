{
 "cells": [
  {
   "cell_type": "markdown",
   "id": "97013937",
   "metadata": {},
   "source": [
    "# Answers: Classes\n",
    "\n",
    "Provided here are answers to the practice questions at the end of \"Classes\"."
   ]
  },
  {
   "cell_type": "markdown",
   "id": "ed2e958f",
   "metadata": {},
   "source": [
    "## Objects"
   ]
  },
  {
   "cell_type": "markdown",
   "id": "51066526",
   "metadata": {},
   "source": [
    "**Objects Q1**. "
   ]
  },
  {
   "cell_type": "code",
   "execution_count": null,
   "id": "f384a954",
   "metadata": {},
   "outputs": [],
   "source": [
    "# specific strings will differ\n",
    "true_var = 'asdf123'.isalnum()\n",
    "false_var = '!!!!'.isalnum()"
   ]
  },
  {
   "cell_type": "markdown",
   "id": "90a46fd1",
   "metadata": {},
   "source": [
    "**Objects Q2**."
   ]
  },
  {
   "cell_type": "code",
   "execution_count": null,
   "id": "06be2429",
   "metadata": {},
   "outputs": [],
   "source": [
    "days_summary = {}\n",
    "\n",
    "for day in days_of_week:\n",
    "    days_summary[day] = site_days.count(day)"
   ]
  },
  {
   "cell_type": "markdown",
   "id": "acf99fc9",
   "metadata": {},
   "source": [
    "**Objects Q3**."
   ]
  },
  {
   "cell_type": "code",
   "execution_count": null,
   "id": "4c3a8398",
   "metadata": {},
   "outputs": [],
   "source": [
    "from random import choice\n",
    "rand_int = choice(range(0,10))"
   ]
  },
  {
   "cell_type": "markdown",
   "id": "cb36728c",
   "metadata": {},
   "source": [
    "## Classes"
   ]
  },
  {
   "cell_type": "markdown",
   "id": "f70ce1e7",
   "metadata": {},
   "source": [
    "**Classes Q1**."
   ]
  },
  {
   "cell_type": "code",
   "execution_count": null,
   "id": "4e39b9b6",
   "metadata": {},
   "outputs": [],
   "source": [
    "class ClassRoster():\n",
    "        \n",
    "    def __init__(self, course):\n",
    "        self.students = []\n",
    "        self.course = course\n",
    "        \n",
    "    def add_student(self, pid, name):\n",
    "        self.students.append({pid: name})"
   ]
  },
  {
   "cell_type": "markdown",
   "id": "ed0fa691",
   "metadata": {},
   "source": [
    "**Classes Q2**."
   ]
  },
  {
   "cell_type": "code",
   "execution_count": null,
   "id": "3b397717",
   "metadata": {},
   "outputs": [],
   "source": [
    "class ToDo():\n",
    "    \n",
    "    def __init__(self):\n",
    "        self.to_do = []\n",
    "        \n",
    "    def add_item(self, item, top=True):\n",
    "        if top:\n",
    "            self.to_do.insert(0, item)\n",
    "        else: \n",
    "            self.to_do.append(item)\n",
    "        \n",
    "    def remove_item(self, item):\n",
    "        self.to_do.remove(item)"
   ]
  },
  {
   "cell_type": "markdown",
   "id": "e4784677",
   "metadata": {},
   "source": [
    "**Classes Q3**."
   ]
  },
  {
   "cell_type": "code",
   "execution_count": null,
   "id": "cab38baf",
   "metadata": {},
   "outputs": [],
   "source": [
    "class NewYear():\n",
    "    \n",
    "    zodiac_signs = {\n",
    "    'Ox' : [1937, 1949, 1961, 1973, 1985, 1997, 2009, 2021],\n",
    "    'Tiger' : [1938, 1950, 1962, 1974, 1986, 1998, 2010], \n",
    "    'Rabbit' : [1939, 1951, 1963, 1975, 1987, 1999, 2011, 2023], \n",
    "    'Dragon' : [1940, 1952, 1964, 1976, 1988, 2000, 2012, 2024], \n",
    "    'Snake' : [1941, 1953, 1965, 1977, 1989, 2001, 2013, 2025], \n",
    "    'Horse' : [1942, 1954, 1966, 1978, 1990, 2002, 2014, 2026], \n",
    "    'Goat/Sheep' : [1943, 1955, 1967, 1979, 1991, 2003, 2015, 2027], \n",
    "    'Monkey' : [1944, 1956, 1968, 1980, 1992, 2004, 2016, 2028], \n",
    "    'Rooster' : [1945, 1957, 1969, 1981, 1993, 2005, 2017, 2029], \n",
    "    'Dog' : [1946, 1958, 1970, 1982, 1994, 2006, 2018, 2030], \n",
    "    'Pig' : [1947, 1959, 1971, 1983, 1995, 2007, 2019, 2031], \n",
    "    'Rat' : [1936, 1948, 1960, 1972, 1984, 1996, 2008, 2020]\n",
    "    } \n",
    "    \n",
    "    \n",
    "    def __init__(self, year):\n",
    "        self.year = year\n",
    "    \n",
    "    def return_sign(self):\n",
    "        for key in self.zodiac_signs:\n",
    "            if self.year in self.zodiac_signs[key]:\n",
    "                out = key\n",
    "                break # answer would be fine without break here\n",
    "                \n",
    "        return 'You were born in the year of the ' + out + '!'\n"
   ]
  },
  {
   "cell_type": "markdown",
   "id": "3ad4901c",
   "metadata": {},
   "source": [
    "**Classes Q4**.\n",
    "\n",
    "Part I."
   ]
  },
  {
   "cell_type": "code",
   "execution_count": null,
   "id": "a8e6f433",
   "metadata": {},
   "outputs": [],
   "source": [
    "class Kingdom():\n",
    "    \n",
    "    def __init__(self, name, title):\n",
    "        self.name = name\n",
    "        self.title = title\n",
    "    \n",
    "    def introduce(self):\n",
    "        return 'Hello, my name is ' + self.name + ', and I am a ' + self.title + '.'\n"
   ]
  },
  {
   "cell_type": "markdown",
   "id": "e7ca1f19",
   "metadata": {},
   "source": [
    "Part II. "
   ]
  },
  {
   "cell_type": "code",
   "execution_count": null,
   "id": "3558c836",
   "metadata": {},
   "outputs": [],
   "source": [
    "import random\n",
    "\n",
    "class CourtJester(Kingdom):\n",
    "\n",
    "    headwear = \"fool's cap\"\n",
    "        \n",
    "    def tell_a_joke(self):\n",
    "        joke_list = ['A clown held the door open for me yesterday. I thought it was a nice jester',\n",
    " 'How does the court jester address the King of Ducks? Mal’Lard',\n",
    " 'What did the court jester call the balding crown prince? The Heir Apparent with no Hair Apparent',\n",
    " 'What do you call a joke made by using sign language? A jester']\n",
    "        out_joke = random.choice(joke_list)\n",
    "        return out_joke\n",
    "    "
   ]
  },
  {
   "cell_type": "markdown",
   "id": "cd932ee6",
   "metadata": {},
   "source": [
    "**Classes Q5**."
   ]
  },
  {
   "cell_type": "code",
   "execution_count": null,
   "id": "4740bf74",
   "metadata": {},
   "outputs": [],
   "source": [
    "class StudentInfo():\n",
    "    \n",
    "    def __init__(self, name, year, school, proj_grade):\n",
    "        self.name = name\n",
    "        self.year = year\n",
    "        self.school = school\n",
    "        self.proj_grade = proj_grade\n",
    "        \n",
    "    def follow_up(self):\n",
    "        out = {}\n",
    "        if self.proj_grade <= 65:\n",
    "            out[self.name] = self.proj_grade\n",
    "        return out"
   ]
  }
 ],
 "metadata": {
  "kernelspec": {
   "display_name": "Python 3",
   "language": "python",
   "name": "python3"
  },
  "language_info": {
   "codemirror_mode": {
    "name": "ipython",
    "version": 3
   },
   "file_extension": ".py",
   "mimetype": "text/x-python",
   "name": "python",
   "nbconvert_exporter": "python",
   "pygments_lexer": "ipython3",
   "version": "3.7.7"
  }
 },
 "nbformat": 4,
 "nbformat_minor": 5
}