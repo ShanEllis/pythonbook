{
 "cells": [
  {
   "cell_type": "markdown",
   "id": "2be8091c",
   "metadata": {},
   "source": [
    "# Answers: The Basics\n",
    "\n",
    "Provided here are answers to the practice questions at the end of \"The Basics\"."
   ]
  },
  {
   "cell_type": "markdown",
   "id": "5f31f299",
   "metadata": {},
   "source": [
    "## Variables"
   ]
  },
  {
   "cell_type": "markdown",
   "id": "ccc85712",
   "metadata": {},
   "source": [
    "**Variables Q1**."
   ]
  },
  {
   "cell_type": "code",
   "execution_count": null,
   "id": "c5a25093",
   "metadata": {},
   "outputs": [],
   "source": [
    "# actual values stored will differ\n",
    "var_float = 9.29\n",
    "var_str = 'cogs18'\n",
    "var_bool = False\n",
    "var_tuple = (1,2,3)\n",
    "var_dict = {'a':1}"
   ]
  },
  {
   "cell_type": "markdown",
   "id": "02ff8699",
   "metadata": {},
   "source": [
    "**Variables Q2**."
   ]
  },
  {
   "cell_type": "code",
   "execution_count": null,
   "id": "e1cc6606",
   "metadata": {},
   "outputs": [],
   "source": [
    "scenario_A = 'tuple'\n",
    "scenario_B = 'list'\n",
    "scenario_C = 'dictionary'\n",
    "scenario_D = 'dictionary'"
   ]
  },
  {
   "cell_type": "markdown",
   "id": "a1a86db0",
   "metadata": {},
   "source": [
    "## Operators"
   ]
  },
  {
   "cell_type": "markdown",
   "id": "50dab05b",
   "metadata": {},
   "source": [
    "**Operators Q1**."
   ]
  },
  {
   "cell_type": "code",
   "execution_count": null,
   "id": "589f47c5",
   "metadata": {},
   "outputs": [],
   "source": [
    "var_even = (var_high + var_low) % var_mid\n",
    "var_odd = (var_mid ** var_low) // var_high"
   ]
  },
  {
   "cell_type": "markdown",
   "id": "45286aad",
   "metadata": {},
   "source": [
    "**Operators Q2**."
   ]
  },
  {
   "cell_type": "code",
   "execution_count": null,
   "id": "e0770022",
   "metadata": {},
   "outputs": [],
   "source": [
    "# specific values will differ\n",
    "my_age = 31 \n",
    "pres_age = 78\n",
    "\n",
    "true_compar = my_age < pres_age\n",
    "false_compar = pres_age == my_age"
   ]
  },
  {
   "cell_type": "markdown",
   "id": "ff7bd7b2",
   "metadata": {},
   "source": [
    "**Operators Q3**."
   ]
  },
  {
   "cell_type": "code",
   "execution_count": null,
   "id": "61db3d53",
   "metadata": {},
   "outputs": [],
   "source": [
    "yes_member = current_holiday in spring_holidays\n",
    "no_member = current_holiday not in spring_holidays"
   ]
  },
  {
   "cell_type": "markdown",
   "id": "2764d63f",
   "metadata": {},
   "source": [
    "**Operators Q4**."
   ]
  },
  {
   "cell_type": "code",
   "execution_count": null,
   "id": "03b63688",
   "metadata": {},
   "outputs": [],
   "source": [
    "# actual operations will differ\n",
    "var_odd = (9 + 2 - 1) % 3\n",
    "var_even = 25 / 5 * 2 // 1\n",
    "var_operator = var_odd ** var_even + 5"
   ]
  },
  {
   "cell_type": "markdown",
   "id": "32b9519b",
   "metadata": {},
   "source": [
    "**Operators Q5**."
   ]
  },
  {
   "cell_type": "code",
   "execution_count": null,
   "id": "d8de89b8",
   "metadata": {},
   "outputs": [],
   "source": [
    "# actual operations will differ\n",
    "true_var = (var_low < var_mid) or (var_high >= var_mid)\n",
    "false_var = (var_mid != var_low) and (var_high < var_mid)\n"
   ]
  },
  {
   "cell_type": "markdown",
   "id": "400c7f99",
   "metadata": {},
   "source": [
    "**Operators Q6**."
   ]
  },
  {
   "cell_type": "code",
   "execution_count": null,
   "id": "0830ba85",
   "metadata": {},
   "outputs": [],
   "source": [
    "# actual variable creation will differ\n",
    "comp_a = 7 > 6 and 6 < 7\n",
    "comp_b = 3 <= 3 or 4 <= 3\n",
    "comp_c = 3 == 3 and not 3 != 3"
   ]
  },
  {
   "cell_type": "code",
   "execution_count": null,
   "id": "48075998",
   "metadata": {},
   "outputs": [],
   "source": [
    "**Operators Q7**."
   ]
  },
  {
   "cell_type": "code",
   "execution_count": null,
   "id": "d8e0f913",
   "metadata": {},
   "outputs": [],
   "source": [
    "# actual operations will differ\n",
    "memb_a = 'love' in my_string\n",
    "memb_b = 'Exercises' not in my_list"
   ]
  },
  {
   "cell_type": "markdown",
   "id": "e75afd87",
   "metadata": {},
   "source": [
    "## Conditionals"
   ]
  },
  {
   "cell_type": "markdown",
   "id": "83f7dec8",
   "metadata": {},
   "source": [
    "**Conditionals Q1**."
   ]
  },
  {
   "cell_type": "code",
   "execution_count": null,
   "id": "14194849",
   "metadata": {},
   "outputs": [],
   "source": [
    "comparison_name = 'Shannon'\n",
    "\n",
    "### BEGIN SOLUTION\n",
    "# my_name will differ based on person writing code\n",
    "my_name = 'Shannon'\n",
    "\n",
    "if len(my_name) < len(comparison_name):\n",
    "    output = 'shorter'\n",
    "elif len(my_name) > len(comparison_name):\n",
    "    output = 'longer'\n",
    "elif len(my_name) == len(comparison_name):\n",
    "    output = 'same length'\n",
    "else:\n",
    "    print('something has gone awry')"
   ]
  },
  {
   "cell_type": "markdown",
   "id": "7697cfc5",
   "metadata": {},
   "source": [
    "## Topics Synthesis"
   ]
  },
  {
   "cell_type": "markdown",
   "id": "87476eb1",
   "metadata": {},
   "source": [
    "**Synthesis Q1**."
   ]
  },
  {
   "cell_type": "code",
   "execution_count": null,
   "id": "63d4668c",
   "metadata": {},
   "outputs": [],
   "source": [
    "# actual values stored will differ\n",
    "var_cat = 'cogs' + '18'\n",
    "var_sum = 9 + 29"
   ]
  },
  {
   "cell_type": "markdown",
   "id": "f4ea3210",
   "metadata": {},
   "source": [
    "**Synthesis Q2**."
   ]
  },
  {
   "cell_type": "code",
   "execution_count": null,
   "id": "c4ce55fb",
   "metadata": {},
   "outputs": [],
   "source": [
    "# actual values stored will differ\n",
    "var_int = 10\n",
    "var_float = 1.0 \n",
    "var_combined = var_int + var_float"
   ]
  },
  {
   "cell_type": "markdown",
   "id": "5fd00c5c",
   "metadata": {},
   "source": [
    "**Synthesis Q3**."
   ]
  },
  {
   "cell_type": "code",
   "execution_count": null,
   "id": "af1b7438",
   "metadata": {},
   "outputs": [],
   "source": [
    "# actual variable creation will differ\n",
    "var_a = 7.3\n",
    "var_b = 6 == 6 and 3 <= 4\n",
    "var_c = (6 + 3) * 4"
   ]
  },
  {
   "cell_type": "markdown",
   "id": "b1d113c7",
   "metadata": {},
   "source": [
    "**Synthesis Q4**."
   ]
  },
  {
   "cell_type": "code",
   "execution_count": null,
   "id": "5dd09c99",
   "metadata": {},
   "outputs": [],
   "source": [
    "# actual values stored will differ\n",
    "var_a = 'abcd'\n",
    "var_b = 6.0\n",
    "var_c = (1,2,3)"
   ]
  }
 ],
 "metadata": {
  "kernelspec": {
   "display_name": "Python 3",
   "language": "python",
   "name": "python3"
  },
  "language_info": {
   "codemirror_mode": {
    "name": "ipython",
    "version": 3
   },
   "file_extension": ".py",
   "mimetype": "text/x-python",
   "name": "python",
   "nbconvert_exporter": "python",
   "pygments_lexer": "ipython3",
   "version": "3.7.7"
  }
 },
 "nbformat": 4,
 "nbformat_minor": 5
}