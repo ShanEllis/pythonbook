{
 "cells": [
  {
   "cell_type": "markdown",
   "id": "46e2ad73",
   "metadata": {},
   "source": [
    "# Answers: Collections & Loops\n",
    "\n",
    "Provided here are answers to the practice questions at the end of \"Collections & Loops\"."
   ]
  },
  {
   "cell_type": "markdown",
   "id": "454bb608",
   "metadata": {},
   "source": [
    "## Collections"
   ]
  },
  {
   "cell_type": "markdown",
   "id": "50bd20a7",
   "metadata": {},
   "source": [
    "**Collections Q1**."
   ]
  },
  {
   "cell_type": "code",
   "execution_count": null,
   "id": "797775a2",
   "metadata": {},
   "outputs": [],
   "source": [
    "# actual approaches could differ\n",
    "trees_a = trees[5]\n",
    "trees_b = trees[-3:]\n",
    "trees_c = trees[2:9:2]\n",
    "trees_d = trees[::3]"
   ]
  },
  {
   "cell_type": "markdown",
   "id": "8c7ac13b",
   "metadata": {},
   "source": [
    "**Collections Q2**.\n",
    "\n",
    "Part I."
   ]
  },
  {
   "cell_type": "code",
   "execution_count": null,
   "id": "0d8f5131",
   "metadata": {},
   "outputs": [],
   "source": [
    "# actual values will differ\n",
    "practice_list = ['a', 'b', 2.9, True, \n",
    "                 {'A':1, 'B':2}, (2, 3)]"
   ]
  },
  {
   "cell_type": "markdown",
   "id": "b1022638",
   "metadata": {},
   "source": [
    "Part II."
   ]
  },
  {
   "cell_type": "code",
   "execution_count": null,
   "id": "9041fd02",
   "metadata": {},
   "outputs": [],
   "source": [
    "slice_1 = practice_list[1:4]\n",
    "slice_2 = practice_list[1::2]\n",
    "slice_3 = practice_list[-3]"
   ]
  },
  {
   "cell_type": "markdown",
   "id": "89b33ef3",
   "metadata": {},
   "source": [
    "**Collections Q3**."
   ]
  },
  {
   "cell_type": "code",
   "execution_count": null,
   "id": "7a429510",
   "metadata": {},
   "outputs": [],
   "source": [
    "practice_dict = {'name': 'Shannon',\n",
    "                 'favorite_game' : 'Coup',\n",
    "                 'height': 65}"
   ]
  },
  {
   "cell_type": "markdown",
   "id": "14f4cb45",
   "metadata": {},
   "source": [
    "**Collections Q4**.\n",
    "\n",
    "Part I."
   ]
  },
  {
   "cell_type": "code",
   "execution_count": null,
   "id": "e2c31700",
   "metadata": {},
   "outputs": [],
   "source": [
    "grading = {'A': (90, 100),\n",
    "           'B': (80, 90),\n",
    "           'C': (70, 80),\n",
    "           'D': (60, 70),\n",
    "           'F': (0, 60)}"
   ]
  },
  {
   "cell_type": "markdown",
   "id": "a82d9047",
   "metadata": {},
   "source": [
    "Part II."
   ]
  },
  {
   "cell_type": "code",
   "execution_count": null,
   "id": "814700ec",
   "metadata": {},
   "outputs": [],
   "source": [
    "A_lower = grading['A'][0]\n",
    "A_upper = grading['A'][1]"
   ]
  },
  {
   "cell_type": "markdown",
   "id": "ee410517",
   "metadata": {},
   "source": [
    "**Collections Q5**."
   ]
  },
  {
   "cell_type": "code",
   "execution_count": null,
   "id": "c844793a",
   "metadata": {},
   "outputs": [],
   "source": [
    "dict_a = cogs18_dict['Ellis']\n",
    "dict_b = type(cogs18_dict)\n",
    "dict_c = len(cogs18_dict)"
   ]
  },
  {
   "cell_type": "markdown",
   "id": "e9e00ad3",
   "metadata": {},
   "source": [
    "## Loops"
   ]
  },
  {
   "cell_type": "markdown",
   "id": "52de37ee",
   "metadata": {},
   "source": [
    "**Loops Q1**."
   ]
  },
  {
   "cell_type": "code",
   "execution_count": null,
   "id": "b138b22b",
   "metadata": {},
   "outputs": [],
   "source": [
    "my_name = 'Shannon'\n",
    "counter = 0\n",
    "\n",
    "for char in my_name:\n",
    "    counter += 1"
   ]
  },
  {
   "cell_type": "markdown",
   "id": "249225dd",
   "metadata": {},
   "source": [
    "**Loops Q2**."
   ]
  },
  {
   "cell_type": "code",
   "execution_count": null,
   "id": "5f4c1c87",
   "metadata": {},
   "outputs": [],
   "source": [
    "# there are other approaches that use string methods\n",
    "sentence = ''\n",
    "\n",
    "for word in vaccination_list:\n",
    "    sentence += word"
   ]
  },
  {
   "cell_type": "markdown",
   "id": "19dba7e8",
   "metadata": {},
   "source": [
    "## Topic Synthesis"
   ]
  },
  {
   "cell_type": "markdown",
   "id": "a2bfdc0f",
   "metadata": {},
   "source": [
    "**Synthesis Q1**."
   ]
  },
  {
   "cell_type": "code",
   "execution_count": null,
   "id": "8364afdb",
   "metadata": {},
   "outputs": [],
   "source": [
    "output = []\n",
    "val = 0 \n",
    "\n",
    "while val <= 100: \n",
    "    if val % 10 == 0:\n",
    "        output.append(val)\n",
    "    \n",
    "    val += 1"
   ]
  },
  {
   "cell_type": "markdown",
   "id": "d7f0292d",
   "metadata": {},
   "source": [
    "**Synthesis Q2**."
   ]
  },
  {
   "cell_type": "code",
   "execution_count": null,
   "id": "34463e6c",
   "metadata": {},
   "outputs": [],
   "source": [
    "# output will differ based on my_name\n",
    "my_name = 'Shannon'\n",
    "counter = 0\n",
    "\n",
    "for char in my_name:\n",
    "    char = char.lower()\n",
    "    if char not in ['a', 'e', 'i', 'o', 'u']:\n",
    "        counter += 1"
   ]
  },
  {
   "cell_type": "markdown",
   "id": "d9d57462",
   "metadata": {},
   "source": [
    "**Synthesis Q3**.\n",
    "\n",
    "Part I."
   ]
  },
  {
   "cell_type": "code",
   "execution_count": null,
   "id": "c1c90195",
   "metadata": {},
   "outputs": [],
   "source": [
    "# output will differ based on my_name\n",
    "my_name = 'Shannon'\n",
    "name_consonants = {}\n",
    "\n",
    "vowels = ['a', 'e', 'i', 'o', 'u']\n",
    "            \n",
    "for char in my_name:\n",
    "    char = char.lower()\n",
    "    if char not in vowels:\n",
    "        if char not in name_consonants:\n",
    "            name_consonants[char] = 1\n",
    "        else:\n",
    "            name_consonants[char] += 1  "
   ]
  },
  {
   "cell_type": "markdown",
   "id": "54e38bad",
   "metadata": {},
   "source": [
    "Part II."
   ]
  },
  {
   "cell_type": "code",
   "execution_count": null,
   "id": "acdac24f",
   "metadata": {},
   "outputs": [],
   "source": [
    "# output will differ based on who is taking the exam\n",
    "consonant_count = 0\n",
    "\n",
    "for key in name_consonants:\n",
    "    consonant_count += name_consonants[key]"
   ]
  },
  {
   "cell_type": "markdown",
   "id": "10f5a442",
   "metadata": {},
   "source": [
    "**Synthesis Q4**."
   ]
  },
  {
   "cell_type": "code",
   "execution_count": null,
   "id": "811bff4c",
   "metadata": {},
   "outputs": [],
   "source": [
    "to_contact = []\n",
    "\n",
    "for person in staff:\n",
    "    if '_IA' in person:\n",
    "        to_contact.append(person)"
   ]
  },
  {
   "cell_type": "markdown",
   "id": "2baae3fe",
   "metadata": {},
   "source": [
    "**Synthesis Q5**."
   ]
  },
  {
   "cell_type": "code",
   "execution_count": null,
   "id": "4c063d0c",
   "metadata": {},
   "outputs": [],
   "source": [
    "# there are multiple possible solutions/approaches\n",
    "cogs18_students = 0\n",
    "\n",
    "for key in ellis_courses:\n",
    "    if 'cogs18' in key:\n",
    "        cogs18_students = cogs18_students + ellis_courses[key]\n",
    "\n",
    "cogs18_students"
   ]
  },
  {
   "cell_type": "markdown",
   "id": "07670ea8",
   "metadata": {},
   "source": [
    "**Synthesis Q6**.\n",
    "\n",
    "Part I."
   ]
  },
  {
   "cell_type": "code",
   "execution_count": null,
   "id": "acc86e37",
   "metadata": {},
   "outputs": [],
   "source": [
    "# there are multiple possible solutions/approaches\n",
    "steps = []\n",
    "to_do = []\n",
    "grocery = []\n",
    "\n",
    "for value in to_do_list:\n",
    "    if isinstance(value, int):\n",
    "        steps.append(value)\n",
    "    else:\n",
    "        if 'cogs' in value:\n",
    "            to_do.append(value)\n",
    "        else: \n",
    "            grocery.append(value)"
   ]
  },
  {
   "cell_type": "markdown",
   "id": "3b470cad",
   "metadata": {},
   "source": [
    "Part II."
   ]
  },
  {
   "cell_type": "code",
   "execution_count": null,
   "id": "0a717099",
   "metadata": {},
   "outputs": [],
   "source": [
    "days_of_week = ['Monday', 'Tuesday', 'Wednesday', 'Thursday', \n",
    "                'Friday', 'Saturday', 'Sunday']\n",
    "steps_dict = {}\n",
    "\n",
    "for i in range(0,7):\n",
    "    key = days_of_week[i]\n",
    "    val = steps[i]\n",
    "    steps_dict[key] = val"
   ]
  }
 ],
 "metadata": {
  "kernelspec": {
   "display_name": "Python 3",
   "language": "python",
   "name": "python3"
  },
  "language_info": {
   "codemirror_mode": {
    "name": "ipython",
    "version": 3
   },
   "file_extension": ".py",
   "mimetype": "text/x-python",
   "name": "python",
   "nbconvert_exporter": "python",
   "pygments_lexer": "ipython3",
   "version": "3.7.7"
  }
 },
 "nbformat": 4,
 "nbformat_minor": 5
}