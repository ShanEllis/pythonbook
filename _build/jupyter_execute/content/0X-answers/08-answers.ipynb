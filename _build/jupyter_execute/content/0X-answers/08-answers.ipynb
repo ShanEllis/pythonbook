{
 "cells": [
  {
   "cell_type": "markdown",
   "id": "4d0ab423-e405-4fe3-a6ca-aeb36a45c2b7",
   "metadata": {},
   "source": [
    "# Answers: Strong Code\n",
    "\n",
    "Provided here are answers to the practice questions at the end of \"Strong Code\"."
   ]
  },
  {
   "cell_type": "markdown",
   "id": "d9981a66-12ec-4095-8b33-4823fbec9ae7",
   "metadata": {},
   "source": [
    "## Code Testing"
   ]
  },
  {
   "cell_type": "markdown",
   "id": "c51e4832-5b84-46c4-9bdd-0dfcc587beef",
   "metadata": {},
   "source": [
    "**Code Testing Q1**"
   ]
  },
  {
   "cell_type": "code",
   "execution_count": null,
   "id": "8908fe03-e04a-40ef-93e6-b8ffe983998e",
   "metadata": {},
   "outputs": [],
   "source": [
    "class Person:\n",
    "\n",
    "    def __init__(self, name, age):\n",
    "        self.name = name\n",
    "        self.age = age\n",
    "\n",
    "    def birthday(self):\n",
    "        self.age += 1\n",
    "        return 'Happy Birthday!'"
   ]
  },
  {
   "cell_type": "code",
   "execution_count": null,
   "id": "9be8ea10-5cb4-4274-9d57-6d9813a81526",
   "metadata": {},
   "outputs": [],
   "source": [
    "class TestPerson(unittest.TestCase):\n",
    "    \n",
    "    Jonathan = Person('Jonathan', 20)\n",
    "\n",
    "    def test_class(self):\n",
    "        self.assertIsInstance(self.Jonathan, Person)\n",
    "                \n",
    "    def test_attributes(self):\n",
    "        self.assertEqual('Jonathan', self.Jonathan.name)\n",
    "        self.assertEqual(20, self.Jonathan.age)\n",
    "\n",
    "    def test_birthday(self):\n",
    "        self.Jonathan.birthday()\n",
    "        self.assertEqual(21, self.Jonathan.age)\n",
    "\n",
    "if __name__ == '__main__':\n",
    "    suite = unittest.TestLoader().loadTestsFromTestCase(TestPerson)\n",
    "    unittest.TextTestRunner(verbosity=2).run(suite)"
   ]
  }
 ],
 "metadata": {
  "kernelspec": {
   "display_name": "Python 3 (ipykernel)",
   "language": "python",
   "name": "python3"
  },
  "language_info": {
   "codemirror_mode": {
    "name": "ipython",
    "version": 3
   },
   "file_extension": ".py",
   "mimetype": "text/x-python",
   "name": "python",
   "nbconvert_exporter": "python",
   "pygments_lexer": "ipython3",
   "version": "3.11.8"
  }
 },
 "nbformat": 4,
 "nbformat_minor": 5
}