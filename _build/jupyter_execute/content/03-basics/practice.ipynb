{
 "cells": [
  {
   "cell_type": "markdown",
   "id": "5a06ed1c",
   "metadata": {},
   "source": [
    "# Practice: The Basics\n",
    "\n",
    "With variables, conditionals and operators under your belt, this chapter is meant to give you additional practice. Note that each question will include a handful of `assert` statements. After you write and execute the code to each question, each `assert` should \"pass silently\" (meaning: should give no output upon execution) indicating that you are on the right track. After you've written your code and run the `assert`s, you can always check your answers, as the answers to these questions are included in the \"Answers\" chapter of this book."
   ]
  },
  {
   "cell_type": "markdown",
   "id": "86875be8",
   "metadata": {},
   "source": [
    "## Variables"
   ]
  },
  {
   "cell_type": "markdown",
   "id": "6cd467a8",
   "metadata": {},
   "source": [
    "**Variables Q1**. Write five lines of code that define five different variables named `var_float`, `var_str`, and `var_bool`, `var_tuple`, and `var_dict`, storing a float, a string, and a boolean, a tuple, and a dictionary, respectively. (You get to choose the specific float, string, boolean, tuple, or dictionary each variable stores.)\n",
    "\n",
    "Checks you can use to see if you're on the right track:"
   ]
  },
  {
   "cell_type": "code",
   "execution_count": null,
   "id": "821f4180",
   "metadata": {},
   "outputs": [],
   "source": [
    "assert isinstance(var_float, float)\n",
    "assert isinstance(var_str, str)\n",
    "assert isinstance(var_bool, bool)\n",
    "assert isinstance(var_tuple, tuple)\n",
    "assert isinstance(var_dict, dict)"
   ]
  },
  {
   "cell_type": "markdown",
   "id": "87f490f8",
   "metadata": {},
   "source": [
    "**Variables Q2**. Consider each of the following scenarios and determine what type of collection (list, tuple, dictionary) would be best to use. For each scenario, store 'list', 'tuple' or 'dictionary' in the variable specified, depending upon which is best for the given scnenario. (Note: Capitalization and spelling matter.)\n",
    "\n",
    "For example, for `scenario_A`, if you thought the correct answer were 'list' your answer in the answer cell would be:\n",
    "\n",
    "```python\n",
    "scenario_A = 'list'\n",
    "```\n",
    "\n",
    "Scenarios:\n",
    "\n",
    "- `scenario_A` | You want to store all of the names of the films that won an Academy Award last year.\n",
    "- `scenario_B` | You want to keep a record of all the email addresses (and only the email addresses) of all of Directors working in Hollywood, so that you can email them your brilliant ideas whenever you have them. \n",
    "- `scenario_C` | You want to store the names *and* email addresses of all of the Directors working in Hollywood, so that you can email them your brilliant ideas whenever you have them *and* address the email to the right name. \n",
    "- `scenario_D` | You want to keep a record of all of the films that have ever won an Academy award and the year in which that award was won.\n",
    "\n",
    "Checks you can use to see if you're on the right track:"
   ]
  },
  {
   "cell_type": "code",
   "execution_count": null,
   "id": "596f6137",
   "metadata": {},
   "outputs": [],
   "source": [
    "assert scenario_A in ['tuple', 'list', 'dictionary']\n",
    "assert scenario_B in ['tuple', 'list', 'dictionary']\n",
    "assert scenario_C in ['tuple', 'list', 'dictionary']\n",
    "assert scenario_D in ['tuple', 'list', 'dictionary']"
   ]
  },
  {
   "cell_type": "markdown",
   "id": "66b96035",
   "metadata": {},
   "source": [
    "## Operators"
   ]
  },
  {
   "cell_type": "markdown",
   "id": "b69d83ed",
   "metadata": {},
   "source": [
    "**Operators Q1** Use the variables provided below (`var_low`, `var_mid` and `var_high`) to generate the variables: `var_even` and `var_odd` according to the following specifications:\n",
    "\n",
    "- `var_even` | use the 3 variables provided once each and *at least two* of the math operators (`+`, `-`, `*`, `/`, `**`, `//`, `%`) to store the value 12 \n",
    "- `var_odd` | use the 3 variables provided once each and *at least two* of the math operators (`+`, `-`, `*`, `/`, `**`, `//`, `%`) to store the value 13\n",
    "\n",
    "Variables provided:\n",
    "\n",
    "```python\n",
    "var_low = 2\n",
    "var_mid = 20\n",
    "var_high = 30\n",
    "```\n",
    "\n",
    "Checks you can use to see if you're on the right track:"
   ]
  },
  {
   "cell_type": "code",
   "execution_count": null,
   "id": "1ed24800",
   "metadata": {},
   "outputs": [],
   "source": [
    "assert int(var_even % 2) == 0\n",
    "assert var_even == 12\n",
    "assert var_odd % 2 != 0\n",
    "assert var_odd == 13"
   ]
  },
  {
   "cell_type": "markdown",
   "id": "e3ee5b82",
   "metadata": {},
   "source": [
    "**Operators Q2**. First, define two variables below: `my_age` and `pres_age`. Store your age (as an integer) in `my_age` and store the current US President's age (as an integer) in `pres_age`.\n",
    "\n",
    "Then, use (refer to) `my_age` and `pres_age` to define define two variables: `true_compar` and `false_compar`.\n",
    "\n",
    "These variables must satisfy the following requirements:\n",
    "\n",
    "1. Each variable must be defined using one comparison operator (`<`,`>`,`<=`,`>=`,`!=`,`==`).\n",
    "2. Each variable must use and refer to `my_age` and `pres_age` (and no other values or variables)\n",
    "4. `true_compar` should evaluate as the boolean `True`; `false_compar` should evaluate as the boolean `False`\n",
    "\n",
    "Checks you can use to see if you're on the right track:"
   ]
  },
  {
   "cell_type": "code",
   "execution_count": null,
   "id": "e8b3c5b7",
   "metadata": {},
   "outputs": [],
   "source": [
    "assert isinstance(my_age, int)\n",
    "assert my_age < 150\n",
    "assert pres_age <150\n",
    "assert true_compar\n",
    "assert not false_compar"
   ]
  },
  {
   "cell_type": "markdown",
   "id": "18ea9c45",
   "metadata": {},
   "source": [
    "**Operators Q3**. Two variables (`spring_holidays` and `current_holidays`) have been created for you below. Using **only these two variables and membership operators**, define the following two variables below (`yes_member` and `no_member`), such that they meet the following specifications:\n",
    "\n",
    "- `yes_member` | stores the boolean `True`\n",
    "- `no_member` | stores the boolean `False`\n",
    "\n",
    "Variables provided:\n",
    "\n",
    "```python\n",
    "spring_holidays = ['César Chávez', 'Passover', 'Easter', \n",
    "                   'Ramadan', 'Shavout', 'Memorial Day']\n",
    "current_holiday = 'Ramadan'\n",
    "````\n",
    "\n",
    "Checks you can use to see if you're on the right track:"
   ]
  },
  {
   "cell_type": "code",
   "execution_count": null,
   "id": "fe1a4a9d",
   "metadata": {},
   "outputs": [],
   "source": [
    "assert yes_member\n",
    "assert not no_member"
   ]
  },
  {
   "cell_type": "markdown",
   "id": "170f43fb",
   "metadata": {},
   "source": [
    "**Operators Q4**. Create three variables: `var_even`, `var_odd`, and `var_operator`.\n",
    "\n",
    "Across these three variables:\n",
    "- all seven math operators (`+`, `-`, `/`, `*`, `**`, `%`, `//`) must be used _at least once_ \n",
    "- `var_even` must store an even number\n",
    "- `var_odd` must store an odd number\n",
    "- `var_operator` can include other variables/numbers but must use (refer to) the variables `var_even` *and* `var_odd` during assignment and must store (have the value) 6 (or 6.0)\n",
    "\n",
    "Checks you can use to see if you're on the right track:"
   ]
  },
  {
   "cell_type": "code",
   "execution_count": null,
   "id": "55332f5d",
   "metadata": {},
   "outputs": [],
   "source": [
    "assert var_odd % 2 != 0\n",
    "assert int(var_even % 2) == 0\n",
    "assert isinstance(var_operator, float) or isinstance(var_operator, int)\n",
    "assert var_operator == 6"
   ]
  },
  {
   "cell_type": "markdown",
   "id": "1ee170e7",
   "metadata": {},
   "source": [
    "**Operators Q5**. Your answer will define two variables: `true_var` and `false_var`.\n",
    "\n",
    "These variables must satisfy the following requirements:\n",
    "\n",
    "1. Each variable must be defined using *at least one* comparison operator (`<`,`>`,`<=`,`>=`,`!=`,`==`).\n",
    "2. Each variable must use and refer to at least one variables defined below (`var_low`, `var_mid`, `var_high`)\n",
    "3. Additional values and/or operators may also be used, but `true_var` must use the `or` operator; `false_var` must use the `and` operator.\n",
    "4. `true_var` should evaluate as the boolean `True`; `false_var` should evaluate as the boolean `False`\n",
    "\n",
    "Variables provided:\n",
    "\n",
    "```python\n",
    "var_low = 35 % 11\n",
    "var_mid = 5 ** 2\n",
    "var_high = (14 + 2) * 6\n",
    "```\n",
    "\n",
    "Checks you can use to see if you're on the right track:"
   ]
  },
  {
   "cell_type": "code",
   "execution_count": null,
   "id": "e33ed6a9",
   "metadata": {},
   "outputs": [],
   "source": [
    "assert true_var\n",
    "assert not false_var"
   ]
  },
  {
   "cell_type": "markdown",
   "id": "7721a7bc",
   "metadata": {},
   "source": [
    "**Operators Q6** Create three variables: `comp_a`, `comp_b`, and `comp_c`.\n",
    "\n",
    "These variables must satisfy the following requirements:\n",
    "\n",
    "1. Each variable must store (aka return) the Boolean `True`\n",
    "2. Additional operators may also be used, but `comp_a` must use the `and` operator; `comp_b` must use the `or` operator, and `comp_c` must use the `not` operator. \n",
    "3. Each variable must be created using *at least two* of the comparison operators (`<`,`>`,`<=`,`>=`,`!=`,`==`).\n",
    "4. All six comparison operators must show up in the cell below *at least once*.\n",
    "\n",
    "Checks you can use to see if you're on the right track:"
   ]
  },
  {
   "cell_type": "code",
   "execution_count": null,
   "id": "a4bf07bf",
   "metadata": {},
   "outputs": [],
   "source": [
    "assert comp_a\n",
    "assert comp_b\n",
    "assert comp_c"
   ]
  },
  {
   "cell_type": "markdown",
   "id": "01ea6071",
   "metadata": {},
   "source": [
    "**Operators Q7**. Using the following string and list provided below, create two variables `memb_a` and `memb_b` that satisfy the following conditions:\n",
    "\n",
    "1. `memb_a` must use the `in` operator to check membership in `my_string`. It should store (return) `True`.\n",
    "2. `memb_b` must use the `not in` operator to check membership in `my_list`. It should store (return) `False`. \n",
    "3. `memb_a` must refer to the `my_string` variable defined for you below. `memb_b` must refer to the `my_list` variable defined for you below.\n",
    "\n",
    "Variables provided:\n",
    "\n",
    "```python\n",
    "my_string = 'I love Python!'\n",
    "my_list = ['Chapters', 'Exercises', 'Practice']\n",
    "```\n",
    "\n",
    "Checks you can use to see if you're on the right track:"
   ]
  },
  {
   "cell_type": "code",
   "execution_count": null,
   "id": "f9a5ff00",
   "metadata": {},
   "outputs": [],
   "source": [
    "assert memb_a\n",
    "assert not memb_b"
   ]
  },
  {
   "cell_type": "markdown",
   "id": "f771583d",
   "metadata": {},
   "source": [
    "## Conditionals"
   ]
  },
  {
   "cell_type": "markdown",
   "id": "ab10d4d5",
   "metadata": {},
   "source": [
    "**Conditionals Q1**. Store your first name as a string in the variable `my_name`.\n",
    "\n",
    "Write a conditional that will determine if there are more letters in your name (`my_name`) relative to the number of letters in the `comparison_name` (provided below, and storing the string 'Shannon').\n",
    "\n",
    "If your name is:\n",
    "- shorter than the `comparison_name`, store the string 'shorter' in the variable `output`\n",
    "- longer than the `comparison_name`, store the string 'longer' in the variable `output`\n",
    "- the same length as `comparison_name`, store the string 'same length' in the variable `output`\n",
    "\n",
    "Note: Do not hard-code. This means your code should work (store the correct string in `output`) regardless of the specific strings stored in `comparison_name` or `my_name`.\n",
    "\n",
    "Variable provided:\n",
    "\n",
    "```python\n",
    "comparison_name = 'Shannon'\n",
    "```\n",
    "\n",
    "Checks you can use to see if you're on the right track:"
   ]
  },
  {
   "cell_type": "code",
   "execution_count": null,
   "id": "8ac68ac3",
   "metadata": {},
   "outputs": [],
   "source": [
    "assert my_name\n",
    "assert output\n",
    "assert output in ['shorter', 'longer', 'same length']"
   ]
  },
  {
   "cell_type": "markdown",
   "id": "2c4ca20e",
   "metadata": {},
   "source": [
    "## Topics Synthesis"
   ]
  },
  {
   "cell_type": "markdown",
   "id": "bd055026",
   "metadata": {},
   "source": [
    "**Synthesis Q1**. Create two variables: `var_cat` and `var_sum`. \n",
    "\n",
    "- `var_cat` should store a string created (assigned) by concatenating two strings together \n",
    "- `var_sum` should store a numeric variable (float or int) created (assigned) by adding two numeric values together\n",
    "\n",
    "The specific values you use to generate `var_cat` and `var_sum` are up to you, as long as they fulfull the criteria specified.\n",
    "\n",
    "Checks you can use to see if you're on the right track:"
   ]
  },
  {
   "cell_type": "code",
   "execution_count": null,
   "id": "f9602f64",
   "metadata": {},
   "outputs": [],
   "source": [
    "assert isinstance(var_cat, str)\n",
    "assert isinstance(var_sum, float) or isinstance(var_sum, int)"
   ]
  },
  {
   "cell_type": "markdown",
   "id": "1b63f46b",
   "metadata": {},
   "source": [
    "**Synthesis Q2**. Create three variables: `var_int`, `var_float`, and `var_combined`. \n",
    "\n",
    "- `var_int` should store an integer\n",
    "- `var_float` should store a float\n",
    "- `var_combined` should use a math operator to add `var_int` and `var_float` together\n",
    "\n",
    "The specific values you use to generate `var_int` and `var_float` are up to you, as long as they fulfull the criteria specified.\n",
    "\n",
    "Checks you can use to see if you're on the right track:"
   ]
  },
  {
   "cell_type": "code",
   "execution_count": null,
   "id": "290abea2",
   "metadata": {},
   "outputs": [],
   "source": [
    "assert isinstance(var_int, int)\n",
    "assert isinstance(var_float, float)\n",
    "assert var_combined == var_int + var_float"
   ]
  },
  {
   "cell_type": "markdown",
   "id": "72dc553c",
   "metadata": {},
   "source": [
    "**Synthesis Q3**. create three variables: `var_a`, `var_b`, and `var_c`.\n",
    "\n",
    "These variables must satisfy the following requirements:\n",
    "\n",
    "1. `var_a` must store a float (you get to choose the specific float)\n",
    "2. `var_b` must use *at least two* of the comparison operators (`<`,`>`,`<=`,`>=`,`!=`,`==`) and store (return) the value `True`. \n",
    "3. `var_c` must use *at least two* of the math operators (`+`, `-`, `/`, `*`, `**`, `%`, `//`) and store the value 36\n",
    "\n",
    "Checks you can use to see if you're on the right track:"
   ]
  },
  {
   "cell_type": "code",
   "execution_count": null,
   "id": "4b055586",
   "metadata": {},
   "outputs": [],
   "source": [
    "assert isinstance(var_a, float)\n",
    "assert var_b \n",
    "assert var_c == 36"
   ]
  },
  {
   "cell_type": "markdown",
   "id": "2cd4bf42",
   "metadata": {},
   "source": [
    "**Synthesis Q4**. create three variables: `var_a`, `var_b`, and `var_c`. \n",
    "\n",
    "- `var_a` should store four characters in an immutable variable type that is only able to store one piece of information\n",
    "- `var_b` should be a single value that, when added to itself returns a whole number\n",
    "- `var_c` should be an immutable variable storing three different values\n",
    "\n",
    "The specific values you use to generate the variables are up to you, as long as they fulfull the criteria specified.\n",
    "\n",
    "Checks you can use to see if you're on the right track:"
   ]
  },
  {
   "cell_type": "code",
   "execution_count": null,
   "id": "f8f23dde",
   "metadata": {},
   "outputs": [],
   "source": [
    "assert isinstance(var_a, str)\n",
    "assert len(var_a) == 4\n",
    "assert var_b % 1 == 0 \n",
    "assert isinstance(var_c, tuple)\n",
    "assert len(var_c) == 3"
   ]
  }
 ],
 "metadata": {
  "kernelspec": {
   "display_name": "Python 3",
   "language": "python",
   "name": "python3"
  },
  "language_info": {
   "codemirror_mode": {
    "name": "ipython",
    "version": 3
   },
   "file_extension": ".py",
   "mimetype": "text/x-python",
   "name": "python",
   "nbconvert_exporter": "python",
   "pygments_lexer": "ipython3",
   "version": "3.7.7"
  }
 },
 "nbformat": 4,
 "nbformat_minor": 5
}