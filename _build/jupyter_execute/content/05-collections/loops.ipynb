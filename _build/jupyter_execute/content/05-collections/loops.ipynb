{
 "cells": [
  {
   "cell_type": "markdown",
   "metadata": {
    "editable": true,
    "slideshow": {
     "slide_type": "slide"
    },
    "tags": []
   },
   "source": [
    "# Loops\n",
    "\n",
    "We previously discussed conditionals as a way to control the flow of your code. Here, we introduce the concept of loops. We'll discuss `while` loops and `for` loops and introduce how to incorporate these into your code.\n",
    "\n",
    "Specifically, **loops** are a procedure utilized in code to repeat a piece of code more than once."
   ]
  },
  {
   "cell_type": "code",
   "execution_count": 6,
   "metadata": {
    "editable": true,
    "slideshow": {
     "slide_type": ""
    },
    "tags": [
     "remove-input"
    ]
   },
   "outputs": [
    {
     "data": {
      "text/html": [
       "<iframe id=\"kaltura_player\" type=\"text/javascript\"  src='https://cdnapisec.kaltura.com/p/2323111/embedPlaykitJs/uiconf_id/52706832?iframeembed=true&entry_id=1_wlspdu2r&config[provider]={\"widgetId\":\"1_3daqrel3\"}'  style=\"width: 800px;height: 450px;border: 0;\" allowfullscreen webkitallowfullscreen mozAllowFullScreen allow=\"autoplay *; fullscreen *; encrypted-media *\" sandbox=\"allow-forms allow-same-origin allow-scripts allow-top-navigation allow-pointer-lock allow-popups allow-modals allow-orientation-lock allow-popups-to-escape-sandbox allow-presentation allow-top-navigation-by-user-activation\" title=\"Kaltura Player\"></iframe>\n"
      ],
      "text/plain": [
       "<IPython.core.display.HTML object>"
      ]
     },
     "metadata": {},
     "output_type": "display_data"
    }
   ],
   "source": [
    "%%HTML\n",
    "<iframe id=\"kaltura_player\" type=\"text/javascript\"  src='https://cdnapisec.kaltura.com/p/2323111/embedPlaykitJs/uiconf_id/52706832?iframeembed=true&entry_id=1_wlspdu2r&config[provider]={\"widgetId\":\"1_3daqrel3\"}'  style=\"width: 800px;height: 450px;border: 0;\" allowfullscreen webkitallowfullscreen mozAllowFullScreen allow=\"autoplay *; fullscreen *; encrypted-media *\" sandbox=\"allow-forms allow-same-origin allow-scripts allow-top-navigation allow-pointer-lock allow-popups allow-modals allow-orientation-lock allow-popups-to-escape-sandbox allow-presentation allow-top-navigation-by-user-activation\" title=\"Kaltura Player\"></iframe>"
   ]
  },
  {
   "cell_type": "markdown",
   "metadata": {
    "editable": true,
    "slideshow": {
     "slide_type": "fragment"
    },
    "tags": []
   },
   "source": [
    "<div class=\"alert alert-success\">\n",
    "A <b>loop</b> is a procedure to repeat a piece of code.\n",
    "</div>"
   ]
  },
  {
   "cell_type": "markdown",
   "metadata": {
    "slideshow": {
     "slide_type": "slide"
    }
   },
   "source": [
    "More specifically, loops help you to avoid copy and pasting similar pieces of your code over and over again throughout your code. It's best to avoid copying and pasting code to (1) make your code more readable to yourself and others and (2) to avoid errors when debugging. By avoiding copying and pasting, when you make a change to improve your code, you only have to make that edit in one single location rather than in every place where the code has been copy and pasted.\n",
    "\n",
    "This means that when it comes to repetitive actions in code, if you find yourself copying + pasting, rethink your strategy. Loops are one way to avoid this. We'll discuss other approaches later on."
   ]
  },
  {
   "cell_type": "markdown",
   "metadata": {
    "editable": true,
    "slideshow": {
     "slide_type": ""
    },
    "tags": []
   },
   "source": [
    "## Why loops?\n",
    "\n",
    "Imagine you wanted to send an email to all the email addresses in your list.\n",
    "\n",
    "Well, if you only had two emails in your list, you could specify who the email is being sent to using something like what we see here:"
   ]
  },
  {
   "cell_type": "code",
   "execution_count": 3,
   "metadata": {
    "slideshow": {
     "slide_type": "fragment"
    }
   },
   "outputs": [],
   "source": [
    "email_list = ['friend@yahoo.com', 'them@bing.com']\n",
    "\n",
    "email = email_list[0]\n",
    "    # send email\n",
    "\n",
    "email = email_list[1]\n",
    "    # send email"
   ]
  },
  {
   "cell_type": "markdown",
   "metadata": {},
   "source": [
    "But, what if you had 100 emails or 1000 emails? Going through and changing the index to refer to the individual in your list of emails would take a long time and would be prone to error. \n",
    "\n",
    "This is when you want to turn to loops!"
   ]
  },
  {
   "cell_type": "markdown",
   "metadata": {
    "editable": true,
    "slideshow": {
     "slide_type": ""
    },
    "tags": []
   },
   "source": [
    "## Loops: The Concept\n",
    "\n",
    "Before we jump into the code underlying loops in python, let's consider some real-world examples of loops to help wrap our minds around the idea of loops generally and the difference between a `for` loop and a `while` loop"
   ]
  },
  {
   "cell_type": "markdown",
   "metadata": {
    "editable": true,
    "slideshow": {
     "slide_type": ""
    },
    "tags": []
   },
   "source": [
    "### `for` loops"
   ]
  },
  {
   "cell_type": "code",
   "execution_count": 7,
   "metadata": {
    "editable": true,
    "slideshow": {
     "slide_type": ""
    },
    "tags": [
     "remove-input"
    ]
   },
   "outputs": [
    {
     "data": {
      "text/html": [
       "<iframe id=\"kaltura_player\" type=\"text/javascript\"  src='https://cdnapisec.kaltura.com/p/2323111/embedPlaykitJs/uiconf_id/52706832?iframeembed=true&entry_id=1_jtuzkwhv&config[provider]={\"widgetId\":\"1_9ooqtcu6\"}'  style=\"width: 800px;height: 450px;border: 0;\" allowfullscreen webkitallowfullscreen mozAllowFullScreen allow=\"autoplay *; fullscreen *; encrypted-media *\" sandbox=\"allow-forms allow-same-origin allow-scripts allow-top-navigation allow-pointer-lock allow-popups allow-modals allow-orientation-lock allow-popups-to-escape-sandbox allow-presentation allow-top-navigation-by-user-activation\" title=\"Kaltura Player\"></iframe>\n"
      ],
      "text/plain": [
       "<IPython.core.display.HTML object>"
      ]
     },
     "metadata": {},
     "output_type": "display_data"
    }
   ],
   "source": [
    "%%HTML\n",
    "<iframe id=\"kaltura_player\" type=\"text/javascript\"  src='https://cdnapisec.kaltura.com/p/2323111/embedPlaykitJs/uiconf_id/52706832?iframeembed=true&entry_id=1_jtuzkwhv&config[provider]={\"widgetId\":\"1_9ooqtcu6\"}'  style=\"width: 800px;height: 450px;border: 0;\" allowfullscreen webkitallowfullscreen mozAllowFullScreen allow=\"autoplay *; fullscreen *; encrypted-media *\" sandbox=\"allow-forms allow-same-origin allow-scripts allow-top-navigation allow-pointer-lock allow-popups allow-modals allow-orientation-lock allow-popups-to-escape-sandbox allow-presentation allow-top-navigation-by-user-activation\" title=\"Kaltura Player\"></iframe>"
   ]
  },
  {
   "cell_type": "markdown",
   "metadata": {
    "editable": true,
    "slideshow": {
     "slide_type": ""
    },
    "tags": []
   },
   "source": [
    "### `while` loops"
   ]
  },
  {
   "cell_type": "code",
   "execution_count": 8,
   "metadata": {
    "editable": true,
    "slideshow": {
     "slide_type": ""
    },
    "tags": [
     "remove-input"
    ]
   },
   "outputs": [
    {
     "data": {
      "text/html": [
       "<iframe id=\"kaltura_player\" type=\"text/javascript\"  src='https://cdnapisec.kaltura.com/p/2323111/embedPlaykitJs/uiconf_id/52706832?iframeembed=true&entry_id=1_6m0eefia&config[provider]={\"widgetId\":\"1_zq288ywd\"}'  style=\"width: 800px;height: 450px;border: 0;\" allowfullscreen webkitallowfullscreen mozAllowFullScreen allow=\"autoplay *; fullscreen *; encrypted-media *\" sandbox=\"allow-forms allow-same-origin allow-scripts allow-top-navigation allow-pointer-lock allow-popups allow-modals allow-orientation-lock allow-popups-to-escape-sandbox allow-presentation allow-top-navigation-by-user-activation\" title=\"Kaltura Player\"></iframe>\n"
      ],
      "text/plain": [
       "<IPython.core.display.HTML object>"
      ]
     },
     "metadata": {},
     "output_type": "display_data"
    }
   ],
   "source": [
    "%%HTML\n",
    "<iframe id=\"kaltura_player\" type=\"text/javascript\"  src='https://cdnapisec.kaltura.com/p/2323111/embedPlaykitJs/uiconf_id/52706832?iframeembed=true&entry_id=1_6m0eefia&config[provider]={\"widgetId\":\"1_zq288ywd\"}'  style=\"width: 800px;height: 450px;border: 0;\" allowfullscreen webkitallowfullscreen mozAllowFullScreen allow=\"autoplay *; fullscreen *; encrypted-media *\" sandbox=\"allow-forms allow-same-origin allow-scripts allow-top-navigation allow-pointer-lock allow-popups allow-modals allow-orientation-lock allow-popups-to-escape-sandbox allow-presentation allow-top-navigation-by-user-activation\" title=\"Kaltura Player\"></iframe>"
   ]
  },
  {
   "cell_type": "markdown",
   "metadata": {
    "editable": true,
    "slideshow": {
     "slide_type": ""
    },
    "tags": []
   },
   "source": [
    "## Loops: The Code"
   ]
  },
  {
   "cell_type": "code",
   "execution_count": 9,
   "metadata": {
    "editable": true,
    "slideshow": {
     "slide_type": ""
    },
    "tags": [
     "remove-input"
    ]
   },
   "outputs": [
    {
     "data": {
      "text/html": [
       "<iframe id=\"kaltura_player\" type=\"text/javascript\"  src='https://cdnapisec.kaltura.com/p/2323111/embedPlaykitJs/uiconf_id/52706832?iframeembed=true&entry_id=1_o9c0wxnu&config[provider]={\"widgetId\":\"1_hh24ynnk\"}'  style=\"width: 800px;height: 450px;border: 0;\" allowfullscreen webkitallowfullscreen mozAllowFullScreen allow=\"autoplay *; fullscreen *; encrypted-media *\" sandbox=\"allow-forms allow-same-origin allow-scripts allow-top-navigation allow-pointer-lock allow-popups allow-modals allow-orientation-lock allow-popups-to-escape-sandbox allow-presentation allow-top-navigation-by-user-activation\" title=\"Kaltura Player\"></iframe>\n"
      ],
      "text/plain": [
       "<IPython.core.display.HTML object>"
      ]
     },
     "metadata": {},
     "output_type": "display_data"
    }
   ],
   "source": [
    "%%HTML\n",
    "<iframe id=\"kaltura_player\" type=\"text/javascript\"  src='https://cdnapisec.kaltura.com/p/2323111/embedPlaykitJs/uiconf_id/52706832?iframeembed=true&entry_id=1_o9c0wxnu&config[provider]={\"widgetId\":\"1_hh24ynnk\"}'  style=\"width: 800px;height: 450px;border: 0;\" allowfullscreen webkitallowfullscreen mozAllowFullScreen allow=\"autoplay *; fullscreen *; encrypted-media *\" sandbox=\"allow-forms allow-same-origin allow-scripts allow-top-navigation allow-pointer-lock allow-popups allow-modals allow-orientation-lock allow-popups-to-escape-sandbox allow-presentation allow-top-navigation-by-user-activation\" title=\"Kaltura Player\"></iframe>"
   ]
  },
  {
   "cell_type": "markdown",
   "metadata": {
    "editable": true,
    "slideshow": {
     "slide_type": "slide"
    },
    "tags": []
   },
   "source": [
    "### `while` Loops\n",
    "\n",
    "A `while` loop is a procedure to use that will repeat the code within the loop for as long as a condition is met. The loop will terminate (stop running the code) once the condition is no longer met."
   ]
  },
  {
   "cell_type": "markdown",
   "metadata": {
    "editable": true,
    "slideshow": {
     "slide_type": "fragment"
    },
    "tags": []
   },
   "source": [
    "<div class=\"alert alert-success\">\n",
    "A <b>while loop</b> is a procedure to repeat a piece of code while some condition is still met. \n",
    "</div>"
   ]
  },
  {
   "cell_type": "markdown",
   "metadata": {
    "slideshow": {
     "slide_type": "fragment"
    }
   },
   "source": [
    "While loops always have the structure:\n",
    "\n",
    "```python\n",
    "while condition:\n",
    "    # Loop contents\n",
    "```\n",
    "\n",
    "`while` is followed by a condition. The condition is then followed by a colon (`:`). The contents within the loop - the code that you want to execute as long as the condition is met are on the subsequent lines and are all indented, visibly indicating that those lines of code are part of the while loop.\n",
    "\n",
    "Note that `condition` can change - this is what determines whether your `while` loop continues to run. While `condition is `True`, the code contents will execute. The code within the loop will repeat until condition is no longer `True`. "
   ]
  },
  {
   "cell_type": "markdown",
   "metadata": {
    "slideshow": {
     "slide_type": "slide"
    }
   },
   "source": [
    "Here, we have an example of a while loop, where `number` initially stores the value '-5'. \n",
    "\n",
    "Then we have a `while` loop where the condition looks to see if `number` is less than (`<`) the number 0. This means that as long as `number` is negative, the contents within the `while` loop will execute.\n",
    "\n",
    "Within the `while` loop, the current value stored in `number` will `print()` *and* the value stored in `number` will increase by 1. \n",
    "\n",
    "Thus, the first time through the loop `number` will store -5. The second time through, it will increase by one to store the value -4. This will continue and the loop will continue to run, printing the current value stored in `number` each time through the loop. \n",
    "\n",
    "However, once `number` stores the value 0, the condition `number < 0` will no longer be met. At this point, the `while` loop will stop executing, terminating the loop."
   ]
  },
  {
   "cell_type": "code",
   "execution_count": 2,
   "metadata": {
    "slideshow": {
     "slide_type": "fragment"
    }
   },
   "outputs": [
    {
     "name": "stdout",
     "output_type": "stream",
     "text": [
      "-5\n",
      "-4\n",
      "-3\n",
      "-2\n",
      "-1\n"
     ]
    }
   ],
   "source": [
    "number = -5\n",
    "\n",
    "while number < 0:\n",
    "    print(number)\n",
    "    number = number + 1"
   ]
  },
  {
   "cell_type": "markdown",
   "metadata": {},
   "source": [
    "Note that `while` loops can be combined with the other code constructs you've previously learned - such as conditionals.\n",
    "\n",
    "Here we see a `while` loop with a nested `if` statement."
   ]
  },
  {
   "cell_type": "code",
   "execution_count": 4,
   "metadata": {
    "slideshow": {
     "slide_type": "fragment"
    }
   },
   "outputs": [
    {
     "name": "stdout",
     "output_type": "stream",
     "text": [
      "3\n"
     ]
    }
   ],
   "source": [
    "keep_looping = True\n",
    "counter = 0\n",
    "\n",
    "while keep_looping:\n",
    "\n",
    "    counter = counter + 1\n",
    "    \n",
    "    if counter > 2:\n",
    "        keep_looping = False\n",
    "\n",
    "print(counter)"
   ]
  },
  {
   "cell_type": "markdown",
   "metadata": {
    "editable": true,
    "slideshow": {
     "slide_type": ""
    },
    "tags": []
   },
   "source": [
    "In this code, two variables are created: `keep_looping` which stores the boolean `True` and  `counter`, which stores the value '0' to start.\n",
    "\n",
    "From there, the `while` loop will execute, as `keep_looping` is `True`.\n",
    "\n",
    "Within the `while` loop, `counter` will increment by 1. The first time through the loop, `counter` will update to store '1'.\n",
    "\n",
    "Then, the conditional `if` statement is encountered. At this point, `counter` stores the value 1, which is *not* greater than (`>`) 2, so the code within the conditional will *not* execute. \n",
    "\n",
    "The `while` loop will then enter its second iteration. `counter` will increase by 1 to store the value '2'. The conditional is still `False`, so the `while` loop will execute once again.\n",
    "\n",
    "During its third iteration, `counter` will increase to store the value '3'. Now, the conditional statement evaluates as `True`, as the value 3 (stored in `counter`) *is* greater than 2. \n",
    "\n",
    "`keep_looping` now stores the value `False`. The `while` condition is no longer `True`, and the loop terminates.\n",
    "\n",
    "Note that the final line of code here (the `print()` statement) is *not* indented. This indicates that it is *not* part of the `while` loop. This line only executes, printing the last value stored in `counter` (3) once the `while` loop terminates."
   ]
  },
  {
   "cell_type": "markdown",
   "metadata": {
    "editable": true,
    "slideshow": {
     "slide_type": "slide"
    },
    "tags": []
   },
   "source": [
    "### `for` Loops\n",
    "\n",
    "The second type of loop we'll discuss for controlling the flow of your code is a `for` loop. This procedure repeats code for every element in a collection. \n",
    "\n",
    "So if you have a list and want the same code to operate on every element in the list, you'll want to use a `for` loop."
   ]
  },
  {
   "cell_type": "markdown",
   "metadata": {
    "editable": true,
    "slideshow": {
     "slide_type": "fragment"
    },
    "tags": []
   },
   "source": [
    "<div class=\"alert alert-success\">\n",
    "A <b>for loop</b> is a procedure a to repeat code for every element in a sequence.\n",
    "</div>"
   ]
  },
  {
   "cell_type": "markdown",
   "metadata": {
    "slideshow": {
     "slide_type": "slide"
    }
   },
   "source": [
    "For example, here we create a list with three items. If we want to carry out some operation on each element in this list, we'll use a `for` loop.\n",
    "\n",
    "The operation we'll carry out in this first example is simply to print each element of the list as it loops through the list.\n",
    "\n",
    "What's most important in the code below is the use of the variable `my_item`. Note that this variable has *not* been previously defined. This variable is used to refer to each element in the list as the loop progresses."
   ]
  },
  {
   "cell_type": "code",
   "execution_count": 5,
   "metadata": {
    "slideshow": {
     "slide_type": "fragment"
    }
   },
   "outputs": [
    {
     "name": "stdout",
     "output_type": "stream",
     "text": [
      "A\n",
      "True\n",
      "12\n"
     ]
    }
   ],
   "source": [
    "# Define a list of items\n",
    "list_of_items = ['A', True, 12]\n",
    "\n",
    "# Loop across each element\n",
    "for my_item in list_of_items:\n",
    "     print(my_item)"
   ]
  },
  {
   "cell_type": "markdown",
   "metadata": {},
   "source": [
    "More specifically, the first time through the `for` loop, `my_item` will refer to the first element in `list_of_items` - the string `'A'`. \n",
    "\n",
    "The code within the `for` loop specifies to `print(my_item)`. Thus, the information stored in `my_item` - the string `'A'` is printed.\n",
    "\n",
    "With the first iteration of the loop, the `for` loop continues on, repeating the code within the `for` loop on the second element in the list - `True`. Now, `my_item` refers to the second element in the list - `True`. So when `print(my_item)` is encountered, the value `True` is printed. \n",
    "\n",
    "The third time through the loop, `my_item` refers to the third element in the list - the value '12'. Thus, that is printed when `print(my_item)` is encountered.\n",
    "\n",
    "After this third iteration, the `for` loop has reached the end of the list. Once the end of the collection the `for` loop is iterating through is reached, the execution of the loop will terminate."
   ]
  },
  {
   "cell_type": "markdown",
   "metadata": {},
   "source": [
    "After this loop executes, the value stored in `my_item` will be the last value stored in `my_item` in the loop - the last element of the list.\n",
    "\n",
    "We can use `print(my_item)` to verify the contents stored in this variable:"
   ]
  },
  {
   "cell_type": "code",
   "execution_count": 6,
   "metadata": {},
   "outputs": [
    {
     "name": "stdout",
     "output_type": "stream",
     "text": [
      "12\n"
     ]
    }
   ],
   "source": [
    "# my_item exists outside the loop\n",
    "print(my_item)"
   ]
  },
  {
   "cell_type": "markdown",
   "metadata": {},
   "source": [
    "Above, we see that even though `my_item` was created and utilized within the `for` loop, it exists after the loop executes, storing whatever the last value stored during the `for` loops execution was."
   ]
  },
  {
   "cell_type": "markdown",
   "metadata": {
    "editable": true,
    "slideshow": {
     "slide_type": "slide"
    },
    "tags": []
   },
   "source": [
    "#### Looping through strings\n",
    "\n",
    "Note that loops are not used exclusively with strings. You can loop through all of the collections we've discussed previously - strings, tuples, and dictionaries.\n",
    "\n",
    "When we loop through strings, each character in the string is iterated through until the end of the string is encountered:"
   ]
  },
  {
   "cell_type": "code",
   "execution_count": 19,
   "metadata": {
    "editable": true,
    "scrolled": true,
    "slideshow": {
     "slide_type": "fragment"
    },
    "tags": []
   },
   "outputs": [
    {
     "name": "stdout",
     "output_type": "stream",
     "text": [
      "p\n",
      "y\n",
      "t\n",
      "h\n",
      "o\n",
      "n\n"
     ]
    }
   ],
   "source": [
    "# Loop across items in a string\n",
    "for char in 'python': \n",
    "    print(char)"
   ]
  },
  {
   "cell_type": "markdown",
   "metadata": {
    "editable": true,
    "slideshow": {
     "slide_type": ""
    },
    "tags": []
   },
   "source": [
    "#### Looping through dictionaries\n",
    "\n",
    "Further, when we loop through dictionaries, we iterate across the keys. To see what we mean, let's re-create a dictionary we've seen previously for use in this example:"
   ]
  },
  {
   "cell_type": "code",
   "execution_count": 7,
   "metadata": {
    "editable": true,
    "slideshow": {
     "slide_type": ""
    },
    "tags": []
   },
   "outputs": [],
   "source": [
    "student_emails = {\n",
    "    'Betty Jennings' : 'bjennings@eniac.org',\n",
    "    'Ada Lovelace' : 'ada@analyticengine.com',\n",
    "    'Alan Turing' : 'aturing@thebomb.gov',\n",
    "    'Grace Hopper' : 'ghopper@navy.usa'\n",
    "}"
   ]
  },
  {
   "cell_type": "markdown",
   "metadata": {},
   "source": [
    "In the example below, `person` refers to the keys in the dictionary. So, the first time through the loop, `person` will refer to the first person in the `student_emails` dictionary - 'Betty Jennings'. The second time through, the second key, and so on and so forth:"
   ]
  },
  {
   "cell_type": "code",
   "execution_count": 9,
   "metadata": {},
   "outputs": [
    {
     "name": "stdout",
     "output_type": "stream",
     "text": [
      "Betty Jennings\n",
      "Ada Lovelace\n",
      "Alan Turing\n",
      "Grace Hopper\n"
     ]
    }
   ],
   "source": [
    "# Loop over a dictionary loops across the keys\n",
    "for person in student_emails:\n",
    "    print(person)"
   ]
  },
  {
   "cell_type": "markdown",
   "metadata": {},
   "source": [
    "This can be combined with indexing, if you want to see the values stored in the keys. Here, instead of printing the key, using `person`, we can **index** from the `student_emails` dictionary, which returns the values stored in the keys."
   ]
  },
  {
   "cell_type": "code",
   "execution_count": 10,
   "metadata": {
    "editable": true,
    "slideshow": {
     "slide_type": ""
    },
    "tags": []
   },
   "outputs": [
    {
     "name": "stdout",
     "output_type": "stream",
     "text": [
      "bjennings@eniac.org\n",
      "ada@analyticengine.com\n",
      "aturing@thebomb.gov\n",
      "ghopper@navy.usa\n"
     ]
    }
   ],
   "source": [
    "# Loop over a dictionary loops across the keys\n",
    "#   Inside the loop, you can use the key to access the associated value\n",
    "for person in student_emails:\n",
    "    print(student_emails[person])"
   ]
  },
  {
   "cell_type": "markdown",
   "metadata": {},
   "source": [
    "In each of these scenarios, as we loop through a dictionary, we are using `person` to refer to the keys in the `student_emails` dictionary. Within the `for` loop, we can *refer* to `person` to specify the *key* in the dictionary. "
   ]
  },
  {
   "cell_type": "markdown",
   "metadata": {
    "editable": true,
    "slideshow": {
     "slide_type": ""
    },
    "tags": []
   },
   "source": [
    "## `range`, `continue`, and `break`"
   ]
  },
  {
   "cell_type": "code",
   "execution_count": 10,
   "metadata": {
    "editable": true,
    "slideshow": {
     "slide_type": ""
    },
    "tags": [
     "remove-input"
    ]
   },
   "outputs": [
    {
     "data": {
      "text/html": [
       "<iframe id=\"kaltura_player\" type=\"text/javascript\"  src='https://cdnapisec.kaltura.com/p/2323111/embedPlaykitJs/uiconf_id/52706832?iframeembed=true&entry_id=1_8t3c6h7c&config[provider]={\"widgetId\":\"1_d03pf27m\"}'  style=\"width: 800px;height: 450px;border: 0;\" allowfullscreen webkitallowfullscreen mozAllowFullScreen allow=\"autoplay *; fullscreen *; encrypted-media *\" sandbox=\"allow-forms allow-same-origin allow-scripts allow-top-navigation allow-pointer-lock allow-popups allow-modals allow-orientation-lock allow-popups-to-escape-sandbox allow-presentation allow-top-navigation-by-user-activation\" title=\"Kaltura Player\"></iframe>\n"
      ],
      "text/plain": [
       "<IPython.core.display.HTML object>"
      ]
     },
     "metadata": {},
     "output_type": "display_data"
    }
   ],
   "source": [
    "%%HTML\n",
    "<iframe id=\"kaltura_player\" type=\"text/javascript\"  src='https://cdnapisec.kaltura.com/p/2323111/embedPlaykitJs/uiconf_id/52706832?iframeembed=true&entry_id=1_8t3c6h7c&config[provider]={\"widgetId\":\"1_d03pf27m\"}'  style=\"width: 800px;height: 450px;border: 0;\" allowfullscreen webkitallowfullscreen mozAllowFullScreen allow=\"autoplay *; fullscreen *; encrypted-media *\" sandbox=\"allow-forms allow-same-origin allow-scripts allow-top-navigation allow-pointer-lock allow-popups allow-modals allow-orientation-lock allow-popups-to-escape-sandbox allow-presentation allow-top-navigation-by-user-activation\" title=\"Kaltura Player\"></iframe>"
   ]
  },
  {
   "cell_type": "markdown",
   "metadata": {
    "collapsed": true,
    "editable": true,
    "jupyter": {
     "outputs_hidden": true
    },
    "slideshow": {
     "slide_type": "slide"
    },
    "tags": []
   },
   "source": [
    "### `range`\n",
    "\n",
    "As you begin to write loops, you'll become familiar with the `range` operator, which creates a range of numbers. This operator is frequently used with loops. "
   ]
  },
  {
   "cell_type": "markdown",
   "metadata": {
    "editable": true,
    "slideshow": {
     "slide_type": "fragment"
    },
    "tags": []
   },
   "source": [
    "<div class=\"alert alert-success\">\n",
    "<code>range</code> is an operator to create a range of numbers, that is often used with loops.\n",
    "</div>"
   ]
  },
  {
   "cell_type": "markdown",
   "metadata": {},
   "source": [
    "To demonstrate why `range` is helpful, consider looping over a list of integers from 0 to 4, inclusive. To do this using the tools we've discussed so far, you would use the following:"
   ]
  },
  {
   "cell_type": "code",
   "execution_count": 35,
   "metadata": {
    "scrolled": true
   },
   "outputs": [
    {
     "name": "stdout",
     "output_type": "stream",
     "text": [
      "0\n",
      "1\n",
      "2\n",
      "3\n",
      "4\n"
     ]
    }
   ],
   "source": [
    "for ind in [0, 1, 2, 3, 4]:\n",
    "    print(ind)"
   ]
  },
  {
   "cell_type": "markdown",
   "metadata": {},
   "source": [
    "However, often we want to iterate across lists containing *many* more numbers. Typing each individual number out would become onerous and we'd likely make a typo.\n",
    "\n",
    "Alternatively, we could use `range()`. `range` uses the same (`start`, `stop`, `step`) concept we used for indexing; however, the values are separated by commas when using range, rather than by colons (as we used for indexing).\n",
    "\n",
    "The code below accomplishes the same procedure we saw above; however, instead of specifying each number in the list, we can use `range()` and specify the `start` and `stop` values. Recall that the `stop` value (here, 5) is *not* included in the range, just as the `stop` value specified in a slice was not included."
   ]
  },
  {
   "cell_type": "code",
   "execution_count": 37,
   "metadata": {
    "slideshow": {
     "slide_type": "fragment"
    }
   },
   "outputs": [
    {
     "name": "stdout",
     "output_type": "stream",
     "text": [
      "0\n",
      "1\n",
      "2\n",
      "3\n",
      "4\n"
     ]
    }
   ],
   "source": [
    "# Loop across a sequence of numbers, using range\n",
    "for ind in range(0, 5):\n",
    "    print(ind)"
   ]
  },
  {
   "cell_type": "markdown",
   "metadata": {},
   "source": [
    "By including a `step` value, `range` further allows us to skip over values in the range, to, for example, only include even values, as we see here:"
   ]
  },
  {
   "cell_type": "code",
   "execution_count": 40,
   "metadata": {
    "slideshow": {
     "slide_type": "fragment"
    }
   },
   "outputs": [
    {
     "name": "stdout",
     "output_type": "stream",
     "text": [
      "2\n",
      "4\n"
     ]
    }
   ],
   "source": [
    "# Range, like indexing, is defined by 'start', 'stop', 'step'\n",
    "for ind in range(2, 6, 2):\n",
    "    print(ind)"
   ]
  },
  {
   "cell_type": "markdown",
   "metadata": {
    "editable": true,
    "slideshow": {
     "slide_type": "slide"
    },
    "tags": []
   },
   "source": [
    "### `continue`\n",
    "\n",
    "Another helpful operator is `continue`. When encountered ina loop, `continue` specifies to jump ahead to the next iteration of a loop, regardless of the code below in the loop."
   ]
  },
  {
   "cell_type": "markdown",
   "metadata": {
    "editable": true,
    "slideshow": {
     "slide_type": "fragment"
    },
    "tags": []
   },
   "source": [
    "<div class=\"alert alert-success\">\n",
    "<code>continue</code> is a special operator to jump ahead to the next iteration of a loop.\n",
    "</div>"
   ]
  },
  {
   "cell_type": "markdown",
   "metadata": {
    "slideshow": {
     "slide_type": "slide"
    }
   },
   "source": [
    "For example, in this loop, when `item == 2`, `continue` is encountered, so the code skips to the top of the for loop, ignoring the `print(item)` statement below. However, for all other values in the range (when `item` is anything *other* than '2', `item` gets printed."
   ]
  },
  {
   "cell_type": "code",
   "execution_count": 11,
   "metadata": {
    "scrolled": true,
    "slideshow": {
     "slide_type": "fragment"
    }
   },
   "outputs": [
    {
     "name": "stdout",
     "output_type": "stream",
     "text": [
      "0\n",
      "1\n",
      "3\n"
     ]
    }
   ],
   "source": [
    "for item in range(0, 4):\n",
    "    \n",
    "    if item == 2:\n",
    "        continue\n",
    "    \n",
    "    print(item)"
   ]
  },
  {
   "cell_type": "markdown",
   "metadata": {},
   "source": [
    "This concept applies across the varies types of collections we've talked about previously. For example, here we are looping through a string, and `continue`-ing on when `char` stores the letter 'p' or 'y'. "
   ]
  },
  {
   "cell_type": "code",
   "execution_count": 15,
   "metadata": {
    "slideshow": {
     "slide_type": "fragment"
    }
   },
   "outputs": [
    {
     "name": "stdout",
     "output_type": "stream",
     "text": [
      "l\n",
      "o\n",
      "v\n",
      "e\n",
      " \n",
      "t\n",
      "h\n",
      "o\n",
      "n\n"
     ]
    }
   ],
   "source": [
    "for char in 'love python': \n",
    "    \n",
    "    if char == 'p' or char == 'y':\n",
    "        continue\n",
    "        \n",
    "    print(char)"
   ]
  },
  {
   "cell_type": "markdown",
   "metadata": {
    "editable": true,
    "slideshow": {
     "slide_type": "slide"
    },
    "tags": []
   },
   "source": [
    "### `break`\n",
    "\n",
    "Finally, `break` is a special operator that, when encountered will terminate the loop. Unlike `continue` which carries on immediately to the next iteration of the loop, `break`, when `break` is encountered, the whole loop terminates (stops executing)"
   ]
  },
  {
   "cell_type": "markdown",
   "metadata": {
    "editable": true,
    "slideshow": {
     "slide_type": "fragment"
    },
    "tags": []
   },
   "source": [
    "<div class=\"alert alert-success\">\n",
    "<code>break</code> is a special operator to break out of a loop.\n",
    "</div>"
   ]
  },
  {
   "cell_type": "markdown",
   "metadata": {},
   "source": [
    "Using the example we saw above with `continue` but replacing `continue` with `break`, we see that once `item == 2` is `True`, `break` is encountered and the loop terminates. `item` never reaches the end of the list (the value 3) and thus that value never gets printed. "
   ]
  },
  {
   "cell_type": "code",
   "execution_count": 14,
   "metadata": {
    "slideshow": {
     "slide_type": "fragment"
    }
   },
   "outputs": [
    {
     "name": "stdout",
     "output_type": "stream",
     "text": [
      "0\n",
      "1\n"
     ]
    }
   ],
   "source": [
    "for item in range(0, 4):\n",
    "    \n",
    "    if item == 2:\n",
    "        break\n",
    "    \n",
    "    print(item)"
   ]
  },
  {
   "cell_type": "markdown",
   "metadata": {},
   "source": [
    "The same concept applies for iterating through a string. Once `break` is encountered, the loop terminates immediately:"
   ]
  },
  {
   "cell_type": "code",
   "execution_count": 33,
   "metadata": {
    "slideshow": {
     "slide_type": "fragment"
    }
   },
   "outputs": [
    {
     "name": "stdout",
     "output_type": "stream",
     "text": [
      "l\n",
      "o\n",
      "v\n",
      "e\n",
      " \n"
     ]
    }
   ],
   "source": [
    "string = \"love python\"\n",
    "\n",
    "for char in string: \n",
    "    if char == \"p\" or char == \"y\":\n",
    "        break\n",
    "        \n",
    "    print(char)"
   ]
  },
  {
   "cell_type": "markdown",
   "metadata": {},
   "source": [
    "## Code Style: Loops\n",
    "\n",
    "**Good Code Style**\n",
    "\n",
    "- `for`/`while` statement with a colon at the end on first line\n",
    "- all code within the loop inside a code block (indented)"
   ]
  },
  {
   "cell_type": "code",
   "execution_count": null,
   "metadata": {},
   "outputs": [],
   "source": [
    "number = -5\n",
    "\n",
    "while number < 0:\n",
    "    print(number)\n",
    "    number = number + 1"
   ]
  },
  {
   "cell_type": "markdown",
   "metadata": {},
   "source": [
    "**Code Style to Avoid**\n",
    "\n",
    "Whereas, we avoid putting a loop and its contents on a single line. And, of course, we don't want to forget about spacing around operator guidelines discussed previously!"
   ]
  },
  {
   "cell_type": "code",
   "execution_count": null,
   "metadata": {},
   "outputs": [],
   "source": [
    "number=-5\n",
    "while number<0:print(number);number=number+1"
   ]
  },
  {
   "cell_type": "markdown",
   "metadata": {
    "editable": true,
    "slideshow": {
     "slide_type": ""
    },
    "tags": []
   },
   "source": [
    "## Functions & Loops"
   ]
  },
  {
   "cell_type": "code",
   "execution_count": 11,
   "metadata": {
    "editable": true,
    "slideshow": {
     "slide_type": ""
    },
    "tags": [
     "remove-input"
    ]
   },
   "outputs": [
    {
     "data": {
      "text/html": [
       "<iframe id=\"kaltura_player\" type=\"text/javascript\"  src='https://cdnapisec.kaltura.com/p/2323111/embedPlaykitJs/uiconf_id/52706832?iframeembed=true&entry_id=1_jli32hds&config[provider]={\"widgetId\":\"1_873msqyp\"}'  style=\"width: 800px;height: 450px;border: 0;\" allowfullscreen webkitallowfullscreen mozAllowFullScreen allow=\"autoplay *; fullscreen *; encrypted-media *\" sandbox=\"allow-forms allow-same-origin allow-scripts allow-top-navigation allow-pointer-lock allow-popups allow-modals allow-orientation-lock allow-popups-to-escape-sandbox allow-presentation allow-top-navigation-by-user-activation\" title=\"Kaltura Player\"></iframe>\n"
      ],
      "text/plain": [
       "<IPython.core.display.HTML object>"
      ]
     },
     "metadata": {},
     "output_type": "display_data"
    }
   ],
   "source": [
    "%%HTML\n",
    "<iframe id=\"kaltura_player\" type=\"text/javascript\"  src='https://cdnapisec.kaltura.com/p/2323111/embedPlaykitJs/uiconf_id/52706832?iframeembed=true&entry_id=1_jli32hds&config[provider]={\"widgetId\":\"1_873msqyp\"}'  style=\"width: 800px;height: 450px;border: 0;\" allowfullscreen webkitallowfullscreen mozAllowFullScreen allow=\"autoplay *; fullscreen *; encrypted-media *\" sandbox=\"allow-forms allow-same-origin allow-scripts allow-top-navigation allow-pointer-lock allow-popups allow-modals allow-orientation-lock allow-popups-to-escape-sandbox allow-presentation allow-top-navigation-by-user-activation\" title=\"Kaltura Player\"></iframe>"
   ]
  },
  {
   "cell_type": "markdown",
   "metadata": {
    "editable": true,
    "slideshow": {
     "slide_type": ""
    },
    "tags": []
   },
   "source": [
    "\n",
    "To tie concepts discussed thus far together, let's consider an example of a function where we want to take a string as input and count the number of vowels in the string:"
   ]
  },
  {
   "cell_type": "code",
   "execution_count": 2,
   "metadata": {
    "editable": true,
    "slideshow": {
     "slide_type": ""
    },
    "tags": []
   },
   "outputs": [],
   "source": [
    "def count_vowels(input_string):\n",
    "    count = 0\n",
    "    vowels = 'AEIOUaeiou'\n",
    "    \n",
    "    for ltr in input_string:\n",
    "        if ltr in vowels:\n",
    "            count = count + 1\n",
    "    \n",
    "    return count"
   ]
  },
  {
   "cell_type": "markdown",
   "metadata": {},
   "source": [
    "In the above function we see that we're looping through each `ltr` in the `input_string` (the specific string will be specified by the user on function execution. And, if that `ltr` is in the provided string containing the `vowels` then we will increase the value in `count` by 1. Once the loop terminates the final value of `count` (which will be the number of vowels in `input_string`) will be returned from the function.\n",
    "\n",
    "If we execute the function below, we'll see the intended output:"
   ]
  },
  {
   "cell_type": "code",
   "execution_count": 3,
   "metadata": {},
   "outputs": [
    {
     "data": {
      "text/plain": [
       "2"
      ]
     },
     "execution_count": 3,
     "metadata": {},
     "output_type": "execute_result"
    }
   ],
   "source": [
    "# counts two vowels a and o\n",
    "count_vowels('Shannon')"
   ]
  },
  {
   "cell_type": "code",
   "execution_count": 4,
   "metadata": {},
   "outputs": [
    {
     "data": {
      "text/plain": [
       "2"
      ]
     },
     "execution_count": 4,
     "metadata": {},
     "output_type": "execute_result"
    }
   ],
   "source": [
    "# correctly counts capital vowels too\n",
    "count_vowels('KAYDEN')"
   ]
  },
  {
   "cell_type": "code",
   "execution_count": 5,
   "metadata": {
    "editable": true,
    "slideshow": {
     "slide_type": ""
    },
    "tags": []
   },
   "outputs": [
    {
     "data": {
      "text/plain": [
       "10"
      ]
     },
     "execution_count": 5,
     "metadata": {},
     "output_type": "execute_result"
    }
   ],
   "source": [
    "# does not always output the value 2\n",
    "count_vowels('bbbbbAEIOUaeiouccc')"
   ]
  },
  {
   "cell_type": "code",
   "execution_count": 3,
   "metadata": {
    "editable": true,
    "slideshow": {
     "slide_type": ""
    },
    "tags": [
     "remove-input"
    ]
   },
   "outputs": [
    {
     "data": {
      "text/html": [
       "<iframe width=\"560\" height=\"315\" src=\"https://www.youtube.com/embed/0QefC8Kn3dY?rel=0&amp;controls=0&amp;showinfo=0\" frameborder=\"0\" allowfullscreen></iframe>\n"
      ],
      "text/plain": [
       "<IPython.core.display.HTML object>"
      ]
     },
     "metadata": {},
     "output_type": "display_data"
    }
   ],
   "source": [
    "%%HTML\n",
    "<iframe width=\"560\" height=\"315\" src=\"https://www.youtube.com/embed/0QefC8Kn3dY?rel=0&amp;controls=0&amp;showinfo=0\" frameborder=\"0\" allowfullscreen></iframe>"
   ]
  },
  {
   "cell_type": "markdown",
   "metadata": {
    "collapsed": true,
    "editable": true,
    "jupyter": {
     "outputs_hidden": true
    },
    "slideshow": {
     "slide_type": "slide"
    },
    "tags": []
   },
   "source": [
    "## Exercises\n",
    "\n",
    "Q1. **How many values will be output from this `while` loop before \"The tea is cool enough.\" is printed?**\n",
    "\n",
    "```python\n",
    "temperature = 115\n",
    " \n",
    "while temperature > 112: \n",
    "    print(temperature)\n",
    "    temperature = temperature - 1\n",
    "\n",
    "print('The tea is cool enough.')\n",
    "```\n",
    "\n",
    "Q2. **What will be the value of `counter` after this loop executes?**\n",
    "\n",
    "\n",
    "```python\n",
    "keep_looping = True\n",
    "counter = 0\n",
    "\n",
    "while keep_looping:\n",
    "\n",
    "    counter = counter + 1\n",
    "    \n",
    "    if counter > 3:\n",
    "        keep_looping = False\n",
    "\n",
    "print(counter)\n",
    "```\n",
    "\n",
    "Q3. **What will the following loop print out?**\n",
    "\n",
    "```python\n",
    "my_lst = range(0, 5)\n",
    "\n",
    "for item in my_lst[0:-1]:\n",
    "    print(item + 1)\n",
    "```\n",
    "\n",
    "Q4. **How many values will be output from this `for` loop before it *first* prints \"The tea is too hot!\"?\n",
    "\n",
    "```python\n",
    "temperatures = [114, 115, 116, 117, 118]\n",
    "\n",
    "for temp in temperatures: \n",
    "    print(temp)\n",
    "    \n",
    "    if(temp > 115):\n",
    "        print('The tea is too hot!')\n",
    "\n",
    "```\n",
    "\n",
    "Q5. **How many values would this loop print and what would be the last value printed?**\n",
    "\n",
    "\n",
    "```python\n",
    "for ind in range(1, 10, 3):\n",
    "    print(ind)\n",
    "```\n",
    "\n",
    "A) values printed: 3; last value: 7  \n",
    "B) values printed: 3; last value: 9  \n",
    "C) values printed: 4; last value: 9  \n",
    "D) values printed: 7; last value: 7  \n",
    "E) values printed: 7; last value: 9  \n",
    "\n",
    "Q6. **What will be the value of `counter` after this code has executed?**\n",
    "\n",
    "```python\n",
    "counter = 0\n",
    "my_lst = [False, True, False, True]\n",
    "\n",
    "for item in my_lst:\n",
    "    if item in my_lst:\n",
    "        continue\n",
    "    else:\n",
    "        counter = counter + 1\n",
    "```\n",
    "\n",
    "Q7. **What will the following code print out**?\n",
    "\n",
    "```python\n",
    "number = 1\n",
    "\n",
    "while True:\n",
    "    if number % 3 == 0:\n",
    "        break\n",
    "    print(number)\n",
    "    \n",
    "    number = number + 1\n",
    "```\n",
    "\n",
    "A) 1  \n",
    "B) 1 2  \n",
    "C) 1 2 3  \n",
    "D) Something else   \n",
    "E) This code prints forever  \n",
    "\n",
    "Q8. **For how many `temp` will output be printed from this for loop? (In other words, how many times in this for loop will something be printed out?)**\n",
    "\n",
    "```python\n",
    "for temp in range(114, 119): \n",
    "    \n",
    "    if(temp < 116):\n",
    "        continue\n",
    "    elif(temp == 116):\n",
    "        print('The tea is too hot!')\n",
    "    else:\n",
    "        break\n",
    "```\n",
    "\n",
    "Q9. **Store your name as a string in a variable called `my_name`. Write a loop that will loop through all the letters in `my_name` and count all the vowels in your name.**\n",
    "\n",
    "Q10. **Write a loop that adds all the *odd* numbers between 1 and 1000 together.**"
   ]
  },
  {
   "cell_type": "code",
   "execution_count": null,
   "metadata": {},
   "outputs": [],
   "source": []
  }
 ],
 "metadata": {
  "kernelspec": {
   "display_name": "Python 3 (ipykernel)",
   "language": "python",
   "name": "python3"
  },
  "language_info": {
   "codemirror_mode": {
    "name": "ipython",
    "version": 3
   },
   "file_extension": ".py",
   "mimetype": "text/x-python",
   "name": "python",
   "nbconvert_exporter": "python",
   "pygments_lexer": "ipython3",
   "version": "3.11.8"
  }
 },
 "nbformat": 4,
 "nbformat_minor": 4
}