{
 "cells": [
  {
   "cell_type": "markdown",
   "id": "44a3d9b6-4a13-4b19-9637-ca860bef3bdf",
   "metadata": {
    "editable": true,
    "slideshow": {
     "slide_type": ""
    },
    "tags": [
     "remove-input"
    ]
   },
   "source": [
    "# Membership Operators \n",
    "\n",
    "We previously discussed the  membership operator; however, now that we've introduced collections -- variables that can store more than one value -- we want to revisit the membership operators `in` and `not in`."
   ]
  },
  {
   "cell_type": "code",
   "execution_count": 12,
   "id": "631bb5db-20ac-48a6-87ab-965d9a4770e2",
   "metadata": {
    "editable": true,
    "slideshow": {
     "slide_type": ""
    },
    "tags": [
     "remove-input"
    ]
   },
   "outputs": [
    {
     "data": {
      "text/html": [
       "<iframe id=\"kaltura_player\" type=\"text/javascript\"  src='https://cdnapisec.kaltura.com/p/2323111/embedPlaykitJs/uiconf_id/52706832?iframeembed=true&entry_id=1_2kv9za3c&config[provider]={\"widgetId\":\"1_lj9jsf9b\"}'  style=\"width: 800px;height: 450px;border: 0;\" allowfullscreen webkitallowfullscreen mozAllowFullScreen allow=\"autoplay *; fullscreen *; encrypted-media *\" sandbox=\"allow-forms allow-same-origin allow-scripts allow-top-navigation allow-pointer-lock allow-popups allow-modals allow-orientation-lock allow-popups-to-escape-sandbox allow-presentation allow-top-navigation-by-user-activation\" title=\"Kaltura Player\"></iframe>\n"
      ],
      "text/plain": [
       "<IPython.core.display.HTML object>"
      ]
     },
     "metadata": {},
     "output_type": "display_data"
    }
   ],
   "source": [
    "%%HTML\n",
    "<iframe id=\"kaltura_player\" type=\"text/javascript\"  src='https://cdnapisec.kaltura.com/p/2323111/embedPlaykitJs/uiconf_id/52706832?iframeembed=true&entry_id=1_2kv9za3c&config[provider]={\"widgetId\":\"1_lj9jsf9b\"}'  style=\"width: 800px;height: 450px;border: 0;\" allowfullscreen webkitallowfullscreen mozAllowFullScreen allow=\"autoplay *; fullscreen *; encrypted-media *\" sandbox=\"allow-forms allow-same-origin allow-scripts allow-top-navigation allow-pointer-lock allow-popups allow-modals allow-orientation-lock allow-popups-to-escape-sandbox allow-presentation allow-top-navigation-by-user-activation\" title=\"Kaltura Player\"></iframe>"
   ]
  },
  {
   "cell_type": "markdown",
   "id": "b69a6e72-3e1d-4b66-b1e4-cd0f6d693d10",
   "metadata": {
    "editable": true,
    "slideshow": {
     "slide_type": ""
    },
    "tags": [
     "remove-input"
    ]
   },
   "source": [
    "## The membership operator: `in`\n",
    "\n",
    "<div class=\"alert alert-success\">\n",
    "Python uses <b>in</b> and <b>not in</b> to compare membership. These operators return booleans.\n",
    "</div>\n",
    "\n",
    "Membership operators are used to check whether a value or variable is found in a collection.\n",
    "\n",
    "- `in` : `True` if value is found in the sequence\n",
    "- `not in` : `True` if value is *not* found in the sequence"
   ]
  },
  {
   "cell_type": "markdown",
   "id": "ae76b460-83ab-4ecb-a9e6-9aa5593d3872",
   "metadata": {},
   "source": [
    "### Membership in lists and tuples\n",
    "\n",
    "In lists and tuples, `in` checks if the value is an *element* in the list. "
   ]
  },
  {
   "cell_type": "code",
   "execution_count": 1,
   "id": "47072bb1-5e26-4ae6-9350-77b542bc6315",
   "metadata": {},
   "outputs": [],
   "source": [
    "lst_again = [True, 13, None, 'apples']"
   ]
  },
  {
   "cell_type": "code",
   "execution_count": 2,
   "id": "ffbcf493-5e63-4935-835e-4ee5a9c1728a",
   "metadata": {},
   "outputs": [
    {
     "data": {
      "text/plain": [
       "False"
      ]
     },
     "execution_count": 2,
     "metadata": {},
     "output_type": "execute_result"
    }
   ],
   "source": [
    "'apple' in lst_again"
   ]
  },
  {
   "cell_type": "markdown",
   "id": "519d2eaa-de5a-481f-88d7-708e88f9ab90",
   "metadata": {},
   "source": [
    "`in` works at the element-level in collections, so the string 'apple' is NOT a memeber of `lst_again` because it is not an element in the list...even though it is *part* of an element in the list."
   ]
  },
  {
   "cell_type": "code",
   "execution_count": 4,
   "id": "1faada99-529e-49cb-bf0c-58134ba8e29f",
   "metadata": {},
   "outputs": [
    {
     "data": {
      "text/plain": [
       "False"
      ]
     },
     "execution_count": 4,
     "metadata": {},
     "output_type": "execute_result"
    }
   ],
   "source": [
    "'apple' in lst_again"
   ]
  },
  {
   "cell_type": "markdown",
   "id": "c4ce52d9-9fc5-4e0d-9f51-00cbde0e1ffe",
   "metadata": {},
   "source": [
    "`not in` returns True when the value is not in the list:"
   ]
  },
  {
   "cell_type": "code",
   "execution_count": 5,
   "id": "2a1b18cb-1150-40ba-8efe-0393d3128209",
   "metadata": {},
   "outputs": [
    {
     "data": {
      "text/plain": [
       "False"
      ]
     },
     "execution_count": 5,
     "metadata": {},
     "output_type": "execute_result"
    }
   ],
   "source": [
    "13 not in lst_again"
   ]
  },
  {
   "cell_type": "markdown",
   "id": "5cff13ef-3dfb-4aa8-90b2-f504c5845792",
   "metadata": {},
   "source": [
    "### Membership in dictionaries\n",
    "\n",
    "In a dictionary, checks if value is a *key* in the dictionary. So, `'Ezra'` is a member of `dict_again`, as it is a key; however, 9 is not, as that is a *value* in `dict_again`."
   ]
  },
  {
   "cell_type": "code",
   "execution_count": 6,
   "id": "3177f1d4-1459-4694-820b-c5587fad1228",
   "metadata": {},
   "outputs": [],
   "source": [
    "dict_again = {'Kayden': 2, 'Ezra': 9}"
   ]
  },
  {
   "cell_type": "code",
   "execution_count": 7,
   "id": "e3e1ca43-4049-4d88-84c0-135860cb7145",
   "metadata": {},
   "outputs": [
    {
     "data": {
      "text/plain": [
       "True"
      ]
     },
     "execution_count": 7,
     "metadata": {},
     "output_type": "execute_result"
    }
   ],
   "source": [
    "'Ezra' in dict_again"
   ]
  },
  {
   "cell_type": "markdown",
   "id": "6c4f3f27-37d9-49fb-ae62-12d2fa9b4b0e",
   "metadata": {},
   "source": [
    "It does NOT check for values: "
   ]
  },
  {
   "cell_type": "code",
   "execution_count": 8,
   "id": "3283d2b8-7052-4315-b16a-3bed6d848522",
   "metadata": {},
   "outputs": [
    {
     "data": {
      "text/plain": [
       "False"
      ]
     },
     "execution_count": 8,
     "metadata": {},
     "output_type": "execute_result"
    }
   ],
   "source": [
    "9 in dict_again"
   ]
  },
  {
   "cell_type": "markdown",
   "id": "566da7d5-dc6c-4655-a83f-a09a51d1bedb",
   "metadata": {},
   "source": [
    "### Membership in strings\n",
    "\n",
    "Recall that for strings, `in` checks if a sequence of characters is found in the string. "
   ]
  },
  {
   "cell_type": "code",
   "execution_count": 9,
   "id": "591f36d4-bf27-4857-980f-ed5dd0045133",
   "metadata": {},
   "outputs": [],
   "source": [
    "my_string = 'I love COGS 18!'"
   ]
  },
  {
   "cell_type": "code",
   "execution_count": 10,
   "id": "e92221ee-d8fb-4eeb-ba5a-b96357ec0c04",
   "metadata": {},
   "outputs": [
    {
     "data": {
      "text/plain": [
       "True"
      ]
     },
     "execution_count": 10,
     "metadata": {},
     "output_type": "execute_result"
    }
   ],
   "source": [
    "'love' in my_string"
   ]
  },
  {
   "cell_type": "markdown",
   "id": "de2a62a3-9d0b-457e-a025-46bb9f48bd2e",
   "metadata": {},
   "source": [
    "The order of the sequence being checked matters:"
   ]
  },
  {
   "cell_type": "code",
   "execution_count": 11,
   "id": "75470ca2-3295-4d61-a295-f7ca069a6611",
   "metadata": {},
   "outputs": [
    {
     "data": {
      "text/plain": [
       "False"
      ]
     },
     "execution_count": 11,
     "metadata": {},
     "output_type": "execute_result"
    }
   ],
   "source": [
    "'evol' in my_string"
   ]
  }
 ],
 "metadata": {
  "kernelspec": {
   "display_name": "Python 3 (ipykernel)",
   "language": "python",
   "name": "python3"
  },
  "language_info": {
   "codemirror_mode": {
    "name": "ipython",
    "version": 3
   },
   "file_extension": ".py",
   "mimetype": "text/x-python",
   "name": "python",
   "nbconvert_exporter": "python",
   "pygments_lexer": "ipython3",
   "version": "3.11.8"
  }
 },
 "nbformat": 4,
 "nbformat_minor": 5
}