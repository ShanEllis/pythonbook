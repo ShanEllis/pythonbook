{
 "cells": [
  {
   "cell_type": "markdown",
   "metadata": {
    "slideshow": {
     "slide_type": "slide"
    }
   },
   "source": [
    "# File Paths"
   ]
  },
  {
   "cell_type": "code",
   "execution_count": 2,
   "metadata": {
    "editable": true,
    "slideshow": {
     "slide_type": ""
    },
    "tags": [
     "remove-input"
    ]
   },
   "outputs": [
    {
     "data": {
      "text/html": [
       "<iframe id=\"kaltura_player\" type=\"text/javascript\"  src='https://cdnapisec.kaltura.com/p/2323111/embedPlaykitJs/uiconf_id/52706832?iframeembed=true&entry_id=1_l8riop1e&config[provider]={\"widgetId\":\"1_3pbso48h\"}'  style=\"width: 800px;height: 450px;border: 0;\" allowfullscreen webkitallowfullscreen mozAllowFullScreen allow=\"autoplay *; fullscreen *; encrypted-media *\" sandbox=\"allow-forms allow-same-origin allow-scripts allow-top-navigation allow-pointer-lock allow-popups allow-modals allow-orientation-lock allow-popups-to-escape-sandbox allow-presentation allow-top-navigation-by-user-activation\" title=\"Kaltura Player\"></iframe>\n"
      ],
      "text/plain": [
       "<IPython.core.display.HTML object>"
      ]
     },
     "metadata": {},
     "output_type": "display_data"
    }
   ],
   "source": [
    "%%HTML\n",
    "<iframe id=\"kaltura_player\" type=\"text/javascript\"  src='https://cdnapisec.kaltura.com/p/2323111/embedPlaykitJs/uiconf_id/52706832?iframeembed=true&entry_id=1_l8riop1e&config[provider]={\"widgetId\":\"1_3pbso48h\"}'  style=\"width: 800px;height: 450px;border: 0;\" allowfullscreen webkitallowfullscreen mozAllowFullScreen allow=\"autoplay *; fullscreen *; encrypted-media *\" sandbox=\"allow-forms allow-same-origin allow-scripts allow-top-navigation allow-pointer-lock allow-popups allow-modals allow-orientation-lock allow-popups-to-escape-sandbox allow-presentation allow-top-navigation-by-user-activation\" title=\"Kaltura Player\"></iframe>"
   ]
  },
  {
   "cell_type": "markdown",
   "metadata": {
    "slideshow": {
     "slide_type": "slide"
    }
   },
   "source": [
    "## File Systems"
   ]
  },
  {
   "cell_type": "markdown",
   "metadata": {
    "slideshow": {
     "slide_type": "-"
    }
   },
   "source": [
    "<div class=\"alert alert-success\">\n",
    "Computers use a hierarchical file systems that organizes files & folders.\n",
    "</div>"
   ]
  },
  {
   "cell_type": "markdown",
   "metadata": {
    "slideshow": {
     "slide_type": "fragment"
    }
   },
   "source": [
    "When you click through the folders (directories) on your computer, you're interacting with this hierarchical system."
   ]
  },
  {
   "cell_type": "markdown",
   "metadata": {
    "slideshow": {
     "slide_type": "slide"
    }
   },
   "source": [
    "## File Paths"
   ]
  },
  {
   "cell_type": "markdown",
   "metadata": {
    "slideshow": {
     "slide_type": "-"
    }
   },
   "source": [
    "<div class=\"alert alert-success\">\n",
    "The specific location of a file or folder on your computer. </div>"
   ]
  },
  {
   "cell_type": "markdown",
   "metadata": {
    "editable": true,
    "slideshow": {
     "slide_type": "fragment"
    },
    "tags": []
   },
   "source": [
    "When using a Graphical User Interface (GUI), you click on directories to access subdirectories and finally find the file you're interested in."
   ]
  },
  {
   "cell_type": "markdown",
   "metadata": {
    "editable": true,
    "slideshow": {
     "slide_type": "fragment"
    },
    "tags": []
   },
   "source": [
    "When using the command line, you specify a file's path explicitly with text. "
   ]
  },
  {
   "cell_type": "markdown",
   "metadata": {
    "editable": true,
    "slideshow": {
     "slide_type": "slide"
    },
    "tags": []
   },
   "source": [
    "## Absolute vs. Relative Paths\n",
    "\n",
    "There are two ways to specify the path to your file of interest allow for flexibility in programming. Using absolute paths and using relative paths."
   ]
  },
  {
   "cell_type": "markdown",
   "metadata": {
    "editable": true,
    "slideshow": {
     "slide_type": "slide"
    },
    "tags": []
   },
   "source": [
    "## Absolute Paths"
   ]
  },
  {
   "cell_type": "markdown",
   "metadata": {
    "slideshow": {
     "slide_type": "-"
    }
   },
   "source": [
    "<div class=\"alert alert-success\">\n",
    "<b>Absolute paths</b> specify the <b>full</b> path for a given file system (starting from the root directory). \n",
    "</div>"
   ]
  },
  {
   "cell_type": "markdown",
   "metadata": {
    "editable": true,
    "slideshow": {
     "slide_type": "fragment"
    },
    "tags": []
   },
   "source": [
    "**root** specifies the 'highest' directory in the file structure (the start).\n",
    "\n",
    "An absolute file path starts with a slash `/` specifying the root directory.\n"
   ]
  },
  {
   "cell_type": "raw",
   "metadata": {
    "slideshow": {
     "slide_type": "fragment"
    }
   },
   "source": [
    "root\n",
    "│       \n",
    "└───Teaching\n",
    "│   │   file011.txt\n",
    "│   │   file012.txt\n",
    "│   │\n",
    "│   └───COGS 18\n",
    "│       │   A1.ipynb\n",
    "│       │   A2.ipynb\n",
    "│       │   ... \n",
    "│ \n",
    "└───Research\n",
    "    │   data.csv\n",
    "    │   analysis.py"
   ]
  },
  {
   "cell_type": "markdown",
   "metadata": {
    "slideshow": {
     "slide_type": "fragment"
    }
   },
   "source": [
    "The **absolute** path to `A2.ipynb` would be:\n",
    "\n",
    "`/Teaching/COGS18/A2.ipynb`\n",
    "\n",
    "- initial forward slash indicates root directory\n",
    "- `Teaching` is in root\n",
    "- `COGS18` is in taeching\n",
    "- file is in COGS 18"
   ]
  },
  {
   "cell_type": "markdown",
   "metadata": {
    "slideshow": {
     "slide_type": "slide"
    }
   },
   "source": [
    "## Relative Paths"
   ]
  },
  {
   "cell_type": "markdown",
   "metadata": {
    "slideshow": {
     "slide_type": "-"
    }
   },
   "source": [
    "<div class=\"alert alert-success\">\n",
    "<b>Relative paths</b> specify the path to a file from your <b>current working directory</b> (where your computer is working right now). \n",
    "</div>"
   ]
  },
  {
   "cell_type": "raw",
   "metadata": {
    "slideshow": {
     "slide_type": "fragment"
    }
   },
   "source": [
    "root\n",
    "│       \n",
    "└───Teaching\n",
    "│   │   file011.txt\n",
    "│   │   file012.txt\n",
    "│   │\n",
    "│   └───COGS 18\n",
    "│       │   A1.ipynb\n",
    "│       │   A2.ipynb\n",
    "│       │   ... \n",
    "│ \n",
    "└───Research\n",
    "    │   data.csv\n",
    "    │   analysis.py"
   ]
  },
  {
   "cell_type": "markdown",
   "metadata": {
    "slideshow": {
     "slide_type": "fragment"
    }
   },
   "source": [
    "The computer keeps track of your current working directory. \n",
    "\n",
    "*If* your current working directory were `Teaching`...and you wanted to access the `A2.ipynb` file in COGS 18, you could use the **relative** path:\n",
    "\n",
    "`COGS18/A2.ipynb`"
   ]
  },
  {
   "cell_type": "markdown",
   "metadata": {
    "editable": true,
    "slideshow": {
     "slide_type": "fragment"
    },
    "tags": []
   },
   "source": [
    "Notes:\n",
    "\n",
    "- No leading slash indicating a relative path\n",
    "- Path is specified relative to current location"
   ]
  }
 ],
 "metadata": {
  "celltoolbar": "Slideshow",
  "kernelspec": {
   "display_name": "Python 3 (ipykernel)",
   "language": "python",
   "name": "python3"
  },
  "language_info": {
   "codemirror_mode": {
    "name": "ipython",
    "version": 3
   },
   "file_extension": ".py",
   "mimetype": "text/x-python",
   "name": "python",
   "nbconvert_exporter": "python",
   "pygments_lexer": "ipython3",
   "version": "3.11.8"
  },
  "rise": {
   "scroll": true
  }
 },
 "nbformat": 4,
 "nbformat_minor": 4
}