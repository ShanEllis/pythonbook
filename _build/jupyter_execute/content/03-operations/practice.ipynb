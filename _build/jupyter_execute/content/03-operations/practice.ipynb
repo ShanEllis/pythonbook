{
 "cells": [
  {
   "cell_type": "markdown",
   "id": "ab99d04b",
   "metadata": {},
   "source": [
    "# Practice: Collections & Loops\n",
    "\n",
    "This section is meant to give you additional practice, with a particular focus on collections and loops. However, we do assume that you have the previous section's material understood as well, so we can't forget about conditionals or variable types learned previously. \n",
    "\n",
    "As in the last practice section, each question will include a handful of `assert` statements. After you write and execute the code to each question, each `assert` should \"pass silently\" (meaning: should give no output upon execution) indicating that you are on the right track. After you've written your code and run the `assert`s, you can always check your answers, as the answers to these questions are included in the \"Answers\" chapter of this book."
   ]
  },
  {
   "cell_type": "markdown",
   "id": "1b4d382b",
   "metadata": {},
   "source": [
    "## Collections"
   ]
  },
  {
   "cell_type": "markdown",
   "id": "2496aac9",
   "metadata": {},
   "source": [
    "**Collections Q1**. The list `trees` has been provided below for you.\n",
    "\n",
    "***Use the `trees` variable and indexing*** to generate each of the four variables at left below, so that each stores the output at right below. For example, `trees_a` should refer to `trees` in its answer and use indexing to store the string 'Pine'.\n",
    "\n",
    "- `trees_a` | `'Pine'`\n",
    "- `trees_b` | `['Liquid Amber', 'Pepper', 'Podocarpus']`\n",
    "- `trees_c` | `['Eucalyptus', 'Ficus', 'Tipuana', 'Pepper']`\n",
    "- `trees_d` | `['Palms', 'Carrotwood', 'Tipuana', 'Podocarpus']`\n",
    "\n",
    "Variable provided:\n",
    "\n",
    "```python\n",
    "trees = ['Palms', 'Jacaranda', 'Eucalyptus', 'Carrotwood', \n",
    "         'Ficus', 'Pine', 'Tipuana', 'Liquid Amber', \n",
    "         'Pepper', 'Podocarpus']\n",
    "```\n",
    "\n",
    "Checks you can use to see if you're on the right track:"
   ]
  },
  {
   "cell_type": "code",
   "execution_count": null,
   "id": "f6a60db5",
   "metadata": {},
   "outputs": [],
   "source": [
    "assert trees_a == 'Pine'\n",
    "assert trees_b == ['Liquid Amber', 'Pepper', 'Podocarpus']\n",
    "assert trees_c == ['Eucalyptus', 'Ficus', 'Tipuana', 'Pepper']\n",
    "assert trees_d == ['Palms', 'Carrotwood', 'Tipuana', 'Podocarpus']"
   ]
  },
  {
   "cell_type": "markdown",
   "id": "1cc44437",
   "metadata": {},
   "source": [
    "**Collections Q2**. \n",
    "\n",
    "Part I. Generate a list called `practice_list` that meets the following criteria:\n",
    "\n",
    "- contains 6 elements/items \n",
    "- has 2 strings, 1 float, 1 boolean, 1 dictionary, and 1 tuple as its elements\n",
    "\n",
    "The specific elements in the list `practice_list` are up to you and can be stored in any order/position within the list, so long as they're in there and of the types specified above.\n",
    "\n",
    "Checks you can use to see if you're on the right track:"
   ]
  },
  {
   "cell_type": "code",
   "execution_count": null,
   "id": "56879ad1",
   "metadata": {},
   "outputs": [],
   "source": [
    "assert isinstance(practice_list, list)\n",
    "assert len(practice_list) == 6"
   ]
  },
  {
   "cell_type": "markdown",
   "id": "9b9824ab",
   "metadata": {},
   "source": [
    "Part II. Using the list you defined in Part 1 (`practice_list`), ***use indexing*** to return the slice/element of the list specified below, storing it in the variable name provided:\n",
    "\n",
    "- `slice_1` | stores the second, third, and fourth elements in `practice_list`\n",
    "- `slice_2` | stores the second, fourth, and sixth elements in `practice_list`\n",
    "- `slice_3` | uses ***negative indexing*** to return the single element stored in the third position from the end of `practice_list`\n",
    "\n",
    "Note on wording: the first _element_ in a given list is the same as the 0<sup>th</sup> _index_ of that list.\n",
    "\n",
    "Checks you can use to see if you're on the right track:"
   ]
  },
  {
   "cell_type": "code",
   "execution_count": null,
   "id": "ade2ac93",
   "metadata": {},
   "outputs": [],
   "source": [
    "assert len(slice_1) == 3\n",
    "assert len(slice_2) == 3\n",
    "assert slice_3"
   ]
  },
  {
   "cell_type": "markdown",
   "id": "970f2a4a",
   "metadata": {},
   "source": [
    "**Collections Q3**. Generate a dictionary called `practice_dict` that meets the following criteria:\n",
    "\n",
    "- has three keys: 'name', 'favorite_game', and 'height'\n",
    "- stores _your_ `name` (string), `favorite_game` (string), and `height` (int) in inches as each key's value\n",
    "\n",
    "Checks you can use to see if you're on the right track:"
   ]
  },
  {
   "cell_type": "code",
   "execution_count": null,
   "id": "44326da7",
   "metadata": {},
   "outputs": [],
   "source": [
    "assert isinstance(practice_dict, dict)\n",
    "assert len(practice_dict) == 3\n",
    "assert isinstance(practice_dict['name'], str)\n",
    "assert isinstance(practice_dict['favorite_game'], str)\n",
    "assert isinstance(practice_dict['height'], int)"
   ]
  },
  {
   "cell_type": "markdown",
   "id": "e576ea03",
   "metadata": {},
   "source": [
    "**Collections Q4**. \n",
    "\n",
    "Part I. Generate a dictionary called `grading` that meets the following criteria:\n",
    "\n",
    "- has 5 keys: 'A', 'B', 'C', 'D', 'F'\n",
    "- stores a tuple containg the lower and upper bound for each letter grade for each key's value.\n",
    "\n",
    "Use the following ranges for reference:\n",
    "\n",
    "- A: 90-100\n",
    "- B: 80-90\n",
    "- C: 70-80\n",
    "- D: 60-70\n",
    "- F: 0-60\n",
    "\n",
    "Note that the upper bound for one letter will be the same value as the lower bound for the higher grade. This is expected behavior.\n",
    "\n",
    "Checks you can use to see if you're on the right track:"
   ]
  },
  {
   "cell_type": "code",
   "execution_count": null,
   "id": "eb83a55f",
   "metadata": {},
   "outputs": [],
   "source": [
    "assert isinstance(grading, dict)\n",
    "assert len(grading) == 5\n",
    "assert isinstance(list(grading.keys())[0], str)\n",
    "assert isinstance(list(grading.values())[0], tuple)\n",
    "assert list(grading.keys()) == ['A', 'B', 'C', 'D', 'F']\n",
    "assert list(grading.values()) == [(90, 100), (80, 90), (70, 80), \n",
    "                                  (60, 70), (0, 60)]"
   ]
  },
  {
   "cell_type": "markdown",
   "id": "e30652c8",
   "metadata": {},
   "source": [
    "Part II. Use the `grading` dictionary you just generated **and indexing** to generate two variables: `A_lower` and `A_upper`.\n",
    "\n",
    "- `A_lower` will store the first (smaller) value in the tuple corresponding to the `'A'` key in `grading`.\n",
    "- `A_upper` will store the second (larger) value in the tuple corresponding to the `'A'` key in `grading`\n",
    "\n",
    "Note: Do not hard-code. For example, `A_lower = 90` is *not* the correct answer. Your code should reference `grading` and use indexing to store the value 90 in `A_lower`.\n",
    "\n",
    "Checks you can use to see if you're on the right track:"
   ]
  },
  {
   "cell_type": "code",
   "execution_count": null,
   "id": "1ff7bc7e",
   "metadata": {},
   "outputs": [],
   "source": [
    "assert A_lower == 90\n",
    "assert A_upper == 100"
   ]
  },
  {
   "cell_type": "markdown",
   "id": "eb43933e",
   "metadata": {},
   "source": [
    "**Collections Q5**. Create three variables ***using the dictionary `cogs18_dict` provided*** below and functions discussed in class that will store the variable specified:\n",
    "\n",
    "1. `dict_a`: stores 'Prof'\n",
    "2. `dict_b`: stores 'dict' (or, when printed: `<class 'dict'>`)\n",
    "3. `dict_c`: stores `5`\n",
    "\n",
    "Variable provided:\n",
    "\n",
    "```python\n",
    "cogs18_dict = {'Annie' : 'TA',  'Ashlesha' : 'TA', 'Paul' : 'TA', \n",
    "               'Mudit': 'TA', 'Ellis' : 'Prof'}\n",
    "\n",
    "```\n",
    "\n",
    "Note: each variable's line of code must have `cogs18_dict` as part of your code.\n",
    "\n",
    "Checks you can use to see if you're on the right track:"
   ]
  },
  {
   "cell_type": "code",
   "execution_count": null,
   "id": "92387f30",
   "metadata": {},
   "outputs": [],
   "source": [
    "assert dict_a == 'Prof'\n",
    "assert dict_b == dict\n",
    "assert dict_c == 5"
   ]
  },
  {
   "cell_type": "markdown",
   "id": "d6757adb",
   "metadata": {},
   "source": [
    "## Loops"
   ]
  },
  {
   "cell_type": "markdown",
   "id": "83efdd20",
   "metadata": {},
   "source": [
    "**Loops Q1**. Store your first name as a string in the variable `my_name` and initialize a `counter` (use that variable name) \n",
    "\n",
    "Then, write a `for` loop that loops through the letters of your first name, increasing the counter by one for each letter in your name. The value stored in the counter at the end of your loop’s execution should be the number of letters in your first name.\n",
    "\n",
    "Checks you can use to see if you're on the right track:"
   ]
  },
  {
   "cell_type": "code",
   "execution_count": null,
   "id": "724a8e71",
   "metadata": {},
   "outputs": [],
   "source": [
    "assert isinstance(counter, int)\n",
    "assert isinstance(my_name, str)\n",
    "assert len(my_name) == counter"
   ]
  },
  {
   "cell_type": "markdown",
   "id": "d4ce1825",
   "metadata": {},
   "source": [
    "**Loops Q2**. Somehow you've got a list of words, but you want them all combined into the single string `\"I'm so excited that students are now eligible for the vaccine!\"`. Write code that uses `vaccination_list` to accomplish this task.\n",
    "\n",
    "Variable provided:\n",
    "\n",
    "```python\n",
    "vaccination_list = [\"I'm \", \"so \", \"excited \", \"that \", \"students \", \"are \", \n",
    "                    \"now \", \"eligible \", \"for \", \"the \", \"vaccine!\"]\n",
    "```\n",
    "\n",
    "Checks you can use to see if you're on the right track:"
   ]
  },
  {
   "cell_type": "code",
   "execution_count": null,
   "id": "1d1e3b7a",
   "metadata": {},
   "outputs": [],
   "source": [
    "assert sentence == \"I'm so excited that students are now eligible for the vaccine!\""
   ]
  },
  {
   "cell_type": "markdown",
   "id": "c4781f6d",
   "metadata": {},
   "source": [
    "## Topic Synthesis"
   ]
  },
  {
   "cell_type": "markdown",
   "id": "f10943fe",
   "metadata": {},
   "source": [
    "**Synthesis Q1**. Write code that:\n",
    "\n",
    "1. Creates (initializes) a counter `val` that starts at 0\n",
    "2. Creates (initializes) an empty list `output`\n",
    "3. Creates a loop that will run as long as the value of `val` is less than or equal to 100\n",
    "    - Within the loop:\n",
    "        - first: if the value of `val` is divisible by 10, `append` the value of `val` to the list `output`\n",
    "        - then: increase the value of `val` by 1 each time through the loop\n",
    "        \n",
    "Checks you can use to see if you're on the right track:"
   ]
  },
  {
   "cell_type": "code",
   "execution_count": null,
   "id": "69be4d64",
   "metadata": {},
   "outputs": [],
   "source": [
    "assert val == 101\n",
    "assert isinstance(output, list)\n",
    "assert output == [0, 10, 20, 30, 40, 50, 60, 70, 80, 90, 100] or output == [10, 20, 30, 40, 50, 60, 70, 80, 90, 100]"
   ]
  },
  {
   "cell_type": "markdown",
   "id": "8c7bfb96",
   "metadata": {},
   "source": [
    "**Synthesis Q2**. Store your first name as a string in the variable `my_name` and initialize a `counter` (use that variable name).\n",
    "\n",
    "Then, write a `for` loop that loops through the letters of your first name, increasing the counter by one for each consonant (non-vowel) in your name. \n",
    "\n",
    "The value stored in the counter at the end of your loop’s execution should be the number of consonants in your first name. Be sure that 'B' and 'b' are counted as the same letter in your code.\n",
    "\n",
    "Checks you can use to see if you're on the right track:"
   ]
  },
  {
   "cell_type": "code",
   "execution_count": null,
   "id": "fd63da7f",
   "metadata": {},
   "outputs": [],
   "source": [
    "assert isinstance(counter, int)\n",
    "assert isinstance(my_name, str)"
   ]
  },
  {
   "cell_type": "markdown",
   "id": "42990da8",
   "metadata": {},
   "source": [
    "**Synthesis Q3**. \n",
    "\n",
    "Part I.\n",
    "\n",
    "Store your first name as a string in the variable `my_name`. Then, write code that will generate a dictionary name_consonants that stores each consonant letter in `my_name`  as a key in the dictionary, and the number of times each consonant shows up in my_name as the letter's value.\n",
    "\n",
    "Noe that this code should run, regardless of what string is stored in my_name.\n",
    "\n",
    "For example, name_consonants for 'Shannon' would return:\n",
    "\n",
    "{'s': 1, 'h': 1, 'n': 3}\n",
    "\n",
    "Note that if you have no consonants in your name, this code would still run, but would return an empty dictionary.\n",
    "\n",
    "Checks you can use to see if you're on the right track:"
   ]
  },
  {
   "cell_type": "code",
   "execution_count": null,
   "id": "cd3a14a5",
   "metadata": {},
   "outputs": [],
   "source": [
    "assert isinstance(my_name, str)\n",
    "assert isinstance(name_consonants, dict)"
   ]
  },
  {
   "cell_type": "markdown",
   "id": "81aa48dc",
   "metadata": {},
   "source": [
    "Part II.\n",
    "\n",
    "Write code that will loop through the `name_consonants` dictionary created in the first part of this question and store the sum of the values in the dictionary into `consonant_count`. (For the name 'Shannon', `consonant_count` would store 5).\n",
    "\n",
    "Checks you can use to see if you're on the right track:"
   ]
  },
  {
   "cell_type": "code",
   "execution_count": null,
   "id": "e68a081b",
   "metadata": {},
   "outputs": [],
   "source": [
    "assert consonant_count is not None"
   ]
  },
  {
   "cell_type": "markdown",
   "id": "28e55cc8",
   "metadata": {},
   "source": [
    "**Synthesis Q4**. Background: Imagine that you're taking a course with an instructional staff including TAs (graduate students) and IAs (undergraduates who previously took the course). This means that the IAs have previously completed the course final project, and you want to talk to someone who has previously completed the project to get some questions answered. As you have this thought, you suddenly remember you created a list of all the staff members in the course earlier in the quarter when you were practicing with lists. Perfect! You can use this to help you figure out who you should talk to, since you know that all of the IAs previously took this course and completed the project. They will be able to discuss their experience with you!\n",
    "\n",
    "Variables provided:\n",
    "\n",
    "```python\n",
    "staff = ['Anu_IA', 'Bob_IA', 'Boning_IA', 'Bora_IA', 'David_TA', 'Emma_IA', \n",
    "         'Ellis_Prof', 'Frank_IA', 'Mani_IA', 'Harrison_IA', 'Shivani_TA']\n",
    "```\n",
    "\n",
    "Use code constructs to extract a list of individuals you could talk to, storing this output in a list `to_contact`.\n",
    "\n",
    "Checks you can use to see if you're on the right track:"
   ]
  },
  {
   "cell_type": "code",
   "execution_count": null,
   "id": "ebc8a19b",
   "metadata": {},
   "outputs": [],
   "source": [
    "assert to_contact == ['Anu_IA',\n",
    "                     'Bob_IA',\n",
    "                     'Boning_IA',\n",
    "                     'Bora_IA',\n",
    "                     'Emma_IA',\n",
    "                     'Frank_IA',\n",
    "                     'Mani_IA',\n",
    "                     'Harrison_IA']"
   ]
  },
  {
   "cell_type": "markdown",
   "id": "c12a408a",
   "metadata": {},
   "source": [
    "**Synthesis Q5**. Imagine you want to determine the total number of students Professor Ellis has taught in COGS 18 during her first few years as a Professor.\n",
    "\n",
    "To do so, use the provided dictionary `ellis_courses`. This dictionary stores course names and quarters as keys and the number of students enrolled as values.\n",
    "\n",
    "Then, using the information in the `ellis_courses` dictionary, determine what code constructs you would need to sum the values for the students who have taken 'cogs18' with Professor Ellis. Store this value in the variable `cogs18_students`.\n",
    "\n",
    "```python\n",
    "ellis_courses = {'cogs9_wi19': 326,\n",
    "                 'cogs108_sp19': 825,\n",
    "                 'cogs18_sp19' : 272,\n",
    "                 'cogs9_fa19' : 292,\n",
    "                 'cogs18_fa19' : 301,\n",
    "                 'cogs108_wi20' : 442,\n",
    "                 'cogs18_sp20' : 307,\n",
    "                 'cogs108_sp20' : 469,\n",
    "                 'cogs18_su20' : 88,\n",
    "                 'cogs18_fa20' : 330,\n",
    "                 'cogs108_fa20' : 498,\n",
    "                 'cogs18_wi21' : 99,\n",
    "                 'cogs108_wi21' : 431, \n",
    "                 'cogs18_sp21' : 100,\n",
    "                 'cogs108_sp21': 311 \n",
    "                }\n",
    "```\n",
    "\n",
    "Checks you can use to see if you're on the right track:"
   ]
  },
  {
   "cell_type": "code",
   "execution_count": null,
   "id": "1c21ccef",
   "metadata": {},
   "outputs": [],
   "source": [
    "assert isinstance(cogs18_students, int)\n",
    "assert cogs18_students == 1497"
   ]
  },
  {
   "cell_type": "markdown",
   "id": "4682b7cb",
   "metadata": {},
   "source": [
    "**Synthesis Q6**. Background: Professor Ellis has made a mess of her to do list (`to_do_list`, provided below). She accidentally combined her to do list with her grocery list and the the her daily step count from last week. She needs your help to detangle this mess!\n",
    "\n",
    "Part I.\n",
    "\n",
    "Your job is to separate `to_do_list` out into three separate lists:\n",
    "- `steps` - a list of all the steps from last week (you know which values these are becuase they are integer values)\n",
    "- `to_do` - a list that contains the to do list items (you know which values these are because they contain 'cogs' in the string)\n",
    "- `grocery` - a list of all of the grocery list items (you know which values these are because they do NOT contain 'cogs' in the string)\n",
    "\n",
    "Each of the above lists should contain only the elements from `to_do_list` that match the specified description above. Specifically:\n",
    "- `steps` should be a list of integers\n",
    "- `to_do` should be a list of strings \n",
    "- `grocery` should be a list of strings\n",
    "\n",
    "The values in `steps`, `to_do`, and `grocery` should appear in the same relative order as in the original list (`to_do_list`).\n",
    "\n",
    "Note: This should not be hard-coded. Your answer should use code constructs discussed in class. In other words, your code should produce the correct lists, regardless of the specific values in `to_do_list`.\n",
    "\n",
    "Variable provided:\n",
    "```python\n",
    "to_do_list = ['mushrooms', 'peanut butter', 'release cogs18 exam', 10000, 8500, \n",
    "              'release cogs108 lab', 6000, 'tahini', 15000, 'post cogs18 lectures', \n",
    "              'post cogs108 lectures', 'release cogs18 practice exam', 12000, 'pineapple', \n",
    "              'udon noodles', 18000, 8000, 'romaine lettuce']\n",
    "```\n",
    "Checks you can use to see if you're on the right track:"
   ]
  },
  {
   "cell_type": "code",
   "execution_count": null,
   "id": "40fff922",
   "metadata": {},
   "outputs": [],
   "source": [
    "assert grocery == ['mushrooms', 'peanut butter',\n",
    "                   'tahini', 'pineapple', 'udon noodles',\n",
    "                   'romaine lettuce']\n",
    "assert steps == [10000, 8500, 6000, 15000, 12000, 18000, 8000]\n",
    "assert to_do ==  ['release cogs18 exam', 'release cogs108 lab',\n",
    "                  'post cogs18 lectures', 'post cogs108 lectures',\n",
    "                  'release cogs18 practice exam']"
   ]
  },
  {
   "cell_type": "markdown",
   "id": "8e69ed8b",
   "metadata": {},
   "source": [
    "Part II. \n",
    "\n",
    "Now that you've got the `steps` extracted, Professor Ellis needs a dictionary of which steps she took on which day. \n",
    "\n",
    "Using the values in your list `steps`, create a dictionary `steps_dict` that stores each value as a different day's steps, starting with 'Monday'. For example, the first value in the `steps` list will be the value for the key 'Monday', the second for 'Tuesday', so on and so forth. \n",
    "\n",
    "Be sure to spell out the day of the week, using a capital letter for the first letter in the day. The list `days_of_week` has been provided, as it may be helpful in answering the question.\n",
    "\n",
    "Note: This should not be hard-coded. Your answer should use code constructs discussed in class. In other words, your code should produce the correct `steps_dict` if the specific values in `steps` were to change/differ.\n",
    "\n",
    "Variable provided (may be helpful):\n",
    "\n",
    "```python\n",
    "days_of_week = ['Monday', 'Tuesday', 'Wednesday', 'Thursday', \n",
    "                'Friday', 'Saturday', 'Sunday']\n",
    "```\n",
    "\n",
    "Checks you can use to see if you're on the right track:"
   ]
  },
  {
   "cell_type": "code",
   "execution_count": null,
   "id": "5150f268",
   "metadata": {},
   "outputs": [],
   "source": [
    "assert all(isinstance(x, str) for x in list(steps_dict.keys()))\n",
    "assert all(isinstance(x, int) for x in list(steps_dict.values()))\n",
    "assert set(list(steps_dict.keys())) ==  set(days_of_week)\n",
    "assert sum(steps_dict.values()) ==  77500"
   ]
  }
 ],
 "metadata": {
  "kernelspec": {
   "display_name": "Python 3",
   "language": "python",
   "name": "python3"
  },
  "language_info": {
   "codemirror_mode": {
    "name": "ipython",
    "version": 3
   },
   "file_extension": ".py",
   "mimetype": "text/x-python",
   "name": "python",
   "nbconvert_exporter": "python",
   "pygments_lexer": "ipython3",
   "version": "3.7.7"
  }
 },
 "nbformat": 4,
 "nbformat_minor": 5
}